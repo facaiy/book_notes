{
 "cells": [
  {
   "cell_type": "code",
   "execution_count": 2,
   "metadata": {
    "collapsed": true
   },
   "outputs": [],
   "source": [
    "# %load ../../preconfig.py\n",
    "%matplotlib inline\n",
    "import matplotlib.pyplot as plt\n",
    "import seaborn as sns\n",
    "plt.rcParams['axes.grid'] = False\n",
    "\n",
    "#import numpy as np\n",
    "#import pandas as pd\n",
    "#import itertools\n",
    "\n",
    "import logging\n",
    "logger = logging.getLogger()\n"
   ]
  },
  {
   "cell_type": "markdown",
   "metadata": {},
   "source": [
    "1 Introduction\n",
    "========"
   ]
  },
  {
   "cell_type": "markdown",
   "metadata": {},
   "source": [
    "#### Example 1: Email Spam\n",
    "predict whether an email is junk email, or \"spam\".\n",
    "\n",
    "classificaton problem.\n",
    "\n",
    "#### Example 2: Prostate Cancer\n",
    "predict the log of PSA from a number of measurements.\n",
    "\n",
    "regression problem.\n",
    "\n",
    "#### Example 3: Handwritten Digit Recognition\n",
    "\n",
    "classification problem\n",
    "\n",
    "#### Example 4: DNA Expression Microarrays\n",
    "cluster clues.\n",
    "\n",
    "unsupervised learning problem."
   ]
  }
 ],
 "metadata": {
  "kernelspec": {
   "display_name": "Python 3",
   "language": "python",
   "name": "python3"
  },
  "language_info": {
   "codemirror_mode": {
    "name": "ipython",
    "version": 3
   },
   "file_extension": ".py",
   "mimetype": "text/x-python",
   "name": "python",
   "nbconvert_exporter": "python",
   "pygments_lexer": "ipython3",
   "version": "3.5.1"
  }
 },
 "nbformat": 4,
 "nbformat_minor": 0
}

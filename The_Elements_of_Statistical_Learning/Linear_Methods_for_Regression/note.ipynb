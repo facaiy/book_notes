{
 "cells": [
  {
   "cell_type": "code",
   "execution_count": 1,
   "metadata": {
    "collapsed": true
   },
   "outputs": [],
   "source": [
    "# %load ../../preconfig.py\n",
    "%matplotlib inline\n",
    "import matplotlib.pyplot as plt\n",
    "import seaborn as sns\n",
    "sns.set(color_codes=True)\n",
    "plt.rcParams['axes.grid'] = False\n",
    "\n",
    "#import numpy as np\n",
    "#import pandas as pd\n",
    "\n",
    "#import sklearn\n",
    "\n",
    "#import itertools\n",
    "\n",
    "import logging\n",
    "logger = logging.getLogger()\n"
   ]
  },
  {
   "cell_type": "markdown",
   "metadata": {},
   "source": [
    "3 Linear Methods for Regression\n",
    "=================\n",
    "\n",
    "### 3.1 Introduction\n",
    "For prediction purposes linear methods can sometimes outperform fancier nonlinear models, especially in situations with small numbers of training cases, low signal-to-noise ratio or sparse data.\n",
    "\n",
    "linear methods $\\to$ basis-function methods.\n",
    "\n",
    "an understanding of linear methods is essential for understanding nonlinear ones."
   ]
  },
  {
   "cell_type": "markdown",
   "metadata": {},
   "source": [
    "### 3.2 Linear Regression Models and Least Squares\n"
   ]
  }
 ],
 "metadata": {
  "kernelspec": {
   "display_name": "Python 3",
   "language": "python",
   "name": "python3"
  },
  "language_info": {
   "codemirror_mode": {
    "name": "ipython",
    "version": 3
   },
   "file_extension": ".py",
   "mimetype": "text/x-python",
   "name": "python",
   "nbconvert_exporter": "python",
   "pygments_lexer": "ipython3",
   "version": "3.5.1"
  }
 },
 "nbformat": 4,
 "nbformat_minor": 0
}

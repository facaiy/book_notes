{
 "cells": [
  {
   "cell_type": "code",
   "execution_count": 1,
   "metadata": {
    "collapsed": true
   },
   "outputs": [],
   "source": [
    "# %load /Users/facai/Study/book_notes/preconfig.py\n",
    "%matplotlib inline\n",
    "\n",
    "import matplotlib.pyplot as plt\n",
    "import seaborn as sns\n",
    "\n",
    "from IPython.display import SVG"
   ]
  },
  {
   "cell_type": "markdown",
   "metadata": {},
   "source": [
    "逻辑回归在scikit-learn中的实现简介\n",
    "=============================="
   ]
  },
  {
   "cell_type": "markdown",
   "metadata": {},
   "source": [
    "分析用的代码版本信息：\n",
    "\n",
    "```bash\n",
    "~/W/g/scikit-learn ❯❯❯ git log -n 1\n",
    "commit d161bfaa1a42da75f4940464f7f1c524ef53484f\n",
    "Author: John B Nelson <jnelso11@gmu.edu>\n",
    "Date:   Thu May 26 18:36:37 2016 -0400\n",
    "\n",
    "    Add missing double quote (#6831)\n",
    "```"
   ]
  },
  {
   "cell_type": "markdown",
   "metadata": {},
   "source": [
    "### 0. 总纲\n",
    "\n",
    "下面是sklearn中逻辑回归的构成情况:"
   ]
  },
  {
   "cell_type": "code",
   "execution_count": 2,
   "metadata": {
    "collapsed": false
   },
   "outputs": [
    {
     "data": {
      "image/svg+xml": [
       "<svg height=\"1192\" version=\"1.1\" width=\"868.6044921875\" xmlns=\"http://www.w3.org/2000/svg\" xmlns:xlink=\"http://www.w3.org/1999/xlink\"><defs/><g><g transform=\"translate(-294,-142) scale(1,1)\"><rect fill=\"#C0C0C0\" height=\"87\" opacity=\"0.2\" stroke=\"none\" width=\"138.6953125\" x=\"631\" y=\"887\"/></g><g transform=\"translate(-294,-142) scale(1,1)\"><rect fill=\"#ffffff\" height=\"87\" stroke=\"none\" width=\"138.6953125\" x=\"624\" y=\"880\"/></g><g transform=\"translate(-294,-142) scale(1,1)\"><path d=\"M 624 880 L 762.6953125 880 L 762.6953125 967 L 624 967 L 624 880 Z Z\" fill=\"none\" stroke=\"#000000\" stroke-miterlimit=\"10\"/></g><g transform=\"translate(-294,-142) scale(1,1)\"><path d=\"M 624 905 L 762.6953125 905\" fill=\"none\" stroke=\"#000000\" stroke-miterlimit=\"10\"/></g><g transform=\"translate(-294,-142) scale(1,1)\"><path d=\"M 624 915 L 762.6953125 915\" fill=\"none\" stroke=\"#000000\" stroke-miterlimit=\"10\"/></g><g transform=\"translate(-294,-142) scale(1,1)\"><g><path fill=\"none\" stroke=\"none\"/><text fill=\"#000000\" font-family=\"Arial\" font-size=\"13px\" font-style=\"normal\" font-weight=\"bold\" stroke=\"none\" text-decoration=\"none\" x=\"638.34765625\" y=\"899.5\">LogisticRegression</text></g></g><g transform=\"translate(-294,-142) scale(1,1)\"><g><path fill=\"none\" stroke=\"none\"/><text fill=\"#000000\" font-family=\"Arial\" font-size=\"13px\" font-style=\"normal\" font-weight=\"normal\" stroke=\"none\" text-decoration=\"none\" x=\"629\" y=\"932.5\">+fit()</text></g></g><g transform=\"translate(-294,-142) scale(1,1)\"><g><path fill=\"none\" stroke=\"none\"/><text fill=\"#000000\" font-family=\"Arial\" font-size=\"13px\" font-style=\"normal\" font-weight=\"normal\" stroke=\"none\" text-decoration=\"none\" x=\"629\" y=\"947.5\">+predict_proba()</text></g></g><g transform=\"translate(-294,-142) scale(1,1)\"><g><path fill=\"none\" stroke=\"none\"/><text fill=\"#000000\" font-family=\"Arial\" font-size=\"13px\" font-style=\"normal\" font-weight=\"normal\" stroke=\"none\" text-decoration=\"none\" x=\"629\" y=\"962.5\">+predict_log_proba()</text></g></g><g transform=\"translate(-294,-142) scale(1,1)\"><rect fill=\"#C0C0C0\" height=\"87\" opacity=\"0.2\" stroke=\"none\" width=\"139.64111328125\" x=\"311\" y=\"607\"/></g><g transform=\"translate(-294,-142) scale(1,1)\"><rect fill=\"#ffffff\" height=\"87\" stroke=\"none\" width=\"139.64111328125\" x=\"304\" y=\"600\"/></g><g transform=\"translate(-294,-142) scale(1,1)\"><path d=\"M 304 600 L 443.64111328125 600 L 443.64111328125 687 L 304 687 L 304 600 Z Z\" fill=\"none\" stroke=\"#000000\" stroke-miterlimit=\"10\"/></g><g transform=\"translate(-294,-142) scale(1,1)\"><path d=\"M 304 625 L 443.64111328125 625\" fill=\"none\" stroke=\"#000000\" stroke-miterlimit=\"10\"/></g><g transform=\"translate(-294,-142) scale(1,1)\"><path d=\"M 304 635 L 443.64111328125 635\" fill=\"none\" stroke=\"#000000\" stroke-miterlimit=\"10\"/></g><g transform=\"translate(-294,-142) scale(1,1)\"><g><path fill=\"none\" stroke=\"none\"/><text fill=\"#000000\" font-family=\"Arial\" font-size=\"13px\" font-style=\"normal\" font-weight=\"bold\" stroke=\"none\" text-decoration=\"none\" x=\"330.820556640625\" y=\"619.5\">BaseEstimator</text></g></g><g transform=\"translate(-294,-142) scale(1,1)\"><g><path fill=\"none\" stroke=\"none\"/><text fill=\"#000000\" font-family=\"Arial\" font-size=\"13px\" font-style=\"normal\" font-weight=\"normal\" stroke=\"none\" text-decoration=\"none\" x=\"309\" y=\"652.5\">+get_params()</text></g></g><g transform=\"translate(-294,-142) scale(1,1)\"><g><path fill=\"none\" stroke=\"none\"/><text fill=\"#000000\" font-family=\"Arial\" font-size=\"13px\" font-style=\"normal\" font-weight=\"normal\" stroke=\"none\" text-decoration=\"none\" x=\"309\" y=\"667.5\">+set_params()</text></g></g><g transform=\"translate(-294,-142) scale(1,1)\"><g><path fill=\"none\" stroke=\"none\"/><text fill=\"#000000\" font-family=\"Arial\" font-size=\"13px\" font-style=\"normal\" font-weight=\"normal\" stroke=\"none\" text-decoration=\"none\" x=\"309\" y=\"682.5\">-get_param_names()</text></g></g><g transform=\"translate(-294,-142) scale(1,1)\"><rect fill=\"#C0C0C0\" height=\"87\" opacity=\"0.2\" stroke=\"none\" width=\"150.171875\" x=\"543\" y=\"607\"/></g><g transform=\"translate(-294,-142) scale(1,1)\"><rect fill=\"#ffffff\" height=\"87\" stroke=\"none\" width=\"150.171875\" x=\"536\" y=\"600\"/></g><g transform=\"translate(-294,-142) scale(1,1)\"><path d=\"M 536 600 L 686.171875 600 L 686.171875 687 L 536 687 L 536 600 Z Z\" fill=\"none\" stroke=\"#000000\" stroke-miterlimit=\"10\"/></g><g transform=\"translate(-294,-142) scale(1,1)\"><path d=\"M 536 625 L 686.171875 625\" fill=\"none\" stroke=\"#000000\" stroke-miterlimit=\"10\"/></g><g transform=\"translate(-294,-142) scale(1,1)\"><path d=\"M 536 635 L 686.171875 635\" fill=\"none\" stroke=\"#000000\" stroke-miterlimit=\"10\"/></g><g transform=\"translate(-294,-142) scale(1,1)\"><g><path fill=\"none\" stroke=\"none\"/><text fill=\"#000000\" font-family=\"Arial\" font-size=\"13px\" font-style=\"normal\" font-weight=\"bold\" stroke=\"none\" text-decoration=\"none\" x=\"551.0859375\" y=\"619.5\">LinearClassifierMixin</text></g></g><g transform=\"translate(-294,-142) scale(1,1)\"><g><path fill=\"none\" stroke=\"none\"/><text fill=\"#000000\" font-family=\"Arial\" font-size=\"13px\" font-style=\"normal\" font-weight=\"normal\" stroke=\"none\" text-decoration=\"none\" x=\"541\" y=\"652.5\">+decision_function()</text></g></g><g transform=\"translate(-294,-142) scale(1,1)\"><g><path fill=\"none\" stroke=\"none\"/><text fill=\"#000000\" font-family=\"Arial\" font-size=\"13px\" font-style=\"normal\" font-weight=\"normal\" stroke=\"none\" text-decoration=\"none\" x=\"541\" y=\"667.5\">+predict()</text></g></g><g transform=\"translate(-294,-142) scale(1,1)\"><g><path fill=\"none\" stroke=\"none\"/><text fill=\"#000000\" font-family=\"Arial\" font-size=\"13px\" font-style=\"normal\" font-weight=\"normal\" stroke=\"none\" text-decoration=\"none\" x=\"541\" y=\"682.5\">-predict_proba_lr()</text></g></g><g transform=\"translate(-294,-142) scale(1,1)\"><rect fill=\"#C0C0C0\" height=\"57\" opacity=\"0.2\" stroke=\"none\" width=\"148.7978515625\" x=\"775\" y=\"615\"/></g><g transform=\"translate(-294,-142) scale(1,1)\"><rect fill=\"#ffffff\" height=\"57\" stroke=\"none\" width=\"148.7978515625\" x=\"768\" y=\"608\"/></g><g transform=\"translate(-294,-142) scale(1,1)\"><path d=\"M 768 608 L 916.7978515625 608 L 916.7978515625 665 L 768 665 L 768 608 Z Z\" fill=\"none\" stroke=\"#000000\" stroke-miterlimit=\"10\"/></g><g transform=\"translate(-294,-142) scale(1,1)\"><path d=\"M 768 633 L 916.7978515625 633\" fill=\"none\" stroke=\"#000000\" stroke-miterlimit=\"10\"/></g><g transform=\"translate(-294,-142) scale(1,1)\"><path d=\"M 768 643 L 916.7978515625 643\" fill=\"none\" stroke=\"#000000\" stroke-miterlimit=\"10\"/></g><g transform=\"translate(-294,-142) scale(1,1)\"><g><path fill=\"none\" stroke=\"none\"/><text fill=\"#000000\" font-family=\"Arial\" font-size=\"13px\" font-style=\"normal\" font-weight=\"bold\" stroke=\"none\" text-decoration=\"none\" x=\"781.39892578125\" y=\"627.5\">_LearntSelectorMixin</text></g></g><g transform=\"translate(-294,-142) scale(1,1)\"><g><path fill=\"none\" stroke=\"none\"/><text fill=\"#000000\" font-family=\"Arial\" font-size=\"13px\" font-style=\"normal\" font-weight=\"normal\" stroke=\"none\" text-decoration=\"none\" x=\"773\" y=\"660.5\">+transform()</text></g></g><g transform=\"translate(-294,-142) scale(1,1)\"><rect fill=\"#C0C0C0\" height=\"72\" opacity=\"0.2\" stroke=\"none\" width=\"120.6044921875\" x=\"1039\" y=\"615\"/></g><g transform=\"translate(-294,-142) scale(1,1)\"><rect fill=\"#ffffff\" height=\"72\" stroke=\"none\" width=\"120.6044921875\" x=\"1032\" y=\"608\"/></g><g transform=\"translate(-294,-142) scale(1,1)\"><path d=\"M 1032 608 L 1152.6044921875 608 L 1152.6044921875 680 L 1032 680 L 1032 608 Z Z\" fill=\"none\" stroke=\"#000000\" stroke-miterlimit=\"10\"/></g><g transform=\"translate(-294,-142) scale(1,1)\"><path d=\"M 1032 633 L 1152.6044921875 633\" fill=\"none\" stroke=\"#000000\" stroke-miterlimit=\"10\"/></g><g transform=\"translate(-294,-142) scale(1,1)\"><path d=\"M 1032 643 L 1152.6044921875 643\" fill=\"none\" stroke=\"#000000\" stroke-miterlimit=\"10\"/></g><g transform=\"translate(-294,-142) scale(1,1)\"><g><path fill=\"none\" stroke=\"none\"/><text fill=\"#000000\" font-family=\"Arial\" font-size=\"13px\" font-style=\"normal\" font-weight=\"bold\" stroke=\"none\" text-decoration=\"none\" x=\"1042.80224609375\" y=\"627.5\">SparseCoefMixin</text></g></g><g transform=\"translate(-294,-142) scale(1,1)\"><g><path fill=\"none\" stroke=\"none\"/><text fill=\"#000000\" font-family=\"Arial\" font-size=\"13px\" font-style=\"normal\" font-weight=\"normal\" stroke=\"none\" text-decoration=\"none\" x=\"1037\" y=\"660.5\">+densify()</text></g></g><g transform=\"translate(-294,-142) scale(1,1)\"><g><path fill=\"none\" stroke=\"none\"/><text fill=\"#000000\" font-family=\"Arial\" font-size=\"13px\" font-style=\"normal\" font-weight=\"normal\" stroke=\"none\" text-decoration=\"none\" x=\"1037\" y=\"675.5\">+sparsify()</text></g></g><g transform=\"translate(-294,-142) scale(1,1)\"><rect fill=\"#C0C0C0\" height=\"44\" opacity=\"0.2\" stroke=\"none\" width=\"50.05029296875\" x=\"815\" y=\"159\"/></g><g transform=\"translate(-294,-142) scale(1,1)\"><rect fill=\"#ffffff\" height=\"44\" stroke=\"none\" width=\"50.05029296875\" x=\"808\" y=\"152\"/></g><g transform=\"translate(-294,-142) scale(1,1)\"><path d=\"M 808 152 L 858.05029296875 152 L 858.05029296875 196 L 808 196 L 808 152 Z Z\" fill=\"none\" stroke=\"#000000\" stroke-miterlimit=\"10\"/></g><g transform=\"translate(-294,-142) scale(1,1)\"><path d=\"M 808 177 L 858.05029296875 177\" fill=\"none\" stroke=\"#000000\" stroke-miterlimit=\"10\"/></g><g transform=\"translate(-294,-142) scale(1,1)\"><path d=\"M 808 187 L 858.05029296875 187\" fill=\"none\" stroke=\"#000000\" stroke-miterlimit=\"10\"/></g><g transform=\"translate(-294,-142) scale(1,1)\"><g><path fill=\"none\" stroke=\"none\"/><text fill=\"#000000\" font-family=\"Arial\" font-size=\"13px\" font-style=\"normal\" font-weight=\"bold\" stroke=\"none\" text-decoration=\"none\" x=\"815.525146484375\" y=\"171.5\">object</text></g></g><g transform=\"translate(-294,-142) scale(1,1)\"><path d=\"M 416 599 L 810 197\" fill=\"none\" stroke=\"#000000\" stroke-miterlimit=\"10\"/></g><g transform=\"translate(-294,-142) scale(1,1)\"><path d=\"M 801.7856542044758 217.40893243537138 L 810 197 L 789.7602858631444 205.62287490680285\" fill=\"#FFFFFF\" stroke=\"none\"/></g><g transform=\"translate(-294,-142) scale(1,1)\"><path d=\"M 801.7856542044758 217.40893243537138 L 810 197 L 789.7602858631444 205.62287490680285 L 801.7856542044758 217.40893243537138\" fill=\"none\" stroke=\"#000000\" stroke-miterlimit=\"10\"/></g><g transform=\"translate(-294,-142) scale(1,1)\"><path d=\"M 643 879 L 424 688\" fill=\"none\" stroke=\"#000000\" stroke-miterlimit=\"10\"/></g><g transform=\"translate(-294,-142) scale(1,1)\"><path d=\"M 444.8517396860027 695.0146241572289 L 424 688 L 433.7843182224576 707.7044948405608\" fill=\"#FFFFFF\" stroke=\"none\"/></g><g transform=\"translate(-294,-142) scale(1,1)\"><path d=\"M 444.8517396860027 695.0146241572289 L 424 688 L 433.7843182224576 707.7044948405608 L 444.8517396860027 695.0146241572289\" fill=\"none\" stroke=\"#000000\" stroke-miterlimit=\"10\"/></g><g transform=\"translate(-294,-142) scale(1,1)\"><path d=\"M 680 879 L 624 688\" fill=\"none\" stroke=\"#000000\" stroke-miterlimit=\"10\"/></g><g transform=\"translate(-294,-142) scale(1,1)\"><path d=\"M 637.7974912052944 705.1356131037038 L 624 688 L 621.6395913692074 709.8730078200434\" fill=\"#FFFFFF\" stroke=\"none\"/></g><g transform=\"translate(-294,-142) scale(1,1)\"><path d=\"M 637.7974912052944 705.1356131037038 L 624 688 L 621.6395913692074 709.8730078200434 L 637.7974912052944 705.1356131037038\" fill=\"none\" stroke=\"#000000\" stroke-miterlimit=\"10\"/></g><g transform=\"translate(-294,-142) scale(1,1)\"><path d=\"M 716 879 L 826 666\" fill=\"none\" stroke=\"#000000\" stroke-miterlimit=\"10\"/></g><g transform=\"translate(-294,-142) scale(1,1)\"><path d=\"M 824.154008361353 687.9224158082554 L 826 666 L 809.1931979162905 680.1961756723076\" fill=\"#FFFFFF\" stroke=\"none\"/></g><g transform=\"translate(-294,-142) scale(1,1)\"><path d=\"M 824.154008361353 687.9224158082554 L 826 666 L 809.1931979162905 680.1961756723076 L 824.154008361353 687.9224158082554\" fill=\"none\" stroke=\"#000000\" stroke-miterlimit=\"10\"/></g><g transform=\"translate(-294,-142) scale(1,1)\"><path d=\"M 756 879 L 1039 681\" fill=\"none\" stroke=\"#000000\" stroke-miterlimit=\"10\"/></g><g transform=\"translate(-294,-142) scale(1,1)\"><path d=\"M 1027.1724242837984 699.5501604488348 L 1039 681 L 1017.5196967606068 685.753585251546\" fill=\"#FFFFFF\" stroke=\"none\"/></g><g transform=\"translate(-294,-142) scale(1,1)\"><path d=\"M 1027.1724242837984 699.5501604488348 L 1039 681 L 1017.5196967606068 685.753585251546 L 1027.1724242837984 699.5501604488348\" fill=\"none\" stroke=\"#000000\" stroke-miterlimit=\"10\"/></g><g transform=\"translate(-294,-142) scale(1,1)\"><rect fill=\"#C0C0C0\" height=\"70\" opacity=\"0.2\" stroke=\"none\" width=\"110.07373046875\" x=\"599\" y=\"463\"/></g><g transform=\"translate(-294,-142) scale(1,1)\"><rect fill=\"#ffffff\" height=\"70\" stroke=\"none\" width=\"110.07373046875\" x=\"592\" y=\"456\"/></g><g transform=\"translate(-294,-142) scale(1,1)\"><path d=\"M 592 456 L 702.07373046875 456 L 702.07373046875 526 L 592 526 L 592 456 Z Z\" fill=\"none\" stroke=\"#000000\" stroke-miterlimit=\"10\"/></g><g transform=\"translate(-294,-142) scale(1,1)\"><path d=\"M 592 481 L 702.07373046875 481\" fill=\"none\" stroke=\"#000000\" stroke-miterlimit=\"10\"/></g><g transform=\"translate(-294,-142) scale(1,1)\"><path d=\"M 592 504 L 702.07373046875 504\" fill=\"none\" stroke=\"#000000\" stroke-miterlimit=\"10\"/></g><g transform=\"translate(-294,-142) scale(1,1)\"><g><path fill=\"none\" stroke=\"none\"/><text fill=\"#000000\" font-family=\"Arial\" font-size=\"13px\" font-style=\"normal\" font-weight=\"bold\" stroke=\"none\" text-decoration=\"none\" x=\"604.536865234375\" y=\"475.5\">ClassifierMixin</text></g></g><g transform=\"translate(-294,-142) scale(1,1)\"><g><path fill=\"none\" stroke=\"none\"/><text fill=\"#000000\" font-family=\"Arial\" font-size=\"13px\" font-style=\"normal\" font-weight=\"normal\" stroke=\"none\" text-decoration=\"none\" x=\"597\" y=\"498.5\">-estimator_type</text></g></g><g transform=\"translate(-294,-142) scale(1,1)\"><g><path fill=\"none\" stroke=\"none\"/><text fill=\"#000000\" font-family=\"Arial\" font-size=\"13px\" font-style=\"normal\" font-weight=\"normal\" stroke=\"none\" text-decoration=\"none\" x=\"597\" y=\"521.5\">+score()</text></g></g><g transform=\"translate(-294,-142) scale(1,1)\"><path d=\"M 621 599 L 638 527\" fill=\"none\" stroke=\"#000000\" stroke-miterlimit=\"10\"/></g><g transform=\"translate(-294,-142) scale(1,1)\"><path d=\"M 641.5231221098401 548.716068028056 L 638 527 L 625.1356445714694 544.8468024981629\" fill=\"#FFFFFF\" stroke=\"none\"/></g><g transform=\"translate(-294,-142) scale(1,1)\"><path d=\"M 641.5231221098401 548.716068028056 L 638 527 L 625.1356445714694 544.8468024981629 L 641.5231221098401 548.716068028056\" fill=\"none\" stroke=\"#000000\" stroke-miterlimit=\"10\"/></g><g transform=\"translate(-294,-142) scale(1,1)\"><path d=\"M 668 455 L 820 197\" fill=\"none\" stroke=\"#000000\" stroke-miterlimit=\"10\"/></g><g transform=\"translate(-294,-142) scale(1,1)\"><path d=\"M 816.9365377448061 218.78566498895552 L 820 197 L 802.4290136190946 210.23859651179214\" fill=\"#FFFFFF\" stroke=\"none\"/></g><g transform=\"translate(-294,-142) scale(1,1)\"><path d=\"M 816.9365377448061 218.78566498895552 L 820 197 L 802.4290136190946 210.23859651179214 L 816.9365377448061 218.78566498895552\" fill=\"none\" stroke=\"#000000\" stroke-miterlimit=\"10\"/></g><g transform=\"translate(-294,-142) scale(1,1)\"><rect fill=\"#C0C0C0\" height=\"57\" opacity=\"0.2\" stroke=\"none\" width=\"129.6181640625\" x=\"783\" y=\"431\"/></g><g transform=\"translate(-294,-142) scale(1,1)\"><rect fill=\"#ffffff\" height=\"57\" stroke=\"none\" width=\"129.6181640625\" x=\"776\" y=\"424\"/></g><g transform=\"translate(-294,-142) scale(1,1)\"><path d=\"M 776 424 L 905.6181640625 424 L 905.6181640625 481 L 776 481 L 776 424 Z Z\" fill=\"none\" stroke=\"#000000\" stroke-miterlimit=\"10\"/></g><g transform=\"translate(-294,-142) scale(1,1)\"><path d=\"M 776 449 L 905.6181640625 449\" fill=\"none\" stroke=\"#000000\" stroke-miterlimit=\"10\"/></g><g transform=\"translate(-294,-142) scale(1,1)\"><path d=\"M 776 459 L 905.6181640625 459\" fill=\"none\" stroke=\"#000000\" stroke-miterlimit=\"10\"/></g><g transform=\"translate(-294,-142) scale(1,1)\"><g><path fill=\"none\" stroke=\"none\"/><text fill=\"#000000\" font-family=\"Arial\" font-size=\"13px\" font-style=\"normal\" font-weight=\"bold\" stroke=\"none\" text-decoration=\"none\" x=\"790.30908203125\" y=\"443.5\">TransformerMixin</text></g></g><g transform=\"translate(-294,-142) scale(1,1)\"><g><path fill=\"none\" stroke=\"none\"/><text fill=\"#000000\" font-family=\"Arial\" font-size=\"13px\" font-style=\"normal\" font-weight=\"normal\" stroke=\"none\" text-decoration=\"none\" x=\"781\" y=\"476.5\">+fit_transform()</text></g></g><g transform=\"translate(-294,-142) scale(1,1)\"><path d=\"M 842 607 L 840 482\" fill=\"none\" stroke=\"#000000\" stroke-miterlimit=\"10\"/></g><g transform=\"translate(-294,-142) scale(1,1)\"><path d=\"M 848.7431220594668 502.1880612405764 L 840 482 L 831.9072058947697 502.4574358992116\" fill=\"#FFFFFF\" stroke=\"none\"/></g><g transform=\"translate(-294,-142) scale(1,1)\"><path d=\"M 848.7431220594668 502.1880612405764 L 840 482 L 831.9072058947697 502.4574358992116 L 848.7431220594668 502.1880612405764\" fill=\"none\" stroke=\"#000000\" stroke-miterlimit=\"10\"/></g><g transform=\"translate(-294,-142) scale(1,1)\"><path d=\"M 839 423 L 834 197\" fill=\"none\" stroke=\"#000000\" stroke-miterlimit=\"10\"/></g><g transform=\"translate(-294,-142) scale(1,1)\"><path d=\"M 842.866541717795 217.1341609700181 L 834 197 L 826.032590018925 217.5065935297276\" fill=\"#FFFFFF\" stroke=\"none\"/></g><g transform=\"translate(-294,-142) scale(1,1)\"><path d=\"M 842.866541717795 217.1341609700181 L 834 197 L 826.032590018925 217.5065935297276 L 842.866541717795 217.1341609700181\" fill=\"none\" stroke=\"#000000\" stroke-miterlimit=\"10\"/></g><g transform=\"translate(-294,-142) scale(1,1)\"><path d=\"M 1072 607 L 846 197\" fill=\"none\" stroke=\"#000000\" stroke-miterlimit=\"10\"/></g><g transform=\"translate(-294,-142) scale(1,1)\"><path d=\"M 863.1849217218115 210.73602800722284 L 846 197 L 848.4387361331773 218.86441323412853\" fill=\"#FFFFFF\" stroke=\"none\"/></g><g transform=\"translate(-294,-142) scale(1,1)\"><path d=\"M 863.1849217218115 210.73602800722284 L 846 197 L 848.4387361331773 218.86441323412853 L 863.1849217218115 210.73602800722284\" fill=\"none\" stroke=\"#000000\" stroke-miterlimit=\"10\"/></g><g transform=\"translate(-294,-142) scale(1,1)\"><rect fill=\"#C0C0C0\" height=\"60\" opacity=\"0.2\" stroke=\"none\" width=\"102.21533203125\" x=\"951\" y=\"983\"/></g><g transform=\"translate(-294,-142) scale(1,1)\"><rect fill=\"#ffffff\" height=\"60\" stroke=\"none\" width=\"102.21533203125\" x=\"944\" y=\"976\"/></g><g transform=\"translate(-294,-142) scale(1,1)\"><path d=\"M 944 976 L 1046.21533203125 976 L 1046.21533203125 1036 L 944 1036 L 944 976 Z Z\" fill=\"none\" stroke=\"#000000\" stroke-miterlimit=\"10\"/></g><g transform=\"translate(-294,-142) scale(1,1)\"><path d=\"M 944 1014 L 1046.21533203125 1014\" fill=\"none\" stroke=\"#000000\" stroke-miterlimit=\"10\"/></g><g transform=\"translate(-294,-142) scale(1,1)\"><g><path fill=\"none\" stroke=\"none\"/><text fill=\"#000000\" font-family=\"Arial\" font-size=\"13px\" font-style=\"normal\" font-weight=\"normal\" stroke=\"none\" text-decoration=\"none\" x=\"961.107666015625\" y=\"993.5\">«dataType»</text></g></g><g transform=\"translate(-294,-142) scale(1,1)\"><g><path fill=\"none\" stroke=\"none\"/><text fill=\"#000000\" font-family=\"Arial\" font-size=\"13px\" font-style=\"normal\" font-weight=\"bold\" stroke=\"none\" text-decoration=\"none\" x=\"972.107666015625\" y=\"1008.5\">base.py</text></g></g><g transform=\"translate(-294,-142) scale(1,1)\"><g><path fill=\"none\" stroke=\"none\"/><text fill=\"#000000\" font-family=\"Arial\" font-size=\"13px\" font-style=\"normal\" font-weight=\"normal\" stroke=\"none\" text-decoration=\"none\" x=\"949\" y=\"1031.5\">+_fit_liblinear()</text></g></g><g transform=\"translate(-294,-142) scale(1,1)\"><rect fill=\"#C0C0C0\" height=\"150\" opacity=\"0.2\" stroke=\"none\" width=\"177.89208984375\" x=\"615\" y=\"1079\"/></g><g transform=\"translate(-294,-142) scale(1,1)\"><rect fill=\"#ffffff\" height=\"150\" stroke=\"none\" width=\"177.89208984375\" x=\"608\" y=\"1072\"/></g><g transform=\"translate(-294,-142) scale(1,1)\"><path d=\"M 608 1072 L 785.89208984375 1072 L 785.89208984375 1222 L 608 1222 L 608 1072 Z Z\" fill=\"none\" stroke=\"#000000\" stroke-miterlimit=\"10\"/></g><g transform=\"translate(-294,-142) scale(1,1)\"><path d=\"M 608 1110 L 785.89208984375 1110\" fill=\"none\" stroke=\"#000000\" stroke-miterlimit=\"10\"/></g><g transform=\"translate(-294,-142) scale(1,1)\"><g><path fill=\"none\" stroke=\"none\"/><text fill=\"#000000\" font-family=\"Arial\" font-size=\"13px\" font-style=\"normal\" font-weight=\"normal\" stroke=\"none\" text-decoration=\"none\" x=\"662.946044921875\" y=\"1089.5\">«dataType»</text></g></g><g transform=\"translate(-294,-142) scale(1,1)\"><g><path fill=\"none\" stroke=\"none\"/><text fill=\"#000000\" font-family=\"Arial\" font-size=\"13px\" font-style=\"normal\" font-weight=\"bold\" stroke=\"none\" text-decoration=\"none\" x=\"667.446044921875\" y=\"1104.5\">logistic.py</text></g></g><g transform=\"translate(-294,-142) scale(1,1)\"><g><path fill=\"none\" stroke=\"none\"/><text fill=\"#000000\" font-family=\"Arial\" font-size=\"13px\" font-style=\"normal\" font-weight=\"normal\" stroke=\"none\" text-decoration=\"none\" x=\"613\" y=\"1127.5\">+logistic_regression_path()</text></g></g><g transform=\"translate(-294,-142) scale(1,1)\"><g><path fill=\"none\" stroke=\"none\"/><text fill=\"#000000\" font-family=\"Arial\" font-size=\"13px\" font-style=\"normal\" font-weight=\"normal\" stroke=\"none\" text-decoration=\"none\" x=\"613\" y=\"1142.5\">-check_solver_option()</text></g></g><g transform=\"translate(-294,-142) scale(1,1)\"><g><path fill=\"none\" stroke=\"none\"/><text fill=\"#000000\" font-family=\"Arial\" font-size=\"13px\" font-style=\"normal\" font-weight=\"normal\" stroke=\"none\" text-decoration=\"none\" x=\"613\" y=\"1157.5\">-logistic_loss()</text></g></g><g transform=\"translate(-294,-142) scale(1,1)\"><g><path fill=\"none\" stroke=\"none\"/><text fill=\"#000000\" font-family=\"Arial\" font-size=\"13px\" font-style=\"normal\" font-weight=\"normal\" stroke=\"none\" text-decoration=\"none\" x=\"613\" y=\"1172.5\">-logistic_loss_and_grad()</text></g></g><g transform=\"translate(-294,-142) scale(1,1)\"><g><path fill=\"none\" stroke=\"none\"/><text fill=\"#000000\" font-family=\"Arial\" font-size=\"13px\" font-style=\"normal\" font-weight=\"normal\" stroke=\"none\" text-decoration=\"none\" x=\"613\" y=\"1187.5\">-multinomial_loss()</text></g></g><g transform=\"translate(-294,-142) scale(1,1)\"><g><path fill=\"none\" stroke=\"none\"/><text fill=\"#000000\" font-family=\"Arial\" font-size=\"13px\" font-style=\"normal\" font-weight=\"normal\" stroke=\"none\" text-decoration=\"none\" x=\"613\" y=\"1202.5\">-multinomial_loss_grad()</text></g></g><g transform=\"translate(-294,-142) scale(1,1)\"><g><path fill=\"none\" stroke=\"none\"/><text fill=\"#000000\" font-family=\"Arial\" font-size=\"13px\" font-style=\"normal\" font-weight=\"normal\" stroke=\"none\" text-decoration=\"none\" x=\"613\" y=\"1217.5\">-multinomial_grad_hess()</text></g></g><g transform=\"translate(-294,-142) scale(1,1)\"><rect fill=\"#C0C0C0\" height=\"60\" opacity=\"0.2\" stroke=\"none\" width=\"92.30029296875\" x=\"959\" y=\"1127\"/></g><g transform=\"translate(-294,-142) scale(1,1)\"><rect fill=\"#ffffff\" height=\"60\" stroke=\"none\" width=\"92.30029296875\" x=\"952\" y=\"1120\"/></g><g transform=\"translate(-294,-142) scale(1,1)\"><path d=\"M 952 1120 L 1044.30029296875 1120 L 1044.30029296875 1180 L 952 1180 L 952 1120 Z Z\" fill=\"none\" stroke=\"#000000\" stroke-miterlimit=\"10\"/></g><g transform=\"translate(-294,-142) scale(1,1)\"><path d=\"M 952 1158 L 1044.30029296875 1158\" fill=\"none\" stroke=\"#000000\" stroke-miterlimit=\"10\"/></g><g transform=\"translate(-294,-142) scale(1,1)\"><g><path fill=\"none\" stroke=\"none\"/><text fill=\"#000000\" font-family=\"Arial\" font-size=\"13px\" font-style=\"normal\" font-weight=\"normal\" stroke=\"none\" text-decoration=\"none\" x=\"964.150146484375\" y=\"1137.5\">«dataType»</text></g></g><g transform=\"translate(-294,-142) scale(1,1)\"><g><path fill=\"none\" stroke=\"none\"/><text fill=\"#000000\" font-family=\"Arial\" font-size=\"13px\" font-style=\"normal\" font-weight=\"bold\" stroke=\"none\" text-decoration=\"none\" x=\"964.650146484375\" y=\"1152.5\">optimize.py</text></g></g><g transform=\"translate(-294,-142) scale(1,1)\"><g><path fill=\"none\" stroke=\"none\"/><text fill=\"#000000\" font-family=\"Arial\" font-size=\"13px\" font-style=\"normal\" font-weight=\"normal\" stroke=\"none\" text-decoration=\"none\" x=\"957\" y=\"1175.5\">+newton_cg()</text></g></g><g transform=\"translate(-294,-142) scale(1,1)\"><rect fill=\"#C0C0C0\" height=\"60\" opacity=\"0.2\" stroke=\"none\" width=\"90.86572265625\" x=\"959\" y=\"1271\"/></g><g transform=\"translate(-294,-142) scale(1,1)\"><rect fill=\"#ffffff\" height=\"60\" stroke=\"none\" width=\"90.86572265625\" x=\"952\" y=\"1264\"/></g><g transform=\"translate(-294,-142) scale(1,1)\"><path d=\"M 952 1264 L 1042.86572265625 1264 L 1042.86572265625 1324 L 952 1324 L 952 1264 Z Z\" fill=\"none\" stroke=\"#000000\" stroke-miterlimit=\"10\"/></g><g transform=\"translate(-294,-142) scale(1,1)\"><path d=\"M 952 1302 L 1042.86572265625 1302\" fill=\"none\" stroke=\"#000000\" stroke-miterlimit=\"10\"/></g><g transform=\"translate(-294,-142) scale(1,1)\"><g><path fill=\"none\" stroke=\"none\"/><text fill=\"#000000\" font-family=\"Arial\" font-size=\"13px\" font-style=\"normal\" font-weight=\"normal\" stroke=\"none\" text-decoration=\"none\" x=\"963.432861328125\" y=\"1281.5\">«dataType»</text></g></g><g transform=\"translate(-294,-142) scale(1,1)\"><g><path fill=\"none\" stroke=\"none\"/><text fill=\"#000000\" font-family=\"Arial\" font-size=\"13px\" font-style=\"normal\" font-weight=\"bold\" stroke=\"none\" text-decoration=\"none\" x=\"977.932861328125\" y=\"1296.5\">sag.py</text></g></g><g transform=\"translate(-294,-142) scale(1,1)\"><g><path fill=\"none\" stroke=\"none\"/><text fill=\"#000000\" font-family=\"Arial\" font-size=\"13px\" font-style=\"normal\" font-weight=\"normal\" stroke=\"none\" text-decoration=\"none\" x=\"957\" y=\"1319.5\">+sag_solver()</text></g></g><g transform=\"translate(-294,-142) scale(1,1)\"><path d=\"M 694 968 L 695 1071\" fill=\"none\" stroke=\"#000000\" stroke-miterlimit=\"10\"/></g><g transform=\"translate(-294,-142) scale(1,1)\"><path d=\"M 690.6920185272949 1060.8786712517165 L 695 1071 L 699.1106572799538 1060.7969368948945\" fill=\"none\" stroke=\"#000000\" stroke-miterlimit=\"10\"/></g><g transform=\"translate(-294,-142) scale(1,1)\"><path d=\"M 787 1104 L 943 1031\" fill=\"none\" stroke=\"#000000\" stroke-miterlimit=\"10\"/></g><g transform=\"translate(-294,-142) scale(1,1)\"><path d=\"M 935.5794395764921 1039.1200543718048 L 943 1031 L 932.0111258944263 1031.4946169142397\" fill=\"none\" stroke=\"#000000\" stroke-miterlimit=\"10\"/></g><g transform=\"translate(-294,-142) scale(1,1)\"><path d=\"M 787 1148 L 951 1150\" fill=\"none\" stroke=\"#000000\" stroke-miterlimit=\"10\"/></g><g transform=\"translate(-294,-142) scale(1,1)\"><path d=\"M 940.7867489941989 1154.0852789246883 L 951 1150 L 940.8894125251521 1145.6668693865233\" fill=\"none\" stroke=\"#000000\" stroke-miterlimit=\"10\"/></g><g transform=\"translate(-294,-142) scale(1,1)\"><path d=\"M 787 1191 L 951 1272\" fill=\"none\" stroke=\"#000000\" stroke-miterlimit=\"10\"/></g><g transform=\"translate(-294,-142) scale(1,1)\"><path d=\"M 940.0239918293415 1271.2738838676646 L 951 1272 L 943.7522318332717 1263.725348551065\" fill=\"none\" stroke=\"#000000\" stroke-miterlimit=\"10\"/></g></g></svg>"
      ],
      "text/plain": [
       "<IPython.core.display.SVG object>"
      ]
     },
     "execution_count": 2,
     "metadata": {},
     "output_type": "execute_result"
    }
   ],
   "source": [
    "SVG(\"./res/sklearn_lr.svg\")"
   ]
  },
  {
   "cell_type": "markdown",
   "metadata": {},
   "source": [
    "如[逻辑回归在spark中的实现简介](./spark_ml_lr.ipynb)中分析一样，主要把精力定位到算法代码上，即寻优算子和损失函数。"
   ]
  },
  {
   "cell_type": "markdown",
   "metadata": {},
   "source": [
    "### 1. 寻优算子\n",
    "\n",
    "sklearn支持liblinear, sag, lbfgs和newton-cg四种寻优算子，其中lbfgs属于scipy包，liblinear属于LibLinear库，剩下两种由sklearn自己实现。代码很好定位，逻辑也很明了，不多说：\n",
    "\n",
    "```python\n",
    " 704         if solver == 'lbfgs':\n",
    " 705             try:\n",
    " 706                 w0, loss, info = optimize.fmin_l_bfgs_b(\n",
    " 707                     func, w0, fprime=None,\n",
    " 708                     args=(X, target, 1. / C, sample_weight),\n",
    " 709                     iprint=(verbose > 0) - 1, pgtol=tol, maxiter=max_iter)\n",
    " 710             except TypeError:\n",
    " 711                 # old scipy doesn't have maxiter\n",
    " 712                 w0, loss, info = optimize.fmin_l_bfgs_b(\n",
    " 713                     func, w0, fprime=None,\n",
    " 714                     args=(X, target, 1. / C, sample_weight),\n",
    " 715                     iprint=(verbose > 0) - 1, pgtol=tol)\n",
    " 716             if info[\"warnflag\"] == 1 and verbose > 0:\n",
    " 717                 warnings.warn(\"lbfgs failed to converge. Increase the number \"\n",
    " 718                               \"of iterations.\")\n",
    " 719             try:\n",
    " 720                 n_iter_i = info['nit'] - 1\n",
    " 721             except:\n",
    " 722                 n_iter_i = info['funcalls'] - 1\n",
    " 723         elif solver == 'newton-cg':\n",
    " 724             args = (X, target, 1. / C, sample_weight)\n",
    " 725             w0, n_iter_i = newton_cg(hess, func, grad, w0, args=args,\n",
    " 726                                      maxiter=max_iter, tol=tol)\n",
    " 727         elif solver == 'liblinear':\n",
    " 728             coef_, intercept_, n_iter_i, = _fit_liblinear(\n",
    " 729                 X, target, C, fit_intercept, intercept_scaling, None,\n",
    " 730                 penalty, dual, verbose, max_iter, tol, random_state,\n",
    " 731                 sample_weight=sample_weight)\n",
    " 732             if fit_intercept:\n",
    " 733                 w0 = np.concatenate([coef_.ravel(), intercept_])\n",
    " 734             else:\n",
    " 735                 w0 = coef_.ravel()\n",
    " 736\n",
    " 737         elif solver == 'sag':\n",
    " 738             if multi_class == 'multinomial':\n",
    " 739                 target = target.astype(np.float64)\n",
    " 740                 loss = 'multinomial'\n",
    " 741             else:\n",
    " 742                 loss = 'log'\n",
    " 743\n",
    " 744             w0, n_iter_i, warm_start_sag = sag_solver(\n",
    " 745                 X, target, sample_weight, loss, 1. / C, max_iter, tol,\n",
    " 746                 verbose, random_state, False, max_squared_sum, warm_start_sag)\n",
    "```"
   ]
  },
  {
   "cell_type": "markdown",
   "metadata": {},
   "source": [
    "### 2. 损失函数\n",
    "\n",
    "#### 2.1 二分类\n",
    "\n",
    "二分类的损失函数和导数由`_logistic_loss_and_grad`实现，运算逻辑和[逻辑回归算法简介和Python实现](./demo.ipynb)是相同的，不多说。"
   ]
  },
  {
   "cell_type": "markdown",
   "metadata": {},
   "source": [
    "#### 2.2 多分类\n",
    "\n",
    "sklearn的多分类支持ovr (one vs rest，一对多)和multinominal两种方式。\n",
    "\n",
    "\n",
    "##### 2.2.0 ovr\n",
    "默认是ovr，它会对毎个标签训练一个二分类的分类器，即总共$K$个。训练代码在\n",
    "\n",
    "```python\n",
    "1230         fold_coefs_ = Parallel(n_jobs=self.n_jobs, verbose=self.verbose,\n",
    "1231                                backend=backend)(\n",
    "1232             path_func(X, y, pos_class=class_, Cs=[self.C],\n",
    "1233                       fit_intercept=self.fit_intercept, tol=self.tol,\n",
    "1234                       verbose=self.verbose, solver=self.solver, copy=False,\n",
    "1235                       multi_class=self.multi_class, max_iter=self.max_iter,\n",
    "1236                       class_weight=self.class_weight, check_input=False,\n",
    "1237                       random_state=self.random_state, coef=warm_start_coef_,\n",
    "1238                       max_squared_sum=max_squared_sum,\n",
    "1239                       sample_weight=sample_weight)\n",
    "1240             for (class_, warm_start_coef_) in zip(classes_, warm_start_coef))\n",
    "```\n",
    "\n",
    "注意，1240L的`for class_ in classes`配合1232L的`pos_class=class`，就是逐个取标签来训练的逻辑。"
   ]
  },
  {
   "cell_type": "markdown",
   "metadata": {},
   "source": [
    "##### 2.2.1 multinominal\n",
    "\n",
    "前面讲到ovr会遍历标签，逐个训练。为了兼容这段逻辑，真正的二分类问题需要做变化：\n",
    "\n",
    "```python\n",
    "1201         if len(self.classes_) == 2:\n",
    "1202             n_classes = 1\n",
    "1203             classes_ = classes_[1:]\n",
    "```\n",
    "\n",
    "同样地，multinominal需要一次对全部标签做处理，也需要做变化：\n",
    "\n",
    "```python\n",
    "1217         # Hack so that we iterate only once for the multinomial case.\n",
    "1218         if self.multi_class == 'multinomial':\n",
    "1219             classes_ = [None]\n",
    "1220             warm_start_coef = [warm_start_coef]\n",
    "```\n",
    "\n",
    "好，接下来，我们看multinoinal的损失函数和导数计算代码，它是`_multinomial_loss_grad`这个函数。"
   ]
  },
  {
   "cell_type": "code",
   "execution_count": null,
   "metadata": {
    "collapsed": true
   },
   "outputs": [],
   "source": []
  }
 ],
 "metadata": {
  "kernelspec": {
   "display_name": "Python 3",
   "language": "python",
   "name": "python3"
  },
  "language_info": {
   "codemirror_mode": {
    "name": "ipython",
    "version": 3
   },
   "file_extension": ".py",
   "mimetype": "text/x-python",
   "name": "python",
   "nbconvert_exporter": "python",
   "pygments_lexer": "ipython3",
   "version": "3.5.2"
  }
 },
 "nbformat": 4,
 "nbformat_minor": 0
}

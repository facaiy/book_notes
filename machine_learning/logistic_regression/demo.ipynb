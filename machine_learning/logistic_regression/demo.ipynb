{
 "cells": [
  {
   "cell_type": "code",
   "execution_count": 34,
   "metadata": {
    "collapsed": true
   },
   "outputs": [],
   "source": [
    "# %load /Users/facai/Study/book_notes/preconfig.py\n",
    "%matplotlib inline\n",
    "\n",
    "import matplotlib.pyplot as plt\n",
    "import seaborn as sns\n",
    "\n",
    "import numpy as np\n",
    "import scipy as sp\n",
    "\n",
    "import pandas as pd\n",
    "pd.options.display.max_rows = 20"
   ]
  },
  {
   "cell_type": "markdown",
   "metadata": {},
   "source": [
    "逻辑回归算法简介和Python实现\n",
    "========================="
   ]
  },
  {
   "cell_type": "markdown",
   "metadata": {},
   "source": [
    "### 0. 实验数据"
   ]
  },
  {
   "cell_type": "code",
   "execution_count": 35,
   "metadata": {
    "collapsed": false
   },
   "outputs": [
    {
     "data": {
      "text/html": [
       "<div>\n",
       "<style>\n",
       "    .dataframe thead tr:only-child th {\n",
       "        text-align: right;\n",
       "    }\n",
       "\n",
       "    .dataframe thead th {\n",
       "        text-align: left;\n",
       "    }\n",
       "\n",
       "    .dataframe tbody tr th {\n",
       "        vertical-align: top;\n",
       "    }\n",
       "</style>\n",
       "<table border=\"1\" class=\"dataframe\">\n",
       "  <thead>\n",
       "    <tr>\n",
       "      <th></th>\n",
       "      <th colspan=\"8\" halign=\"left\">x</th>\n",
       "      <th>y</th>\n",
       "    </tr>\n",
       "    <tr>\n",
       "      <th></th>\n",
       "      <th>0</th>\n",
       "      <th>1</th>\n",
       "      <th>2</th>\n",
       "      <th>3</th>\n",
       "      <th>4</th>\n",
       "      <th>5</th>\n",
       "      <th>6</th>\n",
       "      <th>7</th>\n",
       "      <th>8</th>\n",
       "    </tr>\n",
       "  </thead>\n",
       "  <tbody>\n",
       "    <tr>\n",
       "      <th>0</th>\n",
       "      <td>6</td>\n",
       "      <td>148</td>\n",
       "      <td>72</td>\n",
       "      <td>35</td>\n",
       "      <td>0</td>\n",
       "      <td>33.6</td>\n",
       "      <td>0.627</td>\n",
       "      <td>50</td>\n",
       "      <td>1</td>\n",
       "    </tr>\n",
       "    <tr>\n",
       "      <th>1</th>\n",
       "      <td>1</td>\n",
       "      <td>85</td>\n",
       "      <td>66</td>\n",
       "      <td>29</td>\n",
       "      <td>0</td>\n",
       "      <td>26.6</td>\n",
       "      <td>0.351</td>\n",
       "      <td>31</td>\n",
       "      <td>0</td>\n",
       "    </tr>\n",
       "    <tr>\n",
       "      <th>2</th>\n",
       "      <td>8</td>\n",
       "      <td>183</td>\n",
       "      <td>64</td>\n",
       "      <td>0</td>\n",
       "      <td>0</td>\n",
       "      <td>23.3</td>\n",
       "      <td>0.672</td>\n",
       "      <td>32</td>\n",
       "      <td>1</td>\n",
       "    </tr>\n",
       "  </tbody>\n",
       "</table>\n",
       "</div>"
      ],
      "text/plain": [
       "   x                                   y\n",
       "   0    1   2   3  4     5      6   7  8\n",
       "0  6  148  72  35  0  33.6  0.627  50  1\n",
       "1  1   85  66  29  0  26.6  0.351  31  0\n",
       "2  8  183  64   0  0  23.3  0.672  32  1"
      ]
     },
     "execution_count": 35,
     "metadata": {},
     "output_type": "execute_result"
    }
   ],
   "source": [
    "names = [(\"x\", k) for k in range(8)] + [(\"y\", 8)]\n",
    "df = pd.read_csv(\"./res/dataset/pima-indians-diabetes.data\", names=names)\n",
    "df.head(3)"
   ]
  },
  {
   "cell_type": "markdown",
   "metadata": {},
   "source": [
    "### 1. 二分类\n",
    "\n",
    "#### 1.0 基本原理\n",
    "\n",
    "ref: http://www.robots.ox.ac.uk/~az/lectures/ml/2011/lect4.pdf\n",
    "\n",
    "逻辑回归，是对线性分类 $f(x) = w^T x + b$ 结果，额外做了sigmoid变换$\\sigma(x) = \\frac1{1 + e^x}$。加了sigmoid变换，更适合于做分类器，效果见下图。"
   ]
  },
  {
   "cell_type": "code",
   "execution_count": 36,
   "metadata": {
    "collapsed": false
   },
   "outputs": [
    {
     "data": {
      "text/plain": [
       "<matplotlib.axes._subplots.AxesSubplot at 0x1146cca20>"
      ]
     },
     "execution_count": 36,
     "metadata": {},
     "output_type": "execute_result"
    },
    {
     "data": {
      "image/png": "[encoded data removed]",
      "text/plain": [
       "<matplotlib.figure.Figure at 0x1146cc208>"
      ]
     },
     "metadata": {},
     "output_type": "display_data"
    }
   ],
   "source": [
    "x = np.linspace(-1.5, 1.5, 1000)\n",
    "\n",
    "y1 = 0.5 * x + 0.5\n",
    "y2 = sp.special.expit(5 * x)\n",
    "\n",
    "pd.DataFrame({'linear': y1, 'logistic regression': y2}).plot()"
   ]
  },
  {
   "cell_type": "markdown",
   "metadata": {},
   "source": [
    "所以，逻辑回归的定义式是\n",
    "\n",
    "\\begin{equation}\n",
    "  g(x) = \\sigma(f(x)) = \\frac1{1 + e^{-(w^T x + b)}}\n",
    "\\end{equation}\n",
    "\n",
    "那么问题来了，如何找到参数$w$呢？"
   ]
  },
  {
   "cell_type": "markdown",
   "metadata": {},
   "source": [
    "##### 1.0.0 损失函数\n",
    "\n",
    "在回答如何找之前，我们得先定义找什么：即什么参数是好的？\n",
    "\n",
    "观察到，对于二分类 $y \\in \\{-1, 1\\}$，有\n",
    "\n",
    "\\begin{align}\n",
    "  g(x) & \\to 1 \\implies y = 1 \\\\\n",
    "  1 - g(x) & \\to 1 \\implies y = 0\n",
    "\\end{align}\n",
    "\n",
    "可以将$g(x)$看作是$y = 1$的概率值，$1 - g(x)$看作是$y = 0$的概率值，整理为：\n",
    "\n",
    "\\begin{align}\n",
    "  P(y = 1 | x, w) &= g(x) & &= \\frac1{1 + e^{-z}} &= \\frac1{1 + e^{-y z}} \\\\\n",
    "  P(y = 0 | x, w) &= 1 - g(x) &= 1 - \\frac1{1 + e^{-z}} &= \\frac1{1 + e^z} &= \\frac1{1 + e^{-y z}} \\\\\n",
    "\\end{align}\n",
    "\n",
    "即，可合并为 $P(y|x, w) = \\frac1{1 + e^{-y z}}$，其中$z = w^T x + b$。\n",
    "\n",
    "好了，常理而言，我们可以认为，对于给定的$x$，有$w$，使其对应标签$y$的概率值越大，则此$w$参数越好。"
   ]
  },
  {
   "cell_type": "markdown",
   "metadata": {},
   "source": [
    "在训练数据中是有许多样本的，即有多个$x$，如何全部利用起来呢？\n",
    "\n",
    "假定样本间是独立的，最直接的想法是将它们的预测概率值累乘，又称[Maximum likelihood estimation](https://en.wikipedia.org/wiki/Maximum_likelihood_estimation)\n",
    "\n",
    "\\begin{equation}\n",
    "{\\mathcal {L}}(\\theta \\,;\\,x_{1},\\ldots ,x_{n})=f(x_{1},x_{2},\\ldots ,x_{n}\\mid \\theta )=\\prod _{i=1}^{n}f(x_{i}\\mid \\theta )\n",
    "\\end{equation}\n",
    "\n",
    "好，我们用这个方法来描述最合适的参数$w$是\n",
    "\n",
    "\\begin{align}\n",
    "  w &= \\operatorname{arg \\ max} \\prod_i^n P(y_i | x_i, w) \\\\\n",
    "    &= \\operatorname{arg \\ min} - \\log \\left ( \\prod_i^n P(y_i | x_i, w) \\right ) \\quad \\text{用negative log likelihood转成极小值} \\\\\n",
    "    & = \\operatorname{arg \\ min} - \\log \\left ( \\prod_i^n \\frac1{1 + e^{-y z}} \\right ) \\\\\n",
    "    & = \\operatorname{arg \\ min} \\sum_i^n - \\log \\left ( \\frac1{1 + e^{-y z}} \\right ) \\\\\n",
    "    & = \\operatorname{arg \\ min} \\sum_i^n \\log ( 1 + e^{-y z} ) \\\\\n",
    "\\end{align}\n",
    "\n",
    "于是，我们可以定义损失函数\n",
    "\n",
    "\\begin{equation}\n",
    "  L(w) = \\log (1 + e^{-y z}) = \\log \\left ( 1 + e^{-y (w^T x + b)} \\right )\n",
    "\\end{equation}\n",
    "\n",
    "最好旳$w$值是$\\operatorname{arg \\ min} L(w)$。"
   ]
  },
  {
   "cell_type": "markdown",
   "metadata": {},
   "source": [
    "##### 1.0.1 一阶导数\n",
    "\n",
    "知道找什么这个目标后，怎么找就比较套路了。因为定义了损失函数，很自然地可以用数值寻优方法来寻找。很多数值寻优方法需要用到一阶导数信息，所以简单对损失函数求导，可得:\n",
    "\n",
    "\\begin{align}\n",
    "  \\frac{\\partial L}{\\partial w} &= \\frac1{1 + e^{-y (w^T x + b)}} \\cdot e^{-yb} \\cdot -yx e^{-y w^T x} \\\\\n",
    "    &= \\frac{e^{-y (w^T x + b)}}{1 + e^{-y (w^T x + b)}} \\cdot -y x \\\\\n",
    "    &= -y \\left ( 1 - \\frac1{1 + e^{-y (w^T x + b)}} \\right ) x\n",
    "\\end{align}\n",
    "\n",
    "\n",
    "有了损失函数和导数，用数值寻优方法就可找到合适的$w$值，具体见下一节的演示。"
   ]
  },
  {
   "cell_type": "markdown",
   "metadata": {},
   "source": [
    "#### 1.1 实现演示\n",
    "\n",
    "上一节，我们得到了损失函数和导数：\n",
    "\n",
    "\\begin{align}\n",
    "  L(w) &= \\log \\left ( 1 + e^{-y (w^T x + b)} \\right ) \\\\\n",
    "  \\frac{\\partial L}{\\partial w}  &= -y \\left ( 1 - \\frac1{1 + e^{-y (w^T x + b)}} \\right ) x\n",
    "\\end{align}\n",
    "\n",
    "对于$n$个训练样本，需要加总起来：\n",
    "\n",
    "\\begin{align}\n",
    "  L(w) &= \\sum_i^n \\log \\left ( 1 + e^{-y (w^T x + b)} \\right ) \\\\\n",
    "  \\frac{\\partial L}{\\partial w} &= \\sum_i^n -y \\left ( 1 - \\frac1{1 + e^{-y (w^T x + b)}} \\right ) x\n",
    "\\end{align}\n",
    "\n",
    "注意：导数是个向量。\n",
    "\n",
    "我们可以用矩阵运算，来替换掉上面的向量运算和累加。\n",
    "\n",
    "令有训练集$\\mathbf{X} = [x_0; x_1; \\dots; x_n]^T$，其中毎个样本长度为$m$，即有$x_0 = [x_0^0, x_0^1, \\dots, x_0^m]$。对应有标签集$y = [y_0, y_1, \\dots, y_n]^T$。\n",
    "\n",
    "令参数值$w$，矩阵乘法记为$\\times$，向量按元素相乘记为$\\cdot$，则可改写前面公式为：\n",
    "\n",
    "\\begin{align}\n",
    "  z &= \\exp \\left ( -y \\cdot (X \\times w) \\right ) \\\\\n",
    "  L(w) &= \\sum \\log (1 + z) \\\\\n",
    "  \\frac{\\partial L}{\\partial w} &= (-y \\cdot (1 - \\frac1{1 + z}))^T \\times X\n",
    "\\end{align}\n",
    "\n",
    "依上式写函数如下："
   ]
  },
  {
   "cell_type": "code",
   "execution_count": 37,
   "metadata": {
    "collapsed": false
   },
   "outputs": [],
   "source": [
    "def logit_loss_and_grad(w, X, y):\n",
    "    w = w[:, None] if len(w.shape) == 1 else w\n",
    "    \n",
    "    z = np.exp(np.multiply(-y, np.dot(X, w)))\n",
    "    loss = np.sum(np.log1p(z))\n",
    "    grad = np.dot((np.multiply(-y, (1 - 1 / (1 + z)))).T, X)\n",
    "    \n",
    "    return loss, grad.flatten()"
   ]
  },
  {
   "cell_type": "code",
   "execution_count": 38,
   "metadata": {
    "collapsed": false
   },
   "outputs": [],
   "source": [
    "# 测试数据\n",
    "X = df[\"x\"].as_matrix()\n",
    "# 标签\n",
    "y = df[\"y\"].as_matrix()"
   ]
  },
  {
   "cell_type": "code",
   "execution_count": 39,
   "metadata": {
    "collapsed": false
   },
   "outputs": [],
   "source": [
    "# 初始权重值\n",
    "w0 = np.zeros(X.shape[1])"
   ]
  },
  {
   "cell_type": "code",
   "execution_count": 40,
   "metadata": {
    "collapsed": false
   },
   "outputs": [
    {
     "data": {
      "text/plain": [
       "(532.33703467003795,\n",
       " array([  -652.   , -18928.5  ,  -9490.5  ,  -2970.   , -13445.   ,\n",
       "         -4709.1  ,    -73.767,  -4967.   ]))"
      ]
     },
     "execution_count": 40,
     "metadata": {},
     "output_type": "execute_result"
    }
   ],
   "source": [
    "# 演示一轮损失函数和导数值\n",
    "logit_loss_and_grad(w0, X, y)"
   ]
  },
  {
   "cell_type": "code",
   "execution_count": 41,
   "metadata": {
    "collapsed": false
   },
   "outputs": [
    {
     "data": {
      "text/plain": [
       "array([ 0.02490757,  0.72310265,  0.36255412,  0.11345933,  0.51362311,\n",
       "        0.17989607,  0.00281803,  0.18974831])"
      ]
     },
     "execution_count": 41,
     "metadata": {},
     "output_type": "execute_result"
    }
   ],
   "source": [
    "# 调过数值寻优方法，求解得到w \n",
    "\n",
    "(w, loss, info) = sp.optimize.fmin_l_bfgs_b(logit_loss_and_grad, w0, args=(X, y))\n",
    "\n",
    "w"
   ]
  },
  {
   "cell_type": "code",
   "execution_count": 42,
   "metadata": {
    "collapsed": false
   },
   "outputs": [],
   "source": [
    "# 预测概率值\n",
    "y_pred_probability = 1 / (1 + np.exp(np.multiply(-y, np.dot(X, w[:, None]))))\n",
    "# 预测结果\n",
    "y_pred = (y_pred_probability >= 0.5).astype(int)"
   ]
  },
  {
   "cell_type": "code",
   "execution_count": 43,
   "metadata": {
    "collapsed": true
   },
   "outputs": [],
   "source": [
    "from sklearn.metrics import accuracy_score, auc, precision_score"
   ]
  },
  {
   "cell_type": "code",
   "execution_count": 44,
   "metadata": {
    "collapsed": false
   },
   "outputs": [
    {
     "data": {
      "text/plain": [
       "0.34895833333333331"
      ]
     },
     "execution_count": 44,
     "metadata": {},
     "output_type": "execute_result"
    }
   ],
   "source": [
    "# 预测准确度\n",
    "accuracy_score(y, y_pred)"
   ]
  },
  {
   "cell_type": "code",
   "execution_count": 45,
   "metadata": {
    "collapsed": false
   },
   "outputs": [
    {
     "data": {
      "text/plain": [
       "0.75"
      ]
     },
     "execution_count": 45,
     "metadata": {},
     "output_type": "execute_result"
    }
   ],
   "source": [
    "auc(y, y_pred_probability, reorder=True)"
   ]
  },
  {
   "cell_type": "markdown",
   "metadata": {},
   "source": [
    "好了，到此，就完成了二分类的演示。"
   ]
  },
  {
   "cell_type": "markdown",
   "metadata": {
    "collapsed": true
   },
   "source": [
    "### 2. 多分类\n",
    "\n",
    "#### 2.0 基本原理\n",
    "\n",
    "前面讲到二分类借助的是logistic function，当问题推广到多分类时，自然而然想到就可借助[softmax functioin](https://en.wikipedia.org/wiki/Softmax_function)。\n",
    "\n",
    "> In mathematics, the softmax function, or normalized exponential function, is a generalization of the logistic function）$\\sigma (\\mathbf {z} )_{j}={\\frac {e^{z_{j}}}{\\sum _{k=1}^{K}e^{z_{k}}}}$\n",
    "\n",
    "可以看到softmax本身是很简单的形式，它要求给出模型预测值$e^{z_k}$，归一化作为概率值输出。所以只要指定这个$e^{z_k}$是线性模型$\\beta_0 + \\beta x$，问题就解决了。具体见下面。\n",
    "\n",
    "对于K分类问题，假设有样本$x$，标签$y \\in \\{0, 1, 2, ..., K - 1\\}$。我们将$y = 0$选为标杆，得到K-1个线性模型：\n",
    "\n",
    "\\begin{align}\n",
    "  \\log \\frac{P(y = 1 | x)}{P(y = 0 | x)} &= \\beta_{10} + \\beta_1 x \\\\\n",
    "  \\cdots \\\\\n",
    "  \\log \\frac{P(y = K - 1 | x)}{P(y = 0 | x)} &= \\beta_{(K-1)0} + \\beta_{K-1} x \\\\\n",
    "\\end{align}\n",
    "\n",
    "特别地，用同样的式子列写$y = 0$，可得到\n",
    "\n",
    "\\begin{align}\n",
    "  \\log \\frac{P(y = 0 | x)}{P(y = 0 | x)} &= \\log(1) \\\\\n",
    "    & = 0 \\\\\n",
    "    & = 0 + [0, 0, \\dots, 0] x \\\\\n",
    "    & = \\beta_{00} + \\beta_0 x \\quad \\text{令$\\beta_0$是零阵} \\\\\n",
    "\\end{align}\n",
    "\n",
    "也就是说，令$\\beta_0$是零阵，则可以将上面式子统一写为\n",
    "\n",
    "\\begin{equation}\n",
    "  \\log \\frac{P(y = k | x)}{P(y = 0 | x)} = \\beta_{k0} + \\beta_k x\n",
    "\\end{equation}\n",
    "\n",
    "即有 $P(y = k | x) = e^{\\beta_{k0} + \\beta_k} x P(y = 0 | x)$，   \n",
    "又概率相加总为1，$\\sum_k P(y = k | x) = 1$，两式联立可得:\n",
    "\n",
    "\\begin{equation}\n",
    "  P(y = k | x) = \\frac{e^{\\beta_{k0} + \\beta_k x}}{\\sum_i e^{\\beta_{i0} + \\beta_i x}}\n",
    "\\end{equation}\n",
    "\n",
    "我们希望模型参数$\\beta$使对应的$P(y | x, \\beta)$时越大越好，所以，可定义损失函数为\n",
    "\n",
    "\\begin{align}\n",
    "  L(\\beta) &= -log P(y = k | x, \\beta) \\\\\n",
    "    &= \\log(\\sum_i e^{\\beta_{i0} + \\beta_i x)} - (\\beta_{k0} + \\beta_k x)\n",
    "\\end{align}\n",
    "\n",
    "再求得一阶导数\n",
    "\n",
    "\\begin{align}\n",
    "  \\frac{\\partial L}{\\partial \\beta} &= \\frac1{\\sum_i e^{\\beta_{i0} + \\beta_i x} x} e^{\\beta_{k0} + \\beta_k x} - x I(y = k) \\\\\n",
    "    &= x \\left ( \\frac{e^{\\beta_{k0} + \\beta_k x}}{\\sum_i e^{\\beta_{i0} + \\beta_i x}} - I(y = k) \\right ) \\\\\n",
    "\\end{align}\n",
    "\n",
    "有了损失函数和一阶导数，同样地，可以使用数值优化法来寻优。上面的式子容易溢出，相应的变形见[逻辑回归在spark中的实现简介](./spark_ml_lr.ipynb)第2.2节。\n"
   ]
  },
  {
   "cell_type": "markdown",
   "metadata": {},
   "source": [
    "#### 2.1 特例\n",
    "\n",
    "令$K=2$，代入多分类式子：\n",
    "\n",
    "\\begin{align}\n",
    "  P(y = 1 | x) &= \\frac{e^{\\beta_{k0} + \\beta_k x}}{\\sum_i e^{\\beta_{i0} + \\beta_i x}} |_{k = 1} \\\\\n",
    "    &= \\frac{e^{\\beta_{10} + \\beta_1 x}}{e^{\\beta_{00} + \\beta_0 x} + e^{\\beta_{10} + \\beta_1 x}}  \\\\\n",
    "    &= \\frac{e^{\\beta_{10} + \\beta_1 x}}{1 + e^{\\beta_{10} + \\beta_1 x}}  \\\\\n",
    "    &= \\frac1{1 + e^{- (\\beta_{10} + \\beta_1 x)}}  \\\\\n",
    "    &= \\frac1{1 + e^{- (w^T x + b)}}  \\\\\n",
    "\\end{align}\n",
    "\n",
    "可以看到，二分类逻辑回归只是多分类的特例。"
   ]
  },
  {
   "cell_type": "markdown",
   "metadata": {},
   "source": [
    "### 3.0 小结\n",
    "\n",
    "本文简要介绍了逻辑回归二分类和多分类的理论表达式，并对二分类做了代码演示。"
   ]
  },
  {
   "cell_type": "code",
   "execution_count": null,
   "metadata": {
    "collapsed": true
   },
   "outputs": [],
   "source": []
  }
 ],
 "metadata": {
  "kernelspec": {
   "display_name": "Python 3",
   "language": "python",
   "name": "python3"
  },
  "language_info": {
   "codemirror_mode": {
    "name": "ipython",
    "version": 3
   },
   "file_extension": ".py",
   "mimetype": "text/x-python",
   "name": "python",
   "nbconvert_exporter": "python",
   "pygments_lexer": "ipython3",
   "version": "3.5.2"
  }
 },
 "nbformat": 4,
 "nbformat_minor": 0
}

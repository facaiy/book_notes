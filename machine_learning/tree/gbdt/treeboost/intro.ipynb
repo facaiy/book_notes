{
 "cells": [
  {
   "cell_type": "code",
   "execution_count": 1,
   "metadata": {
    "collapsed": true
   },
   "outputs": [],
   "source": [
    "# %load /Users/facai/Study/book_notes/preconfig.py\n",
    "%matplotlib inline\n",
    "\n",
    "import matplotlib.pyplot as plt\n",
    "import seaborn as sns\n",
    "sns.set(color_codes=True)\n",
    "sns.set(font='SimHei')\n",
    "plt.rcParams['axes.grid'] = False\n",
    "\n",
    "from IPython.display import SVG\n",
    "\n",
    "def show_image(filename, figsize=None):\n",
    "    if figsize:\n",
    "        plt.figure(figsize=figsize)\n",
    "\n",
    "    plt.imshow(plt.imread(filename))"
   ]
  },
  {
   "cell_type": "markdown",
   "metadata": {},
   "source": [
    "TreeBoost原理和实现（sklearn）简介\n",
    "==========================="
   ]
  },
  {
   "cell_type": "markdown",
   "metadata": {},
   "source": [
    "### 前言\n",
    "\n",
    "TreeBoost是对GBDT做了更深一步的优化，主要贡献在将整颗树的全局权重值细化到每片叶子的局部权重值。它不像xgboost在树生长时就做出指导，而是在树生长后再修正叶子值。对于工程中的GBDT模块，spark目前是传统的Gradient Boosting，而sklearn采用了TreeBoost，所以本文以sklearn为例进行说明。\n",
    "\n",
    "本文假设读者已经了解GBDT的基本原理。"
   ]
  },
  {
   "cell_type": "markdown",
   "metadata": {},
   "source": [
    "sklearn代码版本：\n",
    "\n",
    "```sh\n",
    "~/W/s/sklearn ❯❯❯ git log -n 1\n",
    "commit d161bfaa1a42da75f4940464f7f1c524ef53484f\n",
    "Author: John B Nelson <jnelso11@gmu.edu>\n",
    "Date:   Thu May 26 18:36:37 2016 -0400\n",
    "\n",
    "    Add missing double quote (#6831)\n",
    "```"
   ]
  },
  {
   "cell_type": "markdown",
   "metadata": {},
   "source": [
    "GBDT模块位于`sklearn/ensemble/gradient_boosting.py`文件，类的关系比较简单。"
   ]
  },
  {
   "cell_type": "code",
   "execution_count": 3,
   "metadata": {
    "collapsed": false
   },
   "outputs": [
    {
     "data": {
      "image/svg+xml": [
       "<svg height=\"1504\" version=\"1.1\" width=\"2219.5498046875\" xmlns=\"http://www.w3.org/2000/svg\" xmlns:xlink=\"http://www.w3.org/1999/xlink\"><defs/><g><g transform=\"translate(-358,-262) scale(1,1)\"><rect fill=\"#C0C0C0\" height=\"87\" opacity=\"0.2\" stroke=\"none\" width=\"192.8662109375\" x=\"375\" y=\"695\"/></g><g transform=\"translate(-358,-262) scale(1,1)\"><rect fill=\"#ffffff\" height=\"87\" stroke=\"none\" width=\"192.8662109375\" x=\"368\" y=\"688\"/></g><g transform=\"translate(-358,-262) scale(1,1)\"><path d=\"M 368 688 L 560.8662109375 688 L 560.8662109375 775 L 368 775 L 368 688 Z Z\" fill=\"none\" stroke=\"#000000\" stroke-miterlimit=\"10\"/></g><g transform=\"translate(-358,-262) scale(1,1)\"><path d=\"M 368 713 L 560.8662109375 713\" fill=\"none\" stroke=\"#000000\" stroke-miterlimit=\"10\"/></g><g transform=\"translate(-358,-262) scale(1,1)\"><path d=\"M 368 723 L 560.8662109375 723\" fill=\"none\" stroke=\"#000000\" stroke-miterlimit=\"10\"/></g><g transform=\"translate(-358,-262) scale(1,1)\"><g><path fill=\"none\" stroke=\"none\"/><text fill=\"#000000\" font-family=\"Arial\" font-size=\"13px\" font-style=\"normal\" font-weight=\"bold\" stroke=\"none\" text-decoration=\"none\" x=\"384.93310546875\" y=\"707.5\">GradientBoostingRegressor</text></g></g><g transform=\"translate(-358,-262) scale(1,1)\"><g><path fill=\"none\" stroke=\"none\"/><text fill=\"#000000\" font-family=\"Arial\" font-size=\"13px\" font-style=\"normal\" font-weight=\"normal\" stroke=\"none\" text-decoration=\"none\" x=\"373\" y=\"740.5\">+apply()</text></g></g><g transform=\"translate(-358,-262) scale(1,1)\"><g><path fill=\"none\" stroke=\"none\"/><text fill=\"#000000\" font-family=\"Arial\" font-size=\"13px\" font-style=\"normal\" font-weight=\"normal\" stroke=\"none\" text-decoration=\"none\" x=\"373\" y=\"755.5\">+predict()</text></g></g><g transform=\"translate(-358,-262) scale(1,1)\"><g><path fill=\"none\" stroke=\"none\"/><text fill=\"#000000\" font-family=\"Arial\" font-size=\"13px\" font-style=\"normal\" font-weight=\"normal\" stroke=\"none\" text-decoration=\"none\" x=\"373\" y=\"770.5\">+staged_predict()</text></g></g><g transform=\"translate(-358,-262) scale(1,1)\"><rect fill=\"#C0C0C0\" height=\"102\" opacity=\"0.2\" stroke=\"none\" width=\"188.46728515625\" x=\"671\" y=\"687\"/></g><g transform=\"translate(-358,-262) scale(1,1)\"><rect fill=\"#ffffff\" height=\"102\" stroke=\"none\" width=\"188.46728515625\" x=\"664\" y=\"680\"/></g><g transform=\"translate(-358,-262) scale(1,1)\"><path d=\"M 664 680 L 852.46728515625 680 L 852.46728515625 782 L 664 782 L 664 680 Z Z\" fill=\"none\" stroke=\"#000000\" stroke-miterlimit=\"10\"/></g><g transform=\"translate(-358,-262) scale(1,1)\"><path d=\"M 664 705 L 852.46728515625 705\" fill=\"none\" stroke=\"#000000\" stroke-miterlimit=\"10\"/></g><g transform=\"translate(-358,-262) scale(1,1)\"><path d=\"M 664 715 L 852.46728515625 715\" fill=\"none\" stroke=\"#000000\" stroke-miterlimit=\"10\"/></g><g transform=\"translate(-358,-262) scale(1,1)\"><g><path fill=\"none\" stroke=\"none\"/><text fill=\"#000000\" font-family=\"Arial\" font-size=\"13px\" font-style=\"normal\" font-weight=\"bold\" stroke=\"none\" text-decoration=\"none\" x=\"681.233642578125\" y=\"699.5\">GradientBoostingClassifier</text></g></g><g transform=\"translate(-358,-262) scale(1,1)\"><g><path fill=\"none\" stroke=\"none\"/><text fill=\"#000000\" font-family=\"Arial\" font-size=\"13px\" font-style=\"normal\" font-weight=\"normal\" stroke=\"none\" text-decoration=\"none\" x=\"669\" y=\"732.5\">+predict()</text></g></g><g transform=\"translate(-358,-262) scale(1,1)\"><g><path fill=\"none\" stroke=\"none\"/><text fill=\"#000000\" font-family=\"Arial\" font-size=\"13px\" font-style=\"normal\" font-weight=\"normal\" stroke=\"none\" text-decoration=\"none\" x=\"669\" y=\"747.5\">+predict_proba()</text></g></g><g transform=\"translate(-358,-262) scale(1,1)\"><g><path fill=\"none\" stroke=\"none\"/><text fill=\"#000000\" font-family=\"Arial\" font-size=\"13px\" font-style=\"normal\" font-weight=\"normal\" stroke=\"none\" text-decoration=\"none\" x=\"669\" y=\"762.5\">+staged_predict()</text></g></g><g transform=\"translate(-358,-262) scale(1,1)\"><g><path fill=\"none\" stroke=\"none\"/><text fill=\"#000000\" font-family=\"Arial\" font-size=\"13px\" font-style=\"normal\" font-weight=\"normal\" stroke=\"none\" text-decoration=\"none\" x=\"669\" y=\"777.5\">+staged_predict_proba()</text></g></g><g transform=\"translate(-358,-262) scale(1,1)\"><rect fill=\"#C0C0C0\" height=\"117\" opacity=\"0.2\" stroke=\"none\" width=\"172\" x=\"575\" y=\"279\"/></g><g transform=\"translate(-358,-262) scale(1,1)\"><rect fill=\"#ffffff\" height=\"117\" stroke=\"none\" width=\"172\" x=\"568\" y=\"272\"/></g><g transform=\"translate(-358,-262) scale(1,1)\"><path d=\"M 568 272 L 740 272 L 740 389 L 568 389 L 568 272 Z Z\" fill=\"none\" stroke=\"#000000\" stroke-miterlimit=\"10\"/></g><g transform=\"translate(-358,-262) scale(1,1)\"><path d=\"M 568 297 L 740 297\" fill=\"none\" stroke=\"#000000\" stroke-miterlimit=\"10\"/></g><g transform=\"translate(-358,-262) scale(1,1)\"><path d=\"M 568 307 L 740 307\" fill=\"none\" stroke=\"#000000\" stroke-miterlimit=\"10\"/></g><g transform=\"translate(-358,-262) scale(1,1)\"><g><path fill=\"none\" stroke=\"none\"/><text fill=\"#000000\" font-family=\"Arial\" font-size=\"13px\" font-style=\"normal\" font-weight=\"bold\" stroke=\"none\" text-decoration=\"none\" x=\"589\" y=\"291.5\">BaseGradientBoosting</text></g></g><g transform=\"translate(-358,-262) scale(1,1)\"><g><path fill=\"none\" stroke=\"none\"/><text fill=\"#000000\" font-family=\"Arial\" font-size=\"13px\" font-style=\"normal\" font-weight=\"normal\" stroke=\"none\" text-decoration=\"none\" x=\"573\" y=\"324.5\">+apply()</text></g></g><g transform=\"translate(-358,-262) scale(1,1)\"><g><path fill=\"none\" stroke=\"none\"/><text fill=\"#000000\" font-family=\"Arial\" font-size=\"13px\" font-style=\"normal\" font-weight=\"normal\" stroke=\"none\" text-decoration=\"none\" x=\"573\" y=\"339.5\">+fit()</text></g></g><g transform=\"translate(-358,-262) scale(1,1)\"><g><path fill=\"none\" stroke=\"none\"/><text fill=\"#000000\" font-family=\"Arial\" font-size=\"13px\" font-style=\"normal\" font-weight=\"normal\" stroke=\"none\" text-decoration=\"none\" x=\"573\" y=\"354.5\">+_fit_stages()</text></g></g><g transform=\"translate(-358,-262) scale(1,1)\"><g><path fill=\"none\" stroke=\"none\"/><text fill=\"#000000\" font-family=\"Arial\" font-size=\"13px\" font-style=\"normal\" font-weight=\"normal\" stroke=\"none\" text-decoration=\"none\" x=\"573\" y=\"369.5\">+_fit_stage()</text></g></g><g transform=\"translate(-358,-262) scale(1,1)\"><g><path fill=\"none\" stroke=\"none\"/><text fill=\"#000000\" font-family=\"Arial\" font-size=\"13px\" font-style=\"normal\" font-weight=\"normal\" stroke=\"none\" text-decoration=\"none\" x=\"573\" y=\"384.5\">+feature_importances()</text></g></g><g transform=\"translate(-358,-262) scale(1,1)\"><path d=\"M 485 687 L 626 390\" fill=\"none\" stroke=\"#000000\" stroke-miterlimit=\"10\"/></g><g transform=\"translate(-358,-262) scale(1,1)\"><path d=\"M 624.888523048102 411.9719052197437 L 626 390 L 609.6775839337115 404.75055028664923\" fill=\"#FFFFFF\" stroke=\"none\"/></g><g transform=\"translate(-358,-262) scale(1,1)\"><path d=\"M 624.888523048102 411.9719052197437 L 626 390 L 609.6775839337115 404.75055028664923 L 624.888523048102 411.9719052197437\" fill=\"none\" stroke=\"#000000\" stroke-miterlimit=\"10\"/></g><g transform=\"translate(-358,-262) scale(1,1)\"><path d=\"M 745 679 L 670 390\" fill=\"none\" stroke=\"#000000\" stroke-miterlimit=\"10\"/></g><g transform=\"translate(-358,-262) scale(1,1)\"><path d=\"M 683.2547111046724 407.55883349006064 L 670 390 L 666.9565258742351 411.7884663353298\" fill=\"#FFFFFF\" stroke=\"none\"/></g><g transform=\"translate(-358,-262) scale(1,1)\"><path d=\"M 683.2547111046724 407.55883349006064 L 670 390 L 666.9565258742351 411.7884663353298 L 683.2547111046724 407.55883349006064\" fill=\"none\" stroke=\"#000000\" stroke-miterlimit=\"10\"/></g><g transform=\"translate(-358,-262) scale(1,1)\"><rect fill=\"#C0C0C0\" height=\"44\" opacity=\"0.2\" stroke=\"none\" width=\"104.18310546875\" x=\"1663\" y=\"1719\"/></g><g transform=\"translate(-358,-262) scale(1,1)\"><rect fill=\"#ffffff\" height=\"44\" stroke=\"none\" width=\"104.18310546875\" x=\"1656\" y=\"1712\"/></g><g transform=\"translate(-358,-262) scale(1,1)\"><path d=\"M 1656 1712 L 1760.18310546875 1712 L 1760.18310546875 1756 L 1656 1756 L 1656 1712 Z Z\" fill=\"none\" stroke=\"#000000\" stroke-miterlimit=\"10\"/></g><g transform=\"translate(-358,-262) scale(1,1)\"><path d=\"M 1656 1737 L 1760.18310546875 1737\" fill=\"none\" stroke=\"#000000\" stroke-miterlimit=\"10\"/></g><g transform=\"translate(-358,-262) scale(1,1)\"><path d=\"M 1656 1747 L 1760.18310546875 1747\" fill=\"none\" stroke=\"#000000\" stroke-miterlimit=\"10\"/></g><g transform=\"translate(-358,-262) scale(1,1)\"><g><path fill=\"none\" stroke=\"none\"/><text fill=\"#000000\" font-family=\"Arial\" font-size=\"13px\" font-style=\"normal\" font-weight=\"bold\" stroke=\"none\" text-decoration=\"none\" x=\"1665.091552734375\" y=\"1731.5\">BaseEstimator</text></g></g><g transform=\"translate(-358,-262) scale(1,1)\"><rect fill=\"#C0C0C0\" height=\"72\" opacity=\"0.2\" stroke=\"none\" width=\"130.1513671875\" x=\"1255\" y=\"1487\"/></g><g transform=\"translate(-358,-262) scale(1,1)\"><rect fill=\"#ffffff\" height=\"72\" stroke=\"none\" width=\"130.1513671875\" x=\"1248\" y=\"1480\"/></g><g transform=\"translate(-358,-262) scale(1,1)\"><path d=\"M 1248 1480 L 1378.1513671875 1480 L 1378.1513671875 1552 L 1248 1552 L 1248 1480 Z Z\" fill=\"none\" stroke=\"#000000\" stroke-miterlimit=\"10\"/></g><g transform=\"translate(-358,-262) scale(1,1)\"><path d=\"M 1248 1505 L 1378.1513671875 1505\" fill=\"none\" stroke=\"#000000\" stroke-miterlimit=\"10\"/></g><g transform=\"translate(-358,-262) scale(1,1)\"><path d=\"M 1248 1515 L 1378.1513671875 1515\" fill=\"none\" stroke=\"#000000\" stroke-miterlimit=\"10\"/></g><g transform=\"translate(-358,-262) scale(1,1)\"><g><path fill=\"none\" stroke=\"none\"/><text fill=\"#000000\" font-family=\"Arial\" font-size=\"13px\" font-style=\"normal\" font-weight=\"bold\" stroke=\"none\" text-decoration=\"none\" x=\"1261.07568359375\" y=\"1499.5\">QuantileEstimator</text></g></g><g transform=\"translate(-358,-262) scale(1,1)\"><g><path fill=\"none\" stroke=\"none\"/><text fill=\"#000000\" font-family=\"Arial\" font-size=\"13px\" font-style=\"normal\" font-weight=\"normal\" stroke=\"none\" text-decoration=\"none\" x=\"1253\" y=\"1532.5\">+fit()</text></g></g><g transform=\"translate(-358,-262) scale(1,1)\"><g><path fill=\"none\" stroke=\"none\"/><text fill=\"#000000\" font-family=\"Arial\" font-size=\"13px\" font-style=\"normal\" font-weight=\"normal\" stroke=\"none\" text-decoration=\"none\" x=\"1253\" y=\"1547.5\">+predict()</text></g></g><g transform=\"translate(-358,-262) scale(1,1)\"><rect fill=\"#C0C0C0\" height=\"72\" opacity=\"0.2\" stroke=\"none\" width=\"108.98193359375\" x=\"1463\" y=\"1487\"/></g><g transform=\"translate(-358,-262) scale(1,1)\"><rect fill=\"#ffffff\" height=\"72\" stroke=\"none\" width=\"108.98193359375\" x=\"1456\" y=\"1480\"/></g><g transform=\"translate(-358,-262) scale(1,1)\"><path d=\"M 1456 1480 L 1564.98193359375 1480 L 1564.98193359375 1552 L 1456 1552 L 1456 1480 Z Z\" fill=\"none\" stroke=\"#000000\" stroke-miterlimit=\"10\"/></g><g transform=\"translate(-358,-262) scale(1,1)\"><path d=\"M 1456 1505 L 1564.98193359375 1505\" fill=\"none\" stroke=\"#000000\" stroke-miterlimit=\"10\"/></g><g transform=\"translate(-358,-262) scale(1,1)\"><path d=\"M 1456 1515 L 1564.98193359375 1515\" fill=\"none\" stroke=\"#000000\" stroke-miterlimit=\"10\"/></g><g transform=\"translate(-358,-262) scale(1,1)\"><g><path fill=\"none\" stroke=\"none\"/><text fill=\"#000000\" font-family=\"Arial\" font-size=\"13px\" font-style=\"normal\" font-weight=\"bold\" stroke=\"none\" text-decoration=\"none\" x=\"1466.490966796875\" y=\"1499.5\">MeanEstimator</text></g></g><g transform=\"translate(-358,-262) scale(1,1)\"><g><path fill=\"none\" stroke=\"none\"/><text fill=\"#000000\" font-family=\"Arial\" font-size=\"13px\" font-style=\"normal\" font-weight=\"normal\" stroke=\"none\" text-decoration=\"none\" x=\"1461\" y=\"1532.5\">+fit()</text></g></g><g transform=\"translate(-358,-262) scale(1,1)\"><g><path fill=\"none\" stroke=\"none\"/><text fill=\"#000000\" font-family=\"Arial\" font-size=\"13px\" font-style=\"normal\" font-weight=\"normal\" stroke=\"none\" text-decoration=\"none\" x=\"1461\" y=\"1547.5\">+predict()</text></g></g><g transform=\"translate(-358,-262) scale(1,1)\"><rect fill=\"#C0C0C0\" height=\"72\" opacity=\"0.2\" stroke=\"none\" width=\"133.10302734375\" x=\"2183\" y=\"1495\"/></g><g transform=\"translate(-358,-262) scale(1,1)\"><rect fill=\"#ffffff\" height=\"72\" stroke=\"none\" width=\"133.10302734375\" x=\"2176\" y=\"1488\"/></g><g transform=\"translate(-358,-262) scale(1,1)\"><path d=\"M 2176 1488 L 2309.10302734375 1488 L 2309.10302734375 1560 L 2176 1560 L 2176 1488 Z Z\" fill=\"none\" stroke=\"#000000\" stroke-miterlimit=\"10\"/></g><g transform=\"translate(-358,-262) scale(1,1)\"><path d=\"M 2176 1513 L 2309.10302734375 1513\" fill=\"none\" stroke=\"#000000\" stroke-miterlimit=\"10\"/></g><g transform=\"translate(-358,-262) scale(1,1)\"><path d=\"M 2176 1523 L 2309.10302734375 1523\" fill=\"none\" stroke=\"#000000\" stroke-miterlimit=\"10\"/></g><g transform=\"translate(-358,-262) scale(1,1)\"><g><path fill=\"none\" stroke=\"none\"/><text fill=\"#000000\" font-family=\"Arial\" font-size=\"13px\" font-style=\"normal\" font-weight=\"bold\" stroke=\"none\" text-decoration=\"none\" x=\"2188.551513671875\" y=\"1507.5\">LogOddsEstimator</text></g></g><g transform=\"translate(-358,-262) scale(1,1)\"><g><path fill=\"none\" stroke=\"none\"/><text fill=\"#000000\" font-family=\"Arial\" font-size=\"13px\" font-style=\"normal\" font-weight=\"normal\" stroke=\"none\" text-decoration=\"none\" x=\"2181\" y=\"1540.5\">+fit()</text></g></g><g transform=\"translate(-358,-262) scale(1,1)\"><g><path fill=\"none\" stroke=\"none\"/><text fill=\"#000000\" font-family=\"Arial\" font-size=\"13px\" font-style=\"normal\" font-weight=\"normal\" stroke=\"none\" text-decoration=\"none\" x=\"2181\" y=\"1555.5\">+predict()</text></g></g><g transform=\"translate(-358,-262) scale(1,1)\"><rect fill=\"#C0C0C0\" height=\"44\" opacity=\"0.2\" stroke=\"none\" width=\"175.5498046875\" x=\"2399\" y=\"1503\"/></g><g transform=\"translate(-358,-262) scale(1,1)\"><rect fill=\"#ffffff\" height=\"44\" stroke=\"none\" width=\"175.5498046875\" x=\"2392\" y=\"1496\"/></g><g transform=\"translate(-358,-262) scale(1,1)\"><path d=\"M 2392 1496 L 2567.5498046875 1496 L 2567.5498046875 1540 L 2392 1540 L 2392 1496 Z Z\" fill=\"none\" stroke=\"#000000\" stroke-miterlimit=\"10\"/></g><g transform=\"translate(-358,-262) scale(1,1)\"><path d=\"M 2392 1521 L 2567.5498046875 1521\" fill=\"none\" stroke=\"#000000\" stroke-miterlimit=\"10\"/></g><g transform=\"translate(-358,-262) scale(1,1)\"><path d=\"M 2392 1531 L 2567.5498046875 1531\" fill=\"none\" stroke=\"#000000\" stroke-miterlimit=\"10\"/></g><g transform=\"translate(-358,-262) scale(1,1)\"><g><path fill=\"none\" stroke=\"none\"/><text fill=\"#000000\" font-family=\"Arial\" font-size=\"13px\" font-style=\"normal\" font-weight=\"bold\" stroke=\"none\" text-decoration=\"none\" x=\"2405.77490234375\" y=\"1515.5\">ScaledLogOddsEstimator</text></g></g><g transform=\"translate(-358,-262) scale(1,1)\"><rect fill=\"#C0C0C0\" height=\"72\" opacity=\"0.2\" stroke=\"none\" width=\"178.2919921875\" x=\"1895\" y=\"1495\"/></g><g transform=\"translate(-358,-262) scale(1,1)\"><rect fill=\"#ffffff\" height=\"72\" stroke=\"none\" width=\"178.2919921875\" x=\"1888\" y=\"1488\"/></g><g transform=\"translate(-358,-262) scale(1,1)\"><path d=\"M 1888 1488 L 2066.2919921875 1488 L 2066.2919921875 1560 L 1888 1560 L 1888 1488 Z Z\" fill=\"none\" stroke=\"#000000\" stroke-miterlimit=\"10\"/></g><g transform=\"translate(-358,-262) scale(1,1)\"><path d=\"M 1888 1513 L 2066.2919921875 1513\" fill=\"none\" stroke=\"#000000\" stroke-miterlimit=\"10\"/></g><g transform=\"translate(-358,-262) scale(1,1)\"><path d=\"M 1888 1523 L 2066.2919921875 1523\" fill=\"none\" stroke=\"#000000\" stroke-miterlimit=\"10\"/></g><g transform=\"translate(-358,-262) scale(1,1)\"><g><path fill=\"none\" stroke=\"none\"/><text fill=\"#000000\" font-family=\"Arial\" font-size=\"13px\" font-style=\"normal\" font-weight=\"bold\" stroke=\"none\" text-decoration=\"none\" x=\"1905.14599609375\" y=\"1507.5\">PriorProbabilityEstimator</text></g></g><g transform=\"translate(-358,-262) scale(1,1)\"><g><path fill=\"none\" stroke=\"none\"/><text fill=\"#000000\" font-family=\"Arial\" font-size=\"13px\" font-style=\"normal\" font-weight=\"normal\" stroke=\"none\" text-decoration=\"none\" x=\"1893\" y=\"1540.5\">+fit()</text></g></g><g transform=\"translate(-358,-262) scale(1,1)\"><g><path fill=\"none\" stroke=\"none\"/><text fill=\"#000000\" font-family=\"Arial\" font-size=\"13px\" font-style=\"normal\" font-weight=\"normal\" stroke=\"none\" text-decoration=\"none\" x=\"1893\" y=\"1555.5\">+predict()</text></g></g><g transform=\"translate(-358,-262) scale(1,1)\"><rect fill=\"#C0C0C0\" height=\"72\" opacity=\"0.2\" stroke=\"none\" width=\"103.5927734375\" x=\"1679\" y=\"1487\"/></g><g transform=\"translate(-358,-262) scale(1,1)\"><rect fill=\"#ffffff\" height=\"72\" stroke=\"none\" width=\"103.5927734375\" x=\"1672\" y=\"1480\"/></g><g transform=\"translate(-358,-262) scale(1,1)\"><path d=\"M 1672 1480 L 1775.5927734375 1480 L 1775.5927734375 1552 L 1672 1552 L 1672 1480 Z Z\" fill=\"none\" stroke=\"#000000\" stroke-miterlimit=\"10\"/></g><g transform=\"translate(-358,-262) scale(1,1)\"><path d=\"M 1672 1505 L 1775.5927734375 1505\" fill=\"none\" stroke=\"#000000\" stroke-miterlimit=\"10\"/></g><g transform=\"translate(-358,-262) scale(1,1)\"><path d=\"M 1672 1515 L 1775.5927734375 1515\" fill=\"none\" stroke=\"#000000\" stroke-miterlimit=\"10\"/></g><g transform=\"translate(-358,-262) scale(1,1)\"><g><path fill=\"none\" stroke=\"none\"/><text fill=\"#000000\" font-family=\"Arial\" font-size=\"13px\" font-style=\"normal\" font-weight=\"bold\" stroke=\"none\" text-decoration=\"none\" x=\"1682.79638671875\" y=\"1499.5\">ZeroEstimator</text></g></g><g transform=\"translate(-358,-262) scale(1,1)\"><g><path fill=\"none\" stroke=\"none\"/><text fill=\"#000000\" font-family=\"Arial\" font-size=\"13px\" font-style=\"normal\" font-weight=\"normal\" stroke=\"none\" text-decoration=\"none\" x=\"1677\" y=\"1532.5\">+fit()</text></g></g><g transform=\"translate(-358,-262) scale(1,1)\"><g><path fill=\"none\" stroke=\"none\"/><text fill=\"#000000\" font-family=\"Arial\" font-size=\"13px\" font-style=\"normal\" font-weight=\"normal\" stroke=\"none\" text-decoration=\"none\" x=\"1677\" y=\"1547.5\">+predict()</text></g></g><g transform=\"translate(-358,-262) scale(1,1)\"><path d=\"M 1544 1553 L 1687 1711\" fill=\"none\" stroke=\"#000000\" stroke-miterlimit=\"10\"/></g><g transform=\"translate(-358,-262) scale(1,1)\"><path d=\"M 1667.1188747968988 1701.5797632376564 L 1687 1711 L 1679.6030348463044 1690.2808082562324\" fill=\"#FFFFFF\" stroke=\"none\"/></g><g transform=\"translate(-358,-262) scale(1,1)\"><path d=\"M 1667.1188747968988 1701.5797632376564 L 1687 1711 L 1679.6030348463044 1690.2808082562324 L 1667.1188747968988 1701.5797632376564\" fill=\"none\" stroke=\"#000000\" stroke-miterlimit=\"10\"/></g><g transform=\"translate(-358,-262) scale(1,1)\"><path d=\"M 2175 1550 L 1761 1713\" fill=\"none\" stroke=\"#000000\" stroke-miterlimit=\"10\"/></g><g transform=\"translate(-358,-262) scale(1,1)\"><path d=\"M 1776.8279980461557 1697.7201283431145 L 1761 1713 L 1782.996585615288 1713.3875838868003\" fill=\"#FFFFFF\" stroke=\"none\"/></g><g transform=\"translate(-358,-262) scale(1,1)\"><path d=\"M 1776.8279980461557 1697.7201283431145 L 1761 1713 L 1782.996585615288 1713.3875838868003 L 1776.8279980461557 1697.7201283431145\" fill=\"none\" stroke=\"#000000\" stroke-miterlimit=\"10\"/></g><g transform=\"translate(-358,-262) scale(1,1)\"><path d=\"M 1379 1553 L 1666 1711\" fill=\"none\" stroke=\"#000000\" stroke-miterlimit=\"10\"/></g><g transform=\"translate(-358,-262) scale(1,1)\"><path d=\"M 1644.1342860769003 1708.5729535164812 L 1666 1711 L 1652.254786436242 1693.8224243827399\" fill=\"#FFFFFF\" stroke=\"none\"/></g><g transform=\"translate(-358,-262) scale(1,1)\"><path d=\"M 1644.1342860769003 1708.5729535164812 L 1666 1711 L 1652.254786436242 1693.8224243827399 L 1644.1342860769003 1708.5729535164812\" fill=\"none\" stroke=\"#000000\" stroke-miterlimit=\"10\"/></g><g transform=\"translate(-358,-262) scale(1,1)\"><path d=\"M 1930 1561 L 1737 1711\" fill=\"none\" stroke=\"#000000\" stroke-miterlimit=\"10\"/></g><g transform=\"translate(-358,-262) scale(1,1)\"><path d=\"M 1747.881933248318 1691.8797612781862 L 1737 1711 L 1758.2147392504053 1705.174638334205\" fill=\"#FFFFFF\" stroke=\"none\"/></g><g transform=\"translate(-358,-262) scale(1,1)\"><path d=\"M 1747.881933248318 1691.8797612781862 L 1737 1711 L 1758.2147392504053 1705.174638334205 L 1747.881933248318 1691.8797612781862\" fill=\"none\" stroke=\"#000000\" stroke-miterlimit=\"10\"/></g><g transform=\"translate(-358,-262) scale(1,1)\"><path d=\"M 1720 1553 L 1710 1711\" fill=\"none\" stroke=\"#000000\" stroke-miterlimit=\"10\"/></g><g transform=\"translate(-358,-262) scale(1,1)\"><path d=\"M 1702.8816220639512 1690.1834514013592 L 1710 1711 L 1719.6860693653696 1691.247024015373\" fill=\"#FFFFFF\" stroke=\"none\"/></g><g transform=\"translate(-358,-262) scale(1,1)\"><path d=\"M 1702.8816220639512 1690.1834514013592 L 1710 1711 L 1719.6860693653696 1691.247024015373 L 1702.8816220639512 1690.1834514013592\" fill=\"none\" stroke=\"#000000\" stroke-miterlimit=\"10\"/></g><g transform=\"translate(-358,-262) scale(1,1)\"><path d=\"M 2391 1520 L 2310 1522\" fill=\"none\" stroke=\"#000000\" stroke-miterlimit=\"10\"/></g><g transform=\"translate(-358,-262) scale(1,1)\"><path d=\"M 2330.1113426569405 1513.0818221292052 L 2310 1522 L 2330.5269708197557 1529.914762723222\" fill=\"#FFFFFF\" stroke=\"none\"/></g><g transform=\"translate(-358,-262) scale(1,1)\"><path d=\"M 2330.1113426569405 1513.0818221292052 L 2310 1522 L 2330.5269708197557 1529.914762723222 L 2330.1113426569405 1513.0818221292052\" fill=\"none\" stroke=\"#000000\" stroke-miterlimit=\"10\"/></g><g transform=\"translate(-358,-262) scale(1,1)\"><rect fill=\"#C0C0C0\" height=\"102\" opacity=\"0.2\" stroke=\"none\" width=\"180.93896484375\" x=\"1871\" y=\"639\"/></g><g transform=\"translate(-358,-262) scale(1,1)\"><rect fill=\"#ffffff\" height=\"102\" stroke=\"none\" width=\"180.93896484375\" x=\"1864\" y=\"632\"/></g><g transform=\"translate(-358,-262) scale(1,1)\"><path d=\"M 1864 632 L 2044.93896484375 632 L 2044.93896484375 734 L 1864 734 L 1864 632 Z Z\" fill=\"none\" stroke=\"#000000\" stroke-miterlimit=\"10\"/></g><g transform=\"translate(-358,-262) scale(1,1)\"><path d=\"M 1864 657 L 2044.93896484375 657\" fill=\"none\" stroke=\"#000000\" stroke-miterlimit=\"10\"/></g><g transform=\"translate(-358,-262) scale(1,1)\"><path d=\"M 1864 667 L 2044.93896484375 667\" fill=\"none\" stroke=\"#000000\" stroke-miterlimit=\"10\"/></g><g transform=\"translate(-358,-262) scale(1,1)\"><g><path fill=\"none\" stroke=\"none\"/><text fill=\"#000000\" font-family=\"Arial\" font-size=\"13px\" font-style=\"normal\" font-weight=\"bold\" stroke=\"none\" text-decoration=\"none\" x=\"1915.469482421875\" y=\"651.5\">LossFunction</text></g></g><g transform=\"translate(-358,-262) scale(1,1)\"><g><path fill=\"none\" stroke=\"none\"/><text fill=\"#000000\" font-family=\"Arial\" font-size=\"13px\" font-style=\"normal\" font-weight=\"normal\" stroke=\"none\" text-decoration=\"none\" x=\"1869\" y=\"684.5\">+__call__()</text></g></g><g transform=\"translate(-358,-262) scale(1,1)\"><g><path fill=\"none\" stroke=\"none\"/><text fill=\"#000000\" font-family=\"Arial\" font-size=\"13px\" font-style=\"normal\" font-weight=\"normal\" stroke=\"none\" text-decoration=\"none\" x=\"1869\" y=\"699.5\">+negative_gradient()</text></g></g><g transform=\"translate(-358,-262) scale(1,1)\"><g><path fill=\"none\" stroke=\"none\"/><text fill=\"#000000\" font-family=\"Arial\" font-size=\"13px\" font-style=\"normal\" font-weight=\"normal\" stroke=\"none\" text-decoration=\"none\" x=\"1869\" y=\"714.5\">+update_terminal_regions()</text></g></g><g transform=\"translate(-358,-262) scale(1,1)\"><g><path fill=\"none\" stroke=\"none\"/><text fill=\"#000000\" font-family=\"Arial\" font-size=\"13px\" font-style=\"normal\" font-weight=\"normal\" stroke=\"none\" text-decoration=\"none\" x=\"1869\" y=\"729.5\">+_update_terminal_region()</text></g></g><g transform=\"translate(-358,-262) scale(1,1)\"><rect fill=\"#C0C0C0\" height=\"44\" opacity=\"0.2\" stroke=\"none\" width=\"171.8173828125\" x=\"1319\" y=\"847\"/></g><g transform=\"translate(-358,-262) scale(1,1)\"><rect fill=\"#ffffff\" height=\"44\" stroke=\"none\" width=\"171.8173828125\" x=\"1312\" y=\"840\"/></g><g transform=\"translate(-358,-262) scale(1,1)\"><path d=\"M 1312 840 L 1483.8173828125 840 L 1483.8173828125 884 L 1312 884 L 1312 840 Z Z\" fill=\"none\" stroke=\"#000000\" stroke-miterlimit=\"10\"/></g><g transform=\"translate(-358,-262) scale(1,1)\"><path d=\"M 1312 865 L 1483.8173828125 865\" fill=\"none\" stroke=\"#000000\" stroke-miterlimit=\"10\"/></g><g transform=\"translate(-358,-262) scale(1,1)\"><path d=\"M 1312 875 L 1483.8173828125 875\" fill=\"none\" stroke=\"#000000\" stroke-miterlimit=\"10\"/></g><g transform=\"translate(-358,-262) scale(1,1)\"><g><path fill=\"none\" stroke=\"none\"/><text fill=\"#000000\" font-family=\"Arial\" font-size=\"13px\" font-style=\"normal\" font-weight=\"bold\" stroke=\"none\" text-decoration=\"none\" x=\"1326.40869140625\" y=\"859.5\">RegressionLossFunction</text></g></g><g transform=\"translate(-358,-262) scale(1,1)\"><rect fill=\"#C0C0C0\" height=\"44\" opacity=\"0.2\" stroke=\"none\" width=\"131.37646484375\" x=\"1663\" y=\"1023\"/></g><g transform=\"translate(-358,-262) scale(1,1)\"><rect fill=\"#ffffff\" height=\"44\" stroke=\"none\" width=\"131.37646484375\" x=\"1656\" y=\"1016\"/></g><g transform=\"translate(-358,-262) scale(1,1)\"><path d=\"M 1656 1016 L 1787.37646484375 1016 L 1787.37646484375 1060 L 1656 1060 L 1656 1016 Z Z\" fill=\"none\" stroke=\"#000000\" stroke-miterlimit=\"10\"/></g><g transform=\"translate(-358,-262) scale(1,1)\"><path d=\"M 1656 1041 L 1787.37646484375 1041\" fill=\"none\" stroke=\"#000000\" stroke-miterlimit=\"10\"/></g><g transform=\"translate(-358,-262) scale(1,1)\"><path d=\"M 1656 1051 L 1787.37646484375 1051\" fill=\"none\" stroke=\"#000000\" stroke-miterlimit=\"10\"/></g><g transform=\"translate(-358,-262) scale(1,1)\"><g><path fill=\"none\" stroke=\"none\"/><text fill=\"#000000\" font-family=\"Arial\" font-size=\"13px\" font-style=\"normal\" font-weight=\"bold\" stroke=\"none\" text-decoration=\"none\" x=\"1667.688232421875\" y=\"1035.5\">LeastSquaresError</text></g></g><g transform=\"translate(-358,-262) scale(1,1)\"><path d=\"M 1469 839 L 1863 712\" fill=\"none\" stroke=\"#000000\" stroke-miterlimit=\"10\"/></g><g transform=\"translate(-358,-262) scale(1,1)\"><path d=\"M 1846.2376862784859 726.2486784896543 L 1863 712 L 1841.0719171161595 710.2225914821224\" fill=\"#FFFFFF\" stroke=\"none\"/></g><g transform=\"translate(-358,-262) scale(1,1)\"><path d=\"M 1846.2376862784859 726.2486784896543 L 1863 712 L 1841.0719171161595 710.2225914821224 L 1846.2376862784859 726.2486784896543\" fill=\"none\" stroke=\"#000000\" stroke-miterlimit=\"10\"/></g><g transform=\"translate(-358,-262) scale(1,1)\"><path d=\"M 1679 1015 L 1439 885\" fill=\"none\" stroke=\"#000000\" stroke-miterlimit=\"10\"/></g><g transform=\"translate(-358,-262) scale(1,1)\"><path d=\"M 1460.8817614630154 887.2778312658528 L 1439 885 L 1452.8620719803214 902.0834118492879\" fill=\"#FFFFFF\" stroke=\"none\"/></g><g transform=\"translate(-358,-262) scale(1,1)\"><path d=\"M 1460.8817614630154 887.2778312658528 L 1439 885 L 1452.8620719803214 902.0834118492879 L 1460.8817614630154 887.2778312658528\" fill=\"none\" stroke=\"#000000\" stroke-miterlimit=\"10\"/></g><g transform=\"translate(-358,-262) scale(1,1)\"><rect fill=\"#C0C0C0\" height=\"44\" opacity=\"0.2\" stroke=\"none\" width=\"137.7685546875\" x=\"959\" y=\"1023\"/></g><g transform=\"translate(-358,-262) scale(1,1)\"><rect fill=\"#ffffff\" height=\"44\" stroke=\"none\" width=\"137.7685546875\" x=\"952\" y=\"1016\"/></g><g transform=\"translate(-358,-262) scale(1,1)\"><path d=\"M 952 1016 L 1089.7685546875 1016 L 1089.7685546875 1060 L 952 1060 L 952 1016 Z Z\" fill=\"none\" stroke=\"#000000\" stroke-miterlimit=\"10\"/></g><g transform=\"translate(-358,-262) scale(1,1)\"><path d=\"M 952 1041 L 1089.7685546875 1041\" fill=\"none\" stroke=\"#000000\" stroke-miterlimit=\"10\"/></g><g transform=\"translate(-358,-262) scale(1,1)\"><path d=\"M 952 1051 L 1089.7685546875 1051\" fill=\"none\" stroke=\"#000000\" stroke-miterlimit=\"10\"/></g><g transform=\"translate(-358,-262) scale(1,1)\"><g><path fill=\"none\" stroke=\"none\"/><text fill=\"#000000\" font-family=\"Arial\" font-size=\"13px\" font-style=\"normal\" font-weight=\"bold\" stroke=\"none\" text-decoration=\"none\" x=\"965.38427734375\" y=\"1035.5\">LeastAbsoluteError</text></g></g><g transform=\"translate(-358,-262) scale(1,1)\"><rect fill=\"#C0C0C0\" height=\"44\" opacity=\"0.2\" stroke=\"none\" width=\"138.18115234375\" x=\"1167\" y=\"1023\"/></g><g transform=\"translate(-358,-262) scale(1,1)\"><rect fill=\"#ffffff\" height=\"44\" stroke=\"none\" width=\"138.18115234375\" x=\"1160\" y=\"1016\"/></g><g transform=\"translate(-358,-262) scale(1,1)\"><path d=\"M 1160 1016 L 1298.18115234375 1016 L 1298.18115234375 1060 L 1160 1060 L 1160 1016 Z Z\" fill=\"none\" stroke=\"#000000\" stroke-miterlimit=\"10\"/></g><g transform=\"translate(-358,-262) scale(1,1)\"><path d=\"M 1160 1041 L 1298.18115234375 1041\" fill=\"none\" stroke=\"#000000\" stroke-miterlimit=\"10\"/></g><g transform=\"translate(-358,-262) scale(1,1)\"><path d=\"M 1160 1051 L 1298.18115234375 1051\" fill=\"none\" stroke=\"#000000\" stroke-miterlimit=\"10\"/></g><g transform=\"translate(-358,-262) scale(1,1)\"><g><path fill=\"none\" stroke=\"none\"/><text fill=\"#000000\" font-family=\"Arial\" font-size=\"13px\" font-style=\"normal\" font-weight=\"bold\" stroke=\"none\" text-decoration=\"none\" x=\"1173.090576171875\" y=\"1035.5\">HuberLossFunction</text></g></g><g transform=\"translate(-358,-262) scale(1,1)\"><rect fill=\"#C0C0C0\" height=\"44\" opacity=\"0.2\" stroke=\"none\" width=\"154.12646484375\" x=\"1399\" y=\"1023\"/></g><g transform=\"translate(-358,-262) scale(1,1)\"><rect fill=\"#ffffff\" height=\"44\" stroke=\"none\" width=\"154.12646484375\" x=\"1392\" y=\"1016\"/></g><g transform=\"translate(-358,-262) scale(1,1)\"><path d=\"M 1392 1016 L 1546.12646484375 1016 L 1546.12646484375 1060 L 1392 1060 L 1392 1016 Z Z\" fill=\"none\" stroke=\"#000000\" stroke-miterlimit=\"10\"/></g><g transform=\"translate(-358,-262) scale(1,1)\"><path d=\"M 1392 1041 L 1546.12646484375 1041\" fill=\"none\" stroke=\"#000000\" stroke-miterlimit=\"10\"/></g><g transform=\"translate(-358,-262) scale(1,1)\"><path d=\"M 1392 1051 L 1546.12646484375 1051\" fill=\"none\" stroke=\"#000000\" stroke-miterlimit=\"10\"/></g><g transform=\"translate(-358,-262) scale(1,1)\"><g><path fill=\"none\" stroke=\"none\"/><text fill=\"#000000\" font-family=\"Arial\" font-size=\"13px\" font-style=\"normal\" font-weight=\"bold\" stroke=\"none\" text-decoration=\"none\" x=\"1406.063232421875\" y=\"1035.5\">QuantileLossFunction</text></g></g><g transform=\"translate(-358,-262) scale(1,1)\"><path d=\"M 1069 1015 L 1348 885\" fill=\"none\" stroke=\"#000000\" stroke-miterlimit=\"10\"/></g><g transform=\"translate(-358,-262) scale(1,1)\"><path d=\"M 1333.1322479216092 901.2157315017085 L 1348 885 L 1326.0206579776109 885.9531653911279\" fill=\"#FFFFFF\" stroke=\"none\"/></g><g transform=\"translate(-358,-262) scale(1,1)\"><path d=\"M 1333.1322479216092 901.2157315017085 L 1348 885 L 1326.0206579776109 885.9531653911279 L 1333.1322479216092 901.2157315017085\" fill=\"none\" stroke=\"#000000\" stroke-miterlimit=\"10\"/></g><g transform=\"translate(-358,-262) scale(1,1)\"><path d=\"M 1251 1015 L 1375 885\" fill=\"none\" stroke=\"#000000\" stroke-miterlimit=\"10\"/></g><g transform=\"translate(-358,-262) scale(1,1)\"><path d=\"M 1367.0633048927427 905.5185006950908 L 1375 885 L 1354.8791380881687 893.8966800507278\" fill=\"#FFFFFF\" stroke=\"none\"/></g><g transform=\"translate(-358,-262) scale(1,1)\"><path d=\"M 1367.0633048927427 905.5185006950908 L 1375 885 L 1354.8791380881687 893.8966800507278 L 1367.0633048927427 905.5185006950908\" fill=\"none\" stroke=\"#000000\" stroke-miterlimit=\"10\"/></g><g transform=\"translate(-358,-262) scale(1,1)\"><path d=\"M 1460 1015 L 1406 885\" fill=\"none\" stroke=\"#000000\" stroke-miterlimit=\"10\"/></g><g transform=\"translate(-358,-262) scale(1,1)\"><path d=\"M 1421.571884424585 900.5407984179503 L 1406 885 L 1406.0219811260913 906.9999890188631\" fill=\"#FFFFFF\" stroke=\"none\"/></g><g transform=\"translate(-358,-262) scale(1,1)\"><path d=\"M 1421.571884424585 900.5407984179503 L 1406 885 L 1406.0219811260913 906.9999890188631 L 1421.571884424585 900.5407984179503\" fill=\"none\" stroke=\"#000000\" stroke-miterlimit=\"10\"/></g><g transform=\"translate(-358,-262) scale(1,1)\"><rect fill=\"#C0C0C0\" height=\"72\" opacity=\"0.2\" stroke=\"none\" width=\"187.93408203125\" x=\"2159\" y=\"839\"/></g><g transform=\"translate(-358,-262) scale(1,1)\"><rect fill=\"#ffffff\" height=\"72\" stroke=\"none\" width=\"187.93408203125\" x=\"2152\" y=\"832\"/></g><g transform=\"translate(-358,-262) scale(1,1)\"><path d=\"M 2152 832 L 2339.93408203125 832 L 2339.93408203125 904 L 2152 904 L 2152 832 Z Z\" fill=\"none\" stroke=\"#000000\" stroke-miterlimit=\"10\"/></g><g transform=\"translate(-358,-262) scale(1,1)\"><path d=\"M 2152 857 L 2339.93408203125 857\" fill=\"none\" stroke=\"#000000\" stroke-miterlimit=\"10\"/></g><g transform=\"translate(-358,-262) scale(1,1)\"><path d=\"M 2152 867 L 2339.93408203125 867\" fill=\"none\" stroke=\"#000000\" stroke-miterlimit=\"10\"/></g><g transform=\"translate(-358,-262) scale(1,1)\"><g><path fill=\"none\" stroke=\"none\"/><text fill=\"#000000\" font-family=\"Arial\" font-size=\"13px\" font-style=\"normal\" font-weight=\"bold\" stroke=\"none\" text-decoration=\"none\" x=\"2167.967041015625\" y=\"851.5\">ClassificationLossFunction</text></g></g><g transform=\"translate(-358,-262) scale(1,1)\"><g><path fill=\"none\" stroke=\"none\"/><text fill=\"#000000\" font-family=\"Arial\" font-size=\"13px\" font-style=\"normal\" font-weight=\"normal\" stroke=\"none\" text-decoration=\"none\" x=\"2157\" y=\"884.5\">+_score_to_proba()</text></g></g><g transform=\"translate(-358,-262) scale(1,1)\"><g><path fill=\"none\" stroke=\"none\"/><text fill=\"#000000\" font-family=\"Arial\" font-size=\"13px\" font-style=\"normal\" font-weight=\"normal\" stroke=\"none\" text-decoration=\"none\" x=\"2157\" y=\"899.5\">+_score_to_decision()</text></g></g><g transform=\"translate(-358,-262) scale(1,1)\"><rect fill=\"#C0C0C0\" height=\"44\" opacity=\"0.2\" stroke=\"none\" width=\"134.46142578125\" x=\"2183\" y=\"1031\"/></g><g transform=\"translate(-358,-262) scale(1,1)\"><rect fill=\"#ffffff\" height=\"44\" stroke=\"none\" width=\"134.46142578125\" x=\"2176\" y=\"1024\"/></g><g transform=\"translate(-358,-262) scale(1,1)\"><path d=\"M 2176 1024 L 2310.46142578125 1024 L 2310.46142578125 1068 L 2176 1068 L 2176 1024 Z Z\" fill=\"none\" stroke=\"#000000\" stroke-miterlimit=\"10\"/></g><g transform=\"translate(-358,-262) scale(1,1)\"><path d=\"M 2176 1049 L 2310.46142578125 1049\" fill=\"none\" stroke=\"#000000\" stroke-miterlimit=\"10\"/></g><g transform=\"translate(-358,-262) scale(1,1)\"><path d=\"M 2176 1059 L 2310.46142578125 1059\" fill=\"none\" stroke=\"#000000\" stroke-miterlimit=\"10\"/></g><g transform=\"translate(-358,-262) scale(1,1)\"><g><path fill=\"none\" stroke=\"none\"/><text fill=\"#000000\" font-family=\"Arial\" font-size=\"13px\" font-style=\"normal\" font-weight=\"bold\" stroke=\"none\" text-decoration=\"none\" x=\"2187.730712890625\" y=\"1043.5\">BinomialDevicance</text></g></g><g transform=\"translate(-358,-262) scale(1,1)\"><rect fill=\"#C0C0C0\" height=\"44\" opacity=\"0.2\" stroke=\"none\" width=\"149.18798828125\" x=\"1911\" y=\"1023\"/></g><g transform=\"translate(-358,-262) scale(1,1)\"><rect fill=\"#ffffff\" height=\"44\" stroke=\"none\" width=\"149.18798828125\" x=\"1904\" y=\"1016\"/></g><g transform=\"translate(-358,-262) scale(1,1)\"><path d=\"M 1904 1016 L 2053.18798828125 1016 L 2053.18798828125 1060 L 1904 1060 L 1904 1016 Z Z\" fill=\"none\" stroke=\"#000000\" stroke-miterlimit=\"10\"/></g><g transform=\"translate(-358,-262) scale(1,1)\"><path d=\"M 1904 1041 L 2053.18798828125 1041\" fill=\"none\" stroke=\"#000000\" stroke-miterlimit=\"10\"/></g><g transform=\"translate(-358,-262) scale(1,1)\"><path d=\"M 1904 1051 L 2053.18798828125 1051\" fill=\"none\" stroke=\"#000000\" stroke-miterlimit=\"10\"/></g><g transform=\"translate(-358,-262) scale(1,1)\"><g><path fill=\"none\" stroke=\"none\"/><text fill=\"#000000\" font-family=\"Arial\" font-size=\"13px\" font-style=\"normal\" font-weight=\"bold\" stroke=\"none\" text-decoration=\"none\" x=\"1918.593994140625\" y=\"1035.5\">MultinomialDeviance</text></g></g><g transform=\"translate(-358,-262) scale(1,1)\"><rect fill=\"#C0C0C0\" height=\"44\" opacity=\"0.2\" stroke=\"none\" width=\"118.02734375\" x=\"2423\" y=\"1023\"/></g><g transform=\"translate(-358,-262) scale(1,1)\"><rect fill=\"#ffffff\" height=\"44\" stroke=\"none\" width=\"118.02734375\" x=\"2416\" y=\"1016\"/></g><g transform=\"translate(-358,-262) scale(1,1)\"><path d=\"M 2416 1016 L 2534.02734375 1016 L 2534.02734375 1060 L 2416 1060 L 2416 1016 Z Z\" fill=\"none\" stroke=\"#000000\" stroke-miterlimit=\"10\"/></g><g transform=\"translate(-358,-262) scale(1,1)\"><path d=\"M 2416 1041 L 2534.02734375 1041\" fill=\"none\" stroke=\"#000000\" stroke-miterlimit=\"10\"/></g><g transform=\"translate(-358,-262) scale(1,1)\"><path d=\"M 2416 1051 L 2534.02734375 1051\" fill=\"none\" stroke=\"#000000\" stroke-miterlimit=\"10\"/></g><g transform=\"translate(-358,-262) scale(1,1)\"><g><path fill=\"none\" stroke=\"none\"/><text fill=\"#000000\" font-family=\"Arial\" font-size=\"13px\" font-style=\"normal\" font-weight=\"bold\" stroke=\"none\" text-decoration=\"none\" x=\"2427.013671875\" y=\"1035.5\">ExponentialLoss</text></g></g><g transform=\"translate(-358,-262) scale(1,1)\"><path d=\"M 2243 1023 L 2245 905\" fill=\"none\" stroke=\"#000000\" stroke-miterlimit=\"10\"/></g><g transform=\"translate(-358,-262) scale(1,1)\"><path d=\"M 2253.0733785075545 925.4651058994025 L 2245 905 L 2236.237725530609 925.1797558489458\" fill=\"#FFFFFF\" stroke=\"none\"/></g><g transform=\"translate(-358,-262) scale(1,1)\"><path d=\"M 2253.0733785075545 925.4651058994025 L 2245 905 L 2236.237725530609 925.1797558489458 L 2253.0733785075545 925.4651058994025\" fill=\"none\" stroke=\"#000000\" stroke-miterlimit=\"10\"/></g><g transform=\"translate(-358,-262) scale(1,1)\"><path d=\"M 2014 1015 L 2187 905\" fill=\"none\" stroke=\"#000000\" stroke-miterlimit=\"10\"/></g><g transform=\"translate(-358,-262) scale(1,1)\"><path d=\"M 2174.365520321312 923.0102727144489 L 2187 905 L 2165.33088777503 908.801259709842\" fill=\"#FFFFFF\" stroke=\"none\"/></g><g transform=\"translate(-358,-262) scale(1,1)\"><path d=\"M 2174.365520321312 923.0102727144489 L 2187 905 L 2165.33088777503 908.801259709842 L 2174.365520321312 923.0102727144489\" fill=\"none\" stroke=\"#000000\" stroke-miterlimit=\"10\"/></g><g transform=\"translate(-358,-262) scale(1,1)\"><path d=\"M 2444 1015 L 2295 905\" fill=\"none\" stroke=\"#000000\" stroke-miterlimit=\"10\"/></g><g transform=\"translate(-358,-262) scale(1,1)\"><path d=\"M 2316.3523651610813 910.2987264533898 L 2295 905 L 2306.3516367929274 923.8451676066163\" fill=\"#FFFFFF\" stroke=\"none\"/></g><g transform=\"translate(-358,-262) scale(1,1)\"><path d=\"M 2316.3523651610813 910.2987264533898 L 2295 905 L 2306.3516367929274 923.8451676066163 L 2316.3523651610813 910.2987264533898\" fill=\"none\" stroke=\"#000000\" stroke-miterlimit=\"10\"/></g><g transform=\"translate(-358,-262) scale(1,1)\"><path d=\"M 2187 831 L 2036 735\" fill=\"none\" stroke=\"#000000\" stroke-miterlimit=\"10\"/></g><g transform=\"translate(-358,-262) scale(1,1)\"><path d=\"M 2057.6693194418817 738.8000782788895 L 2036 735 L 2048.6354616010094 753.0095838410945\" fill=\"#FFFFFF\" stroke=\"none\"/></g><g transform=\"translate(-358,-262) scale(1,1)\"><path d=\"M 2057.6693194418817 738.8000782788895 L 2036 735 L 2048.6354616010094 753.0095838410945 L 2057.6693194418817 738.8000782788895\" fill=\"none\" stroke=\"#000000\" stroke-miterlimit=\"10\"/></g><g transform=\"translate(-358,-262) scale(1,1)\"><path d=\"M 1711 1061 L 1526 1479\" fill=\"none\" stroke=\"#000000\" stroke-miterlimit=\"10\"/></g><g transform=\"translate(-358,-262) scale(1,1)\"><path d=\"M 1526.2636489813485 1468.003160035054 L 1526 1479 L 1533.962368093401 1471.410487871728\" fill=\"none\" stroke=\"#000000\" stroke-miterlimit=\"10\"/></g><g transform=\"translate(-358,-262) scale(1,1)\"><path d=\"M 1034 1061 L 1290 1479\" fill=\"none\" stroke=\"#000000\" stroke-miterlimit=\"10\"/></g><g transform=\"translate(-358,-262) scale(1,1)\"><path d=\"M 1281.1025086207349 1472.5320291314893 L 1290 1479 L 1288.2820695718137 1468.1349774485318\" fill=\"none\" stroke=\"#000000\" stroke-miterlimit=\"10\"/></g><g transform=\"translate(-358,-262) scale(1,1)\"><path d=\"M 1233 1061 L 1306 1479\" fill=\"none\" stroke=\"#000000\" stroke-miterlimit=\"10\"/></g><g transform=\"translate(-358,-262) scale(1,1)\"><path d=\"M 1300.1048849459482 1469.713040406059 L 1306 1479 L 1308.3983962748862 1468.264652063924\" fill=\"none\" stroke=\"#000000\" stroke-miterlimit=\"10\"/></g><g transform=\"translate(-358,-262) scale(1,1)\"><path d=\"M 1461 1061 L 1325 1479\" fill=\"none\" stroke=\"#000000\" stroke-miterlimit=\"10\"/></g><g transform=\"translate(-358,-262) scale(1,1)\"><path d=\"M 1324.1413054012514 1468.0335674175199 L 1325 1479 L 1332.1472500707532 1470.6383723817598\" fill=\"none\" stroke=\"#000000\" stroke-miterlimit=\"10\"/></g><g transform=\"translate(-358,-262) scale(1,1)\"><path d=\"M 2243 1069 L 2242 1487\" fill=\"none\" stroke=\"#000000\" stroke-miterlimit=\"10\"/></g><g transform=\"translate(-358,-262) scale(1,1)\"><path d=\"M 2237.814806839827 1476.8272836365088 L 2242 1487 L 2246.233818259578 1476.8474248121543\" fill=\"none\" stroke=\"#000000\" stroke-miterlimit=\"10\"/></g><g transform=\"translate(-358,-262) scale(1,1)\"><path d=\"M 1978 1061 L 1977 1487\" fill=\"none\" stroke=\"#000000\" stroke-miterlimit=\"10\"/></g><g transform=\"translate(-358,-262) scale(1,1)\"><path d=\"M 1972.8143498204765 1476.8274716724575 L 1977 1487 L 1981.2333621366017 1476.8472346121666\" fill=\"none\" stroke=\"#000000\" stroke-miterlimit=\"10\"/></g><g transform=\"translate(-358,-262) scale(1,1)\"><path d=\"M 2475 1061 L 2479 1495\" fill=\"none\" stroke=\"#000000\" stroke-miterlimit=\"10\"/></g><g transform=\"translate(-358,-262) scale(1,1)\"><path d=\"M 2474.6969997943556 1484.8765525027181 L 2479 1495 L 2483.1156777494557 1484.7989610008276\" fill=\"none\" stroke=\"#000000\" stroke-miterlimit=\"10\"/></g><g transform=\"translate(-358,-262) scale(1,1)\"><path d=\"M 741 354 L 1863 658\" fill=\"none\" stroke=\"#000000\" stroke-miterlimit=\"10\"/></g><g transform=\"translate(-358,-262) scale(1,1)\"><path d=\"M 1852.0901392113633 659.4053247213964 L 1863 658 L 1854.2918488142855 651.2792780948222\" fill=\"none\" stroke=\"#000000\" stroke-miterlimit=\"10\"/></g></g></svg>"
      ],
      "text/plain": [
       "<IPython.core.display.SVG object>"
      ]
     },
     "execution_count": 3,
     "metadata": {},
     "output_type": "execute_result"
    }
   ],
   "source": [
    "SVG(\"./res/Main.svg\")"
   ]
  },
  {
   "cell_type": "markdown",
   "metadata": {},
   "source": [
    "### GBDT优化\n",
    "\n",
    "传统的Gradient Boost算法主要有四步：\n",
    "\n",
    "1. 对损失导数求偏导；\n",
    "2. 训练决策树，拟合偏导；\n",
    "3. 寻优模型权值；\n",
    "4. 将训练的模型，加到叠加模型中。\n",
    "\n",
    "可以用数学公式对应表述为[1]：\n",
    "\n",
    "+ $F_0(x) = \\operatorname{arg \\, min}_\\rho \\displaystyle \\sum_{i=1}^N L(y_i, \\rho)$\n",
    "\n",
    "+ For $m=1$ to $M$ do:\n",
    "   \n",
    "   1. $\\tilde{y} = - \\left [ \\frac{\\partial L (y_i, F(x_i))}{\\partial F(x_i)} \\right ]_{F(x) = F_{m-1}(x)}, \\quad i = 1, 2, \\dotsc, N$\n",
    "   \n",
    "   2. $\\mathbf{a}_m = \\operatorname{arg \\, min}_{\\mathbf{a}, \\beta} \\displaystyle \\sum_{i=1}^N \\left [ \\tilde{y}_i - \\beta h(x_i; \\mathbf{a}) \\right ]^2$\n",
    "   3. $\\rho_m = \\operatorname{arg \\, min}_\\rho \\displaystyle \\sum_{i=1}^N L \\left ( y_i, F_{m-1}(x_i) + \\rho h(x_i; \\mathbf{a}_m) \\right)$\n",
    "   4. $F_m(x) = F_{m-1}(x) + l_r \\rho_m h(x; \\mathbf{a}_m)$\n",
    "   \n",
    "其中，$L$是损失函数， $l_r$是学习率，$\\rho$是模型的权值，$h(x_i; \\mathbf{a})$是决策树模型，$\\mathbf{a}$是树的参数，$F$是最终累加模型。\n",
    "   \n",
    "利用一些数学方法和损失函数的特性，可以将第3步的权值寻优进行简化。在sklear中单步训练代码对应如下：\n",
    "\n",
    "```Python\n",
    " 748     def _fit_stage(self, i, X, y, y_pred, sample_weight, sample_mask,\n",
    " 749                    random_state, X_idx_sorted, X_csc=None, X_csr=None):\n",
    " 750         \"\"\"Fit another stage of ``n_classes_`` trees to the boosting model. \"\"\"\n",
    " 751 #+--  8 lines: assert sample_mask.dtype == np.bool----------\n",
    " 759\n",
    " 760             residual = loss.negative_gradient(y, y_pred, k=k,\n",
    " 761                                               sample_weight=sample_weight)\n",
    " 762\n",
    " 763             # induce regression tree on residuals\n",
    " 764             tree = DecisionTreeRegressor(\n",
    " 765                 criterion='friedman_mse',\n",
    " 766                 splitter='best',\n",
    " 767 #+---  7 lines: max_depth=self.max_depth,------------------\n",
    " 774                 presort=self.presort)\n",
    " 775\n",
    " 776 #+---  8 lines: if self.subsample < 1.0:------------------\n",
    " 784                 tree.fit(X, residual, sample_weight=sample_weight,\n",
    " 785                          check_input=False, X_idx_sorted=X_idx_sorted)\n",
    " 786\n",
    " 787             # update tree leaves\n",
    " 788 #+--  5 lines: if X_csr is not None:---------------------\n",
    " 793                 loss.update_terminal_regions(tree.tree_, X, y, residual, y_pred,\n",
    " 794                                              sample_weight, sample_mask,\n",
    " 795                                              self.learning_rate, k=k)\n",
    " 796\n",
    " 797             # add tree to ensemble\n",
    " 798             self.estimators_[i, k] = tree\n",
    " 799\n",
    " 800         return y_pred\n",
    "```\n",
    "\n",
    "其中，\n",
    "\n",
    "+ 760L是求解偏导。\n",
    "+ 784L是生成决策树。注意，对于MSE，$\\beta=1$。765L树的评价函数是friedman_mse，它是MSE的变种。我猜测$\\beta$是一致的，后续有时间再深究。\n",
    "+ 793L是TreeBoost做的改进，将第3步寻优全局解$\\rho$转化到树内部，后面主要内容就在这。\n",
    "+ 798L是加回到累加模型。\n",
    "\n",
    "\n",
    "接下来，我们先就平方差和绝对值两种损失函数，对传统Gradient Boost方法进行第3步的优化，为后续TreeBoost铺路。\n",
    "   \n",
    "[1]:  Friedman - Greedy function approximation: A gradient boosting machine"
   ]
  },
  {
   "cell_type": "markdown",
   "metadata": {},
   "source": [
    "#### Least squares regression\n",
    "\n",
    "这种损失函数定义是 $L(y, F) = \\frac{1}{2} (y - F)^2$，则其导数为$\\frac{\\partial L}{\\partial F} = -(y - F)$。将偏导代入到第1步有：\n",
    "\n",
    "\\begin{align}\n",
    "    \\tilde{y} &= - \\left [ \\frac{\\partial L (y_i, F(x_i))}{\\partial F(x_i)} \\right ]_{F(x) = F_{m-1}(x)} \\\\\n",
    "    &= y_i - F_{m-1}(x_i), \\quad i = 1, 2, \\dotsc, N \\\\\n",
    "\\end{align}\n",
    "\n",
    "将$L$和$\\tilde{y}$代入到第3步中，整理可得：\n",
    "\n",
    "\\begin{align}\n",
    "    \\rho_m &= \\operatorname{arg \\, min}_\\rho \\displaystyle \\sum_{i=1}^N L \\left ( y_i, F_{m-1}(x_i) + \\rho h(x_i; \\mathbf{a}_m) \\right) \\\\\n",
    "    &= \\operatorname{arg \\, min}_\\rho \\displaystyle \\sum_{i=1}^N \\frac{1}{2} \\left ( y_i - F_{m-1}(x_i) - \\rho h(x_i; \\mathbf{a}_m) \\right)^2 \\\\\n",
    "    &= \\operatorname{arg \\, min}_\\rho \\displaystyle \\sum_{i=1}^N \\frac{1}{2} \\left ( \\tilde{y}_i - \\rho h(x_i; \\mathbf{a}_m) \\right)^2 \\\\\n",
    "    &= \\operatorname{arg \\, min}_\\rho \\displaystyle \\sum_{i=1}^N \\left ( \\tilde{y}_i - \\rho h(x_i; \\mathbf{a}_m) \\right)^2 \\\\\n",
    "    &= \\operatorname{arg \\, min}_\\beta \\displaystyle \\sum_{i=1}^N \\left ( \\tilde{y}_i - \\beta h(x_i; \\mathbf{a}_m) \\right)^2 \\quad \\text{符号替换}\\\\\n",
    "    &= \\beta_m\n",
    "\\end{align}\n",
    "\n",
    "也就是说，对于平方差这种损失函数，它的最优权值就是第2步中指导决策树生成时的$\\beta$值。"
   ]
  },
  {
   "cell_type": "markdown",
   "metadata": {},
   "source": [
    "这个算法称为LS_Boost，具体过程为：\n",
    "\n",
    "+ $F_0(x) = \\bar{y}$\n",
    "\n",
    "+ For $m=1$ to $M$ do:\n",
    "  1. $\\tilde{y}_i = y_i - F_{m-1}(x_i), \\quad i=1, N$\n",
    "  2. $(\\rho_m, \\mathbf{a}_m) = \\operatorname{arg \\, min}_{\\mathbf{a}, \\rho} \\displaystyle \\sum_{i=1}^N \\left [ \\tilde{y}_i - \\rho h(x_i; \\mathbf{a}) \\right ]^2$\n",
    "  3. $F_m(x) = F_{m-1}(x) + l_r \\rho_m h(x; \\mathbf{a}_m)$\n",
    "  \n",
    "sklearn中代码如下：\n",
    "  \n",
    "```Python\n",
    " 274 class LeastSquaresError(RegressionLossFunction):\n",
    " 275     \"\"\"Loss function for least squares (LS) estimation.\n",
    " 276     Terminal regions need not to be updated for least squares. \"\"\"\n",
    " 277     def init_estimator(self):\n",
    " 278         return MeanEstimator()\n",
    " 279\n",
    " 280     def __call__(self, y, pred, sample_weight=None):\n",
    " 281         if sample_weight is None:\n",
    " 282             return np.mean((y - pred.ravel()) ** 2.0)\n",
    " 283         else:\n",
    " 284             return (1.0 / sample_weight.sum() *\n",
    " 285                     np.sum(sample_weight * ((y - pred.ravel()) ** 2.0)))\n",
    " 286\n",
    " 287     def negative_gradient(self, y, pred, **kargs):\n",
    " 288         return y - pred.ravel()\n",
    " 289\n",
    " 290     def update_terminal_regions(self, tree, X, y, residual, y_pred,\n",
    " 291                                 sample_weight, sample_mask,\n",
    " 292                                 learning_rate=1.0, k=0):\n",
    " 293         \"\"\"Least squares does not need to update terminal regions.\n",
    " 294\n",
    " 295         But it has to update the predictions.\n",
    " 296         \"\"\"\n",
    " 297         # update predictions\n",
    " 298         y_pred[:, k] += learning_rate * tree.predict(X).ravel()\n",
    " 299\n",
    " 300     def _update_terminal_region(self, tree, terminal_regions, leaf, X, y,\n",
    " 301                                 residual, pred, sample_weight):\n",
    " 302         pass\n",
    "```\n",
    "\n",
    "前面说过sklearn中$\\beta=1$，则$l_r \\times \\beta = l_r$，所以`update_terminal_regions`这里直接用学习率和树预测值相乘。"
   ]
  },
  {
   "cell_type": "markdown",
   "metadata": {},
   "source": [
    "#### Least-absolute-deviation (LAD) regression"
   ]
  },
  {
   "cell_type": "markdown",
   "metadata": {},
   "source": [
    "### 从GBDT到TreeBoost"
   ]
  }
 ],
 "metadata": {
  "kernelspec": {
   "display_name": "Python 3",
   "language": "python",
   "name": "python3"
  },
  "language_info": {
   "codemirror_mode": {
    "name": "ipython",
    "version": 3
   },
   "file_extension": ".py",
   "mimetype": "text/x-python",
   "name": "python",
   "nbconvert_exporter": "python",
   "pygments_lexer": "ipython3",
   "version": "3.5.2"
  }
 },
 "nbformat": 4,
 "nbformat_minor": 0
}

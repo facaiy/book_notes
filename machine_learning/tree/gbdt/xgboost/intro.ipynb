{
 "cells": [
  {
   "cell_type": "code",
   "execution_count": 2,
   "metadata": {
    "collapsed": true
   },
   "outputs": [],
   "source": [
    "# %load /Users/facai/Study/book_notes/preconfig.py\n",
    "%matplotlib inline\n",
    "\n",
    "import matplotlib.pyplot as plt\n",
    "import seaborn as sns\n",
    "sns.set(color_codes=True)\n",
    "sns.set(font='SimHei')\n",
    "plt.rcParams['axes.grid'] = False\n",
    "\n",
    "from IPython.display import SVG\n",
    "\n",
    "def show_image(filename, figsize=None):\n",
    "    if figsize:\n",
    "        plt.figure(figsize=figsize)\n",
    "\n",
    "    plt.imshow(plt.imread(filename))"
   ]
  },
  {
   "cell_type": "markdown",
   "metadata": {},
   "source": [
    "xgboost的基本原理与实现简介\n",
    "========================"
   ]
  },
  {
   "cell_type": "markdown",
   "metadata": {},
   "source": [
    "xgboost是个很棒的工具，其优点很多：运行速度，支持正则，直接用损失函数指导树的生成等等，不一而足。相较spark自带的gbdt，xgboost更适合工程应用。\n",
    "\n",
    "本文参照论文 Tianqi Chen and Carlos Guestrin. XGBoost: A Scalable Tree Boosting System，介绍下xgboost对原始gbdt的改进地方，并说明下具体的实现细节。"
   ]
  },
  {
   "cell_type": "markdown",
   "metadata": {},
   "source": [
    "代码版本信息：\n",
    "\n",
    "```bash\n",
    "~/W/xgboost ❯❯❯ git log -n 1\n",
    "commit 74db1e8867eb9ecfacf07311131c2724dbc3fdbd\n",
    "Author: Nan Zhu <CodingCat@users.noreply.github.com>\n",
    "Date:   Sun Aug 28 21:25:49 2016 -0400\n",
    "\n",
    "    [jvm-packages] remove APIs with DMatrix from xgboost-spark  (#1519)\n",
    "\n",
    "    * test consistency of prediction functions between DMatrix and RDD\n",
    "\n",
    "    * remove APIs with DMatrix from xgboost-spark\n",
    "\n",
    "    * fix compilation error in xgboost4j-example\n",
    "\n",
    "    * fix test cases\n",
    "```"
   ]
  },
  {
   "cell_type": "markdown",
   "metadata": {},
   "source": [
    "### 0. 大纲\n",
    "\n",
    "xgboost的贡献，既有理论上的拓展，也有工程上的性能优化。本文只关心在其在理论上的改进，主要是将正则（Regularized）引入损失函数，并且用损失函数直接指导树的生成。我们用传统GBDT做引，一步步走到xgboost。\n",
    "\n",
    "这里假设读者已经了解决策树和GBDT的原理，不会过多铺垫。"
   ]
  },
  {
   "cell_type": "markdown",
   "metadata": {},
   "source": [
    "### 1. GBDT框架\n",
    "\n",
    "为了便于后续讲解，首先会引入公式描述决策树和GBDT模型，涉及的数学知识是比较简易的，不要恐慌。\n",
    "\n",
    "对于一个$J$颗叶子的决策树（CART），可以表示为加法模型[1]：\n",
    "\n",
    "\\begin{equation}\n",
    "    f(x) = h \\left (x; \\{b_j, R_j\\}^J_1 \\right ) = \\displaystyle \\sum_{j=1}^J b_j \\mathbf{1}(x \\in R_j)\n",
    "\\end{equation}\n",
    "\n",
    "其中$R_j$是叶子，$b_j$是叶子对应的值。\n",
    "\n",
    "对于一个tree ensemble model，就是$K$颗树的结果叠加：\n",
    "\n",
    "\\begin{equation}\n",
    "    \\hat{y}_i = \\phi(x_i) = \\displaystyle \\sum_{k=1}^K f_k(x_i)\n",
    "\\end{equation}\n",
    "\n",
    "具体到传统的GBDT，其可描述成最优问题：\n",
    "\n",
    "\\begin{align}\n",
    "    f_m &= \\displaystyle \\operatorname{arg \\, min}_f \\sum_{i=1}^n L \\left ( y_i, \\hat{y}_i + f(x_i) \\right ) \\\\\n",
    "        &= \\operatorname{arg \\, min} \\mathcal{L}(f)\n",
    "\\end{align}\n",
    "\n",
    "传统的思路，便是借用最速下降的想法，认定损失函数中$f(x_i)$是关于梯度的一个函数。而xgboost正是在这里做了新的文章，引入正则，泰勒展开，再揉进树模型里。\n",
    "\n",
    "[1]:  Friedman - Greedy function approximation: A gradient boosting machine"
   ]
  },
  {
   "cell_type": "markdown",
   "metadata": {},
   "source": [
    "### 2. xgboost\n",
    "\n",
    "#### 2.0 正则\n",
    "\n",
    "xgboost将正则 $\\Omega(f)$ 引入进损失函数 $\\mathcal{L}(f)$，控制了树的叶子数$\\|R_j\\|$和叶子值$b_j$，表示如下： \n",
    "\n",
    "\\begin{align}\n",
    "    \\mathcal{L}(f) &= \\displaystyle \\sum_{i=1}^{n} L(y_i, \\hat{y}_i + f(x_i)) + \\Omega(f) \\\\\n",
    "    \\Omega(f) &= \\gamma \\|R_j\\| + \\frac{1}{2} \\lambda \\|b_j\\|^2\n",
    "\\end{align}\n",
    "\n",
    "但这样纯理论的公式是无法应用到工程上的，要用它指导树模型的生成，必须将它的这两个加法项$\\sum L(f)$和$\\Omega(f)$整合，才可以直接指导模型生成。要整合，重点有两个，一是打开$\\sum L(f)$，放出$f$；二是将$\\mathcal{L}(f)$转换成指导树生长的函数。"
   ]
  },
  {
   "cell_type": "markdown",
   "metadata": {},
   "source": [
    "#### 2.1 泰勒展开\n",
    "\n",
    "对于第一个问题，打开 $\\sum L(f)$，xgboost的方法是利用[泰勒展开](https://zh.wikipedia.org/wiki/泰勒公式)成二阶多项式:\n",
    "\n",
    "\\begin{align}\n",
    "    \\mathcal{L} &\\approx \\sum_{i=1}^n \\left [ L(y_i, \\hat{y}_i) + g_i f(x_i) + \\frac{1}{2} h_i f^2(x_i) \\right ] + \\Omega(f) \\\\\n",
    "    g_i &= \\frac{\\partial \\, L(y_i, \\hat{y}_i)}{\\partial \\hat{y}_i} \\\\\n",
    "    h_i &= \\frac{\\partial^2 \\, L(y_i, \\hat{y}_i)}{\\partial \\hat{y}^2_i} \\\\\n",
    "\\end{align}\n",
    "\n",
    "为了便于理解，我将推导过程细致说下：\n",
    "\n",
    "利用泰勒公式，我们在单点可将一个函数$f(x)$展开为高阶导数的叠加： \n",
    "\\begin{equation}\n",
    "    \\sum _{n=0}^{\\infty }{\\frac {f^{(n)}(a)}{n!}}(x-a)^{n}\n",
    "\\end{equation}\n",
    "\n",
    "具体到二阶导数为\n",
    "\\begin{equation}\n",
    "f(x) \\approx f(a)+{\\frac  {f'(a)}{1!}}(x-a)+{\\frac  {f''(a)}{2!}}(x-a)^{2}\n",
    "\\end{equation}\n",
    "\n",
    "我们做点变形以利于理解，令$t = \\hat{y}_i + f(x_i)$，则\n",
    "\\begin{align}\n",
    "    L(y_i, \\hat{y}_i + f(x_i)) &= L(y_i, t)\\\\\n",
    "                               &= L(t) \\quad \\text{给定$x_i$，则$y_i$是定值，即常数}\n",
    "\\end{align}\n",
    "\n",
    "接着利用泰勒将$L(t)$在$\\hat{y}_i$点展开：\n",
    "\n",
    "\\begin{align}\n",
    "L(t) &\\approx L(\\hat{y}_i) + {\\frac  {L'(\\hat{y}_i)}{1!}}(t-\\hat{y}_i)+{\\frac  {f''(\\hat{y}_i)}{2!}}(t-\\hat{y}_i)^{2} \\\\\n",
    "     &= L(\\hat{y}_i) + L'(\\hat{y}_i) f(x_i) + \\frac{1}{2}f''(\\hat{y}_i) f^{2}(x_i) \\\\\n",
    "     &= L(y_i, \\hat{y}_i) + L'(\\hat{y}_i) f(x_i) + \\frac{1}{2}f''(\\hat{y}_i) f^{2}(x_i) \\\\\n",
    "     &= L(y_i, \\hat{y}_i) + g_i f(x_i) + \\frac{1}{2} h_i f^2(x_i) \n",
    "\\end{align}"
   ]
  },
  {
   "cell_type": "markdown",
   "metadata": {
    "collapsed": true
   },
   "source": [
    "#### 2.2 引入树模型\n",
    "\n",
    "泰勒解决了第一个问题，打开$L(f)$，得到：\n",
    "\n",
    "\\begin{equation}\n",
    "    \\mathcal{L} \\approx \\sum_{i=1}^n \\left [ L(y_i, \\hat{y}_i) + g_i f(x_i) + \\frac{1}{2} h_i f^2(x_i) \\right ] + \\Omega(f)\n",
    "\\end{equation}\n",
    "\n",
    "接着需要回答第二个问题，在这之前，我们先做点预处理。\n",
    "\n",
    "对于损失函数$\\mathcal{L}$，常数项$L(y_i, \\hat{y}_i)$是可以直接舍掉的，记为： \n",
    "\n",
    "\\begin{equation}\n",
    "    \\mathcal{L} = \\sum_{i=1}^n \\left [ g_i f(x_i) + \\frac{1}{2} h_i f^2(x_i) \\right ] + \\Omega(f)\n",
    "\\end{equation}\n",
    "\n",
    "如何用这个外部的损失函数指导树模型呢？\n",
    "\n",
    "在论文Friedman - Greedy function approximation: A gradient boosting machine里推导TreeBoost方法时给了个套路：\n",
    "\n",
    "1. 将决策树的数学模型$f(x)$代入外部损失函数$\\mathcal{L}$。\n",
    "2. 固定$J$，得到最优的$b_j$解析式。\n",
    "3. 反代$b_j$回$\\mathcal{L}$，将它作为树生成的评价函数（内部损失函数）。\n",
    "\n",
    "这个套路的思想是，对于树模型来说，主要有两个参数：叶子数、叶子值。通过固定叶子数，就可以利用外部损失函数$\\mathcal{L}(f)$寻优到最佳的叶子值计算解析式。将参数反代，外部损失函数就变成只和$x$相关$\\mathcal{L}(x)$，这时它就可以作为树生长的评价函数。这个思路挺巧妙的，可能有点绕。\n",
    "\n",
    "\n",
    "##### 2.2.0 代入树模型\n",
    "\n",
    "我们就将树模型$f(x)$的数学代入，\n",
    "\n",
    "\\begin{align}\n",
    "    \\mathcal{L} &= \\sum_{i=1}^n \\left [ g_i f(x_i) + \\frac{1}{2} h_i f^2(x_i) \\right ] + \\Omega(f) \\\\\n",
    "                &= \\sum_{i=1}^n \\left [ g_i \\sum_{j=1}^J b_j \\mathbf{1}(x_i \\in R_j) + \\frac{1}{2} h_i (\\sum_{j=1}^J \\color{red}{b_j} \\mathbf{1}(x_i \\in R_j))^{\\color{red}{2}} \\right ] + \\Omega(f) \\\\  \n",
    "                &= \\sum_{i=1}^n \\left [ g_i \\sum_{j=1}^J b_j \\mathbf{1}(x_i \\in R_j) + \\frac{1}{2} h_i \\sum_{j=1}^J \\color{red}{b_j^2} \\mathbf{1}(x_i \\in R_j) \\right ] + \\Omega(f) \\quad \\text{因为$x_i$只属于一个$R_j$} \\\\\n",
    "                &= \\sum_{j=1}^J \\color{blue}{\\sum_{i=1}^n \\mathbf{1}(x_i \\in R_j)} g_i b_j + \\frac{1}{2} \\color{blue}{\\sum_{j=1}^J \\sum_{i=1}^n \\mathbf{1}(x_i \\in R_j)} h_i b_j^2 + \\Omega(f) \\quad \\text{乘法交换} \\\\\n",
    "                &\\text{令} I_j = \\{ i \\, | \\, x_i \\in R_j \\} \\quad \\text{即属于$R_j$的全部下标$i$} \\\\\n",
    "                &= \\sum_{j=1}^J \\color{blue}{\\sum_{i \\in I_j}} g_i b_j + \\frac{1}{2} \\sum_{j=1}^J \\color{blue}{\\sum_{i \\in I_j}} h_i b_j^2 + \\Omega(f) \\\\\n",
    "                &= \\sum_{j=1}^J ( \\sum_{i \\in I_j} g_i ) b_j + \\frac{1}{2} \\sum_{j=1}^J (\\sum_{i \\in I_j} h_i) b_j^2 + \\Omega(f) \\quad \\text{乘法分配律}\\\\\n",
    "                &= \\sum_{j=1}^J ( \\sum_{i \\in I_j} g_i ) b_j + \\frac{1}{2} \\sum_{j=1}^J (\\sum_{i \\in I_j} h_i) b_j^2 + \\gamma \\|R_j\\| + \\frac{1}{2} \\lambda \\|b_j\\|^2 \\quad \\text{代入正则$\\Omega(f)$}\\\\\n",
    "                &= \\sum_{j=1}^J ( \\sum_{i \\in I_j} g_i ) b_j + \\frac{1}{2} \\sum_{j=1}^J (\\sum_{i \\in I_j} h_i) b_j^2 + \\gamma \\|R_j\\| + \\frac{1}{2} \\lambda \\sum_{j=1}^J b_j^2 \\\\\n",
    "                &= \\sum_{j=1}^J \\left ( ( \\sum_{i \\in I_j} g_i ) b_j + \\frac{1}{2} (\\sum_{i \\in I_j} h_i) b_j^2 + \\frac{1}{2} \\lambda b_j^2 \\right ) + \\gamma \\|R_j\\|  \\\\\n",
    "                &= \\sum_{j=1}^J \\left ( ( \\sum_{i \\in I_j} g_i ) b_j + \\frac{1}{2} (\\sum_{i \\in I_j} h_i + \\lambda) b_j^2 \\right ) + \\gamma \\|R_j\\|  \\\\\n",
    "\\end{align}"
   ]
  },
  {
   "cell_type": "markdown",
   "metadata": {},
   "source": [
    "##### 2.2.1 $b_j$最优解析式\n",
    "\n",
    "\\begin{align}\n",
    "    b_j &= \\operatorname{arg \\, min}_{b_j} \\mathcal{L} \\\\\n",
    "        &= \\operatorname{arg \\, min}_{b_j} \\sum_{j=1}^J \\left ( ( \\sum_{i \\in I_j} g_i ) b_j + \\frac{1}{2} (\\sum_{i \\in I_j} h_i + \\lambda) b_j^2 \\right ) + \\gamma \\|R_j\\|  \\\\\n",
    "        &\\approx \\sum_{j=1}^J \\operatorname{arg \\, min}_{b_j} \\left ( ( \\sum_{i \\in I_j} g_i ) \\color{red}{b_j} + \\frac{1}{2} (\\sum_{i \\in I_j} h_i + \\lambda) \\color{red}{b_j^2} \\right ) + \\gamma \\|R_j\\| \n",
    "\\end{align}\n",
    "\n",
    "全局最优不好求，我们转而求局部最优。注意到每个局部项是一个二项式，它的最小点可用公式直接套出：\n",
    "\n",
    "\\begin{align}\n",
    "    b^*_j &= - \\frac{\\sum_{i \\in I_j} g_i}{\\sum_{i \\in I_j} h_i + \\lambda} \\\\\n",
    "\\end{align}"
   ]
  },
  {
   "cell_type": "markdown",
   "metadata": {},
   "source": [
    "##### 2.2.2 树生长的评价函数\n",
    "\n",
    "将$b_j$重代回$\\mathcal{L}$得到评价函数：\n",
    "\n",
    "\\begin{align}\n",
    "    \\mathcal{L} &= - \\frac{1}{2} \\sum_{j=1}^J \\frac{(\\sum_{i \\in I_j} g_i)^2}{\\sum_{i \\in I_j} h_i + \\lambda} + \\gamma \\|R_j\\| \\\\\n",
    "                &= - \\frac{1}{2} H + \\gamma T\n",
    "\\end{align}\n",
    "\n",
    "于是得到树生成的分割依据：\n",
    "\n",
    "\\begin{align}\n",
    "    \\mathcal{L}_{\\text{split}} &= \\mathcal{L} - \\mathcal{L}_L - \\mathcal{L}_R \\\\\n",
    "                              &= \\frac{1}{2} (H_L + H_R - H) + \\gamma (T - T_L - T_R) \\\\\n",
    "                              &= \\frac{1}{2} (H_L + H_R - H) - \\gamma \\\\\n",
    "\\end{align}"
   ]
  },
  {
   "cell_type": "markdown",
   "metadata": {},
   "source": [
    "#### 2.3 小结\n",
    "\n",
    "至此，xgboost对GBDT框架的主要改进就说明完了。我们梳理下，对于一个损失函数 $L$，用它解出老模型的输出 $\\hat{y}_i$ 的一阶导 $g_i$ 和二阶导 $h_i$。有了这两阶导数，就可以做为评价函数直接指导决策树的生长，同时算出叶子的值，于是就得到了新树，再加回老模型得到新模型。\n",
    "\n",
    "我们可以看到，原始的GBDT只是将Gradient Boost框架中的学习模型指定是决策树，这时还是一个通用框架。而TreeBoost和xbgoost，则更进一步，将决策树的数学模型代入Gradeint Boost，从而解出直接指导决策树生长的解析式。也就说，把外部的损失函数，引入到了决策树的建立过程中，这其实就是从通用到定制的过程。所以，可以说，TreeBoost和xgboost的本质，就是对树模型进行定制优化的Gradient Boost。"
   ]
  },
  {
   "cell_type": "markdown",
   "metadata": {},
   "source": [
    "### 3 工程实现\n",
    "\n",
    "#### 3.0 训练\n",
    "\n",
    "正如前面小结所言，xgboost的训练主要是三步：\n",
    "\n",
    "1. 老模型的预测值$\\hat{y}_i$；\n",
    "2. 计算出两阶导数$g_i$和$h_i$；\n",
    "3. 将导数信息传入，指导决策树生长。\n",
    "\n",
    "主体代码位于 `src/learner.cc`，如下：\n",
    "\n",
    "```C++\n",
    "288   void UpdateOneIter(int iter, DMatrix* train) override {\n",
    "289     CHECK(ModelInitialized())\n",
    "290         << \"Always call InitModel or LoadModel before update\";\n",
    "291     if (tparam.seed_per_iteration || rabit::IsDistributed()) {\n",
    "292       common::GlobalRandom().seed(tparam.seed * kRandSeedMagic + iter);\n",
    "293     }\n",
    "294     this->LazyInitDMatrix(train);\n",
    "295     this->PredictRaw(train, &preds_);\n",
    "296     obj_->GetGradient(preds_, train->info(), iter, &gpair_);\n",
    "297     gbm_->DoBoost(train, this->FindBufferOffset(train), &gpair_);\n",
    "298   }\n",
    "```\n",
    "\n",
    "理论比工程好讲，工程实现会有大量细节，相当繁琐。现在时间不多，没有心力面面俱到，不再准备细写了。\n",
    "\n",
    "我画了简版的UML图，可能不准确，感兴趣的朋友可以参考它，自行从这个入口去追一遍。"
   ]
  },
  {
   "cell_type": "code",
   "execution_count": 3,
   "metadata": {
    "collapsed": false
   },
   "outputs": [
    {
     "data": {
      "image/svg+xml": [
       "<svg height=\"1359\" version=\"1.1\" width=\"1390.2158203125\" xmlns=\"http://www.w3.org/2000/svg\" xmlns:xlink=\"http://www.w3.org/1999/xlink\"><defs/><g><g transform=\"translate(-150,-62) scale(1,1)\"><rect fill=\"#C0C0C0\" height=\"72\" opacity=\"0.2\" stroke=\"none\" width=\"88\" x=\"215\" y=\"119\"/></g><g transform=\"translate(-150,-62) scale(1,1)\"><rect fill=\"#ffffff\" height=\"72\" stroke=\"none\" width=\"88\" x=\"208\" y=\"112\"/></g><g transform=\"translate(-150,-62) scale(1,1)\"><path d=\"M 208 112 L 296 112 L 296 184 L 208 184 L 208 112 Z Z\" fill=\"none\" stroke=\"#000000\" stroke-miterlimit=\"10\"/></g><g transform=\"translate(-150,-62) scale(1,1)\"><path d=\"M 208 137 L 296 137\" fill=\"none\" stroke=\"#000000\" stroke-miterlimit=\"10\"/></g><g transform=\"translate(-150,-62) scale(1,1)\"><path d=\"M 208 147 L 296 147\" fill=\"none\" stroke=\"#000000\" stroke-miterlimit=\"10\"/></g><g transform=\"translate(-150,-62) scale(1,1)\"><g><path fill=\"none\" stroke=\"none\"/><text fill=\"#000000\" font-family=\"Arial\" font-size=\"13px\" font-style=\"normal\" font-weight=\"bold\" stroke=\"none\" text-decoration=\"none\" x=\"219\" y=\"131.5\">cli_main.cc</text></g></g><g transform=\"translate(-150,-62) scale(1,1)\"><g><path fill=\"none\" stroke=\"none\"/><text fill=\"#000000\" font-family=\"Arial\" font-size=\"13px\" font-style=\"normal\" font-weight=\"normal\" stroke=\"none\" text-decoration=\"none\" x=\"213\" y=\"164.5\">+CLITrain()</text></g></g><g transform=\"translate(-150,-62) scale(1,1)\"><g><path fill=\"none\" stroke=\"none\"/><text fill=\"#000000\" font-family=\"Arial\" font-size=\"13px\" font-style=\"normal\" font-weight=\"normal\" stroke=\"none\" text-decoration=\"none\" x=\"213\" y=\"179.5\">+CLIPredict()</text></g></g><g transform=\"translate(-150,-62) scale(1,1)\"><rect fill=\"#C0C0C0\" height=\"147\" opacity=\"0.2\" stroke=\"none\" width=\"116.02783203125\" x=\"631\" y=\"79\"/></g><g transform=\"translate(-150,-62) scale(1,1)\"><rect fill=\"#ffffff\" height=\"147\" stroke=\"none\" width=\"116.02783203125\" x=\"624\" y=\"72\"/></g><g transform=\"translate(-150,-62) scale(1,1)\"><path d=\"M 624 72 L 740.02783203125 72 L 740.02783203125 219 L 624 219 L 624 72 Z Z\" fill=\"none\" stroke=\"#000000\" stroke-miterlimit=\"10\"/></g><g transform=\"translate(-150,-62) scale(1,1)\"><path d=\"M 624 97 L 740.02783203125 97\" fill=\"none\" stroke=\"#000000\" stroke-miterlimit=\"10\"/></g><g transform=\"translate(-150,-62) scale(1,1)\"><path d=\"M 624 107 L 740.02783203125 107\" fill=\"none\" stroke=\"#000000\" stroke-miterlimit=\"10\"/></g><g transform=\"translate(-150,-62) scale(1,1)\"><g><path fill=\"none\" stroke=\"none\"/><text fill=\"#000000\" font-family=\"Arial\" font-size=\"13px\" font-style=\"normal\" font-weight=\"bold\" stroke=\"none\" text-decoration=\"none\" x=\"648.013916015625\" y=\"91.5\">LearnerImpl</text></g></g><g transform=\"translate(-150,-62) scale(1,1)\"><g><path fill=\"none\" stroke=\"none\"/><text fill=\"#000000\" font-family=\"Arial\" font-size=\"13px\" font-style=\"normal\" font-weight=\"normal\" stroke=\"none\" text-decoration=\"none\" x=\"629\" y=\"124.5\">+Configure()</text></g></g><g transform=\"translate(-150,-62) scale(1,1)\"><g><path fill=\"none\" stroke=\"none\"/><text fill=\"#000000\" font-family=\"Arial\" font-size=\"13px\" font-style=\"normal\" font-weight=\"normal\" stroke=\"none\" text-decoration=\"none\" x=\"629\" y=\"139.5\">+InitModel()</text></g></g><g transform=\"translate(-150,-62) scale(1,1)\"><g><path fill=\"none\" stroke=\"none\"/><text fill=\"#000000\" font-family=\"Arial\" font-size=\"13px\" font-style=\"normal\" font-weight=\"normal\" stroke=\"none\" text-decoration=\"none\" x=\"629\" y=\"154.5\">+Load()</text></g></g><g transform=\"translate(-150,-62) scale(1,1)\"><g><path fill=\"none\" stroke=\"none\"/><text fill=\"#000000\" font-family=\"Arial\" font-size=\"13px\" font-style=\"normal\" font-weight=\"normal\" stroke=\"none\" text-decoration=\"none\" x=\"629\" y=\"169.5\">+UpdateOneIter()</text></g></g><g transform=\"translate(-150,-62) scale(1,1)\"><g><path fill=\"none\" stroke=\"none\"/><text fill=\"#000000\" font-family=\"Arial\" font-size=\"13px\" font-style=\"normal\" font-weight=\"normal\" stroke=\"none\" text-decoration=\"none\" x=\"629\" y=\"184.5\">+EvalOneIter()</text></g></g><g transform=\"translate(-150,-62) scale(1,1)\"><g><path fill=\"none\" stroke=\"none\"/><text fill=\"#000000\" font-family=\"Arial\" font-size=\"13px\" font-style=\"normal\" font-weight=\"normal\" stroke=\"none\" text-decoration=\"none\" x=\"629\" y=\"199.5\">+Save()</text></g></g><g transform=\"translate(-150,-62) scale(1,1)\"><g><path fill=\"none\" stroke=\"none\"/><text fill=\"#000000\" font-family=\"Arial\" font-size=\"13px\" font-style=\"normal\" font-weight=\"normal\" stroke=\"none\" text-decoration=\"none\" x=\"629\" y=\"214.5\">-PredictRaw()</text></g></g><g transform=\"translate(-150,-62) scale(1,1)\"><rect fill=\"#C0C0C0\" height=\"72\" opacity=\"0.2\" stroke=\"none\" width=\"100.29833984375\" x=\"399\" y=\"351\"/></g><g transform=\"translate(-150,-62) scale(1,1)\"><rect fill=\"#ffffff\" height=\"72\" stroke=\"none\" width=\"100.29833984375\" x=\"392\" y=\"344\"/></g><g transform=\"translate(-150,-62) scale(1,1)\"><path d=\"M 392 344 L 492.29833984375 344 L 492.29833984375 416 L 392 416 L 392 344 Z Z\" fill=\"none\" stroke=\"#000000\" stroke-miterlimit=\"10\"/></g><g transform=\"translate(-150,-62) scale(1,1)\"><path d=\"M 392 369 L 492.29833984375 369\" fill=\"none\" stroke=\"#000000\" stroke-miterlimit=\"10\"/></g><g transform=\"translate(-150,-62) scale(1,1)\"><path d=\"M 392 379 L 492.29833984375 379\" fill=\"none\" stroke=\"#000000\" stroke-miterlimit=\"10\"/></g><g transform=\"translate(-150,-62) scale(1,1)\"><g><path fill=\"none\" stroke=\"none\"/><text fill=\"#000000\" font-family=\"Arial\" font-size=\"13px\" font-style=\"normal\" font-weight=\"bold\" stroke=\"none\" text-decoration=\"none\" x=\"407.149169921875\" y=\"363.5\">ObjFunction</text></g></g><g transform=\"translate(-150,-62) scale(1,1)\"><g><path fill=\"none\" stroke=\"none\"/><text fill=\"#000000\" font-family=\"Arial\" font-size=\"13px\" font-style=\"normal\" font-weight=\"normal\" stroke=\"none\" text-decoration=\"none\" x=\"397\" y=\"396.5\">+Create()</text></g></g><g transform=\"translate(-150,-62) scale(1,1)\"><g><path fill=\"none\" stroke=\"none\"/><text fill=\"#000000\" font-family=\"Arial\" font-size=\"13px\" font-style=\"normal\" font-weight=\"normal\" stroke=\"none\" text-decoration=\"none\" x=\"397\" y=\"411.5\">+GetGradient()</text></g></g><g transform=\"translate(-150,-62) scale(1,1)\"><rect fill=\"#C0C0C0\" height=\"57\" opacity=\"0.2\" stroke=\"none\" width=\"100.29833984375\" x=\"399\" y=\"511\"/></g><g transform=\"translate(-150,-62) scale(1,1)\"><rect fill=\"#ffffff\" height=\"57\" stroke=\"none\" width=\"100.29833984375\" x=\"392\" y=\"504\"/></g><g transform=\"translate(-150,-62) scale(1,1)\"><path d=\"M 392 504 L 492.29833984375 504 L 492.29833984375 561 L 392 561 L 392 504 Z Z\" fill=\"none\" stroke=\"#000000\" stroke-miterlimit=\"10\"/></g><g transform=\"translate(-150,-62) scale(1,1)\"><path d=\"M 392 529 L 492.29833984375 529\" fill=\"none\" stroke=\"#000000\" stroke-miterlimit=\"10\"/></g><g transform=\"translate(-150,-62) scale(1,1)\"><path d=\"M 392 539 L 492.29833984375 539\" fill=\"none\" stroke=\"#000000\" stroke-miterlimit=\"10\"/></g><g transform=\"translate(-150,-62) scale(1,1)\"><g><path fill=\"none\" stroke=\"none\"/><text fill=\"#000000\" font-family=\"Arial\" font-size=\"13px\" font-style=\"normal\" font-weight=\"bold\" stroke=\"none\" text-decoration=\"none\" x=\"406.649169921875\" y=\"523.5\">RegLossObj</text></g></g><g transform=\"translate(-150,-62) scale(1,1)\"><g><path fill=\"none\" stroke=\"none\"/><text fill=\"#000000\" font-family=\"Arial\" font-size=\"13px\" font-style=\"normal\" font-weight=\"normal\" stroke=\"none\" text-decoration=\"none\" x=\"397\" y=\"556.5\">+GetGradient()</text></g></g><g transform=\"translate(-150,-62) scale(1,1)\"><rect fill=\"#C0C0C0\" height=\"90\" opacity=\"0.2\" stroke=\"none\" width=\"160.099609375\" x=\"367\" y=\"647\"/></g><g transform=\"translate(-150,-62) scale(1,1)\"><rect fill=\"#ffffff\" height=\"90\" stroke=\"none\" width=\"160.099609375\" x=\"360\" y=\"640\"/></g><g transform=\"translate(-150,-62) scale(1,1)\"><path d=\"M 360 640 L 520.099609375 640 L 520.099609375 730 L 360 730 L 360 640 Z Z\" fill=\"none\" stroke=\"#000000\" stroke-miterlimit=\"10\"/></g><g transform=\"translate(-150,-62) scale(1,1)\"><path d=\"M 360 678 L 520.099609375 678\" fill=\"none\" stroke=\"#000000\" stroke-miterlimit=\"10\"/></g><g transform=\"translate(-150,-62) scale(1,1)\"><g><path fill=\"none\" stroke=\"none\"/><text fill=\"#000000\" font-family=\"Arial\" font-size=\"13px\" font-style=\"normal\" font-weight=\"normal\" stroke=\"none\" text-decoration=\"none\" x=\"406.0498046875\" y=\"657.5\">«dataType»</text></g></g><g transform=\"translate(-150,-62) scale(1,1)\"><g><path fill=\"none\" stroke=\"none\"/><text fill=\"#000000\" font-family=\"Arial\" font-size=\"13px\" font-style=\"normal\" font-weight=\"bold\" stroke=\"none\" text-decoration=\"none\" x=\"388.0498046875\" y=\"672.5\">LinearSquareLoss</text></g></g><g transform=\"translate(-150,-62) scale(1,1)\"><g><path fill=\"none\" stroke=\"none\"/><text fill=\"#000000\" font-family=\"Arial\" font-size=\"13px\" font-style=\"normal\" font-weight=\"normal\" stroke=\"none\" text-decoration=\"none\" x=\"365\" y=\"695.5\">+FirstOrderGradient()</text></g></g><g transform=\"translate(-150,-62) scale(1,1)\"><g><path fill=\"none\" stroke=\"none\"/><text fill=\"#000000\" font-family=\"Arial\" font-size=\"13px\" font-style=\"normal\" font-weight=\"normal\" stroke=\"none\" text-decoration=\"none\" x=\"365\" y=\"710.5\">+SecondOrderGradient()</text></g></g><g transform=\"translate(-150,-62) scale(1,1)\"><g><path fill=\"none\" stroke=\"none\"/><text fill=\"#000000\" font-family=\"Arial\" font-size=\"13px\" font-style=\"normal\" font-weight=\"normal\" stroke=\"none\" text-decoration=\"none\" x=\"365\" y=\"725.5\">+PredTransform()</text></g></g><g transform=\"translate(-150,-62) scale(1,1)\"><rect fill=\"#C0C0C0\" height=\"72\" opacity=\"0.2\" stroke=\"none\" width=\"117.44970703125\" x=\"823\" y=\"343\"/></g><g transform=\"translate(-150,-62) scale(1,1)\"><rect fill=\"#ffffff\" height=\"72\" stroke=\"none\" width=\"117.44970703125\" x=\"816\" y=\"336\"/></g><g transform=\"translate(-150,-62) scale(1,1)\"><path d=\"M 816 336 L 933.44970703125 336 L 933.44970703125 408 L 816 408 L 816 336 Z Z\" fill=\"none\" stroke=\"#000000\" stroke-miterlimit=\"10\"/></g><g transform=\"translate(-150,-62) scale(1,1)\"><path d=\"M 816 361 L 933.44970703125 361\" fill=\"none\" stroke=\"#000000\" stroke-miterlimit=\"10\"/></g><g transform=\"translate(-150,-62) scale(1,1)\"><path d=\"M 816 371 L 933.44970703125 371\" fill=\"none\" stroke=\"#000000\" stroke-miterlimit=\"10\"/></g><g transform=\"translate(-150,-62) scale(1,1)\"><g><path fill=\"none\" stroke=\"none\"/><text fill=\"#000000\" font-family=\"Arial\" font-size=\"13px\" font-style=\"normal\" font-weight=\"bold\" stroke=\"none\" text-decoration=\"none\" x=\"827.724853515625\" y=\"355.5\">GradientBooster</text></g></g><g transform=\"translate(-150,-62) scale(1,1)\"><g><path fill=\"none\" stroke=\"none\"/><text fill=\"#000000\" font-family=\"Arial\" font-size=\"13px\" font-style=\"normal\" font-weight=\"normal\" stroke=\"none\" text-decoration=\"none\" x=\"821\" y=\"388.5\">+Create()</text></g></g><g transform=\"translate(-150,-62) scale(1,1)\"><g><path fill=\"none\" stroke=\"none\"/><text fill=\"#000000\" font-family=\"Arial\" font-size=\"13px\" font-style=\"normal\" font-weight=\"normal\" stroke=\"none\" text-decoration=\"none\" x=\"821\" y=\"403.5\">+DoBoost()</text></g></g><g transform=\"translate(-150,-62) scale(1,1)\"><rect fill=\"#C0C0C0\" height=\"115\" opacity=\"0.2\" stroke=\"none\" width=\"120.61083984375\" x=\"823\" y=\"503\"/></g><g transform=\"translate(-150,-62) scale(1,1)\"><rect fill=\"#ffffff\" height=\"115\" stroke=\"none\" width=\"120.61083984375\" x=\"816\" y=\"496\"/></g><g transform=\"translate(-150,-62) scale(1,1)\"><path d=\"M 816 496 L 936.61083984375 496 L 936.61083984375 611 L 816 611 L 816 496 Z Z\" fill=\"none\" stroke=\"#000000\" stroke-miterlimit=\"10\"/></g><g transform=\"translate(-150,-62) scale(1,1)\"><path d=\"M 816 521 L 936.61083984375 521\" fill=\"none\" stroke=\"#000000\" stroke-miterlimit=\"10\"/></g><g transform=\"translate(-150,-62) scale(1,1)\"><path d=\"M 816 559 L 936.61083984375 559\" fill=\"none\" stroke=\"#000000\" stroke-miterlimit=\"10\"/></g><g transform=\"translate(-150,-62) scale(1,1)\"><g><path fill=\"none\" stroke=\"none\"/><text fill=\"#000000\" font-family=\"Arial\" font-size=\"13px\" font-style=\"normal\" font-weight=\"bold\" stroke=\"none\" text-decoration=\"none\" x=\"853.805419921875\" y=\"515.5\">GBTree</text></g></g><g transform=\"translate(-150,-62) scale(1,1)\"><g><path fill=\"none\" stroke=\"none\"/><text fill=\"#000000\" font-family=\"Arial\" font-size=\"13px\" font-style=\"normal\" font-weight=\"normal\" stroke=\"none\" text-decoration=\"none\" x=\"821\" y=\"538.5\">+trees</text></g></g><g transform=\"translate(-150,-62) scale(1,1)\"><g><path fill=\"none\" stroke=\"none\"/><text fill=\"#000000\" font-family=\"Arial\" font-size=\"13px\" font-style=\"normal\" font-weight=\"normal\" stroke=\"none\" text-decoration=\"none\" x=\"821\" y=\"553.5\">+updaters</text></g></g><g transform=\"translate(-150,-62) scale(1,1)\"><g><path fill=\"none\" stroke=\"none\"/><text fill=\"#000000\" font-family=\"Arial\" font-size=\"13px\" font-style=\"normal\" font-weight=\"normal\" stroke=\"none\" text-decoration=\"none\" x=\"821\" y=\"576.5\">+DoBoost()</text></g></g><g transform=\"translate(-150,-62) scale(1,1)\"><g><path fill=\"none\" stroke=\"none\"/><text fill=\"#000000\" font-family=\"Arial\" font-size=\"13px\" font-style=\"normal\" font-weight=\"normal\" stroke=\"none\" text-decoration=\"none\" x=\"821\" y=\"591.5\">#BoostNewTrees()</text></g></g><g transform=\"translate(-150,-62) scale(1,1)\"><g><path fill=\"none\" stroke=\"none\"/><text fill=\"#000000\" font-family=\"Arial\" font-size=\"13px\" font-style=\"normal\" font-weight=\"normal\" stroke=\"none\" text-decoration=\"none\" x=\"821\" y=\"606.5\">+CommitModel()</text></g></g><g transform=\"translate(-150,-62) scale(1,1)\"><rect fill=\"#C0C0C0\" height=\"102\" opacity=\"0.2\" stroke=\"none\" width=\"92.19873046875\" x=\"407\" y=\"103\"/></g><g transform=\"translate(-150,-62) scale(1,1)\"><rect fill=\"#ffffff\" height=\"102\" stroke=\"none\" width=\"92.19873046875\" x=\"400\" y=\"96\"/></g><g transform=\"translate(-150,-62) scale(1,1)\"><path d=\"M 400 96 L 492.19873046875 96 L 492.19873046875 198 L 400 198 L 400 96 Z Z\" fill=\"none\" stroke=\"#000000\" stroke-miterlimit=\"10\"/></g><g transform=\"translate(-150,-62) scale(1,1)\"><path d=\"M 400 121 L 492.19873046875 121\" fill=\"none\" stroke=\"#000000\" stroke-miterlimit=\"10\"/></g><g transform=\"translate(-150,-62) scale(1,1)\"><path d=\"M 400 189 L 492.19873046875 189\" fill=\"none\" stroke=\"#000000\" stroke-miterlimit=\"10\"/></g><g transform=\"translate(-150,-62) scale(1,1)\"><g><path fill=\"none\" stroke=\"none\"/><text fill=\"#000000\" font-family=\"Arial\" font-size=\"13px\" font-style=\"normal\" font-weight=\"bold\" stroke=\"none\" text-decoration=\"none\" x=\"424.599365234375\" y=\"115.5\">Learner</text></g></g><g transform=\"translate(-150,-62) scale(1,1)\"><g><path fill=\"none\" stroke=\"none\"/><text fill=\"#000000\" font-family=\"Arial\" font-size=\"13px\" font-style=\"normal\" font-weight=\"normal\" stroke=\"none\" text-decoration=\"none\" x=\"405\" y=\"138.5\">+base_score_</text></g></g><g transform=\"translate(-150,-62) scale(1,1)\"><g><path fill=\"none\" stroke=\"none\"/><text fill=\"#000000\" font-family=\"Arial\" font-size=\"13px\" font-style=\"normal\" font-weight=\"normal\" stroke=\"none\" text-decoration=\"none\" x=\"405\" y=\"153.5\">+obj_</text></g></g><g transform=\"translate(-150,-62) scale(1,1)\"><g><path fill=\"none\" stroke=\"none\"/><text fill=\"#000000\" font-family=\"Arial\" font-size=\"13px\" font-style=\"normal\" font-weight=\"normal\" stroke=\"none\" text-decoration=\"none\" x=\"405\" y=\"168.5\">+gbm_</text></g></g><g transform=\"translate(-150,-62) scale(1,1)\"><g><path fill=\"none\" stroke=\"none\"/><text fill=\"#000000\" font-family=\"Arial\" font-size=\"13px\" font-style=\"normal\" font-weight=\"normal\" stroke=\"none\" text-decoration=\"none\" x=\"405\" y=\"183.5\">+metrics_</text></g></g><g transform=\"translate(-150,-62) scale(1,1)\"><path d=\"M 297 148 L 399 147\" fill=\"none\" stroke=\"#000000\" stroke-miterlimit=\"10\"/></g><g transform=\"translate(-150,-62) scale(1,1)\"><path d=\"M 388.87908130816464 151.3089447470648 L 399 147 L 388.79654571075787 142.8903138115732\" fill=\"none\" stroke=\"#000000\" stroke-miterlimit=\"10\"/></g><g transform=\"translate(-150,-62) scale(1,1)\"><path d=\"M 623 146 L 493 147\" fill=\"none\" stroke=\"#000000\" stroke-miterlimit=\"10\"/></g><g transform=\"translate(-150,-62) scale(1,1)\"><path d=\"M 513.25998850454 138.42486934234216 L 493 147 L 513.3895082959123 155.2624422207313\" fill=\"#FFFFFF\" stroke=\"none\"/></g><g transform=\"translate(-150,-62) scale(1,1)\"><path d=\"M 513.25998850454 138.42486934234216 L 493 147 L 513.3895082959123 155.2624422207313 L 513.25998850454 138.42486934234216\" fill=\"none\" stroke=\"#000000\" stroke-miterlimit=\"10\"/></g><g transform=\"translate(-150,-62) scale(1,1)\"><path d=\"M 443 343 L 445 199\" fill=\"none\" stroke=\"#000000\" stroke-miterlimit=\"10\"/></g><g transform=\"translate(-150,-62) scale(1,1)\"><path d=\"M 449.06797715411676 209.22015468931778 L 445 199 L 440.6497535457958 209.10323491698 L 444.6944739112033 220.99787839336022\" fill=\"#000000\" stroke=\"none\"/></g><g transform=\"translate(-150,-62) scale(1,1)\"><path d=\"M 449.06797715411676 209.22015468931778 L 445 199 L 440.6497535457958 209.10323491698 L 444.6944739112033 220.99787839336022 L 449.06797715411676 209.22015468931778\" fill=\"none\" stroke=\"#000000\" stroke-miterlimit=\"10\"/></g><g transform=\"translate(-150,-62) scale(1,1)\"><path d=\"M 815 341 L 493 172\" fill=\"none\" stroke=\"#000000\" stroke-miterlimit=\"10\"/></g><g transform=\"translate(-150,-62) scale(1,1)\"><path d=\"M 503.9548588297968 172.99552399228875 L 493 172 L 500.0423131997094 180.45019673127194 L 512.4799986320579 182.22397443732234\" fill=\"#000000\" stroke=\"none\"/></g><g transform=\"translate(-150,-62) scale(1,1)\"><path d=\"M 503.9548588297968 172.99552399228875 L 493 172 L 500.0423131997094 180.45019673127194 L 512.4799986320579 182.22397443732234 L 503.9548588297968 172.99552399228875\" fill=\"none\" stroke=\"#000000\" stroke-miterlimit=\"10\"/></g><g transform=\"translate(-150,-62) scale(1,1)\"><path d=\"M 442 503 L 442 417\" fill=\"none\" stroke=\"#000000\" stroke-miterlimit=\"10\"/></g><g transform=\"translate(-150,-62) scale(1,1)\"><path d=\"M 450.419035512032 437.3253497152483 L 442 417 L 433.580964487968 437.3253497152483\" fill=\"#FFFFFF\" stroke=\"none\"/></g><g transform=\"translate(-150,-62) scale(1,1)\"><path d=\"M 450.419035512032 437.3253497152483 L 442 417 L 433.580964487968 437.3253497152483 L 450.419035512032 437.3253497152483\" fill=\"none\" stroke=\"#000000\" stroke-miterlimit=\"10\"/></g><g transform=\"translate(-150,-62) scale(1,1)\"><path d=\"M 875 495 L 874 409\" fill=\"none\" stroke=\"#000000\" stroke-miterlimit=\"10\"/></g><g transform=\"translate(-150,-62) scale(1,1)\"><path d=\"M 882.6547917080734 429.2260866331049 L 874 409 L 865.8178588914008 429.4218649216708\" fill=\"#FFFFFF\" stroke=\"none\"/></g><g transform=\"translate(-150,-62) scale(1,1)\"><path d=\"M 882.6547917080734 429.2260866331049 L 874 409 L 865.8178588914008 429.4218649216708 L 882.6547917080734 429.2260866331049\" fill=\"none\" stroke=\"#000000\" stroke-miterlimit=\"10\"/></g><g transform=\"translate(-150,-62) scale(1,1)\"><path d=\"M 442 562 L 441 639\" fill=\"none\" stroke=\"#000000\" stroke-dasharray=\"3\" stroke-miterlimit=\"10\"/></g><g transform=\"translate(-150,-62) scale(1,1)\"><path d=\"M 436.9228088544847 628.7835176130465 L 441 639 L 445.3411344685001 628.8928465171246\" fill=\"none\" stroke=\"#000000\" stroke-miterlimit=\"10\"/></g><g transform=\"translate(-150,-62) scale(1,1)\"><rect fill=\"#C0C0C0\" height=\"90\" opacity=\"0.2\" stroke=\"none\" width=\"160.099609375\" x=\"167\" y=\"647\"/></g><g transform=\"translate(-150,-62) scale(1,1)\"><rect fill=\"#ffffff\" height=\"90\" stroke=\"none\" width=\"160.099609375\" x=\"160\" y=\"640\"/></g><g transform=\"translate(-150,-62) scale(1,1)\"><path d=\"M 160 640 L 320.099609375 640 L 320.099609375 730 L 160 730 L 160 640 Z Z\" fill=\"none\" stroke=\"#000000\" stroke-miterlimit=\"10\"/></g><g transform=\"translate(-150,-62) scale(1,1)\"><path d=\"M 160 678 L 320.099609375 678\" fill=\"none\" stroke=\"#000000\" stroke-miterlimit=\"10\"/></g><g transform=\"translate(-150,-62) scale(1,1)\"><g><path fill=\"none\" stroke=\"none\"/><text fill=\"#000000\" font-family=\"Arial\" font-size=\"13px\" font-style=\"normal\" font-weight=\"normal\" stroke=\"none\" text-decoration=\"none\" x=\"206.0498046875\" y=\"657.5\">«dataType»</text></g></g><g transform=\"translate(-150,-62) scale(1,1)\"><g><path fill=\"none\" stroke=\"none\"/><text fill=\"#000000\" font-family=\"Arial\" font-size=\"13px\" font-style=\"normal\" font-weight=\"bold\" stroke=\"none\" text-decoration=\"none\" x=\"185.0498046875\" y=\"672.5\">LogisticRegression</text></g></g><g transform=\"translate(-150,-62) scale(1,1)\"><g><path fill=\"none\" stroke=\"none\"/><text fill=\"#000000\" font-family=\"Arial\" font-size=\"13px\" font-style=\"normal\" font-weight=\"normal\" stroke=\"none\" text-decoration=\"none\" x=\"165\" y=\"695.5\">+FirstOrderGradient()</text></g></g><g transform=\"translate(-150,-62) scale(1,1)\"><g><path fill=\"none\" stroke=\"none\"/><text fill=\"#000000\" font-family=\"Arial\" font-size=\"13px\" font-style=\"normal\" font-weight=\"normal\" stroke=\"none\" text-decoration=\"none\" x=\"165\" y=\"710.5\">+SecondOrderGradient()</text></g></g><g transform=\"translate(-150,-62) scale(1,1)\"><g><path fill=\"none\" stroke=\"none\"/><text fill=\"#000000\" font-family=\"Arial\" font-size=\"13px\" font-style=\"normal\" font-weight=\"normal\" stroke=\"none\" text-decoration=\"none\" x=\"165\" y=\"725.5\">+PredTransform()</text></g></g><g transform=\"translate(-150,-62) scale(1,1)\"><path d=\"M 402 562 L 301 639\" fill=\"none\" stroke=\"#000000\" stroke-dasharray=\"3\" stroke-miterlimit=\"10\"/></g><g transform=\"translate(-150,-62) scale(1,1)\"><path d=\"M 306.5297285288148 629.4909462932628 L 301 639 L 311.6340248995466 636.1861921821447\" fill=\"none\" stroke=\"#000000\" stroke-miterlimit=\"10\"/></g><g transform=\"translate(-150,-62) scale(1,1)\"><rect fill=\"#C0C0C0\" height=\"57\" opacity=\"0.2\" stroke=\"none\" width=\"89.513671875\" x=\"695\" y=\"831\"/></g><g transform=\"translate(-150,-62) scale(1,1)\"><rect fill=\"#ffffff\" height=\"57\" stroke=\"none\" width=\"89.513671875\" x=\"688\" y=\"824\"/></g><g transform=\"translate(-150,-62) scale(1,1)\"><path d=\"M 688 824 L 777.513671875 824 L 777.513671875 881 L 688 881 L 688 824 Z Z\" fill=\"none\" stroke=\"#000000\" stroke-miterlimit=\"10\"/></g><g transform=\"translate(-150,-62) scale(1,1)\"><path d=\"M 688 849 L 777.513671875 849\" fill=\"none\" stroke=\"#000000\" stroke-miterlimit=\"10\"/></g><g transform=\"translate(-150,-62) scale(1,1)\"><path d=\"M 688 859 L 777.513671875 859\" fill=\"none\" stroke=\"#000000\" stroke-miterlimit=\"10\"/></g><g transform=\"translate(-150,-62) scale(1,1)\"><g><path fill=\"none\" stroke=\"none\"/><text fill=\"#000000\" font-family=\"Arial\" font-size=\"13px\" font-style=\"normal\" font-weight=\"bold\" stroke=\"none\" text-decoration=\"none\" x=\"708.2568359375\" y=\"843.5\">RegTree</text></g></g><g transform=\"translate(-150,-62) scale(1,1)\"><g><path fill=\"none\" stroke=\"none\"/><text fill=\"#000000\" font-family=\"Arial\" font-size=\"13px\" font-style=\"normal\" font-weight=\"normal\" stroke=\"none\" text-decoration=\"none\" x=\"693\" y=\"876.5\">+AddChilds()</text></g></g><g transform=\"translate(-150,-62) scale(1,1)\"><rect fill=\"#C0C0C0\" height=\"72\" opacity=\"0.2\" stroke=\"none\" width=\"92.35107421875\" x=\"1167\" y=\"711\"/></g><g transform=\"translate(-150,-62) scale(1,1)\"><rect fill=\"#ffffff\" height=\"72\" stroke=\"none\" width=\"92.35107421875\" x=\"1160\" y=\"704\"/></g><g transform=\"translate(-150,-62) scale(1,1)\"><path d=\"M 1160 704 L 1252.35107421875 704 L 1252.35107421875 776 L 1160 776 L 1160 704 Z Z\" fill=\"none\" stroke=\"#000000\" stroke-miterlimit=\"10\"/></g><g transform=\"translate(-150,-62) scale(1,1)\"><path d=\"M 1160 729 L 1252.35107421875 729\" fill=\"none\" stroke=\"#000000\" stroke-miterlimit=\"10\"/></g><g transform=\"translate(-150,-62) scale(1,1)\"><path d=\"M 1160 739 L 1252.35107421875 739\" fill=\"none\" stroke=\"#000000\" stroke-miterlimit=\"10\"/></g><g transform=\"translate(-150,-62) scale(1,1)\"><g><path fill=\"none\" stroke=\"none\"/><text fill=\"#000000\" font-family=\"Arial\" font-size=\"13px\" font-style=\"normal\" font-weight=\"bold\" stroke=\"none\" text-decoration=\"none\" x=\"1170.675537109375\" y=\"723.5\">TreeUpdater</text></g></g><g transform=\"translate(-150,-62) scale(1,1)\"><g><path fill=\"none\" stroke=\"none\"/><text fill=\"#000000\" font-family=\"Arial\" font-size=\"13px\" font-style=\"normal\" font-weight=\"normal\" stroke=\"none\" text-decoration=\"none\" x=\"1165\" y=\"756.5\">+Update()</text></g></g><g transform=\"translate(-150,-62) scale(1,1)\"><g><path fill=\"none\" stroke=\"none\"/><text fill=\"#000000\" font-family=\"Arial\" font-size=\"13px\" font-style=\"normal\" font-weight=\"normal\" stroke=\"none\" text-decoration=\"none\" x=\"1165\" y=\"771.5\">+Create()</text></g></g><g transform=\"translate(-150,-62) scale(1,1)\"><rect fill=\"#C0C0C0\" height=\"44\" opacity=\"0.2\" stroke=\"none\" width=\"79.6748046875\" x=\"703\" y=\"727\"/></g><g transform=\"translate(-150,-62) scale(1,1)\"><rect fill=\"#ffffff\" height=\"44\" stroke=\"none\" width=\"79.6748046875\" x=\"696\" y=\"720\"/></g><g transform=\"translate(-150,-62) scale(1,1)\"><path d=\"M 696 720 L 775.6748046875 720 L 775.6748046875 764 L 696 764 L 696 720 Z Z\" fill=\"none\" stroke=\"#000000\" stroke-miterlimit=\"10\"/></g><g transform=\"translate(-150,-62) scale(1,1)\"><path d=\"M 696 745 L 775.6748046875 745\" fill=\"none\" stroke=\"#000000\" stroke-miterlimit=\"10\"/></g><g transform=\"translate(-150,-62) scale(1,1)\"><path d=\"M 696 755 L 775.6748046875 755\" fill=\"none\" stroke=\"#000000\" stroke-miterlimit=\"10\"/></g><g transform=\"translate(-150,-62) scale(1,1)\"><g><path fill=\"none\" stroke=\"none\"/><text fill=\"#000000\" font-family=\"Arial\" font-size=\"13px\" font-style=\"normal\" font-weight=\"bold\" stroke=\"none\" text-decoration=\"none\" x=\"705.33740234375\" y=\"739.5\">TreeModel</text></g></g><g transform=\"translate(-150,-62) scale(1,1)\"><path d=\"M 733 823 L 734 765\" fill=\"none\" stroke=\"#000000\" stroke-miterlimit=\"10\"/></g><g transform=\"translate(-150,-62) scale(1,1)\"><path d=\"M 742.0673994586763 785.4674635940595 L 734 765 L 725.2318305627224 785.1771951648188\" fill=\"#FFFFFF\" stroke=\"none\"/></g><g transform=\"translate(-150,-62) scale(1,1)\"><path d=\"M 742.0673994586763 785.4674635940595 L 734 765 L 725.2318305627224 785.1771951648188 L 742.0673994586763 785.4674635940595\" fill=\"none\" stroke=\"#000000\" stroke-miterlimit=\"10\"/></g><g transform=\"translate(-150,-62) scale(1,1)\"><rect fill=\"#C0C0C0\" height=\"57\" opacity=\"0.2\" stroke=\"none\" width=\"88\" x=\"983\" y=\"863\"/></g><g transform=\"translate(-150,-62) scale(1,1)\"><rect fill=\"#ffffff\" height=\"57\" stroke=\"none\" width=\"88\" x=\"976\" y=\"856\"/></g><g transform=\"translate(-150,-62) scale(1,1)\"><path d=\"M 976 856 L 1064 856 L 1064 913 L 976 913 L 976 856 Z Z\" fill=\"none\" stroke=\"#000000\" stroke-miterlimit=\"10\"/></g><g transform=\"translate(-150,-62) scale(1,1)\"><path d=\"M 976 881 L 1064 881\" fill=\"none\" stroke=\"#000000\" stroke-miterlimit=\"10\"/></g><g transform=\"translate(-150,-62) scale(1,1)\"><path d=\"M 976 891 L 1064 891\" fill=\"none\" stroke=\"#000000\" stroke-miterlimit=\"10\"/></g><g transform=\"translate(-150,-62) scale(1,1)\"><g><path fill=\"none\" stroke=\"none\"/><text fill=\"#000000\" font-family=\"Arial\" font-size=\"13px\" font-style=\"normal\" font-weight=\"bold\" stroke=\"none\" text-decoration=\"none\" x=\"992.5\" y=\"875.5\">ColMaker</text></g></g><g transform=\"translate(-150,-62) scale(1,1)\"><g><path fill=\"none\" stroke=\"none\"/><text fill=\"#000000\" font-family=\"Arial\" font-size=\"13px\" font-style=\"normal\" font-weight=\"normal\" stroke=\"none\" text-decoration=\"none\" x=\"981\" y=\"908.5\">+Update()</text></g></g><g transform=\"translate(-150,-62) scale(1,1)\"><rect fill=\"#C0C0C0\" height=\"120\" opacity=\"0.2\" stroke=\"none\" width=\"156.798828125\" x=\"943\" y=\"983\"/></g><g transform=\"translate(-150,-62) scale(1,1)\"><rect fill=\"#ffffff\" height=\"120\" stroke=\"none\" width=\"156.798828125\" x=\"936\" y=\"976\"/></g><g transform=\"translate(-150,-62) scale(1,1)\"><path d=\"M 936 976 L 1092.798828125 976 L 1092.798828125 1096 L 936 1096 L 936 976 Z Z\" fill=\"none\" stroke=\"#000000\" stroke-miterlimit=\"10\"/></g><g transform=\"translate(-150,-62) scale(1,1)\"><path d=\"M 936 1014 L 1092.798828125 1014\" fill=\"none\" stroke=\"#000000\" stroke-miterlimit=\"10\"/></g><g transform=\"translate(-150,-62) scale(1,1)\"><g><path fill=\"none\" stroke=\"none\"/><text fill=\"#000000\" font-family=\"Arial\" font-size=\"13px\" font-style=\"normal\" font-weight=\"normal\" stroke=\"none\" text-decoration=\"none\" x=\"980.3994140625\" y=\"993.5\">«dataType»</text></g></g><g transform=\"translate(-150,-62) scale(1,1)\"><g><path fill=\"none\" stroke=\"none\"/><text fill=\"#000000\" font-family=\"Arial\" font-size=\"13px\" font-style=\"normal\" font-weight=\"bold\" stroke=\"none\" text-decoration=\"none\" x=\"994.3994140625\" y=\"1008.5\">Builder</text></g></g><g transform=\"translate(-150,-62) scale(1,1)\"><g><path fill=\"none\" stroke=\"none\"/><text fill=\"#000000\" font-family=\"Arial\" font-size=\"13px\" font-style=\"normal\" font-weight=\"normal\" stroke=\"none\" text-decoration=\"none\" x=\"941\" y=\"1031.5\">+Update()</text></g></g><g transform=\"translate(-150,-62) scale(1,1)\"><g><path fill=\"none\" stroke=\"none\"/><text fill=\"#000000\" font-family=\"Arial\" font-size=\"13px\" font-style=\"normal\" font-weight=\"normal\" stroke=\"none\" text-decoration=\"none\" x=\"941\" y=\"1046.5\">+FindSplit()</text></g></g><g transform=\"translate(-150,-62) scale(1,1)\"><g><path fill=\"none\" stroke=\"none\"/><text fill=\"#000000\" font-family=\"Arial\" font-size=\"13px\" font-style=\"normal\" font-weight=\"normal\" stroke=\"none\" text-decoration=\"none\" x=\"941\" y=\"1061.5\">+UpdateQueueExpand()</text></g></g><g transform=\"translate(-150,-62) scale(1,1)\"><g><path fill=\"none\" stroke=\"none\"/><text fill=\"#000000\" font-family=\"Arial\" font-size=\"13px\" font-style=\"normal\" font-weight=\"normal\" stroke=\"none\" text-decoration=\"none\" x=\"941\" y=\"1076.5\">+UpdateSolution()</text></g></g><g transform=\"translate(-150,-62) scale(1,1)\"><g><path fill=\"none\" stroke=\"none\"/><text fill=\"#000000\" font-family=\"Arial\" font-size=\"13px\" font-style=\"normal\" font-weight=\"normal\" stroke=\"none\" text-decoration=\"none\" x=\"941\" y=\"1091.5\">+EnumerateSplit()</text></g></g><g transform=\"translate(-150,-62) scale(1,1)\"><rect fill=\"#C0C0C0\" height=\"75\" opacity=\"0.2\" stroke=\"none\" width=\"105.5478515625\" x=\"1087\" y=\"1343\"/></g><g transform=\"translate(-150,-62) scale(1,1)\"><rect fill=\"#ffffff\" height=\"75\" stroke=\"none\" width=\"105.5478515625\" x=\"1080\" y=\"1336\"/></g><g transform=\"translate(-150,-62) scale(1,1)\"><path d=\"M 1080 1336 L 1185.5478515625 1336 L 1185.5478515625 1411 L 1080 1411 L 1080 1336 Z Z\" fill=\"none\" stroke=\"#000000\" stroke-miterlimit=\"10\"/></g><g transform=\"translate(-150,-62) scale(1,1)\"><path d=\"M 1080 1374 L 1185.5478515625 1374\" fill=\"none\" stroke=\"#000000\" stroke-miterlimit=\"10\"/></g><g transform=\"translate(-150,-62) scale(1,1)\"><g><path fill=\"none\" stroke=\"none\"/><text fill=\"#000000\" font-family=\"Arial\" font-size=\"13px\" font-style=\"normal\" font-weight=\"normal\" stroke=\"none\" text-decoration=\"none\" x=\"1098.77392578125\" y=\"1353.5\">«dataType»</text></g></g><g transform=\"translate(-150,-62) scale(1,1)\"><g><path fill=\"none\" stroke=\"none\"/><text fill=\"#000000\" font-family=\"Arial\" font-size=\"13px\" font-style=\"normal\" font-weight=\"bold\" stroke=\"none\" text-decoration=\"none\" x=\"1104.27392578125\" y=\"1368.5\">SplitEntry</text></g></g><g transform=\"translate(-150,-62) scale(1,1)\"><g><path fill=\"none\" stroke=\"none\"/><text fill=\"#000000\" font-family=\"Arial\" font-size=\"13px\" font-style=\"normal\" font-weight=\"normal\" stroke=\"none\" text-decoration=\"none\" x=\"1085\" y=\"1391.5\">+Update()</text></g></g><g transform=\"translate(-150,-62) scale(1,1)\"><g><path fill=\"none\" stroke=\"none\"/><text fill=\"#000000\" font-family=\"Arial\" font-size=\"13px\" font-style=\"normal\" font-weight=\"normal\" stroke=\"none\" text-decoration=\"none\" x=\"1085\" y=\"1406.5\">+NeedReplace()</text></g></g><g transform=\"translate(-150,-62) scale(1,1)\"><rect fill=\"#C0C0C0\" height=\"60\" opacity=\"0.2\" stroke=\"none\" width=\"88\" x=\"863\" y=\"1351\"/></g><g transform=\"translate(-150,-62) scale(1,1)\"><rect fill=\"#ffffff\" height=\"60\" stroke=\"none\" width=\"88\" x=\"856\" y=\"1344\"/></g><g transform=\"translate(-150,-62) scale(1,1)\"><path d=\"M 856 1344 L 944 1344 L 944 1404 L 856 1404 L 856 1344 Z Z\" fill=\"none\" stroke=\"#000000\" stroke-miterlimit=\"10\"/></g><g transform=\"translate(-150,-62) scale(1,1)\"><path d=\"M 856 1382 L 944 1382\" fill=\"none\" stroke=\"#000000\" stroke-miterlimit=\"10\"/></g><g transform=\"translate(-150,-62) scale(1,1)\"><g><path fill=\"none\" stroke=\"none\"/><text fill=\"#000000\" font-family=\"Arial\" font-size=\"13px\" font-style=\"normal\" font-weight=\"normal\" stroke=\"none\" text-decoration=\"none\" x=\"866\" y=\"1361.5\">«dataType»</text></g></g><g transform=\"translate(-150,-62) scale(1,1)\"><g><path fill=\"none\" stroke=\"none\"/><text fill=\"#000000\" font-family=\"Arial\" font-size=\"13px\" font-style=\"normal\" font-weight=\"bold\" stroke=\"none\" text-decoration=\"none\" x=\"870.5\" y=\"1376.5\">GradStats</text></g></g><g transform=\"translate(-150,-62) scale(1,1)\"><g><path fill=\"none\" stroke=\"none\"/><text fill=\"#000000\" font-family=\"Arial\" font-size=\"13px\" font-style=\"normal\" font-weight=\"normal\" stroke=\"none\" text-decoration=\"none\" x=\"861\" y=\"1399.5\">+CalcGain()</text></g></g><g transform=\"translate(-150,-62) scale(1,1)\"><rect fill=\"#C0C0C0\" height=\"75\" opacity=\"0.2\" stroke=\"none\" width=\"91.392578125\" x=\"975\" y=\"1175\"/></g><g transform=\"translate(-150,-62) scale(1,1)\"><rect fill=\"#ffffff\" height=\"75\" stroke=\"none\" width=\"91.392578125\" x=\"968\" y=\"1168\"/></g><g transform=\"translate(-150,-62) scale(1,1)\"><path d=\"M 968 1168 L 1059.392578125 1168 L 1059.392578125 1243 L 968 1243 L 968 1168 Z Z\" fill=\"none\" stroke=\"#000000\" stroke-miterlimit=\"10\"/></g><g transform=\"translate(-150,-62) scale(1,1)\"><path d=\"M 968 1206 L 1059.392578125 1206\" fill=\"none\" stroke=\"#000000\" stroke-miterlimit=\"10\"/></g><g transform=\"translate(-150,-62) scale(1,1)\"><g><path fill=\"none\" stroke=\"none\"/><text fill=\"#000000\" font-family=\"Arial\" font-size=\"13px\" font-style=\"normal\" font-weight=\"normal\" stroke=\"none\" text-decoration=\"none\" x=\"979.6962890625\" y=\"1185.5\">«dataType»</text></g></g><g transform=\"translate(-150,-62) scale(1,1)\"><g><path fill=\"none\" stroke=\"none\"/><text fill=\"#000000\" font-family=\"Arial\" font-size=\"13px\" font-style=\"normal\" font-weight=\"bold\" stroke=\"none\" text-decoration=\"none\" x=\"978.1962890625\" y=\"1200.5\">ThreadEntry</text></g></g><g transform=\"translate(-150,-62) scale(1,1)\"><g><path fill=\"none\" stroke=\"none\"/><text fill=\"#000000\" font-family=\"Arial\" font-size=\"13px\" font-style=\"normal\" font-weight=\"normal\" stroke=\"none\" text-decoration=\"none\" x=\"973\" y=\"1223.5\">+stats</text></g></g><g transform=\"translate(-150,-62) scale(1,1)\"><g><path fill=\"none\" stroke=\"none\"/><text fill=\"#000000\" font-family=\"Arial\" font-size=\"13px\" font-style=\"normal\" font-weight=\"normal\" stroke=\"none\" text-decoration=\"none\" x=\"973\" y=\"1238.5\">+best</text></g></g><g transform=\"translate(-150,-62) scale(1,1)\"><path d=\"M 921 1343 L 987 1244\" fill=\"none\" stroke=\"#000000\" stroke-miterlimit=\"10\"/></g><g transform=\"translate(-150,-62) scale(1,1)\"><path d=\"M 984.8652927502162 1254.7908769318217 L 987 1244 L 977.8602317743891 1250.1208362812704 L 974.796595683045 1262.3051064754325\" fill=\"#000000\" stroke=\"none\"/></g><g transform=\"translate(-150,-62) scale(1,1)\"><path d=\"M 984.8652927502162 1254.7908769318217 L 987 1244 L 977.8602317743891 1250.1208362812704 L 974.796595683045 1262.3051064754325 L 984.8652927502162 1254.7908769318217\" fill=\"none\" stroke=\"#000000\" stroke-miterlimit=\"10\"/></g><g transform=\"translate(-150,-62) scale(1,1)\"><path d=\"M 1105 1335 L 1041 1244\" fill=\"none\" stroke=\"#000000\" stroke-miterlimit=\"10\"/></g><g transform=\"translate(-150,-62) scale(1,1)\"><path d=\"M 1050.2895194691034 1249.8910803791111 L 1041 1244 L 1043.403059325983 1254.734305095152 L 1053.6559560891055 1261.995187564197\" fill=\"#000000\" stroke=\"none\"/></g><g transform=\"translate(-150,-62) scale(1,1)\"><path d=\"M 1050.2895194691034 1249.8910803791111 L 1041 1244 L 1043.403059325983 1254.734305095152 L 1053.6559560891055 1261.995187564197 L 1050.2895194691034 1249.8910803791111\" fill=\"none\" stroke=\"#000000\" stroke-miterlimit=\"10\"/></g><g transform=\"translate(-150,-62) scale(1,1)\"><path d=\"M 1014 1097 L 1013 1167\" fill=\"none\" stroke=\"#000000\" stroke-miterlimit=\"10\"/></g><g transform=\"translate(-150,-62) scale(1,1)\"><path d=\"M 1008.936077978144 1156.7782321587567 L 1013 1167 L 1017.3542545363899 1156.8984918238746\" fill=\"none\" stroke=\"#000000\" stroke-miterlimit=\"10\"/></g><g transform=\"translate(-150,-62) scale(1,1)\"><path d=\"M 1057 855 L 1159 776\" fill=\"none\" stroke=\"#000000\" stroke-miterlimit=\"10\"/></g><g transform=\"translate(-150,-62) scale(1,1)\"><path d=\"M 1148.085948328927 795.101923361828 L 1159 776 L 1137.7755005103097 781.7896995960182\" fill=\"#FFFFFF\" stroke=\"none\"/></g><g transform=\"translate(-150,-62) scale(1,1)\"><path d=\"M 1148.085948328927 795.101923361828 L 1159 776 L 1137.7755005103097 781.7896995960182 L 1148.085948328927 795.101923361828\" fill=\"none\" stroke=\"#000000\" stroke-miterlimit=\"10\"/></g><g transform=\"translate(-150,-62) scale(1,1)\"><path d=\"M 1019 914 L 1016 975\" fill=\"none\" stroke=\"#000000\" stroke-miterlimit=\"10\"/></g><g transform=\"translate(-150,-62) scale(1,1)\"><path d=\"M 1012.2947641548461 964.642817596866 L 1016 975 L 1020.7036365192382 965.0563686967542\" fill=\"none\" stroke=\"#000000\" stroke-miterlimit=\"10\"/></g><g transform=\"translate(-150,-62) scale(1,1)\"><path d=\"M 1159 713 L 938 588\" fill=\"none\" stroke=\"#000000\" stroke-miterlimit=\"10\"/></g><g transform=\"translate(-150,-62) scale(1,1)\"><path d=\"M 948.9181720258158 589.3392235118506 L 938 588 L 944.7733394508616 596.6672875043696 L 957.149154033739 598.8309694760967\" fill=\"#000000\" stroke=\"none\"/></g><g transform=\"translate(-150,-62) scale(1,1)\"><path d=\"M 948.9181720258158 589.3392235118506 L 938 588 L 944.7733394508616 596.6672875043696 L 957.149154033739 598.8309694760967 L 948.9181720258158 589.3392235118506\" fill=\"none\" stroke=\"#000000\" stroke-miterlimit=\"10\"/></g><g transform=\"translate(-150,-62) scale(1,1)\"><path d=\"M 752 719 L 832 612\" fill=\"none\" stroke=\"#000000\" stroke-miterlimit=\"10\"/></g><g transform=\"translate(-150,-62) scale(1,1)\"><path d=\"M 829.2859642034157 622.6599254075654 L 832 612 L 822.5431813412199 617.6185924264845 L 818.8263620666196 629.6197407358962\" fill=\"#000000\" stroke=\"none\"/></g><g transform=\"translate(-150,-62) scale(1,1)\"><path d=\"M 829.2859642034157 622.6599254075654 L 832 612 L 822.5431813412199 617.6185924264845 L 818.8263620666196 629.6197407358962 L 829.2859642034157 622.6599254075654\" fill=\"none\" stroke=\"#000000\" stroke-miterlimit=\"10\"/></g><g transform=\"translate(-150,-62) scale(1,1)\"><path d=\"M 935 984 L 778 882\" fill=\"none\" stroke=\"#000000\" stroke-miterlimit=\"10\"/></g><g transform=\"translate(-150,-62) scale(1,1)\"><path d=\"M 788.8154175912207 884.0066744448252 L 778 882 L 784.2287220125468 891.0665882276861\" fill=\"none\" stroke=\"#000000\" stroke-miterlimit=\"10\"/></g><g transform=\"translate(-150,-62) scale(1,1)\"><rect fill=\"#C0C0C0\" height=\"44\" opacity=\"0.2\" stroke=\"none\" width=\"77.1865234375\" x=\"1407\" y=\"983\"/></g><g transform=\"translate(-150,-62) scale(1,1)\"><rect fill=\"#ffffff\" height=\"44\" stroke=\"none\" width=\"77.1865234375\" x=\"1400\" y=\"976\"/></g><g transform=\"translate(-150,-62) scale(1,1)\"><path d=\"M 1400 976 L 1477.1865234375 976 L 1477.1865234375 1020 L 1400 1020 L 1400 976 Z Z\" fill=\"none\" stroke=\"#000000\" stroke-miterlimit=\"10\"/></g><g transform=\"translate(-150,-62) scale(1,1)\"><path d=\"M 1400 1001 L 1477.1865234375 1001\" fill=\"none\" stroke=\"#000000\" stroke-miterlimit=\"10\"/></g><g transform=\"translate(-150,-62) scale(1,1)\"><path d=\"M 1400 1011 L 1477.1865234375 1011\" fill=\"none\" stroke=\"#000000\" stroke-miterlimit=\"10\"/></g><g transform=\"translate(-150,-62) scale(1,1)\"><g><path fill=\"none\" stroke=\"none\"/><text fill=\"#000000\" font-family=\"Arial\" font-size=\"13px\" font-style=\"normal\" font-weight=\"bold\" stroke=\"none\" text-decoration=\"none\" x=\"1409.09326171875\" y=\"995.5\">HistMaker</text></g></g><g transform=\"translate(-150,-62) scale(1,1)\"><rect fill=\"#C0C0C0\" height=\"44\" opacity=\"0.2\" stroke=\"none\" width=\"80.9951171875\" x=\"1407\" y=\"855\"/></g><g transform=\"translate(-150,-62) scale(1,1)\"><rect fill=\"#ffffff\" height=\"44\" stroke=\"none\" width=\"80.9951171875\" x=\"1400\" y=\"848\"/></g><g transform=\"translate(-150,-62) scale(1,1)\"><path d=\"M 1400 848 L 1480.9951171875 848 L 1480.9951171875 892 L 1400 892 L 1400 848 Z Z\" fill=\"none\" stroke=\"#000000\" stroke-miterlimit=\"10\"/></g><g transform=\"translate(-150,-62) scale(1,1)\"><path d=\"M 1400 873 L 1480.9951171875 873\" fill=\"none\" stroke=\"#000000\" stroke-miterlimit=\"10\"/></g><g transform=\"translate(-150,-62) scale(1,1)\"><path d=\"M 1400 883 L 1480.9951171875 883\" fill=\"none\" stroke=\"#000000\" stroke-miterlimit=\"10\"/></g><g transform=\"translate(-150,-62) scale(1,1)\"><g><path fill=\"none\" stroke=\"none\"/><text fill=\"#000000\" font-family=\"Arial\" font-size=\"13px\" font-style=\"normal\" font-weight=\"bold\" stroke=\"none\" text-decoration=\"none\" x=\"1407.49755859375\" y=\"867.5\">BaseMaker</text></g></g><g transform=\"translate(-150,-62) scale(1,1)\"><rect fill=\"#C0C0C0\" height=\"44\" opacity=\"0.2\" stroke=\"none\" width=\"97.15625\" x=\"1399\" y=\"1111\"/></g><g transform=\"translate(-150,-62) scale(1,1)\"><rect fill=\"#ffffff\" height=\"44\" stroke=\"none\" width=\"97.15625\" x=\"1392\" y=\"1104\"/></g><g transform=\"translate(-150,-62) scale(1,1)\"><path d=\"M 1392 1104 L 1489.15625 1104 L 1489.15625 1148 L 1392 1148 L 1392 1104 Z Z\" fill=\"none\" stroke=\"#000000\" stroke-miterlimit=\"10\"/></g><g transform=\"translate(-150,-62) scale(1,1)\"><path d=\"M 1392 1129 L 1489.15625 1129\" fill=\"none\" stroke=\"#000000\" stroke-miterlimit=\"10\"/></g><g transform=\"translate(-150,-62) scale(1,1)\"><path d=\"M 1392 1139 L 1489.15625 1139\" fill=\"none\" stroke=\"#000000\" stroke-miterlimit=\"10\"/></g><g transform=\"translate(-150,-62) scale(1,1)\"><g><path fill=\"none\" stroke=\"none\"/><text fill=\"#000000\" font-family=\"Arial\" font-size=\"13px\" font-style=\"normal\" font-weight=\"bold\" stroke=\"none\" text-decoration=\"none\" x=\"1401.578125\" y=\"1123.5\">CQHistMaker</text></g></g><g transform=\"translate(-150,-62) scale(1,1)\"><rect fill=\"#C0C0C0\" height=\"44\" opacity=\"0.2\" stroke=\"none\" width=\"178.2158203125\" x=\"1359\" y=\"1247\"/></g><g transform=\"translate(-150,-62) scale(1,1)\"><rect fill=\"#ffffff\" height=\"44\" stroke=\"none\" width=\"178.2158203125\" x=\"1352\" y=\"1240\"/></g><g transform=\"translate(-150,-62) scale(1,1)\"><path d=\"M 1352 1240 L 1530.2158203125 1240 L 1530.2158203125 1284 L 1352 1284 L 1352 1240 Z Z\" fill=\"none\" stroke=\"#000000\" stroke-miterlimit=\"10\"/></g><g transform=\"translate(-150,-62) scale(1,1)\"><path d=\"M 1352 1265 L 1530.2158203125 1265\" fill=\"none\" stroke=\"#000000\" stroke-miterlimit=\"10\"/></g><g transform=\"translate(-150,-62) scale(1,1)\"><path d=\"M 1352 1275 L 1530.2158203125 1275\" fill=\"none\" stroke=\"#000000\" stroke-miterlimit=\"10\"/></g><g transform=\"translate(-150,-62) scale(1,1)\"><g><path fill=\"none\" stroke=\"none\"/><text fill=\"#000000\" font-family=\"Arial\" font-size=\"13px\" font-style=\"normal\" font-weight=\"bold\" stroke=\"none\" text-decoration=\"none\" x=\"1367.60791015625\" y=\"1259.5\">GlobalProposalHistMaker</text></g></g><g transform=\"translate(-150,-62) scale(1,1)\"><path d=\"M 1399 847 L 1253 766\" fill=\"none\" stroke=\"#000000\" stroke-miterlimit=\"10\"/></g><g transform=\"translate(-150,-62) scale(1,1)\"><path d=\"M 1274.8576546368308 768.4985863557283 L 1253 766 L 1266.6889284590209 783.2224631700523\" fill=\"#FFFFFF\" stroke=\"none\"/></g><g transform=\"translate(-150,-62) scale(1,1)\"><path d=\"M 1274.8576546368308 768.4985863557283 L 1253 766 L 1266.6889284590209 783.2224631700523 L 1274.8576546368308 768.4985863557283\" fill=\"none\" stroke=\"#000000\" stroke-miterlimit=\"10\"/></g><g transform=\"translate(-150,-62) scale(1,1)\"><path d=\"M 1438 975 L 1440 893\" fill=\"none\" stroke=\"#000000\" stroke-miterlimit=\"10\"/></g><g transform=\"translate(-150,-62) scale(1,1)\"><path d=\"M 1447.9209396052515 913.5245880779605 L 1440 893 L 1431.087874697256 913.1140255192289\" fill=\"#FFFFFF\" stroke=\"none\"/></g><g transform=\"translate(-150,-62) scale(1,1)\"><path d=\"M 1447.9209396052515 913.5245880779605 L 1440 893 L 1431.087874697256 913.1140255192289 L 1447.9209396052515 913.5245880779605\" fill=\"none\" stroke=\"#000000\" stroke-miterlimit=\"10\"/></g><g transform=\"translate(-150,-62) scale(1,1)\"><path d=\"M 1440 1103 L 1438 1021\" fill=\"none\" stroke=\"#000000\" stroke-miterlimit=\"10\"/></g><g transform=\"translate(-150,-62) scale(1,1)\"><path d=\"M 1446.912125302744 1041.1140255192288 L 1438 1021 L 1430.0790603947485 1041.5245880779605\" fill=\"#FFFFFF\" stroke=\"none\"/></g><g transform=\"translate(-150,-62) scale(1,1)\"><path d=\"M 1446.912125302744 1041.1140255192288 L 1438 1021 L 1430.0790603947485 1041.5245880779605 L 1446.912125302744 1041.1140255192288\" fill=\"none\" stroke=\"#000000\" stroke-miterlimit=\"10\"/></g><g transform=\"translate(-150,-62) scale(1,1)\"><path d=\"M 1441 1239 L 1440 1149\" fill=\"none\" stroke=\"#000000\" stroke-miterlimit=\"10\"/></g><g transform=\"translate(-150,-62) scale(1,1)\"><path d=\"M 1448.6443391463765 1169.2305561150063 L 1440 1149 L 1431.8073074131833 1169.4176342453752\" fill=\"#FFFFFF\" stroke=\"none\"/></g><g transform=\"translate(-150,-62) scale(1,1)\"><path d=\"M 1448.6443391463765 1169.2305561150063 L 1440 1149 L 1431.8073074131833 1169.4176342453752 L 1448.6443391463765 1169.2305561150063\" fill=\"none\" stroke=\"#000000\" stroke-miterlimit=\"10\"/></g></g></svg>"
      ],
      "text/plain": [
       "<IPython.core.display.SVG object>"
      ]
     },
     "execution_count": 3,
     "metadata": {},
     "output_type": "execute_result"
    }
   ],
   "source": [
    "SVG(\"./res/Main.svg\")"
   ]
  },
  {
   "cell_type": "code",
   "execution_count": null,
   "metadata": {
    "collapsed": true
   },
   "outputs": [],
   "source": []
  }
 ],
 "metadata": {
  "kernelspec": {
   "display_name": "Python 3",
   "language": "python",
   "name": "python3"
  },
  "language_info": {
   "codemirror_mode": {
    "name": "ipython",
    "version": 3
   },
   "file_extension": ".py",
   "mimetype": "text/x-python",
   "name": "python",
   "nbconvert_exporter": "python",
   "pygments_lexer": "ipython3",
   "version": "3.5.2"
  }
 },
 "nbformat": 4,
 "nbformat_minor": 0
}

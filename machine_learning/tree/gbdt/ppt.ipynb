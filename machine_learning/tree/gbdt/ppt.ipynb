{
 "cells": [
  {
   "cell_type": "code",
   "execution_count": 2,
   "metadata": {
    "collapsed": true
   },
   "outputs": [],
   "source": [
    "# %load /Users/facaiyan/Study/book_notes/preconfig.py\n",
    "%matplotlib inline\n",
    "\n",
    "import matplotlib.pyplot as plt\n",
    "import seaborn as sns\n",
    "sns.set(color_codes=True)\n",
    "sns.set(font='SimHei')\n",
    "plt.rcParams['axes.grid'] = False\n",
    "\n",
    "#import numpy as np\n",
    "\n",
    "#import pandas as pd\n",
    "#pd.options.display.max_rows = 20\n",
    "\n",
    "#import sklearn\n",
    "\n",
    "#from IPython.display import SVG\n",
    "\n",
    "def show_image(filename, figsize=None, res_dir=True):\n",
    "    if figsize:\n",
    "        plt.figure(figsize=figsize)\n",
    "\n",
    "    if res_dir:\n",
    "        filename = './res/{}'.format(filename)\n",
    "\n",
    "    plt.imshow(plt.imread(filename))"
   ]
  },
  {
   "cell_type": "markdown",
   "metadata": {},
   "source": [
    "树模型：GBDT、TreeBoost和Xgboost\n",
    "==============================\n",
    "\n",
    "+ GBDT\n",
    "   - 残差，多个模型迭加\n",
    "   - 正规定义\n",
    "   - Gradient Boost: 损失函数是轨迹，gradient是步长寻优\n",
    "   - GBDT: \n",
    "+ TreeBoost\n",
    "   - 对树建模，学习率进入叶子\n",
    "+ Xgboost\n",
    "   - 损失函数和正则，进入树\n",
    "   - 参数细节：\n",
    "     1. AUC: 正负样本比例"
   ]
  },
  {
   "cell_type": "markdown",
   "metadata": {},
   "source": []
  }
 ],
 "metadata": {
  "kernelspec": {
   "display_name": "Python 3",
   "language": "python",
   "name": "python3"
  },
  "language_info": {
   "codemirror_mode": {
    "name": "ipython",
    "version": 3
   },
   "file_extension": ".py",
   "mimetype": "text/x-python",
   "name": "python",
   "nbconvert_exporter": "python",
   "pygments_lexer": "ipython3",
   "version": "3.5.2"
  }
 },
 "nbformat": 4,
 "nbformat_minor": 0
}

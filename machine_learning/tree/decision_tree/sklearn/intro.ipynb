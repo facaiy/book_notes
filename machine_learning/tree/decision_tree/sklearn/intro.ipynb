{
 "cells": [
  {
   "cell_type": "code",
   "execution_count": 9,
   "metadata": {
    "collapsed": true
   },
   "outputs": [],
   "source": [
    "# %load /Users/facai/Study/book_notes/preconfig.py\n",
    "%matplotlib inline\n",
    "\n",
    "import matplotlib.pyplot as plt\n",
    "import seaborn as sns\n",
    "\n",
    "from IPython.display import SVG"
   ]
  },
  {
   "cell_type": "markdown",
   "metadata": {},
   "source": [
    "决策树在 sklearn 中的实现简介\n",
    "============================"
   ]
  },
  {
   "cell_type": "markdown",
   "metadata": {},
   "source": [
    "##### 0. 预前\n",
    "本文简单分析 [scikit-learn/scikit-learn](https://github.com/scikit-learn/scikit-learn) 中决策树涉及的代码模块关系。\n",
    "\n",
    "分析的代码版本信息是：\n",
    "```shell\n",
    "~/W/s/sklearn ❯❯❯ git log -n 1                                                                                                                                                         study/analyses_decision_tree\n",
    "commit d161bfaa1a42da75f4940464f7f1c524ef53484f\n",
    "Author: John B Nelson <jnelso11@gmu.edu>\n",
    "Date:   Thu May 26 18:36:37 2016 -0400\n",
    "\n",
    "    Add missing double quote (#6831)\n",
    "```\n",
    "\n",
    "本文假设读者已经了解决策树的其本概念，阅读 [sklearn - Decision Trees](http://scikit-learn.org/stable/modules/tree.html) 有助于快速了解。 "
   ]
  },
  {
   "cell_type": "markdown",
   "metadata": {},
   "source": [
    "### 1. 总纲\n",
    "\n",
    "决策树的代码位于 `scikit-learn/sklearn/tree` 目录下，各文件大意说明如下：\n",
    "\n",
    "```\n",
    "tree\n",
    "+-- __init__.py\n",
    "+-- setup.py            \n",
    "+-- tree.py             主文件\n",
    "+-- export.py           导出树模型\n",
    "+-- _tree.*             组建树的类\n",
    "+-- _splitter.*         分割方法\n",
    "+-- _criterion.*        不纯度评价\n",
    "+-- _utils.*            辅助数据结构：栈和最小堆 \n",
    "+-- tests/\n",
    "    +-- __init__.py\n",
    "    +-- test_tree.py\n",
    "    +-- test_export.py\n",
    "```\n",
    "\n",
    "类之间的大致关系如下："
   ]
  },
  {
   "cell_type": "code",
   "execution_count": 11,
   "metadata": {
    "collapsed": false
   },
   "outputs": [
    {
     "data": {
      "image/svg+xml": [
       "<svg height=\"416\" version=\"1.1\" width=\"1172\" xmlns=\"http://www.w3.org/2000/svg\" xmlns:xlink=\"http://www.w3.org/1999/xlink\"><defs/><g><g transform=\"translate(-158,-174) scale(1,1)\"><rect fill=\"#C0C0C0\" height=\"72\" opacity=\"0.2\" stroke=\"none\" width=\"159.8076171875\" x=\"175\" y=\"391\"/></g><g transform=\"translate(-158,-174) scale(1,1)\"><rect fill=\"#ffffff\" height=\"72\" stroke=\"none\" width=\"159.8076171875\" x=\"168\" y=\"384\"/></g><g transform=\"translate(-158,-174) scale(1,1)\"><path d=\"M 168 384 L 327.8076171875 384 L 327.8076171875 456 L 168 456 L 168 384 Z Z\" fill=\"none\" stroke=\"#000000\" stroke-miterlimit=\"10\"/></g><g transform=\"translate(-158,-174) scale(1,1)\"><path d=\"M 168 409 L 327.8076171875 409\" fill=\"none\" stroke=\"#000000\" stroke-miterlimit=\"10\"/></g><g transform=\"translate(-158,-174) scale(1,1)\"><path d=\"M 168 419 L 327.8076171875 419\" fill=\"none\" stroke=\"#000000\" stroke-miterlimit=\"10\"/></g><g transform=\"translate(-158,-174) scale(1,1)\"><g><path fill=\"none\" stroke=\"none\"/><text fill=\"#000000\" font-family=\"Arial\" font-size=\"13px\" font-style=\"normal\" font-weight=\"bold\" stroke=\"none\" text-decoration=\"none\" x=\"182.90380859375\" y=\"403.5\">DecisionTreeClassifier</text></g></g><g transform=\"translate(-158,-174) scale(1,1)\"><g><path fill=\"none\" stroke=\"none\"/><text fill=\"#000000\" font-family=\"Arial\" font-size=\"13px\" font-style=\"normal\" font-weight=\"normal\" stroke=\"none\" text-decoration=\"none\" x=\"173\" y=\"436.5\">+predict_proba()</text></g></g><g transform=\"translate(-158,-174) scale(1,1)\"><g><path fill=\"none\" stroke=\"none\"/><text fill=\"#000000\" font-family=\"Arial\" font-size=\"13px\" font-style=\"normal\" font-weight=\"normal\" stroke=\"none\" text-decoration=\"none\" x=\"173\" y=\"451.5\">+predict_log_proba()</text></g></g><g transform=\"translate(-158,-174) scale(1,1)\"><rect fill=\"#C0C0C0\" height=\"72\" opacity=\"0.2\" stroke=\"none\" width=\"127.40283203125\" x=\"351\" y=\"231\"/></g><g transform=\"translate(-158,-174) scale(1,1)\"><rect fill=\"#ffffff\" height=\"72\" stroke=\"none\" width=\"127.40283203125\" x=\"344\" y=\"224\"/></g><g transform=\"translate(-158,-174) scale(1,1)\"><path d=\"M 344 224 L 471.40283203125 224 L 471.40283203125 296 L 344 296 L 344 224 Z Z\" fill=\"none\" stroke=\"#000000\" stroke-miterlimit=\"10\"/></g><g transform=\"translate(-158,-174) scale(1,1)\"><path d=\"M 344 249 L 471.40283203125 249\" fill=\"none\" stroke=\"#000000\" stroke-miterlimit=\"10\"/></g><g transform=\"translate(-158,-174) scale(1,1)\"><path d=\"M 344 259 L 471.40283203125 259\" fill=\"none\" stroke=\"#000000\" stroke-miterlimit=\"10\"/></g><g transform=\"translate(-158,-174) scale(1,1)\"><g><path fill=\"none\" stroke=\"none\"/><text fill=\"#000000\" font-family=\"Arial\" font-size=\"13px\" font-style=\"normal\" font-weight=\"bold\" stroke=\"none\" text-decoration=\"none\" x=\"354.701416015625\" y=\"243.5\">BaseDecisionTree</text></g></g><g transform=\"translate(-158,-174) scale(1,1)\"><g><path fill=\"none\" stroke=\"none\"/><text fill=\"#000000\" font-family=\"Arial\" font-size=\"13px\" font-style=\"normal\" font-weight=\"normal\" stroke=\"none\" text-decoration=\"none\" x=\"349\" y=\"276.5\">+fit()</text></g></g><g transform=\"translate(-158,-174) scale(1,1)\"><g><path fill=\"none\" stroke=\"none\"/><text fill=\"#000000\" font-family=\"Arial\" font-size=\"13px\" font-style=\"normal\" font-weight=\"normal\" stroke=\"none\" text-decoration=\"none\" x=\"349\" y=\"291.5\">+predict()</text></g></g><g transform=\"translate(-158,-174) scale(1,1)\"><path d=\"M 284 383 L 370 297\" fill=\"none\" stroke=\"#000000\" stroke-miterlimit=\"10\"/></g><g transform=\"translate(-158,-174) scale(1,1)\"><path d=\"M 361.580964487968 317.3253497152483 L 370 297 L 349.6746502847517 305.419035512032\" fill=\"#FFFFFF\" stroke=\"none\"/></g><g transform=\"translate(-158,-174) scale(1,1)\"><path d=\"M 361.580964487968 317.3253497152483 L 370 297 L 349.6746502847517 305.419035512032 L 361.580964487968 317.3253497152483\" fill=\"none\" stroke=\"#000000\" stroke-miterlimit=\"10\"/></g><g transform=\"translate(-158,-174) scale(1,1)\"><rect fill=\"#C0C0C0\" height=\"44\" opacity=\"0.2\" stroke=\"none\" width=\"153\" x=\"471\" y=\"407\"/></g><g transform=\"translate(-158,-174) scale(1,1)\"><rect fill=\"#ffffff\" height=\"44\" stroke=\"none\" width=\"153\" x=\"464\" y=\"400\"/></g><g transform=\"translate(-158,-174) scale(1,1)\"><path d=\"M 464 400 L 617 400 L 617 444 L 464 444 L 464 400 Z Z\" fill=\"none\" stroke=\"#000000\" stroke-miterlimit=\"10\"/></g><g transform=\"translate(-158,-174) scale(1,1)\"><path d=\"M 464 425 L 617 425\" fill=\"none\" stroke=\"#000000\" stroke-miterlimit=\"10\"/></g><g transform=\"translate(-158,-174) scale(1,1)\"><path d=\"M 464 435 L 617 435\" fill=\"none\" stroke=\"#000000\" stroke-miterlimit=\"10\"/></g><g transform=\"translate(-158,-174) scale(1,1)\"><g><path fill=\"none\" stroke=\"none\"/><text fill=\"#000000\" font-family=\"Arial\" font-size=\"13px\" font-style=\"normal\" font-weight=\"bold\" stroke=\"none\" text-decoration=\"none\" x=\"473\" y=\"419.5\">DecisionTreeRegressor</text></g></g><g transform=\"translate(-158,-174) scale(1,1)\"><path d=\"M 521 399 L 437 297\" fill=\"none\" stroke=\"#000000\" stroke-miterlimit=\"10\"/></g><g transform=\"translate(-158,-174) scale(1,1)\"><path d=\"M 456.4198802973928 307.33771005759667 L 437 297 L 443.4220641644505 318.04179393178447\" fill=\"#FFFFFF\" stroke=\"none\"/></g><g transform=\"translate(-158,-174) scale(1,1)\"><path d=\"M 456.4198802973928 307.33771005759667 L 437 297 L 443.4220641644505 318.04179393178447 L 456.4198802973928 307.33771005759667\" fill=\"none\" stroke=\"#000000\" stroke-miterlimit=\"10\"/></g><g transform=\"translate(-158,-174) scale(1,1)\"><rect fill=\"#C0C0C0\" height=\"44\" opacity=\"0.2\" stroke=\"none\" width=\"126\" x=\"191\" y=\"543\"/></g><g transform=\"translate(-158,-174) scale(1,1)\"><rect fill=\"#ffffff\" height=\"44\" stroke=\"none\" width=\"126\" x=\"184\" y=\"536\"/></g><g transform=\"translate(-158,-174) scale(1,1)\"><path d=\"M 184 536 L 310 536 L 310 580 L 184 580 L 184 536 Z Z\" fill=\"none\" stroke=\"#000000\" stroke-miterlimit=\"10\"/></g><g transform=\"translate(-158,-174) scale(1,1)\"><path d=\"M 184 561 L 310 561\" fill=\"none\" stroke=\"#000000\" stroke-miterlimit=\"10\"/></g><g transform=\"translate(-158,-174) scale(1,1)\"><path d=\"M 184 571 L 310 571\" fill=\"none\" stroke=\"#000000\" stroke-miterlimit=\"10\"/></g><g transform=\"translate(-158,-174) scale(1,1)\"><g><path fill=\"none\" stroke=\"none\"/><text fill=\"#000000\" font-family=\"Arial\" font-size=\"13px\" font-style=\"normal\" font-weight=\"bold\" stroke=\"none\" text-decoration=\"none\" x=\"191.5\" y=\"555.5\">ExtraTreeClassifier</text></g></g><g transform=\"translate(-158,-174) scale(1,1)\"><rect fill=\"#C0C0C0\" height=\"44\" opacity=\"0.2\" stroke=\"none\" width=\"131\" x=\"479\" y=\"543\"/></g><g transform=\"translate(-158,-174) scale(1,1)\"><rect fill=\"#ffffff\" height=\"44\" stroke=\"none\" width=\"131\" x=\"472\" y=\"536\"/></g><g transform=\"translate(-158,-174) scale(1,1)\"><path d=\"M 472 536 L 603 536 L 603 580 L 472 580 L 472 536 Z Z\" fill=\"none\" stroke=\"#000000\" stroke-miterlimit=\"10\"/></g><g transform=\"translate(-158,-174) scale(1,1)\"><path d=\"M 472 561 L 603 561\" fill=\"none\" stroke=\"#000000\" stroke-miterlimit=\"10\"/></g><g transform=\"translate(-158,-174) scale(1,1)\"><path d=\"M 472 571 L 603 571\" fill=\"none\" stroke=\"#000000\" stroke-miterlimit=\"10\"/></g><g transform=\"translate(-158,-174) scale(1,1)\"><g><path fill=\"none\" stroke=\"none\"/><text fill=\"#000000\" font-family=\"Arial\" font-size=\"13px\" font-style=\"normal\" font-weight=\"bold\" stroke=\"none\" text-decoration=\"none\" x=\"479.5\" y=\"555.5\">ExtraTreeRegressor</text></g></g><g transform=\"translate(-158,-174) scale(1,1)\"><path d=\"M 247 535 L 247 457\" fill=\"none\" stroke=\"#000000\" stroke-miterlimit=\"10\"/></g><g transform=\"translate(-158,-174) scale(1,1)\"><path d=\"M 255.41903551203197 477.3253497152483 L 247 457 L 238.58096448796803 477.3253497152483\" fill=\"#FFFFFF\" stroke=\"none\"/></g><g transform=\"translate(-158,-174) scale(1,1)\"><path d=\"M 255.41903551203197 477.3253497152483 L 247 457 L 238.58096448796803 477.3253497152483 L 255.41903551203197 477.3253497152483\" fill=\"none\" stroke=\"#000000\" stroke-miterlimit=\"10\"/></g><g transform=\"translate(-158,-174) scale(1,1)\"><path d=\"M 538 535 L 539 445\" fill=\"none\" stroke=\"#000000\" stroke-miterlimit=\"10\"/></g><g transform=\"translate(-158,-174) scale(1,1)\"><path d=\"M 547.1926925868167 465.4176342453752 L 539 445 L 530.3556608536235 465.2305561150064\" fill=\"#FFFFFF\" stroke=\"none\"/></g><g transform=\"translate(-158,-174) scale(1,1)\"><path d=\"M 547.1926925868167 465.4176342453752 L 539 445 L 530.3556608536235 465.2305561150064 L 547.1926925868167 465.4176342453752\" fill=\"none\" stroke=\"#000000\" stroke-miterlimit=\"10\"/></g><g transform=\"translate(-158,-174) scale(1,1)\"><rect fill=\"#C0C0C0\" height=\"145\" opacity=\"0.2\" stroke=\"none\" width=\"125\" x=\"679\" y=\"191\"/></g><g transform=\"translate(-158,-174) scale(1,1)\"><rect fill=\"#ffffff\" height=\"145\" stroke=\"none\" width=\"125\" x=\"672\" y=\"184\"/></g><g transform=\"translate(-158,-174) scale(1,1)\"><path d=\"M 672 184 L 797 184 L 797 329 L 672 329 L 672 184 Z Z\" fill=\"none\" stroke=\"#000000\" stroke-miterlimit=\"10\"/></g><g transform=\"translate(-158,-174) scale(1,1)\"><path d=\"M 672 209 L 797 209\" fill=\"none\" stroke=\"#000000\" stroke-miterlimit=\"10\"/></g><g transform=\"translate(-158,-174) scale(1,1)\"><path d=\"M 672 292 L 797 292\" fill=\"none\" stroke=\"#000000\" stroke-miterlimit=\"10\"/></g><g transform=\"translate(-158,-174) scale(1,1)\"><g><path fill=\"none\" stroke=\"none\"/><text fill=\"#000000\" font-family=\"Arial\" font-size=\"13px\" font-style=\"normal\" font-weight=\"bold\" stroke=\"none\" text-decoration=\"none\" x=\"701.5\" y=\"203.5\">TreeBuilder</text></g></g><g transform=\"translate(-158,-174) scale(1,1)\"><g><path fill=\"none\" stroke=\"none\"/><text fill=\"#000000\" font-family=\"Arial\" font-size=\"13px\" font-style=\"normal\" font-weight=\"normal\" stroke=\"none\" text-decoration=\"none\" x=\"677\" y=\"226.5\">+splitter</text></g></g><g transform=\"translate(-158,-174) scale(1,1)\"><g><path fill=\"none\" stroke=\"none\"/><text fill=\"#000000\" font-family=\"Arial\" font-size=\"13px\" font-style=\"normal\" font-weight=\"normal\" stroke=\"none\" text-decoration=\"none\" x=\"677\" y=\"241.5\">+min_samples_split</text></g></g><g transform=\"translate(-158,-174) scale(1,1)\"><g><path fill=\"none\" stroke=\"none\"/><text fill=\"#000000\" font-family=\"Arial\" font-size=\"13px\" font-style=\"normal\" font-weight=\"normal\" stroke=\"none\" text-decoration=\"none\" x=\"677\" y=\"256.5\">+min_samples_leaf</text></g></g><g transform=\"translate(-158,-174) scale(1,1)\"><g><path fill=\"none\" stroke=\"none\"/><text fill=\"#000000\" font-family=\"Arial\" font-size=\"13px\" font-style=\"normal\" font-weight=\"normal\" stroke=\"none\" text-decoration=\"none\" x=\"677\" y=\"271.5\">+min_weight_leaf</text></g></g><g transform=\"translate(-158,-174) scale(1,1)\"><g><path fill=\"none\" stroke=\"none\"/><text fill=\"#000000\" font-family=\"Arial\" font-size=\"13px\" font-style=\"normal\" font-weight=\"normal\" stroke=\"none\" text-decoration=\"none\" x=\"677\" y=\"286.5\">+max_depth</text></g></g><g transform=\"translate(-158,-174) scale(1,1)\"><g><path fill=\"none\" stroke=\"none\"/><text fill=\"#000000\" font-family=\"Arial\" font-size=\"13px\" font-style=\"normal\" font-weight=\"normal\" stroke=\"none\" text-decoration=\"none\" x=\"677\" y=\"309.5\">+build()</text></g></g><g transform=\"translate(-158,-174) scale(1,1)\"><g><path fill=\"none\" stroke=\"none\"/><text fill=\"#000000\" font-family=\"Arial\" font-size=\"13px\" font-style=\"normal\" font-weight=\"normal\" stroke=\"none\" text-decoration=\"none\" x=\"677\" y=\"324.5\">+_check_input()</text></g></g><g transform=\"translate(-158,-174) scale(1,1)\"><rect fill=\"#C0C0C0\" height=\"102\" opacity=\"0.2\" stroke=\"none\" width=\"106\" x=\"919\" y=\"215\"/></g><g transform=\"translate(-158,-174) scale(1,1)\"><rect fill=\"#ffffff\" height=\"102\" stroke=\"none\" width=\"106\" x=\"912\" y=\"208\"/></g><g transform=\"translate(-158,-174) scale(1,1)\"><path d=\"M 912 208 L 1018 208 L 1018 310 L 912 310 L 912 208 Z Z\" fill=\"none\" stroke=\"#000000\" stroke-miterlimit=\"10\"/></g><g transform=\"translate(-158,-174) scale(1,1)\"><path d=\"M 912 233 L 1018 233\" fill=\"none\" stroke=\"#000000\" stroke-miterlimit=\"10\"/></g><g transform=\"translate(-158,-174) scale(1,1)\"><path d=\"M 912 243 L 1018 243\" fill=\"none\" stroke=\"#000000\" stroke-miterlimit=\"10\"/></g><g transform=\"translate(-158,-174) scale(1,1)\"><g><path fill=\"none\" stroke=\"none\"/><text fill=\"#000000\" font-family=\"Arial\" font-size=\"13px\" font-style=\"italic\" font-weight=\"bold\" stroke=\"none\" text-decoration=\"none\" x=\"944.5\" y=\"227.5\">Splitter</text></g></g><g transform=\"translate(-158,-174) scale(1,1)\"><g><path fill=\"none\" stroke=\"none\"/><text fill=\"#000000\" font-family=\"Arial\" font-size=\"13px\" font-style=\"normal\" font-weight=\"normal\" stroke=\"none\" text-decoration=\"none\" x=\"917\" y=\"260.5\">+node_impurity()</text></g></g><g transform=\"translate(-158,-174) scale(1,1)\"><g><path fill=\"none\" stroke=\"none\"/><text fill=\"#000000\" font-family=\"Arial\" font-size=\"13px\" font-style=\"normal\" font-weight=\"normal\" stroke=\"none\" text-decoration=\"none\" x=\"917\" y=\"275.5\">+node_reset()</text></g></g><g transform=\"translate(-158,-174) scale(1,1)\"><g><path fill=\"none\" stroke=\"none\"/><text fill=\"#000000\" font-family=\"Arial\" font-size=\"13px\" font-style=\"normal\" font-weight=\"normal\" stroke=\"none\" text-decoration=\"none\" x=\"917\" y=\"290.5\">+node_split()</text></g></g><g transform=\"translate(-158,-174) scale(1,1)\"><g><path fill=\"none\" stroke=\"none\"/><text fill=\"#000000\" font-family=\"Arial\" font-size=\"13px\" font-style=\"normal\" font-weight=\"normal\" stroke=\"none\" text-decoration=\"none\" x=\"917\" y=\"305.5\">+node_value()</text></g></g><g transform=\"translate(-158,-174) scale(1,1)\"><rect fill=\"#C0C0C0\" height=\"72\" opacity=\"0.2\" stroke=\"none\" width=\"192\" x=\"1135\" y=\"231\"/></g><g transform=\"translate(-158,-174) scale(1,1)\"><rect fill=\"#ffffff\" height=\"72\" stroke=\"none\" width=\"192\" x=\"1128\" y=\"224\"/></g><g transform=\"translate(-158,-174) scale(1,1)\"><path d=\"M 1128 224 L 1320 224 L 1320 296 L 1128 296 L 1128 224 Z Z\" fill=\"none\" stroke=\"#000000\" stroke-miterlimit=\"10\"/></g><g transform=\"translate(-158,-174) scale(1,1)\"><path d=\"M 1128 249 L 1320 249\" fill=\"none\" stroke=\"#000000\" stroke-miterlimit=\"10\"/></g><g transform=\"translate(-158,-174) scale(1,1)\"><path d=\"M 1128 259 L 1320 259\" fill=\"none\" stroke=\"#000000\" stroke-miterlimit=\"10\"/></g><g transform=\"translate(-158,-174) scale(1,1)\"><g><path fill=\"none\" stroke=\"none\"/><text fill=\"#000000\" font-family=\"Arial\" font-size=\"13px\" font-style=\"normal\" font-weight=\"bold\" stroke=\"none\" text-decoration=\"none\" x=\"1200\" y=\"243.5\">Criterion</text></g></g><g transform=\"translate(-158,-174) scale(1,1)\"><g><path fill=\"none\" stroke=\"none\"/><text fill=\"#000000\" font-family=\"Arial\" font-size=\"13px\" font-style=\"normal\" font-weight=\"normal\" stroke=\"none\" text-decoration=\"none\" x=\"1133\" y=\"276.5\">+proxy_impurity_improvement()</text></g></g><g transform=\"translate(-158,-174) scale(1,1)\"><g><path fill=\"none\" stroke=\"none\"/><text fill=\"#000000\" font-family=\"Arial\" font-size=\"13px\" font-style=\"normal\" font-weight=\"normal\" stroke=\"none\" text-decoration=\"none\" x=\"1133\" y=\"291.5\">+impurity_improvement()</text></g></g><g transform=\"translate(-158,-174) scale(1,1)\"><path d=\"M 1019 259 L 1127 260\" fill=\"none\" stroke=\"#000000\" stroke-miterlimit=\"10\"/></g><g transform=\"translate(-158,-174) scale(1,1)\"><path d=\"M 1116.7987854116082 264.1152425106646 L 1127 260 L 1116.876736102691 255.69656787372708 L 1105.0009430120667 259.7963050278895\" fill=\"#FFFFFF\" stroke=\"none\"/></g><g transform=\"translate(-158,-174) scale(1,1)\"><path d=\"M 1116.7987854116082 264.1152425106646 L 1127 260 L 1116.876736102691 255.69656787372708 L 1105.0009430120667 259.7963050278895 L 1116.7987854116082 264.1152425106646\" fill=\"none\" stroke=\"#000000\" stroke-miterlimit=\"10\"/></g><g transform=\"translate(-158,-174) scale(1,1)\"><g><path fill=\"none\" stroke=\"none\"/><text fill=\"#000000\" font-family=\"Arial\" font-size=\"13px\" font-style=\"normal\" font-weight=\"normal\" stroke=\"none\" text-decoration=\"none\" x=\"1058\" y=\"251\">+1..1</text></g></g><g transform=\"translate(-158,-174) scale(1,1)\"><path d=\"M 798 257 L 911 258\" fill=\"none\" stroke=\"#000000\" stroke-miterlimit=\"10\"/></g><g transform=\"translate(-158,-174) scale(1,1)\"><path d=\"M 900.8004721513548 262.1194212778873 L 911 258 L 900.8749739731637 253.70071541348017 L 889.0008614107562 257.8053173576173\" fill=\"#FFFFFF\" stroke=\"none\"/></g><g transform=\"translate(-158,-174) scale(1,1)\"><path d=\"M 900.8004721513548 262.1194212778873 L 911 258 L 900.8749739731637 253.70071541348017 L 889.0008614107562 257.8053173576173 L 900.8004721513548 262.1194212778873\" fill=\"none\" stroke=\"#000000\" stroke-miterlimit=\"10\"/></g><g transform=\"translate(-158,-174) scale(1,1)\"><g><path fill=\"none\" stroke=\"none\"/><text fill=\"#000000\" font-family=\"Arial\" font-size=\"13px\" font-style=\"normal\" font-weight=\"normal\" stroke=\"none\" text-decoration=\"none\" x=\"839\" y=\"249\">+1..1</text></g></g><g transform=\"translate(-158,-174) scale(1,1)\"><path d=\"M 472 259 L 671 257\" fill=\"none\" stroke=\"#000000\" stroke-miterlimit=\"10\"/></g><g transform=\"translate(-158,-174) scale(1,1)\"><path d=\"M 660.8801429315722 261.3114374534014 L 671 257 L 660.7955337823144 252.8928271022379 L 649.0011109988897 257.22109436182024\" fill=\"#FFFFFF\" stroke=\"none\"/></g><g transform=\"translate(-158,-174) scale(1,1)\"><path d=\"M 660.8801429315722 261.3114374534014 L 671 257 L 660.7955337823144 252.8928271022379 L 649.0011109988897 257.22109436182024 L 660.8801429315722 261.3114374534014\" fill=\"none\" stroke=\"#000000\" stroke-miterlimit=\"10\"/></g><g transform=\"translate(-158,-174) scale(1,1)\"><g><path fill=\"none\" stroke=\"none\"/><text fill=\"#000000\" font-family=\"Arial\" font-size=\"13px\" font-style=\"normal\" font-weight=\"normal\" stroke=\"none\" text-decoration=\"none\" x=\"555\" y=\"250\">+1..1</text></g></g></g></svg>"
      ],
      "text/plain": [
       "<IPython.core.display.SVG object>"
      ]
     },
     "execution_count": 11,
     "metadata": {},
     "output_type": "execute_result"
    }
   ],
   "source": [
    "SVG(\"./res/uml/Model__tree_0.svg\")"
   ]
  },
  {
   "cell_type": "markdown",
   "metadata": {},
   "source": [
    "`Tree.py` 下定义了 `BaseDecisionTree` 基类，实现了完整的分类和回规功能，衍生出的基类作封装初始化参数的作用。其中，`DecisionTree*` 类会遍历特征和值，从而找到最佳分割点，而 `ExtraTree*` 类会随机抽取特征和值，来寻找分割点。"
   ]
  },
  {
   "cell_type": "markdown",
   "metadata": {},
   "source": [
    "```python\n",
    "  72 class BaseDecisionTree(six.with_metaclass(ABCMeta, BaseEstimator,\n",
    "  73                                           _LearntSelectorMixin)):\n",
    "  74     \"\"\"Base class for decision trees.\n",
    "  75 #+--  3 lines: Warning: This class should not be used directly.-------------------\n",
    "  78     \"\"\"\n",
    "  79\n",
    "  80     @abstractmethod\n",
    "  81     def __init__(self,\n",
    "  82 #+-- 30 lines: criterion,---------------------------------------------------------\n",
    " 112\n",
    " 113     def fit(self, X, y, sample_weight=None, check_input=True,\n",
    " 114             X_idx_sorted=None):\n",
    " 115         \"\"\"Build a decision tree from the training set (X, y).\n",
    " 116 #+-- 34 lines: Parameters---------------------------------------------------------\n",
    " 150         \"\"\"\n",
    " 151\n",
    " 152 #+--180 lines: random_state = check_random_state(self.random_state)---------------\n",
    " 332\n",
    " 333         # Build tree\n",
    " 334         criterion = self.criterion\n",
    " 335 #+--  6 lines: if not isinstance(criterion, Criterion):---------------------------\n",
    " 341\n",
    " 342         SPLITTERS = SPARSE_SPLITTERS if issparse(X) else DENSE_SPLITTERS\n",
    " 343 #+--  9 lines: splitter = self.splitter-------------------------------------------\n",
    " 352\n",
    " 353         self.tree_ = Tree(self.n_features_, self.n_classes_, self.n_outputs_)\n",
    " 354\n",
    " 355         # Use BestFirst if max_leaf_nodes given; use DepthFirst otherwise\n",
    " 356         if max_leaf_nodes < 0:\n",
    " 357             builder = DepthFirstTreeBuilder(splitter, min_samples_split,\n",
    " 358                                             min_samples_leaf,\n",
    " 359                                             min_weight_leaf,\n",
    " 360                                             max_depth)\n",
    " 361         else:\n",
    " 362             builder = BestFirstTreeBuilder(splitter, min_samples_split,\n",
    " 363                                            min_samples_leaf,\n",
    " 364                                            min_weight_leaf,\n",
    " 365                                            max_depth,\n",
    " 366                                            max_leaf_nodes)\n",
    " 367\n",
    " 368         builder.build(self.tree_, X, y, sample_weight, X_idx_sorted)\n",
    " 369\n",
    " 370 #+--  3 lines: if self.n_outputs_ == 1:-------------------------------------------\n",
    " 373\n",
    " 374         return self\n",
    "```"
   ]
  },
  {
   "cell_type": "code",
   "execution_count": null,
   "metadata": {
    "collapsed": true
   },
   "outputs": [],
   "source": []
  },
  {
   "cell_type": "code",
   "execution_count": null,
   "metadata": {
    "collapsed": true
   },
   "outputs": [],
   "source": []
  }
 ],
 "metadata": {
  "kernelspec": {
   "display_name": "Python 3",
   "language": "python",
   "name": "python3"
  },
  "language_info": {
   "codemirror_mode": {
    "name": "ipython",
    "version": 3
   },
   "file_extension": ".py",
   "mimetype": "text/x-python",
   "name": "python",
   "nbconvert_exporter": "python",
   "pygments_lexer": "ipython3",
   "version": "3.5.2"
  }
 },
 "nbformat": 4,
 "nbformat_minor": 0
}

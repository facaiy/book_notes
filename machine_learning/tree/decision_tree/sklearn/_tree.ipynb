{
 "cells": [
  {
   "cell_type": "code",
   "execution_count": 2,
   "metadata": {
    "collapsed": true
   },
   "outputs": [],
   "source": [
    "# %load /Users/facai/Study/book_notes/preconfig.py\n",
    "%matplotlib inline\n",
    "\n",
    "import matplotlib.pyplot as plt\n",
    "import seaborn as sns\n",
    "sns.set(color_codes=True)\n",
    "sns.set(font='SimHei')\n",
    "plt.rcParams['axes.grid'] = False\n",
    "\n",
    "from IPython.display import SVG\n",
    "\n",
    "def show_image(filename, figsize=None):\n",
    "    if figsize:\n",
    "        plt.figure(figsize=figsize)\n",
    "\n",
    "    plt.imshow(plt.imread(filename))"
   ]
  },
  {
   "cell_type": "markdown",
   "metadata": {},
   "source": [
    "树构建模块 _tree.* 详解\n",
    "====================="
   ]
  },
  {
   "cell_type": "markdown",
   "metadata": {},
   "source": [
    "### 0. 大纲\n",
    "\n",
    "此模块包含两种类，一种是二叉树的实现类 `Tree`，另一种是构建出整颗树的方法类 `TreeBuilder`。我们着重介绍构建方法类 `TreeBuilder`，最后会简要提及 `Tree` 的几个函数。 "
   ]
  },
  {
   "cell_type": "code",
   "execution_count": 3,
   "metadata": {
    "collapsed": false
   },
   "outputs": [
    {
     "data": {
      "image/svg+xml": [
       "<svg height=\"492\" version=\"1.1\" width=\"1076.4111328125\" xmlns=\"http://www.w3.org/2000/svg\" xmlns:xlink=\"http://www.w3.org/1999/xlink\"><defs/><g><g transform=\"translate(-230,-166) scale(1,1)\"><rect fill=\"#C0C0C0\" height=\"150\" opacity=\"0.2\" stroke=\"none\" width=\"184.4111328125\" x=\"1119\" y=\"183\"/></g><g transform=\"translate(-230,-166) scale(1,1)\"><rect fill=\"#ffffff\" height=\"150\" stroke=\"none\" width=\"184.4111328125\" x=\"1112\" y=\"176\"/></g><g transform=\"translate(-230,-166) scale(1,1)\"><path d=\"M 1112 176 L 1296.4111328125 176 L 1296.4111328125 326 L 1112 326 L 1112 176 Z Z\" fill=\"none\" stroke=\"#000000\" stroke-miterlimit=\"10\"/></g><g transform=\"translate(-230,-166) scale(1,1)\"><path d=\"M 1112 214 L 1296.4111328125 214\" fill=\"none\" stroke=\"#000000\" stroke-miterlimit=\"10\"/></g><g transform=\"translate(-230,-166) scale(1,1)\"><g><path fill=\"none\" stroke=\"none\"/><text fill=\"#000000\" font-family=\"Arial\" font-size=\"13px\" font-style=\"normal\" font-weight=\"normal\" stroke=\"none\" text-decoration=\"none\" x=\"1170.20556640625\" y=\"193.5\">«dataType»</text></g></g><g transform=\"translate(-230,-166) scale(1,1)\"><g><path fill=\"none\" stroke=\"none\"/><text fill=\"#000000\" font-family=\"Arial\" font-size=\"13px\" font-style=\"normal\" font-weight=\"bold\" stroke=\"none\" text-decoration=\"none\" x=\"1189.20556640625\" y=\"208.5\">Node</text></g></g><g transform=\"translate(-230,-166) scale(1,1)\"><g><path fill=\"none\" stroke=\"none\"/><text fill=\"#000000\" font-family=\"Arial\" font-size=\"13px\" font-style=\"normal\" font-weight=\"normal\" stroke=\"none\" text-decoration=\"none\" x=\"1117\" y=\"231.5\">+left_child</text></g></g><g transform=\"translate(-230,-166) scale(1,1)\"><g><path fill=\"none\" stroke=\"none\"/><text fill=\"#000000\" font-family=\"Arial\" font-size=\"13px\" font-style=\"normal\" font-weight=\"normal\" stroke=\"none\" text-decoration=\"none\" x=\"1117\" y=\"246.5\">+right_child</text></g></g><g transform=\"translate(-230,-166) scale(1,1)\"><g><path fill=\"none\" stroke=\"none\"/><text fill=\"#000000\" font-family=\"Arial\" font-size=\"13px\" font-style=\"normal\" font-weight=\"normal\" stroke=\"none\" text-decoration=\"none\" x=\"1117\" y=\"261.5\">+feature</text></g></g><g transform=\"translate(-230,-166) scale(1,1)\"><g><path fill=\"none\" stroke=\"none\"/><text fill=\"#000000\" font-family=\"Arial\" font-size=\"13px\" font-style=\"normal\" font-weight=\"normal\" stroke=\"none\" text-decoration=\"none\" x=\"1117\" y=\"276.5\">+threshold</text></g></g><g transform=\"translate(-230,-166) scale(1,1)\"><g><path fill=\"none\" stroke=\"none\"/><text fill=\"#000000\" font-family=\"Arial\" font-size=\"13px\" font-style=\"normal\" font-weight=\"normal\" stroke=\"none\" text-decoration=\"none\" x=\"1117\" y=\"291.5\">+impurity</text></g></g><g transform=\"translate(-230,-166) scale(1,1)\"><g><path fill=\"none\" stroke=\"none\"/><text fill=\"#000000\" font-family=\"Arial\" font-size=\"13px\" font-style=\"normal\" font-weight=\"normal\" stroke=\"none\" text-decoration=\"none\" x=\"1117\" y=\"306.5\">+n_node_samples</text></g></g><g transform=\"translate(-230,-166) scale(1,1)\"><g><path fill=\"none\" stroke=\"none\"/><text fill=\"#000000\" font-family=\"Arial\" font-size=\"13px\" font-style=\"normal\" font-weight=\"normal\" stroke=\"none\" text-decoration=\"none\" x=\"1117\" y=\"321.5\">+weighted_n_node_samples</text></g></g><g transform=\"translate(-230,-166) scale(1,1)\"><rect fill=\"#C0C0C0\" height=\"132\" opacity=\"0.2\" stroke=\"none\" width=\"215.6416015625\" x=\"711\" y=\"191\"/></g><g transform=\"translate(-230,-166) scale(1,1)\"><rect fill=\"#ffffff\" height=\"132\" stroke=\"none\" width=\"215.6416015625\" x=\"704\" y=\"184\"/></g><g transform=\"translate(-230,-166) scale(1,1)\"><path d=\"M 704 184 L 919.6416015625 184 L 919.6416015625 316 L 704 316 L 704 184 Z Z\" fill=\"none\" stroke=\"#000000\" stroke-miterlimit=\"10\"/></g><g transform=\"translate(-230,-166) scale(1,1)\"><path d=\"M 704 209 L 919.6416015625 209\" fill=\"none\" stroke=\"#000000\" stroke-miterlimit=\"10\"/></g><g transform=\"translate(-230,-166) scale(1,1)\"><path d=\"M 704 219 L 919.6416015625 219\" fill=\"none\" stroke=\"#000000\" stroke-miterlimit=\"10\"/></g><g transform=\"translate(-230,-166) scale(1,1)\"><g><path fill=\"none\" stroke=\"none\"/><text fill=\"#000000\" font-family=\"Arial\" font-size=\"13px\" font-style=\"normal\" font-weight=\"bold\" stroke=\"none\" text-decoration=\"none\" x=\"798.82080078125\" y=\"203.5\">Tree</text></g></g><g transform=\"translate(-230,-166) scale(1,1)\"><g><path fill=\"none\" stroke=\"none\"/><text fill=\"#000000\" font-family=\"Arial\" font-size=\"13px\" font-style=\"normal\" font-weight=\"normal\" stroke=\"none\" text-decoration=\"none\" x=\"709\" y=\"236.5\">+_add_note()</text></g></g><g transform=\"translate(-230,-166) scale(1,1)\"><g><path fill=\"none\" stroke=\"none\"/><text fill=\"#000000\" font-family=\"Arial\" font-size=\"13px\" font-style=\"normal\" font-weight=\"normal\" stroke=\"none\" text-decoration=\"none\" x=\"709\" y=\"251.5\">+_resize()</text></g></g><g transform=\"translate(-230,-166) scale(1,1)\"><g><path fill=\"none\" stroke=\"none\"/><text fill=\"#000000\" font-family=\"Arial\" font-size=\"13px\" font-style=\"normal\" font-weight=\"normal\" stroke=\"none\" text-decoration=\"none\" x=\"709\" y=\"266.5\">+predict()</text></g></g><g transform=\"translate(-230,-166) scale(1,1)\"><g><path fill=\"none\" stroke=\"none\"/><text fill=\"#000000\" font-family=\"Arial\" font-size=\"13px\" font-style=\"normal\" font-weight=\"normal\" stroke=\"none\" text-decoration=\"none\" x=\"709\" y=\"281.5\">+apply()</text></g></g><g transform=\"translate(-230,-166) scale(1,1)\"><g><path fill=\"none\" stroke=\"none\"/><text fill=\"#000000\" font-family=\"Arial\" font-size=\"13px\" font-style=\"normal\" font-weight=\"normal\" stroke=\"none\" text-decoration=\"none\" x=\"709\" y=\"296.5\">+decision_path()</text></g></g><g transform=\"translate(-230,-166) scale(1,1)\"><g><path fill=\"none\" stroke=\"none\"/><text fill=\"#000000\" font-family=\"Arial\" font-size=\"13px\" font-style=\"normal\" font-weight=\"normal\" stroke=\"none\" text-decoration=\"none\" x=\"709\" y=\"311.5\">+compute_feature_importances()</text></g></g><g transform=\"translate(-230,-166) scale(1,1)\"><rect fill=\"#C0C0C0\" height=\"145\" opacity=\"0.2\" stroke=\"none\" width=\"125\" x=\"407\" y=\"183\"/></g><g transform=\"translate(-230,-166) scale(1,1)\"><rect fill=\"#ffffff\" height=\"145\" stroke=\"none\" width=\"125\" x=\"400\" y=\"176\"/></g><g transform=\"translate(-230,-166) scale(1,1)\"><path d=\"M 400 176 L 525 176 L 525 321 L 400 321 L 400 176 Z Z\" fill=\"none\" stroke=\"#000000\" stroke-miterlimit=\"10\"/></g><g transform=\"translate(-230,-166) scale(1,1)\"><path d=\"M 400 201 L 525 201\" fill=\"none\" stroke=\"#000000\" stroke-miterlimit=\"10\"/></g><g transform=\"translate(-230,-166) scale(1,1)\"><path d=\"M 400 284 L 525 284\" fill=\"none\" stroke=\"#000000\" stroke-miterlimit=\"10\"/></g><g transform=\"translate(-230,-166) scale(1,1)\"><g><path fill=\"none\" stroke=\"none\"/><text fill=\"#000000\" font-family=\"Arial\" font-size=\"13px\" font-style=\"normal\" font-weight=\"bold\" stroke=\"none\" text-decoration=\"none\" x=\"429.5\" y=\"195.5\">TreeBuilder</text></g></g><g transform=\"translate(-230,-166) scale(1,1)\"><g><path fill=\"none\" stroke=\"none\"/><text fill=\"#000000\" font-family=\"Arial\" font-size=\"13px\" font-style=\"normal\" font-weight=\"normal\" stroke=\"none\" text-decoration=\"none\" x=\"405\" y=\"218.5\">+splitter</text></g></g><g transform=\"translate(-230,-166) scale(1,1)\"><g><path fill=\"none\" stroke=\"none\"/><text fill=\"#000000\" font-family=\"Arial\" font-size=\"13px\" font-style=\"normal\" font-weight=\"normal\" stroke=\"none\" text-decoration=\"none\" x=\"405\" y=\"233.5\">+min_samples_split</text></g></g><g transform=\"translate(-230,-166) scale(1,1)\"><g><path fill=\"none\" stroke=\"none\"/><text fill=\"#000000\" font-family=\"Arial\" font-size=\"13px\" font-style=\"normal\" font-weight=\"normal\" stroke=\"none\" text-decoration=\"none\" x=\"405\" y=\"248.5\">+min_samples_leaf</text></g></g><g transform=\"translate(-230,-166) scale(1,1)\"><g><path fill=\"none\" stroke=\"none\"/><text fill=\"#000000\" font-family=\"Arial\" font-size=\"13px\" font-style=\"normal\" font-weight=\"normal\" stroke=\"none\" text-decoration=\"none\" x=\"405\" y=\"263.5\">+min_weight_leaf</text></g></g><g transform=\"translate(-230,-166) scale(1,1)\"><g><path fill=\"none\" stroke=\"none\"/><text fill=\"#000000\" font-family=\"Arial\" font-size=\"13px\" font-style=\"normal\" font-weight=\"normal\" stroke=\"none\" text-decoration=\"none\" x=\"405\" y=\"278.5\">+max_depth</text></g></g><g transform=\"translate(-230,-166) scale(1,1)\"><g><path fill=\"none\" stroke=\"none\"/><text fill=\"#000000\" font-family=\"Arial\" font-size=\"13px\" font-style=\"normal\" font-weight=\"normal\" stroke=\"none\" text-decoration=\"none\" x=\"405\" y=\"301.5\">+build()</text></g></g><g transform=\"translate(-230,-166) scale(1,1)\"><g><path fill=\"none\" stroke=\"none\"/><text fill=\"#000000\" font-family=\"Arial\" font-size=\"13px\" font-style=\"normal\" font-weight=\"normal\" stroke=\"none\" text-decoration=\"none\" x=\"405\" y=\"316.5\">+_check_input()</text></g></g><g transform=\"translate(-230,-166) scale(1,1)\"><path d=\"M 526 248 L 703 249\" fill=\"none\" stroke=\"#000000\" stroke-miterlimit=\"10\"/></g><g transform=\"translate(-230,-166) scale(1,1)\"><path d=\"M 692.8137051246281 253.15203524936533 L 703 249 L 692.861269537907 244.73313409901056 L 681.0003511039827 248.87570819832757\" fill=\"#000000\" stroke=\"none\"/></g><g transform=\"translate(-230,-166) scale(1,1)\"><path d=\"M 692.8137051246281 253.15203524936533 L 703 249 L 692.861269537907 244.73313409901056 L 681.0003511039827 248.87570819832757 L 692.8137051246281 253.15203524936533\" fill=\"none\" stroke=\"#000000\" stroke-miterlimit=\"10\"/></g><g transform=\"translate(-230,-166) scale(1,1)\"><g><path fill=\"none\" stroke=\"none\"/><text fill=\"#000000\" font-family=\"Arial\" font-size=\"13px\" font-style=\"normal\" font-weight=\"normal\" stroke=\"none\" text-decoration=\"none\" x=\"599\" y=\"240\">+1..1</text></g></g><g transform=\"translate(-230,-166) scale(1,1)\"><path d=\"M 921 250 L 1111 251\" fill=\"none\" stroke=\"#000000\" stroke-miterlimit=\"10\"/></g><g transform=\"translate(-230,-166) scale(1,1)\"><path d=\"M 1100.815310846965 255.15597243206102 L 1111 251 L 1100.8596209464772 246.73705352474659 L 1089.0003047028108 250.8842121300148\" fill=\"#000000\" stroke=\"none\"/></g><g transform=\"translate(-230,-166) scale(1,1)\"><path d=\"M 1100.815310846965 255.15597243206102 L 1111 251 L 1100.8596209464772 246.73705352474659 L 1089.0003047028108 250.8842121300148 L 1100.815310846965 255.15597243206102\" fill=\"none\" stroke=\"#000000\" stroke-miterlimit=\"10\"/></g><g transform=\"translate(-230,-166) scale(1,1)\"><g><path fill=\"none\" stroke=\"none\"/><text fill=\"#000000\" font-family=\"Arial\" font-size=\"13px\" font-style=\"normal\" font-weight=\"normal\" stroke=\"none\" text-decoration=\"none\" x=\"1002\" y=\"242\">+1..*</text></g></g><g transform=\"translate(-230,-166) scale(1,1)\"><rect fill=\"#C0C0C0\" height=\"57\" opacity=\"0.2\" stroke=\"none\" width=\"145\" x=\"247\" y=\"431\"/></g><g transform=\"translate(-230,-166) scale(1,1)\"><rect fill=\"#ffffff\" height=\"57\" stroke=\"none\" width=\"145\" x=\"240\" y=\"424\"/></g><g transform=\"translate(-230,-166) scale(1,1)\"><path d=\"M 240 424 L 385 424 L 385 481 L 240 481 L 240 424 Z Z\" fill=\"none\" stroke=\"#000000\" stroke-miterlimit=\"10\"/></g><g transform=\"translate(-230,-166) scale(1,1)\"><path d=\"M 240 449 L 385 449\" fill=\"none\" stroke=\"#000000\" stroke-miterlimit=\"10\"/></g><g transform=\"translate(-230,-166) scale(1,1)\"><path d=\"M 240 459 L 385 459\" fill=\"none\" stroke=\"#000000\" stroke-miterlimit=\"10\"/></g><g transform=\"translate(-230,-166) scale(1,1)\"><g><path fill=\"none\" stroke=\"none\"/><text fill=\"#000000\" font-family=\"Arial\" font-size=\"13px\" font-style=\"normal\" font-weight=\"bold\" stroke=\"none\" text-decoration=\"none\" x=\"249.5\" y=\"443.5\">DepthFirstTreeBuilder</text></g></g><g transform=\"translate(-230,-166) scale(1,1)\"><g><path fill=\"none\" stroke=\"none\"/><text fill=\"#000000\" font-family=\"Arial\" font-size=\"13px\" font-style=\"normal\" font-weight=\"normal\" stroke=\"none\" text-decoration=\"none\" x=\"245\" y=\"476.5\">+build()</text></g></g><g transform=\"translate(-230,-166) scale(1,1)\"><rect fill=\"#C0C0C0\" height=\"72\" opacity=\"0.2\" stroke=\"none\" width=\"88\" x=\"271\" y=\"583\"/></g><g transform=\"translate(-230,-166) scale(1,1)\"><rect fill=\"#ffffff\" height=\"72\" stroke=\"none\" width=\"88\" x=\"264\" y=\"576\"/></g><g transform=\"translate(-230,-166) scale(1,1)\"><path d=\"M 264 576 L 352 576 L 352 648 L 264 648 L 264 576 Z Z\" fill=\"none\" stroke=\"#000000\" stroke-miterlimit=\"10\"/></g><g transform=\"translate(-230,-166) scale(1,1)\"><path d=\"M 264 601 L 352 601\" fill=\"none\" stroke=\"#000000\" stroke-miterlimit=\"10\"/></g><g transform=\"translate(-230,-166) scale(1,1)\"><path d=\"M 264 611 L 352 611\" fill=\"none\" stroke=\"#000000\" stroke-miterlimit=\"10\"/></g><g transform=\"translate(-230,-166) scale(1,1)\"><g><path fill=\"none\" stroke=\"none\"/><text fill=\"#000000\" font-family=\"Arial\" font-size=\"13px\" font-style=\"normal\" font-weight=\"bold\" stroke=\"none\" text-decoration=\"none\" x=\"273.5\" y=\"595.5\">_utils.Stack</text></g></g><g transform=\"translate(-230,-166) scale(1,1)\"><g><path fill=\"none\" stroke=\"none\"/><text fill=\"#000000\" font-family=\"Arial\" font-size=\"13px\" font-style=\"normal\" font-weight=\"normal\" stroke=\"none\" text-decoration=\"none\" x=\"269\" y=\"628.5\">+push()</text></g></g><g transform=\"translate(-230,-166) scale(1,1)\"><g><path fill=\"none\" stroke=\"none\"/><text fill=\"#000000\" font-family=\"Arial\" font-size=\"13px\" font-style=\"normal\" font-weight=\"normal\" stroke=\"none\" text-decoration=\"none\" x=\"269\" y=\"643.5\">+pop()</text></g></g><g transform=\"translate(-230,-166) scale(1,1)\"><path d=\"M 333 423 L 408 322\" fill=\"none\" stroke=\"#000000\" stroke-miterlimit=\"10\"/></g><g transform=\"translate(-230,-166) scale(1,1)\"><path d=\"M 402.64172515799646 343.33749963602935 L 408 322 L 389.1232368375562 333.29901820995985\" fill=\"#FFFFFF\" stroke=\"none\"/></g><g transform=\"translate(-230,-166) scale(1,1)\"><path d=\"M 402.64172515799646 343.33749963602935 L 408 322 L 389.1232368375562 333.29901820995985 L 402.64172515799646 343.33749963602935\" fill=\"none\" stroke=\"#000000\" stroke-miterlimit=\"10\"/></g><g transform=\"translate(-230,-166) scale(1,1)\"><path d=\"M 311 482 L 309 575\" fill=\"none\" stroke=\"#000000\" stroke-miterlimit=\"10\"/></g><g transform=\"translate(-230,-166) scale(1,1)\"><path d=\"M 305.0099569447797 564.7491680134007 L 309 575 L 313.4270463089558 564.9301806878991\" fill=\"none\" stroke=\"#000000\" stroke-miterlimit=\"10\"/></g><g transform=\"translate(-230,-166) scale(1,1)\"><g><path fill=\"none\" stroke=\"none\"/><text fill=\"#000000\" font-family=\"Arial\" font-size=\"13px\" font-style=\"normal\" font-weight=\"normal\" stroke=\"none\" text-decoration=\"none\" x=\"309\" y=\"535\">+1..1</text></g></g><g transform=\"translate(-230,-166) scale(1,1)\"><rect fill=\"#C0C0C0\" height=\"57\" opacity=\"0.2\" stroke=\"none\" width=\"136\" x=\"535\" y=\"431\"/></g><g transform=\"translate(-230,-166) scale(1,1)\"><rect fill=\"#ffffff\" height=\"57\" stroke=\"none\" width=\"136\" x=\"528\" y=\"424\"/></g><g transform=\"translate(-230,-166) scale(1,1)\"><path d=\"M 528 424 L 664 424 L 664 481 L 528 481 L 528 424 Z Z\" fill=\"none\" stroke=\"#000000\" stroke-miterlimit=\"10\"/></g><g transform=\"translate(-230,-166) scale(1,1)\"><path d=\"M 528 449 L 664 449\" fill=\"none\" stroke=\"#000000\" stroke-miterlimit=\"10\"/></g><g transform=\"translate(-230,-166) scale(1,1)\"><path d=\"M 528 459 L 664 459\" fill=\"none\" stroke=\"#000000\" stroke-miterlimit=\"10\"/></g><g transform=\"translate(-230,-166) scale(1,1)\"><g><path fill=\"none\" stroke=\"none\"/><text fill=\"#000000\" font-family=\"Arial\" font-size=\"13px\" font-style=\"normal\" font-weight=\"bold\" stroke=\"none\" text-decoration=\"none\" x=\"536.5\" y=\"443.5\">BestFirstTreeBuilder</text></g></g><g transform=\"translate(-230,-166) scale(1,1)\"><g><path fill=\"none\" stroke=\"none\"/><text fill=\"#000000\" font-family=\"Arial\" font-size=\"13px\" font-style=\"normal\" font-weight=\"normal\" stroke=\"none\" text-decoration=\"none\" x=\"533\" y=\"476.5\">+build()</text></g></g><g transform=\"translate(-230,-166) scale(1,1)\"><path d=\"M 577 423 L 511 322\" fill=\"none\" stroke=\"#000000\" stroke-miterlimit=\"10\"/></g><g transform=\"translate(-230,-166) scale(1,1)\"><path d=\"M 529.1662013380095 334.40923563104917 L 511 322 L 515.0707894904501 343.6200988185633\" fill=\"#FFFFFF\" stroke=\"none\"/></g><g transform=\"translate(-230,-166) scale(1,1)\"><path d=\"M 529.1662013380095 334.40923563104917 L 511 322 L 515.0707894904501 343.6200988185633 L 529.1662013380095 334.40923563104917\" fill=\"none\" stroke=\"#000000\" stroke-miterlimit=\"10\"/></g><g transform=\"translate(-230,-166) scale(1,1)\"><rect fill=\"#C0C0C0\" height=\"72\" opacity=\"0.2\" stroke=\"none\" width=\"124\" x=\"543\" y=\"583\"/></g><g transform=\"translate(-230,-166) scale(1,1)\"><rect fill=\"#ffffff\" height=\"72\" stroke=\"none\" width=\"124\" x=\"536\" y=\"576\"/></g><g transform=\"translate(-230,-166) scale(1,1)\"><path d=\"M 536 576 L 660 576 L 660 648 L 536 648 L 536 576 Z Z\" fill=\"none\" stroke=\"#000000\" stroke-miterlimit=\"10\"/></g><g transform=\"translate(-230,-166) scale(1,1)\"><path d=\"M 536 601 L 660 601\" fill=\"none\" stroke=\"#000000\" stroke-miterlimit=\"10\"/></g><g transform=\"translate(-230,-166) scale(1,1)\"><path d=\"M 536 611 L 660 611\" fill=\"none\" stroke=\"#000000\" stroke-miterlimit=\"10\"/></g><g transform=\"translate(-230,-166) scale(1,1)\"><g><path fill=\"none\" stroke=\"none\"/><text fill=\"#000000\" font-family=\"Arial\" font-size=\"13px\" font-style=\"normal\" font-weight=\"bold\" stroke=\"none\" text-decoration=\"none\" x=\"545\" y=\"595.5\">_utils.PriorityHeap</text></g></g><g transform=\"translate(-230,-166) scale(1,1)\"><g><path fill=\"none\" stroke=\"none\"/><text fill=\"#000000\" font-family=\"Arial\" font-size=\"13px\" font-style=\"normal\" font-weight=\"normal\" stroke=\"none\" text-decoration=\"none\" x=\"541\" y=\"628.5\">+push()</text></g></g><g transform=\"translate(-230,-166) scale(1,1)\"><g><path fill=\"none\" stroke=\"none\"/><text fill=\"#000000\" font-family=\"Arial\" font-size=\"13px\" font-style=\"normal\" font-weight=\"normal\" stroke=\"none\" text-decoration=\"none\" x=\"541\" y=\"643.5\">+pop()</text></g></g><g transform=\"translate(-230,-166) scale(1,1)\"><path d=\"M 596 482 L 598 575\" fill=\"none\" stroke=\"#000000\" stroke-miterlimit=\"10\"/></g><g transform=\"translate(-230,-166) scale(1,1)\"><path d=\"M 593.5729536910442 564.9301806878991 L 598 575 L 601.9900430552203 564.7491680134007\" fill=\"none\" stroke=\"#000000\" stroke-miterlimit=\"10\"/></g><g transform=\"translate(-230,-166) scale(1,1)\"><g><path fill=\"none\" stroke=\"none\"/><text fill=\"#000000\" font-family=\"Arial\" font-size=\"13px\" font-style=\"normal\" font-weight=\"normal\" stroke=\"none\" text-decoration=\"none\" x=\"596\" y=\"534\">+1..1</text></g></g></g></svg>"
      ],
      "text/plain": [
       "<IPython.core.display.SVG object>"
      ]
     },
     "execution_count": 3,
     "metadata": {},
     "output_type": "execute_result"
    }
   ],
   "source": [
    "SVG(\"./res/uml/Model___tree_3.svg\")"
   ]
  },
  {
   "cell_type": "markdown",
   "metadata": {},
   "source": [
    "### 1. 构建类"
   ]
  },
  {
   "cell_type": "markdown",
   "metadata": {},
   "source": [
    "#### 1.0 TreeBuilder\n",
    "TreeBuilder 提供了接口方法 `build` 和一个具体的参数检查方法 `_check_input`，没太多说的。"
   ]
  },
  {
   "cell_type": "markdown",
   "metadata": {},
   "source": [
    "#### 1.1 DepthFirstTreeBuilder\n",
    "DepthFirstTreeBuilder 是用类似先序遍历的方式生成整颗决策树，借助的数据结构是先进先出栈。\n",
    "\n",
    "主要流程是：\n",
    "\n",
    "1. 从栈中抽出一个节点\n",
    "2. 计算分割点\n",
    "   + 若达到叶子条件，不再处理；\n",
    "   + 若不是叶子，则先压右叶子入栈，再压左叶子入栈。\n",
    "3. 若栈空，树构建完成。"
   ]
  },
  {
   "cell_type": "markdown",
   "metadata": {},
   "source": [
    "主体代码如下：\n",
    "\n",
    "```Python\n",
    " 195         with nogil:\n",
    " 196             # push root node onto stack\n",
    " 197             rc = stack.push(0, n_node_samples, 0, _TREE_UNDEFINED, 0, INFINITY, 0)\n",
    " 198 #+--  4 lines: if rc == -1:-----------------------------------------------------------------\n",
    " 202\n",
    " 203             while not stack.is_empty():\n",
    " 204                 stack.pop(&stack_record)\n",
    " 205 #+--  9 lines: start = stack_record.start---------------------------------------------------\n",
    " 214                 n_node_samples = end - start\n",
    " 215                 splitter.node_reset(start, end, &weighted_n_node_samples)\n",
    " 216\n",
    " 217                 is_leaf = ((depth >= max_depth) or\n",
    " 218                            (n_node_samples < min_samples_split) or\n",
    " 219                            (n_node_samples < 2 * min_samples_leaf) or\n",
    " 220                            (weighted_n_node_samples < min_weight_leaf))\n",
    " 221\n",
    " 222                 if first:\n",
    " 223                     impurity = splitter.node_impurity()\n",
    " 224                     first = 0\n",
    " 225\n",
    " 226                 is_leaf = is_leaf or (impurity <= MIN_IMPURITY_SPLIT)\n",
    " 227\n",
    " 228                 if not is_leaf:\n",
    " 229                     splitter.node_split(impurity, &split, &n_constant_features)\n",
    " 230                     is_leaf = is_leaf or (split.pos >= end)\n",
    " 231\n",
    " 232                 node_id = tree._add_node(parent, is_left, is_leaf, split.feature,\n",
    " 233                                          split.threshold, impurity, n_node_samples,\n",
    " 234                                          weighted_n_node_samples)\n",
    " 235\n",
    " 236 #+--  4 lines: if node_id == <SIZE_t>(-1):--------------------------------------------------\n",
    " 240                 # Store value for all nodes, to facilitate tree/model\n",
    " 241                 # inspection and interpretation\n",
    " 242                 splitter.node_value(tree.value + node_id * tree.value_stride)\n",
    " 243\n",
    " 244                 if not is_leaf:\n",
    " 245                     # Push right child on stack\n",
    " 246                     rc = stack.push(split.pos, end, depth + 1, node_id, 0,\n",
    " 247                                     split.impurity_right, n_constant_features)\n",
    " 248 #+--  3 lines: if rc == -1:-----------------------------------------------------------------\n",
    " 251                     # Push left child on stack\n",
    " 252                     rc = stack.push(start, split.pos, depth + 1, node_id, 1,\n",
    " 253                                     split.impurity_left, n_constant_features)\n",
    " 254 #+--  2 lines: if rc == -1:-----------------------------------------------------------------\n",
    " 256\n",
    "```"
   ]
  },
  {
   "cell_type": "markdown",
   "metadata": {},
   "source": [
    "#### 1.2 BestFirstTreeBuilder\n",
    "\n",
    "BestFristTreeBuilder 总是优先分割最混杂（不纯度最大）的节点，借助了最大堆的数据结构。处理流程和 DepthFirstTreeBuilder 大同小异，不赘述。"
   ]
  },
  {
   "cell_type": "code",
   "execution_count": null,
   "metadata": {
    "collapsed": true
   },
   "outputs": [],
   "source": []
  }
 ],
 "metadata": {
  "kernelspec": {
   "display_name": "Python 3",
   "language": "python",
   "name": "python3"
  },
  "language_info": {
   "codemirror_mode": {
    "name": "ipython",
    "version": 3
   },
   "file_extension": ".py",
   "mimetype": "text/x-python",
   "name": "python",
   "nbconvert_exporter": "python",
   "pygments_lexer": "ipython3",
   "version": "3.5.2"
  }
 },
 "nbformat": 4,
 "nbformat_minor": 0
}

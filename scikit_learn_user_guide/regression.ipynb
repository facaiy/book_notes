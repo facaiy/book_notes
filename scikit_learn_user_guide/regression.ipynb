{
 "cells": [
  {
   "cell_type": "code",
   "execution_count": 1,
   "metadata": {
    "collapsed": false
   },
   "outputs": [],
   "source": [
    "# %load ../preconfig.py\n",
    "%matplotlib inline\n",
    "\n",
    "import matplotlib.pyplot as plt\n",
    "import seaborn as sns\n",
    "sns.set(color_codes=True)\n",
    "#sns.set(font='SimHei')\n",
    "#plt.rcParams['axes.grid'] = False\n",
    "\n",
    "import numpy as np\n",
    "\n",
    "import pandas as pd\n",
    "pd.options.display.max_rows = 20\n",
    "\n",
    "#import sklearn\n",
    "\n",
    "#import itertools"
   ]
  },
  {
   "cell_type": "code",
   "execution_count": 2,
   "metadata": {
    "collapsed": false
   },
   "outputs": [
    {
     "name": "stdout",
     "output_type": "stream",
     "text": [
      "Boston House Prices dataset\n",
      "\n",
      "Notes\n",
      "------\n",
      "Data Set Characteristics:  \n",
      "\n",
      "    :Number of Instances: 506 \n",
      "\n",
      "    :Number of Attributes: 13 numeric/categorical predictive\n",
      "    \n",
      "    :Median Value (attribute 14) is usually the target\n",
      "\n",
      "    :Attribute Information (in order):\n",
      "        - CRIM     per capita crime rate by town\n",
      "        - ZN       proportion of residential land zoned for lots over 25,000 sq.ft.\n",
      "        - INDUS    proportion of non-retail business acres per town\n",
      "        - CHAS     Charles River dummy variable (= 1 if tract bounds river; 0 otherwise)\n",
      "        - NOX      nitric oxides concentration (parts per 10 million)\n",
      "        - RM       average number of rooms per dwelling\n",
      "        - AGE      proportion of owner-occupied units built prior to 1940\n",
      "        - DIS      weighted distances to five Boston employment centres\n",
      "        - RAD      index of accessibility to radial highways\n",
      "        - TAX      full-value property-tax rate per $10,000\n",
      "        - PTRATIO  pupil-teacher ratio by town\n",
      "        - B        1000(Bk - 0.63)^2 where Bk is the proportion of blacks by town\n",
      "        - LSTAT    % lower status of the population\n",
      "        - MEDV     Median value of owner-occupied homes in $1000's\n",
      "\n",
      "    :Missing Attribute Values: None\n",
      "\n",
      "    :Creator: Harrison, D. and Rubinfeld, D.L.\n",
      "\n",
      "This is a copy of UCI ML housing dataset.\n",
      "http://archive.ics.uci.edu/ml/datasets/Housing\n",
      "\n",
      "\n",
      "This dataset was taken from the StatLib library which is maintained at Carnegie Mellon University.\n",
      "\n",
      "The Boston house-price data of Harrison, D. and Rubinfeld, D.L. 'Hedonic\n",
      "prices and the demand for clean air', J. Environ. Economics & Management,\n",
      "vol.5, 81-102, 1978.   Used in Belsley, Kuh & Welsch, 'Regression diagnostics\n",
      "...', Wiley, 1980.   N.B. Various transformations are used in the table on\n",
      "pages 244-261 of the latter.\n",
      "\n",
      "The Boston house-price data has been used in many machine learning papers that address regression\n",
      "problems.   \n",
      "     \n",
      "**References**\n",
      "\n",
      "   - Belsley, Kuh & Welsch, 'Regression diagnostics: Identifying Influential Data and Sources of Collinearity', Wiley, 1980. 244-261.\n",
      "   - Quinlan,R. (1993). Combining Instance-Based and Model-Based Learning. In Proceedings on the Tenth International Conference of Machine Learning, 236-243, University of Massachusetts, Amherst. Morgan Kaufmann.\n",
      "   - many more! (see http://archive.ics.uci.edu/ml/datasets/Housing)\n",
      "\n"
     ]
    }
   ],
   "source": [
    "from sklearn import datasets\n",
    "boston = datasets.load_boston()\n",
    "print(boston.DESCR)"
   ]
  },
  {
   "cell_type": "code",
   "execution_count": 3,
   "metadata": {
    "collapsed": false
   },
   "outputs": [],
   "source": [
    "index = pd.MultiIndex.from_product([['x'], boston['feature_names']], names=['variable', 'feature'])"
   ]
  },
  {
   "cell_type": "code",
   "execution_count": 4,
   "metadata": {
    "collapsed": false
   },
   "outputs": [
    {
     "data": {
      "text/html": [
       "<div>\n",
       "<table border=\"1\" class=\"dataframe\">\n",
       "  <thead>\n",
       "    <tr>\n",
       "      <th>variable</th>\n",
       "      <th colspan=\"13\" halign=\"left\">x</th>\n",
       "      <th>y</th>\n",
       "    </tr>\n",
       "    <tr>\n",
       "      <th>feature</th>\n",
       "      <th>CRIM</th>\n",
       "      <th>ZN</th>\n",
       "      <th>INDUS</th>\n",
       "      <th>CHAS</th>\n",
       "      <th>NOX</th>\n",
       "      <th>RM</th>\n",
       "      <th>AGE</th>\n",
       "      <th>DIS</th>\n",
       "      <th>RAD</th>\n",
       "      <th>TAX</th>\n",
       "      <th>PTRATIO</th>\n",
       "      <th>B</th>\n",
       "      <th>LSTAT</th>\n",
       "      <th>HP</th>\n",
       "    </tr>\n",
       "  </thead>\n",
       "  <tbody>\n",
       "    <tr>\n",
       "      <th>0</th>\n",
       "      <td>0.00632</td>\n",
       "      <td>18.0</td>\n",
       "      <td>2.31</td>\n",
       "      <td>0.0</td>\n",
       "      <td>0.538</td>\n",
       "      <td>6.575</td>\n",
       "      <td>65.2</td>\n",
       "      <td>4.0900</td>\n",
       "      <td>1.0</td>\n",
       "      <td>296.0</td>\n",
       "      <td>15.3</td>\n",
       "      <td>396.90</td>\n",
       "      <td>4.98</td>\n",
       "      <td>24.0</td>\n",
       "    </tr>\n",
       "    <tr>\n",
       "      <th>1</th>\n",
       "      <td>0.02731</td>\n",
       "      <td>0.0</td>\n",
       "      <td>7.07</td>\n",
       "      <td>0.0</td>\n",
       "      <td>0.469</td>\n",
       "      <td>6.421</td>\n",
       "      <td>78.9</td>\n",
       "      <td>4.9671</td>\n",
       "      <td>2.0</td>\n",
       "      <td>242.0</td>\n",
       "      <td>17.8</td>\n",
       "      <td>396.90</td>\n",
       "      <td>9.14</td>\n",
       "      <td>21.6</td>\n",
       "    </tr>\n",
       "    <tr>\n",
       "      <th>2</th>\n",
       "      <td>0.02729</td>\n",
       "      <td>0.0</td>\n",
       "      <td>7.07</td>\n",
       "      <td>0.0</td>\n",
       "      <td>0.469</td>\n",
       "      <td>7.185</td>\n",
       "      <td>61.1</td>\n",
       "      <td>4.9671</td>\n",
       "      <td>2.0</td>\n",
       "      <td>242.0</td>\n",
       "      <td>17.8</td>\n",
       "      <td>392.83</td>\n",
       "      <td>4.03</td>\n",
       "      <td>34.7</td>\n",
       "    </tr>\n",
       "    <tr>\n",
       "      <th>3</th>\n",
       "      <td>0.03237</td>\n",
       "      <td>0.0</td>\n",
       "      <td>2.18</td>\n",
       "      <td>0.0</td>\n",
       "      <td>0.458</td>\n",
       "      <td>6.998</td>\n",
       "      <td>45.8</td>\n",
       "      <td>6.0622</td>\n",
       "      <td>3.0</td>\n",
       "      <td>222.0</td>\n",
       "      <td>18.7</td>\n",
       "      <td>394.63</td>\n",
       "      <td>2.94</td>\n",
       "      <td>33.4</td>\n",
       "    </tr>\n",
       "    <tr>\n",
       "      <th>4</th>\n",
       "      <td>0.06905</td>\n",
       "      <td>0.0</td>\n",
       "      <td>2.18</td>\n",
       "      <td>0.0</td>\n",
       "      <td>0.458</td>\n",
       "      <td>7.147</td>\n",
       "      <td>54.2</td>\n",
       "      <td>6.0622</td>\n",
       "      <td>3.0</td>\n",
       "      <td>222.0</td>\n",
       "      <td>18.7</td>\n",
       "      <td>396.90</td>\n",
       "      <td>5.33</td>\n",
       "      <td>36.2</td>\n",
       "    </tr>\n",
       "  </tbody>\n",
       "</table>\n",
       "</div>"
      ],
      "text/plain": [
       "variable        x                                                           \\\n",
       "feature      CRIM    ZN INDUS CHAS    NOX     RM   AGE     DIS  RAD    TAX   \n",
       "0         0.00632  18.0  2.31  0.0  0.538  6.575  65.2  4.0900  1.0  296.0   \n",
       "1         0.02731   0.0  7.07  0.0  0.469  6.421  78.9  4.9671  2.0  242.0   \n",
       "2         0.02729   0.0  7.07  0.0  0.469  7.185  61.1  4.9671  2.0  242.0   \n",
       "3         0.03237   0.0  2.18  0.0  0.458  6.998  45.8  6.0622  3.0  222.0   \n",
       "4         0.06905   0.0  2.18  0.0  0.458  7.147  54.2  6.0622  3.0  222.0   \n",
       "\n",
       "variable                           y  \n",
       "feature  PTRATIO       B LSTAT    HP  \n",
       "0           15.3  396.90  4.98  24.0  \n",
       "1           17.8  396.90  9.14  21.6  \n",
       "2           17.8  392.83  4.03  34.7  \n",
       "3           18.7  394.63  2.94  33.4  \n",
       "4           18.7  396.90  5.33  36.2  "
      ]
     },
     "execution_count": 4,
     "metadata": {},
     "output_type": "execute_result"
    }
   ],
   "source": [
    "df = pd.DataFrame(data=boston.data, columns=index)\n",
    "df['y', 'HP'] = boston.target\n",
    "df.head(5)"
   ]
  },
  {
   "cell_type": "code",
   "execution_count": 5,
   "metadata": {
    "collapsed": false
   },
   "outputs": [
    {
     "data": {
      "text/plain": [
       "<matplotlib.axes._subplots.AxesSubplot at 0x114d135f8>"
      ]
     },
     "execution_count": 5,
     "metadata": {},
     "output_type": "execute_result"
    },
    {
     "data": {
      "image/png": "[encoded data removed]",
      "text/plain": [
       "<matplotlib.figure.Figure at 0x114cb2d68>"
      ]
     },
     "metadata": {},
     "output_type": "display_data"
    }
   ],
   "source": [
    "corr = df['x'].corr()\n",
    "\n",
    "mask = np.zeros_like(corr, dtype=np.bool)\n",
    "mask[np.triu_indices_from(mask)] = True\n",
    "\n",
    "sns.heatmap(corr, mask=mask)"
   ]
  },
  {
   "cell_type": "code",
   "execution_count": 6,
   "metadata": {
    "collapsed": false
   },
   "outputs": [
    {
     "data": {
      "text/html": [
       "<div>\n",
       "<table border=\"1\" class=\"dataframe\">\n",
       "  <thead>\n",
       "    <tr>\n",
       "      <th>variable</th>\n",
       "      <th colspan=\"13\" halign=\"left\">x</th>\n",
       "      <th>y</th>\n",
       "    </tr>\n",
       "    <tr>\n",
       "      <th>feature</th>\n",
       "      <th>CRIM</th>\n",
       "      <th>ZN</th>\n",
       "      <th>INDUS</th>\n",
       "      <th>CHAS</th>\n",
       "      <th>NOX</th>\n",
       "      <th>RM</th>\n",
       "      <th>AGE</th>\n",
       "      <th>DIS</th>\n",
       "      <th>RAD</th>\n",
       "      <th>TAX</th>\n",
       "      <th>PTRATIO</th>\n",
       "      <th>B</th>\n",
       "      <th>LSTAT</th>\n",
       "      <th>HP</th>\n",
       "    </tr>\n",
       "  </thead>\n",
       "  <tbody>\n",
       "    <tr>\n",
       "      <th>329</th>\n",
       "      <td>-0.451575</td>\n",
       "      <td>-0.473673</td>\n",
       "      <td>-1.212970</td>\n",
       "      <td>-0.276759</td>\n",
       "      <td>-0.836792</td>\n",
       "      <td>0.105445</td>\n",
       "      <td>-1.847498</td>\n",
       "      <td>0.646145</td>\n",
       "      <td>-0.665092</td>\n",
       "      <td>0.080314</td>\n",
       "      <td>-0.699233</td>\n",
       "      <td>0.281003</td>\n",
       "      <td>-0.794028</td>\n",
       "      <td>22.6</td>\n",
       "    </tr>\n",
       "    <tr>\n",
       "      <th>371</th>\n",
       "      <td>0.687687</td>\n",
       "      <td>-0.473673</td>\n",
       "      <td>1.000468</td>\n",
       "      <td>-0.276759</td>\n",
       "      <td>0.641160</td>\n",
       "      <td>-0.068977</td>\n",
       "      <td>1.130895</td>\n",
       "      <td>-1.213608</td>\n",
       "      <td>1.627390</td>\n",
       "      <td>1.524268</td>\n",
       "      <td>0.834633</td>\n",
       "      <td>0.194239</td>\n",
       "      <td>-0.486418</td>\n",
       "      <td>50.0</td>\n",
       "    </tr>\n",
       "    <tr>\n",
       "      <th>219</th>\n",
       "      <td>-0.445732</td>\n",
       "      <td>-0.473673</td>\n",
       "      <td>0.373377</td>\n",
       "      <td>3.613247</td>\n",
       "      <td>-0.058923</td>\n",
       "      <td>0.165076</td>\n",
       "      <td>0.857516</td>\n",
       "      <td>-0.204914</td>\n",
       "      <td>-0.550467</td>\n",
       "      <td>-0.861928</td>\n",
       "      <td>-0.931637</td>\n",
       "      <td>0.458457</td>\n",
       "      <td>-0.350170</td>\n",
       "      <td>23.0</td>\n",
       "    </tr>\n",
       "    <tr>\n",
       "      <th>403</th>\n",
       "      <td>2.623040</td>\n",
       "      <td>-0.473673</td>\n",
       "      <td>1.000468</td>\n",
       "      <td>-0.276759</td>\n",
       "      <td>1.177025</td>\n",
       "      <td>-1.361482</td>\n",
       "      <td>0.987011</td>\n",
       "      <td>-0.968261</td>\n",
       "      <td>1.627390</td>\n",
       "      <td>1.524268</td>\n",
       "      <td>0.834633</td>\n",
       "      <td>0.488720</td>\n",
       "      <td>0.951905</td>\n",
       "      <td>8.3</td>\n",
       "    </tr>\n",
       "    <tr>\n",
       "      <th>78</th>\n",
       "      <td>-0.452915</td>\n",
       "      <td>-0.473673</td>\n",
       "      <td>0.215487</td>\n",
       "      <td>-0.276759</td>\n",
       "      <td>-1.035581</td>\n",
       "      <td>-0.045124</td>\n",
       "      <td>-0.534559</td>\n",
       "      <td>0.553973</td>\n",
       "      <td>-0.550467</td>\n",
       "      <td>-0.115477</td>\n",
       "      <td>0.137421</td>\n",
       "      <td>0.388165</td>\n",
       "      <td>-0.091722</td>\n",
       "      <td>21.2</td>\n",
       "    </tr>\n",
       "  </tbody>\n",
       "</table>\n",
       "</div>"
      ],
      "text/plain": [
       "variable         x                                                    \\\n",
       "feature       CRIM        ZN     INDUS      CHAS       NOX        RM   \n",
       "329      -0.451575 -0.473673 -1.212970 -0.276759 -0.836792  0.105445   \n",
       "371       0.687687 -0.473673  1.000468 -0.276759  0.641160 -0.068977   \n",
       "219      -0.445732 -0.473673  0.373377  3.613247 -0.058923  0.165076   \n",
       "403       2.623040 -0.473673  1.000468 -0.276759  1.177025 -1.361482   \n",
       "78       -0.452915 -0.473673  0.215487 -0.276759 -1.035581 -0.045124   \n",
       "\n",
       "variable                                                              \\\n",
       "feature        AGE       DIS       RAD       TAX   PTRATIO         B   \n",
       "329      -1.847498  0.646145 -0.665092  0.080314 -0.699233  0.281003   \n",
       "371       1.130895 -1.213608  1.627390  1.524268  0.834633  0.194239   \n",
       "219       0.857516 -0.204914 -0.550467 -0.861928 -0.931637  0.458457   \n",
       "403       0.987011 -0.968261  1.627390  1.524268  0.834633  0.488720   \n",
       "78       -0.534559  0.553973 -0.550467 -0.115477  0.137421  0.388165   \n",
       "\n",
       "variable               y  \n",
       "feature      LSTAT    HP  \n",
       "329      -0.794028  22.6  \n",
       "371      -0.486418  50.0  \n",
       "219      -0.350170  23.0  \n",
       "403       0.951905   8.3  \n",
       "78       -0.091722  21.2  "
      ]
     },
     "execution_count": 6,
     "metadata": {},
     "output_type": "execute_result"
    }
   ],
   "source": [
    "from sklearn import preprocessing\n",
    "scaler = preprocessing.StandardScaler()\n",
    "\n",
    "train = df.sample(frac=0.5, random_state=0, axis=0)\n",
    "scaler.fit(train['x'])\n",
    "train['x'] = scaler.transform(train['x'])\n",
    "train.head(5)"
   ]
  },
  {
   "cell_type": "code",
   "execution_count": 7,
   "metadata": {
    "collapsed": false
   },
   "outputs": [
    {
     "data": {
      "text/html": [
       "<div>\n",
       "<table border=\"1\" class=\"dataframe\">\n",
       "  <thead>\n",
       "    <tr>\n",
       "      <th>variable</th>\n",
       "      <th colspan=\"13\" halign=\"left\">x</th>\n",
       "      <th>y</th>\n",
       "    </tr>\n",
       "    <tr>\n",
       "      <th>feature</th>\n",
       "      <th>CRIM</th>\n",
       "      <th>ZN</th>\n",
       "      <th>INDUS</th>\n",
       "      <th>CHAS</th>\n",
       "      <th>NOX</th>\n",
       "      <th>RM</th>\n",
       "      <th>AGE</th>\n",
       "      <th>DIS</th>\n",
       "      <th>RAD</th>\n",
       "      <th>TAX</th>\n",
       "      <th>PTRATIO</th>\n",
       "      <th>B</th>\n",
       "      <th>LSTAT</th>\n",
       "      <th>HP</th>\n",
       "    </tr>\n",
       "  </thead>\n",
       "  <tbody>\n",
       "    <tr>\n",
       "      <th>0</th>\n",
       "      <td>-0.459148</td>\n",
       "      <td>0.323926</td>\n",
       "      <td>-1.351496</td>\n",
       "      <td>-0.276759</td>\n",
       "      <td>-0.162639</td>\n",
       "      <td>0.466213</td>\n",
       "      <td>-0.120894</td>\n",
       "      <td>0.129156</td>\n",
       "      <td>-1.008964</td>\n",
       "      <td>-0.739559</td>\n",
       "      <td>-1.442925</td>\n",
       "      <td>0.488720</td>\n",
       "      <td>-1.125516</td>\n",
       "      <td>24.0</td>\n",
       "    </tr>\n",
       "    <tr>\n",
       "      <th>3</th>\n",
       "      <td>-0.455910</td>\n",
       "      <td>-0.473673</td>\n",
       "      <td>-1.370860</td>\n",
       "      <td>-0.276759</td>\n",
       "      <td>-0.854078</td>\n",
       "      <td>1.096813</td>\n",
       "      <td>-0.818730</td>\n",
       "      <td>1.035794</td>\n",
       "      <td>-0.779716</td>\n",
       "      <td>-1.192324</td>\n",
       "      <td>0.137421</td>\n",
       "      <td>0.466981</td>\n",
       "      <td>-1.412057</td>\n",
       "      <td>33.4</td>\n",
       "    </tr>\n",
       "    <tr>\n",
       "      <th>9</th>\n",
       "      <td>-0.438797</td>\n",
       "      <td>0.080215</td>\n",
       "      <td>-0.523319</td>\n",
       "      <td>-0.276759</td>\n",
       "      <td>-0.283640</td>\n",
       "      <td>-0.385022</td>\n",
       "      <td>0.623705</td>\n",
       "      <td>1.279394</td>\n",
       "      <td>-0.550467</td>\n",
       "      <td>-0.647782</td>\n",
       "      <td>-1.489406</td>\n",
       "      <td>0.391134</td>\n",
       "      <td>0.576874</td>\n",
       "      <td>18.9</td>\n",
       "    </tr>\n",
       "    <tr>\n",
       "      <th>11</th>\n",
       "      <td>-0.445332</td>\n",
       "      <td>0.080215</td>\n",
       "      <td>-0.523319</td>\n",
       "      <td>-0.276759</td>\n",
       "      <td>-0.283640</td>\n",
       "      <td>-0.377568</td>\n",
       "      <td>0.515792</td>\n",
       "      <td>1.111416</td>\n",
       "      <td>-0.550467</td>\n",
       "      <td>-0.647782</td>\n",
       "      <td>-1.489406</td>\n",
       "      <td>0.488720</td>\n",
       "      <td>0.038907</td>\n",
       "      <td>18.9</td>\n",
       "    </tr>\n",
       "    <tr>\n",
       "      <th>13</th>\n",
       "      <td>-0.381651</td>\n",
       "      <td>-0.473673</td>\n",
       "      <td>-0.483101</td>\n",
       "      <td>-0.276759</td>\n",
       "      <td>-0.162639</td>\n",
       "      <td>-0.467015</td>\n",
       "      <td>-0.243195</td>\n",
       "      <td>0.413026</td>\n",
       "      <td>-0.665092</td>\n",
       "      <td>-0.672256</td>\n",
       "      <td>1.206479</td>\n",
       "      <td>0.488720</td>\n",
       "      <td>-0.664803</td>\n",
       "      <td>20.4</td>\n",
       "    </tr>\n",
       "  </tbody>\n",
       "</table>\n",
       "</div>"
      ],
      "text/plain": [
       "variable         x                                                    \\\n",
       "feature       CRIM        ZN     INDUS      CHAS       NOX        RM   \n",
       "0        -0.459148  0.323926 -1.351496 -0.276759 -0.162639  0.466213   \n",
       "3        -0.455910 -0.473673 -1.370860 -0.276759 -0.854078  1.096813   \n",
       "9        -0.438797  0.080215 -0.523319 -0.276759 -0.283640 -0.385022   \n",
       "11       -0.445332  0.080215 -0.523319 -0.276759 -0.283640 -0.377568   \n",
       "13       -0.381651 -0.473673 -0.483101 -0.276759 -0.162639 -0.467015   \n",
       "\n",
       "variable                                                              \\\n",
       "feature        AGE       DIS       RAD       TAX   PTRATIO         B   \n",
       "0        -0.120894  0.129156 -1.008964 -0.739559 -1.442925  0.488720   \n",
       "3        -0.818730  1.035794 -0.779716 -1.192324  0.137421  0.466981   \n",
       "9         0.623705  1.279394 -0.550467 -0.647782 -1.489406  0.391134   \n",
       "11        0.515792  1.111416 -0.550467 -0.647782 -1.489406  0.488720   \n",
       "13       -0.243195  0.413026 -0.665092 -0.672256  1.206479  0.488720   \n",
       "\n",
       "variable               y  \n",
       "feature      LSTAT    HP  \n",
       "0        -1.125516  24.0  \n",
       "3        -1.412057  33.4  \n",
       "9         0.576874  18.9  \n",
       "11        0.038907  18.9  \n",
       "13       -0.664803  20.4  "
      ]
     },
     "execution_count": 7,
     "metadata": {},
     "output_type": "execute_result"
    }
   ],
   "source": [
    "test_index = df.index.difference(train.index)\n",
    "test = df.loc[test_index]\n",
    "test['x'] = scaler.transform(test['x'])\n",
    "test.head(5)"
   ]
  },
  {
   "cell_type": "code",
   "execution_count": 8,
   "metadata": {
    "collapsed": false
   },
   "outputs": [],
   "source": [
    "def eval_demo(clf, train, test):\n",
    "    clf.fit(train['x'], train['y'])\n",
    "    \n",
    "    try:\n",
    "        coef = pd.Series(clf.coef_.ravel(), index=train['x'].columns)\n",
    "    except (AttributeError, ValueError):\n",
    "        coef = []\n",
    "        \n",
    "    if len(coef) > 0:\n",
    "        print('coef: {}'.format(coef))\n",
    "        coef.plot(kind='bar')\n",
    "    \n",
    "    from sklearn.metrics import mean_squared_error, r2_score\n",
    "    y_pred = clf.predict(test['x'])      \n",
    "    y_true = test['y']\n",
    "    print()\n",
    "    print('MSE: {}'.format(mean_squared_error(y_true, y_pred)))\n",
    "    print('R^2 score: {}'.format(r2_score(y_true, y_pred)))"
   ]
  },
  {
   "cell_type": "markdown",
   "metadata": {},
   "source": [
    "Generalized Linear Models\n",
    "========================="
   ]
  },
  {
   "cell_type": "code",
   "execution_count": 124,
   "metadata": {
    "collapsed": true
   },
   "outputs": [],
   "source": [
    "from sklearn import linear_model"
   ]
  },
  {
   "cell_type": "code",
   "execution_count": 126,
   "metadata": {
    "collapsed": false
   },
   "outputs": [
    {
     "name": "stdout",
     "output_type": "stream",
     "text": [
      "coef: feature\n",
      "CRIM       0.0\n",
      "ZN         0.0\n",
      "INDUS      0.0\n",
      "CHAS       0.0\n",
      "NOX        0.0\n",
      "RM         0.0\n",
      "AGE        0.0\n",
      "DIS        0.0\n",
      "RAD        0.0\n",
      "TAX        0.0\n",
      "PTRATIO    0.0\n",
      "B          0.0\n",
      "LSTAT      0.0\n",
      "dtype: float64\n",
      "\n",
      "MSE: 623.7479051383399\n",
      "R^2 score: -5.743879854337999\n"
     ]
    },
    {
     "data": {
      "image/png": "[encoded data removed]",
      "text/plain": [
       "<matplotlib.figure.Figure at 0x1184ee518>"
      ]
     },
     "metadata": {},
     "output_type": "display_data"
    }
   ],
   "source": [
    "class constant_clf:\n",
    "    def fit(self, x, y):\n",
    "        self.coef_ = np.zeros_like(y)\n",
    "    def predict(self, x):\n",
    "        return np.zeros(x.shape[0])\n",
    "    \n",
    "clf = constant_clf()\n",
    "eval_demo(clf, train, test)"
   ]
  },
  {
   "cell_type": "markdown",
   "metadata": {},
   "source": [
    "### Ordinary Least Squares"
   ]
  },
  {
   "cell_type": "code",
   "execution_count": 127,
   "metadata": {
    "collapsed": false
   },
   "outputs": [
    {
     "name": "stdout",
     "output_type": "stream",
     "text": [
      "coef: feature\n",
      "CRIM      -0.468316\n",
      "ZN         0.661420\n",
      "INDUS     -0.193053\n",
      "CHAS       0.590362\n",
      "NOX       -2.007151\n",
      "RM         2.677060\n",
      "AGE        0.089818\n",
      "DIS       -2.800253\n",
      "RAD        3.088277\n",
      "TAX       -2.544664\n",
      "PTRATIO   -1.753668\n",
      "B          1.239125\n",
      "LSTAT     -3.313517\n",
      "dtype: float64\n",
      "\n",
      "MSE: 21.99056478805853\n",
      "R^2 score: 0.7622409219525781\n"
     ]
    },
    {
     "data": {
      "image/png": "[encoded data removed]",
      "text/plain": [
       "<matplotlib.figure.Figure at 0x119255940>"
      ]
     },
     "metadata": {},
     "output_type": "display_data"
    }
   ],
   "source": [
    "clf = linear_model.LinearRegression()\n",
    "eval_demo(clf, train, test)"
   ]
  },
  {
   "cell_type": "markdown",
   "metadata": {},
   "source": [
    "### Ridge Regression"
   ]
  },
  {
   "cell_type": "code",
   "execution_count": 128,
   "metadata": {
    "collapsed": false
   },
   "outputs": [
    {
     "name": "stdout",
     "output_type": "stream",
     "text": [
      "coef: feature\n",
      "CRIM      -0.335484\n",
      "ZN         0.406023\n",
      "INDUS     -0.385048\n",
      "CHAS       0.638500\n",
      "NOX       -1.660507\n",
      "RM         2.756017\n",
      "AGE       -0.019237\n",
      "DIS       -2.342262\n",
      "RAD        1.917049\n",
      "TAX       -1.516435\n",
      "PTRATIO   -1.628095\n",
      "B          1.211168\n",
      "LSTAT     -3.115336\n",
      "dtype: float64\n",
      "\n",
      "MSE: 22.54159982372627\n",
      "R^2 score: 0.7562832040260546\n"
     ]
    },
    {
     "data": {
      "image/png": "[encoded data removed]",
      "text/plain": [
       "<matplotlib.figure.Figure at 0x108ecbc50>"
      ]
     },
     "metadata": {},
     "output_type": "display_data"
    }
   ],
   "source": [
    "clf = linear_model.RidgeCV()\n",
    "eval_demo(clf, train, test)"
   ]
  },
  {
   "cell_type": "markdown",
   "metadata": {
    "collapsed": true
   },
   "source": [
    "### Lasso"
   ]
  },
  {
   "cell_type": "code",
   "execution_count": 129,
   "metadata": {
    "collapsed": false
   },
   "outputs": [
    {
     "name": "stderr",
     "output_type": "stream",
     "text": [
      "/Users/facai/Library/anaconda3/lib/python3.5/site-packages/sklearn/linear_model/coordinate_descent.py:1051: DataConversionWarning: A column-vector y was passed when a 1d array was expected. Please change the shape of y to (n_samples, ), for example using ravel().\n",
      "  y = column_or_1d(y, warn=True)\n"
     ]
    },
    {
     "name": "stdout",
     "output_type": "stream",
     "text": [
      "coef: feature\n",
      "CRIM      -0.363068\n",
      "ZN         0.515660\n",
      "INDUS     -0.193249\n",
      "CHAS       0.588243\n",
      "NOX       -1.878529\n",
      "RM         2.737828\n",
      "AGE        0.000000\n",
      "DIS       -2.606346\n",
      "RAD        2.591293\n",
      "TAX       -2.136520\n",
      "PTRATIO   -1.712821\n",
      "B          1.230864\n",
      "LSTAT     -3.266427\n",
      "dtype: float64\n",
      "\n",
      "MSE: 22.150424725910256\n",
      "R^2 score: 0.760512537447375\n"
     ]
    },
    {
     "data": {
      "image/png": "[encoded data removed]",
      "text/plain": [
       "<matplotlib.figure.Figure at 0x117f357b8>"
      ]
     },
     "metadata": {},
     "output_type": "display_data"
    }
   ],
   "source": [
    "clf = linear_model.LassoCV()\n",
    "eval_demo(clf, train, test)"
   ]
  },
  {
   "cell_type": "markdown",
   "metadata": {
    "collapsed": true
   },
   "source": [
    "### Elastic Net"
   ]
  },
  {
   "cell_type": "code",
   "execution_count": 130,
   "metadata": {
    "collapsed": false
   },
   "outputs": [
    {
     "name": "stderr",
     "output_type": "stream",
     "text": [
      "/Users/facai/Library/anaconda3/lib/python3.5/site-packages/sklearn/linear_model/coordinate_descent.py:1051: DataConversionWarning: A column-vector y was passed when a 1d array was expected. Please change the shape of y to (n_samples, ), for example using ravel().\n",
      "  y = column_or_1d(y, warn=True)\n"
     ]
    },
    {
     "name": "stdout",
     "output_type": "stream",
     "text": [
      "coef: feature\n",
      "CRIM      -0.285907\n",
      "ZN         0.358103\n",
      "INDUS     -0.330427\n",
      "CHAS       0.617220\n",
      "NOX       -1.661077\n",
      "RM         2.775495\n",
      "AGE       -0.000000\n",
      "DIS       -2.278524\n",
      "RAD        1.835862\n",
      "TAX       -1.466651\n",
      "PTRATIO   -1.630115\n",
      "B          1.206482\n",
      "LSTAT     -3.156105\n",
      "dtype: float64\n",
      "\n",
      "MSE: 22.623262362996094\n",
      "R^2 score: 0.7554002794520416\n"
     ]
    },
    {
     "data": {
      "image/png": "[encoded data removed]",
      "text/plain": [
       "<matplotlib.figure.Figure at 0x11920d860>"
      ]
     },
     "metadata": {},
     "output_type": "display_data"
    }
   ],
   "source": [
    "clf = linear_model.ElasticNetCV()\n",
    "eval_demo(clf, train, test)"
   ]
  },
  {
   "cell_type": "markdown",
   "metadata": {},
   "source": [
    "### Multi-task Lasso"
   ]
  },
  {
   "cell_type": "markdown",
   "metadata": {},
   "source": [
    "### Least Angle Regression"
   ]
  },
  {
   "cell_type": "code",
   "execution_count": 131,
   "metadata": {
    "collapsed": false
   },
   "outputs": [
    {
     "name": "stderr",
     "output_type": "stream",
     "text": [
      "/Users/facai/Library/anaconda3/lib/python3.5/site-packages/sklearn/utils/validation.py:515: DataConversionWarning: A column-vector y was passed when a 1d array was expected. Please change the shape of y to (n_samples, ), for example using ravel().\n",
      "  y = column_or_1d(y, warn=True)\n"
     ]
    },
    {
     "name": "stdout",
     "output_type": "stream",
     "text": [
      "coef: feature\n",
      "CRIM      -0.226673\n",
      "ZN         0.009145\n",
      "INDUS     -0.688448\n",
      "CHAS       0.674451\n",
      "NOX       -2.014899\n",
      "RM         2.899828\n",
      "AGE        0.000000\n",
      "DIS       -2.349972\n",
      "RAD        0.133358\n",
      "TAX        0.817237\n",
      "PTRATIO   -1.778070\n",
      "B          1.261697\n",
      "LSTAT     -3.212717\n",
      "dtype: float64\n",
      "\n",
      "MSE: 23.519622758328225\n",
      "R^2 score: 0.7457089494090716\n"
     ]
    },
    {
     "data": {
      "image/png": "[encoded data removed]",
      "text/plain": [
       "<matplotlib.figure.Figure at 0x119307198>"
      ]
     },
     "metadata": {},
     "output_type": "display_data"
    }
   ],
   "source": [
    "clf = linear_model.LarsCV()\n",
    "eval_demo(clf, train, test)"
   ]
  },
  {
   "cell_type": "markdown",
   "metadata": {},
   "source": [
    "### LARS Lasso "
   ]
  },
  {
   "cell_type": "code",
   "execution_count": 132,
   "metadata": {
    "collapsed": false
   },
   "outputs": [
    {
     "name": "stderr",
     "output_type": "stream",
     "text": [
      "/Users/facai/Library/anaconda3/lib/python3.5/site-packages/sklearn/utils/validation.py:515: DataConversionWarning: A column-vector y was passed when a 1d array was expected. Please change the shape of y to (n_samples, ), for example using ravel().\n",
      "  y = column_or_1d(y, warn=True)\n"
     ]
    },
    {
     "name": "stdout",
     "output_type": "stream",
     "text": [
      "coef: feature\n",
      "CRIM      -0.468316\n",
      "ZN         0.661420\n",
      "INDUS     -0.193053\n",
      "CHAS       0.590362\n",
      "NOX       -2.007151\n",
      "RM         2.677060\n",
      "AGE        0.089818\n",
      "DIS       -2.800253\n",
      "RAD        3.088277\n",
      "TAX       -2.544664\n",
      "PTRATIO   -1.753668\n",
      "B          1.239125\n",
      "LSTAT     -3.313517\n",
      "dtype: float64\n",
      "\n",
      "MSE: 21.990564788058485\n",
      "R^2 score: 0.7622409219525785\n"
     ]
    },
    {
     "data": {
      "image/png": "[encoded data removed]",
      "text/plain": [
       "<matplotlib.figure.Figure at 0x1192c9ef0>"
      ]
     },
     "metadata": {},
     "output_type": "display_data"
    }
   ],
   "source": [
    "clf = linear_model.LassoLarsCV()\n",
    "eval_demo(clf, train, test)"
   ]
  },
  {
   "cell_type": "markdown",
   "metadata": {},
   "source": [
    "### Orthogonal Matching Pursuit"
   ]
  },
  {
   "cell_type": "code",
   "execution_count": 133,
   "metadata": {
    "collapsed": false
   },
   "outputs": [
    {
     "name": "stderr",
     "output_type": "stream",
     "text": [
      "/Users/facai/Library/anaconda3/lib/python3.5/site-packages/sklearn/utils/validation.py:515: DataConversionWarning: A column-vector y was passed when a 1d array was expected. Please change the shape of y to (n_samples, ), for example using ravel().\n",
      "  y = column_or_1d(y, warn=True)\n"
     ]
    },
    {
     "name": "stdout",
     "output_type": "stream",
     "text": [
      "coef: feature\n",
      "CRIM       0.000000\n",
      "ZN         0.000000\n",
      "INDUS      0.000000\n",
      "CHAS       0.000000\n",
      "NOX        0.000000\n",
      "RM         3.210682\n",
      "AGE        0.000000\n",
      "DIS        0.000000\n",
      "RAD        0.000000\n",
      "TAX        0.000000\n",
      "PTRATIO   -1.428198\n",
      "B          1.329840\n",
      "LSTAT     -3.233193\n",
      "dtype: float64\n",
      "\n",
      "MSE: 26.883354081575266\n",
      "R^2 score: 0.7093407312244826\n"
     ]
    },
    {
     "data": {
      "image/png": "[encoded data removed]",
      "text/plain": [
       "<matplotlib.figure.Figure at 0x1194628d0>"
      ]
     },
     "metadata": {},
     "output_type": "display_data"
    }
   ],
   "source": [
    "clf = linear_model.OrthogonalMatchingPursuitCV()\n",
    "eval_demo(clf, train, test)"
   ]
  },
  {
   "cell_type": "markdown",
   "metadata": {},
   "source": [
    "### Bayesian Regression"
   ]
  },
  {
   "cell_type": "code",
   "execution_count": 134,
   "metadata": {
    "collapsed": false
   },
   "outputs": [
    {
     "name": "stderr",
     "output_type": "stream",
     "text": [
      "/Users/facai/Library/anaconda3/lib/python3.5/site-packages/sklearn/utils/validation.py:515: DataConversionWarning: A column-vector y was passed when a 1d array was expected. Please change the shape of y to (n_samples, ), for example using ravel().\n",
      "  y = column_or_1d(y, warn=True)\n"
     ]
    },
    {
     "name": "stdout",
     "output_type": "stream",
     "text": [
      "coef: feature\n",
      "CRIM      -0.357921\n",
      "ZN         0.452627\n",
      "INDUS     -0.354219\n",
      "CHAS       0.630307\n",
      "NOX       -1.738188\n",
      "RM         2.746674\n",
      "AGE        0.000992\n",
      "DIS       -2.445730\n",
      "RAD        2.124127\n",
      "TAX       -1.686886\n",
      "PTRATIO   -1.656488\n",
      "B          1.220348\n",
      "LSTAT     -3.159082\n",
      "dtype: float64\n",
      "\n",
      "MSE: 22.36401156140355\n",
      "R^2 score: 0.7582032648307149\n"
     ]
    },
    {
     "data": {
      "image/png": "[encoded data removed]",
      "text/plain": [
       "<matplotlib.figure.Figure at 0x11958af98>"
      ]
     },
     "metadata": {},
     "output_type": "display_data"
    }
   ],
   "source": [
    "clf = linear_model.BayesianRidge()\n",
    "eval_demo(clf, train, test)"
   ]
  },
  {
   "cell_type": "code",
   "execution_count": 135,
   "metadata": {
    "collapsed": false
   },
   "outputs": [
    {
     "name": "stderr",
     "output_type": "stream",
     "text": [
      "/Users/facai/Library/anaconda3/lib/python3.5/site-packages/sklearn/utils/validation.py:515: DataConversionWarning: A column-vector y was passed when a 1d array was expected. Please change the shape of y to (n_samples, ), for example using ravel().\n",
      "  y = column_or_1d(y, warn=True)\n"
     ]
    },
    {
     "name": "stdout",
     "output_type": "stream",
     "text": [
      "coef: feature\n",
      "CRIM      -0.002067\n",
      "ZN         0.065479\n",
      "INDUS     -0.001040\n",
      "CHAS       0.468770\n",
      "NOX       -1.830448\n",
      "RM         2.867470\n",
      "AGE       -0.000169\n",
      "DIS       -2.132391\n",
      "RAD        2.148589\n",
      "TAX       -1.864310\n",
      "PTRATIO   -1.799769\n",
      "B          1.264396\n",
      "LSTAT     -3.315897\n",
      "dtype: float64\n",
      "\n",
      "MSE: 23.201372791097036\n",
      "R^2 score: 0.7491498259634837\n"
     ]
    },
    {
     "data": {
      "image/png": "[encoded data removed]",
      "text/plain": [
       "<matplotlib.figure.Figure at 0x119141400>"
      ]
     },
     "metadata": {},
     "output_type": "display_data"
    }
   ],
   "source": [
    "clf = linear_model.ARDRegression()\n",
    "eval_demo(clf, train, test)"
   ]
  },
  {
   "cell_type": "markdown",
   "metadata": {},
   "source": [
    "### Logistic Regression"
   ]
  },
  {
   "cell_type": "code",
   "execution_count": 136,
   "metadata": {
    "collapsed": false
   },
   "outputs": [
    {
     "name": "stderr",
     "output_type": "stream",
     "text": [
      "/Users/facai/Library/anaconda3/lib/python3.5/site-packages/sklearn/utils/validation.py:515: DataConversionWarning: A column-vector y was passed when a 1d array was expected. Please change the shape of y to (n_samples, ), for example using ravel().\n",
      "  y = column_or_1d(y, warn=True)\n"
     ]
    },
    {
     "name": "stdout",
     "output_type": "stream",
     "text": [
      "coef: feature\n",
      "CRIM      -0.262339\n",
      "ZN         0.039608\n",
      "INDUS     -0.702201\n",
      "CHAS       0.724680\n",
      "NOX       -0.882917\n",
      "RM         2.940992\n",
      "AGE        0.022054\n",
      "DIS       -1.297749\n",
      "RAD        0.599604\n",
      "TAX       -0.522744\n",
      "PTRATIO   -1.393586\n",
      "B          1.065329\n",
      "LSTAT     -2.956931\n",
      "dtype: float64\n",
      "\n",
      "MSE: 26.51291377110522\n",
      "R^2 score: 0.713345882867372\n"
     ]
    },
    {
     "data": {
      "image/png": "[encoded data removed]",
      "text/plain": [
       "<matplotlib.figure.Figure at 0x117ac32e8>"
      ]
     },
     "metadata": {},
     "output_type": "display_data"
    }
   ],
   "source": [
    "clf = linear_model.SGDRegressor()\n",
    "eval_demo(clf, train, test)"
   ]
  },
  {
   "cell_type": "markdown",
   "metadata": {},
   "source": [
    "### Stochastic Gradient Descent - SGD\n",
    "### Perceptron\n",
    "### Passive Aggressive Algorithms"
   ]
  },
  {
   "cell_type": "markdown",
   "metadata": {},
   "source": [
    "### Robustness regression"
   ]
  },
  {
   "cell_type": "code",
   "execution_count": 153,
   "metadata": {
    "collapsed": false
   },
   "outputs": [
    {
     "name": "stdout",
     "output_type": "stream",
     "text": [
      "\n",
      "MSE: 38.610109080952114\n",
      "R^2 score: 0.5825526071352882\n"
     ]
    }
   ],
   "source": [
    "clf = linear_model.RANSACRegressor()\n",
    "eval_demo(clf, train, test)"
   ]
  },
  {
   "cell_type": "code",
   "execution_count": 152,
   "metadata": {
    "collapsed": false
   },
   "outputs": [
    {
     "name": "stderr",
     "output_type": "stream",
     "text": [
      "/Users/facai/Library/anaconda3/lib/python3.5/site-packages/sklearn/utils/validation.py:515: DataConversionWarning: A column-vector y was passed when a 1d array was expected. Please change the shape of y to (n_samples, ), for example using ravel().\n",
      "  y = column_or_1d(y, warn=True)\n"
     ]
    },
    {
     "name": "stdout",
     "output_type": "stream",
     "text": [
      "coef: feature\n",
      "CRIM      -0.211186\n",
      "ZN         0.001934\n",
      "INDUS     -0.540448\n",
      "CHAS      -2.120185\n",
      "NOX       -0.613412\n",
      "RM         3.789485\n",
      "AGE       -1.271313\n",
      "DIS       -2.084119\n",
      "RAD        1.537781\n",
      "TAX       -1.595111\n",
      "PTRATIO   -1.208822\n",
      "B          0.872062\n",
      "LSTAT     -1.778311\n",
      "dtype: float64\n",
      "\n",
      "MSE: 38.477053122848275\n",
      "R^2 score: 0.5839911905565136\n"
     ]
    },
    {
     "data": {
      "image/png": "[encoded data removed]",
      "text/plain": [
       "<matplotlib.figure.Figure at 0x119115710>"
      ]
     },
     "metadata": {},
     "output_type": "display_data"
    }
   ],
   "source": [
    "clf = linear_model.TheilSenRegressor()\n",
    "eval_demo(clf, train, test)"
   ]
  },
  {
   "cell_type": "markdown",
   "metadata": {
    "collapsed": true
   },
   "source": [
    "Kernel ridge regression\n",
    "======================="
   ]
  },
  {
   "cell_type": "code",
   "execution_count": 14,
   "metadata": {
    "collapsed": false
   },
   "outputs": [
    {
     "name": "stdout",
     "output_type": "stream",
     "text": [
      "\n",
      "MSE: 511.9769611578043\n",
      "R^2 score: -4.5354271906877734\n"
     ]
    }
   ],
   "source": [
    "from sklearn import kernel_ridge\n",
    "clf = kernel_ridge.KernelRidge(alpha=1.0)\n",
    "eval_demo(clf, train, test)"
   ]
  },
  {
   "cell_type": "markdown",
   "metadata": {
    "collapsed": true
   },
   "source": [
    "SVR\n",
    "===="
   ]
  },
  {
   "cell_type": "code",
   "execution_count": 1,
   "metadata": {
    "collapsed": true
   },
   "outputs": [],
   "source": [
    "from sklearn import svm"
   ]
  },
  {
   "cell_type": "code",
   "execution_count": 13,
   "metadata": {
    "collapsed": false
   },
   "outputs": [
    {
     "name": "stdout",
     "output_type": "stream",
     "text": [
      "\n",
      "MSE: 42.733259579183404\n",
      "R^2 score: 0.5379736492704779\n"
     ]
    },
    {
     "name": "stderr",
     "output_type": "stream",
     "text": [
      "/Users/facai/Library/anaconda3/lib/python3.5/site-packages/sklearn/svm/base.py:216: DataConversionWarning: A column-vector y was passed when a 1d array was expected. Please change the shape of y to (n_samples, ), for example using ravel().\n",
      "  return column_or_1d(y, warn=True).astype(np.float64)\n"
     ]
    }
   ],
   "source": [
    "eval_demo(svm.SVR(), train, test)"
   ]
  },
  {
   "cell_type": "code",
   "execution_count": 14,
   "metadata": {
    "collapsed": false
   },
   "outputs": [
    {
     "name": "stderr",
     "output_type": "stream",
     "text": [
      "/Users/facai/Library/anaconda3/lib/python3.5/site-packages/sklearn/utils/validation.py:515: DataConversionWarning: A column-vector y was passed when a 1d array was expected. Please change the shape of y to (n_samples, ), for example using ravel().\n",
      "  y = column_or_1d(y, warn=True)\n"
     ]
    },
    {
     "name": "stdout",
     "output_type": "stream",
     "text": [
      "coef: feature\n",
      "CRIM      -0.219808\n",
      "ZN         0.529529\n",
      "INDUS      0.262732\n",
      "CHAS       0.355993\n",
      "NOX       -1.103699\n",
      "RM         3.108838\n",
      "AGE       -0.451398\n",
      "DIS       -1.517017\n",
      "RAD        1.524162\n",
      "TAX       -2.005084\n",
      "PTRATIO   -1.406828\n",
      "B          1.356819\n",
      "LSTAT     -2.174650\n",
      "dtype: float64\n",
      "\n",
      "MSE: 26.776533988114334\n",
      "R^2 score: 0.7104956559471074\n"
     ]
    },
    {
     "data": {
      "image/png": "[encoded data removed]",
      "text/plain": [
       "<matplotlib.figure.Figure at 0x117d5c978>"
      ]
     },
     "metadata": {},
     "output_type": "display_data"
    }
   ],
   "source": [
    "eval_demo(svm.LinearSVR(), train, test)"
   ]
  },
  {
   "cell_type": "markdown",
   "metadata": {},
   "source": [
    "### Stochastic Gradient Descent"
   ]
  },
  {
   "cell_type": "code",
   "execution_count": 10,
   "metadata": {
    "collapsed": false
   },
   "outputs": [],
   "source": [
    "from sklearn import linear_model"
   ]
  },
  {
   "cell_type": "code",
   "execution_count": 11,
   "metadata": {
    "collapsed": false
   },
   "outputs": [
    {
     "name": "stderr",
     "output_type": "stream",
     "text": [
      "/Users/facai/Library/anaconda3/lib/python3.5/site-packages/sklearn/utils/validation.py:515: DataConversionWarning: A column-vector y was passed when a 1d array was expected. Please change the shape of y to (n_samples, ), for example using ravel().\n",
      "  y = column_or_1d(y, warn=True)\n"
     ]
    },
    {
     "name": "stdout",
     "output_type": "stream",
     "text": [
      "coef: feature\n",
      "CRIM      -0.263604\n",
      "ZN        -0.013236\n",
      "INDUS     -0.490983\n",
      "CHAS       0.764027\n",
      "NOX       -0.867649\n",
      "RM         3.048578\n",
      "AGE       -0.128433\n",
      "DIS       -1.245780\n",
      "RAD        0.555358\n",
      "TAX       -0.469744\n",
      "PTRATIO   -1.361691\n",
      "B          1.091979\n",
      "LSTAT     -2.836422\n",
      "dtype: float64\n",
      "\n",
      "MSE: 26.88906290157823\n",
      "R^2 score: 0.709279008217651\n"
     ]
    },
    {
     "data": {
      "image/png": "[encoded data removed]",
      "text/plain": [
       "<matplotlib.figure.Figure at 0x117cad668>"
      ]
     },
     "metadata": {},
     "output_type": "display_data"
    }
   ],
   "source": [
    "eval_demo(linear_model.SGDRegressor(), train, test)"
   ]
  },
  {
   "cell_type": "markdown",
   "metadata": {
    "collapsed": true
   },
   "source": [
    "### Nearest Neighbors"
   ]
  },
  {
   "cell_type": "code",
   "execution_count": 9,
   "metadata": {
    "collapsed": true
   },
   "outputs": [],
   "source": [
    "from sklearn import neighbors"
   ]
  },
  {
   "cell_type": "code",
   "execution_count": 10,
   "metadata": {
    "collapsed": false
   },
   "outputs": [
    {
     "name": "stdout",
     "output_type": "stream",
     "text": [
      "\n",
      "MSE: 24.411916205533597\n",
      "R^2 score: 0.7360615906713592\n"
     ]
    }
   ],
   "source": [
    "eval_demo(neighbors.KNeighborsRegressor(), train, test)"
   ]
  },
  {
   "cell_type": "markdown",
   "metadata": {
    "collapsed": true
   },
   "source": [
    "### Gaussian Processes"
   ]
  },
  {
   "cell_type": "code",
   "execution_count": 11,
   "metadata": {
    "collapsed": true
   },
   "outputs": [],
   "source": [
    "from sklearn import gaussian_process"
   ]
  },
  {
   "cell_type": "code",
   "execution_count": 13,
   "metadata": {
    "collapsed": false
   },
   "outputs": [
    {
     "name": "stdout",
     "output_type": "stream",
     "text": [
      "\n",
      "MSE: 35.53265211054293\n",
      "R^2 score: 0.6158256648792362\n"
     ]
    }
   ],
   "source": [
    "eval_demo(gaussian_process.GaussianProcess(), train, test)"
   ]
  },
  {
   "cell_type": "markdown",
   "metadata": {
    "collapsed": true
   },
   "source": [
    "### Cross decomposition"
   ]
  },
  {
   "cell_type": "code",
   "execution_count": 9,
   "metadata": {
    "collapsed": true
   },
   "outputs": [],
   "source": [
    "from sklearn import cross_decomposition"
   ]
  },
  {
   "cell_type": "code",
   "execution_count": 30,
   "metadata": {
    "collapsed": false
   },
   "outputs": [
    {
     "name": "stdout",
     "output_type": "stream",
     "text": [
      "coef: feature\n",
      "CRIM      -0.452227\n",
      "ZN        -0.035380\n",
      "INDUS     -0.484773\n",
      "CHAS       1.314063\n",
      "NOX       -0.264185\n",
      "RM         3.214004\n",
      "AGE       -0.072773\n",
      "DIS       -0.849013\n",
      "RAD        0.083258\n",
      "TAX       -0.482004\n",
      "PTRATIO   -1.432184\n",
      "B          0.791911\n",
      "LSTAT     -2.576482\n",
      "dtype: float64\n",
      "\n",
      "MSE: 24.798925165130726\n",
      "R^2 score: 0.731877300985454\n"
     ]
    },
    {
     "data": {
      "image/png": "[encoded data removed]",
      "text/plain": [
       "<matplotlib.figure.Figure at 0x1177390b8>"
      ]
     },
     "metadata": {},
     "output_type": "display_data"
    }
   ],
   "source": [
    "eval_demo(cross_decomposition.PLSRegression(), train, test)"
   ]
  },
  {
   "cell_type": "code",
   "execution_count": 31,
   "metadata": {
    "collapsed": false
   },
   "outputs": [
    {
     "name": "stderr",
     "output_type": "stream",
     "text": [
      "/Users/facai/Library/anaconda3/lib/python3.5/site-packages/sklearn/cross_decomposition/pls_.py:288: UserWarning: Y residual constant at iteration 1\n",
      "  warnings.warn('Y residual constant at iteration %s' % k)\n"
     ]
    },
    {
     "name": "stdout",
     "output_type": "stream",
     "text": [
      "coef: feature\n",
      "CRIM      -0.567169\n",
      "ZN         0.801034\n",
      "INDUS     -0.233803\n",
      "CHAS       0.714977\n",
      "NOX       -2.430825\n",
      "RM         3.242139\n",
      "AGE        0.108777\n",
      "DIS       -3.391336\n",
      "RAD        3.740156\n",
      "TAX       -3.081797\n",
      "PTRATIO   -2.123835\n",
      "B          1.500682\n",
      "LSTAT     -4.012941\n",
      "dtype: float64\n",
      "\n",
      "MSE: 22.79106351294374\n",
      "R^2 score: 0.7535860356119509\n"
     ]
    },
    {
     "data": {
      "image/png": "[encoded data removed]",
      "text/plain": [
       "<matplotlib.figure.Figure at 0x117d47390>"
      ]
     },
     "metadata": {},
     "output_type": "display_data"
    }
   ],
   "source": [
    "eval_demo(cross_decomposition.CCA(), train, test)"
   ]
  },
  {
   "cell_type": "markdown",
   "metadata": {
    "collapsed": true
   },
   "source": [
    "### Decision Tree"
   ]
  },
  {
   "cell_type": "code",
   "execution_count": 9,
   "metadata": {
    "collapsed": true
   },
   "outputs": [],
   "source": [
    "from sklearn import tree"
   ]
  },
  {
   "cell_type": "code",
   "execution_count": 10,
   "metadata": {
    "collapsed": false
   },
   "outputs": [
    {
     "name": "stdout",
     "output_type": "stream",
     "text": [
      "\n",
      "MSE: 21.78391304347826\n",
      "R^2 score: 0.7644752132835118\n"
     ]
    }
   ],
   "source": [
    "eval_demo(tree.DecisionTreeRegressor(), train, test)"
   ]
  },
  {
   "cell_type": "code",
   "execution_count": null,
   "metadata": {
    "collapsed": true
   },
   "outputs": [],
   "source": []
  }
 ],
 "metadata": {
  "kernelspec": {
   "display_name": "Python 3",
   "language": "python",
   "name": "python3"
  },
  "language_info": {
   "codemirror_mode": {
    "name": "ipython",
    "version": 3
   },
   "file_extension": ".py",
   "mimetype": "text/x-python",
   "name": "python",
   "nbconvert_exporter": "python",
   "pygments_lexer": "ipython3",
   "version": "3.5.1"
  }
 },
 "nbformat": 4,
 "nbformat_minor": 0
}

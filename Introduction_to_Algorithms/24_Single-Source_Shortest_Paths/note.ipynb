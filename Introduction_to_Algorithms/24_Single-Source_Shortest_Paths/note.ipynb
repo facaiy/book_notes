{
 "cells": [
  {
   "cell_type": "code",
   "execution_count": 2,
   "metadata": {
    "collapsed": true
   },
   "outputs": [],
   "source": [
    "# %load ../../preconfig.py\n",
    "%matplotlib inline\n",
    "import matplotlib.pyplot as plt\n",
    "import seaborn as sns\n",
    "sns.set(color_codes=True)\n",
    "plt.rcParams['axes.grid'] = False\n",
    "\n",
    "#import numpy as np\n",
    "#import pandas as pd\n",
    "\n",
    "#import sklearn\n",
    "\n",
    "#import itertools\n",
    "\n",
    "import logging\n",
    "logger = logging.getLogger()\n"
   ]
  },
  {
   "cell_type": "markdown",
   "metadata": {},
   "source": [
    "24 Single-Source Shortest Paths\n",
    "================="
   ]
  },
  {
   "cell_type": "markdown",
   "metadata": {},
   "source": [
    "In a **shortest-paths problem**,      \n",
    "Given: a weighted, directed graph $G = (V, E)$, with weight function $w : E \\to \\mathcal{R}$.      \n",
    "path $p = < v_0, v_1, \\dotsc, v_k >$, so \n",
    "$$w(p) = \\displaystyle \\sum_{i=1}^k w(v_{i-1}, v_i)$$.\n",
    "\n",
    "we define the **shortest-path weight** $\\delta(u, v)$ from $u$ to $v$ by \n",
    "\\begin{equation}\n",
    "    \\delta(u, v) = \\begin{cases}\n",
    "        \\min{ w(p) : u \\overset{p}{\\to} v } & \\text{if $p$ exist}\\\\\n",
    "        \\infty & \\text{otherwise}\n",
    "    \\end{cases}\n",
    "\\end{equation}\n",
    "\n",
    "**variants**:\n",
    "+ Single-destination shortest-paths problem\n",
    "+ Single-pair shortest-path problem\n",
    "+ All-pairs shortest-path problem\n",
    "\n",
    "**Optimal substructure of a shortest path**:      \n",
    "subpath of $p$ is a shortest path between two of its internal nodes if $p$ is a shortest path.\n",
    "\n",
    "**Negative-weight edges**: whether a negative weight cycle exists?\n",
    "\n",
    "**Cycles**:\n",
    "+ negative-weight cycle: detect and remove\n",
    "+ positive-weight cycle: auto remove\n",
    "+ 0-weight cycle: detect and remove\n",
    "\n",
    "**Representing shortest paths**:      \n",
    "a \"shortest-paths tree\": a rooted tree containing a shortest path from the source $s$ to every vertex that is reachable from $s$.\n",
    "\n",
    "**Relaxation**:     \n",
    "modify the node's upper bound if detect a shorter path.\n",
    "\n",
    "**Properties of shortest paths and relaxtion**\n",
    "+ Triangle inequality\n",
    "+ Upper-bound property\n",
    "+ No-path property\n",
    "+ Convergence property\n",
    "+ Path-relaxation property\n",
    "+ Predecessor-subgraph property"
   ]
  },
  {
   "cell_type": "markdown",
   "metadata": {},
   "source": [
    "### 24.1 The Bellman-Ford algorithm"
   ]
  }
 ],
 "metadata": {
  "kernelspec": {
   "display_name": "Python 3",
   "language": "python",
   "name": "python3"
  },
  "language_info": {
   "codemirror_mode": {
    "name": "ipython",
    "version": 3
   },
   "file_extension": ".py",
   "mimetype": "text/x-python",
   "name": "python",
   "nbconvert_exporter": "python",
   "pygments_lexer": "ipython3",
   "version": "3.5.1"
  }
 },
 "nbformat": 4,
 "nbformat_minor": 0
}

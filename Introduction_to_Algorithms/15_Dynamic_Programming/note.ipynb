{
 "cells": [
  {
   "cell_type": "code",
   "execution_count": 1,
   "metadata": {
    "collapsed": false
   },
   "outputs": [
    {
     "name": "stdout",
     "output_type": "stream",
     "text": [
      "Populating the interactive namespace from numpy and matplotlib\n"
     ]
    }
   ],
   "source": [
    "%pylab inline\n",
    "import pandas as pd\n",
    "\n",
    "import numpy as np\n",
    "from __future__ import division\n",
    "import itertools\n",
    "\n",
    "import matplotlib.pyplot as plt\n",
    "import seaborn as sns\n",
    "\n",
    "import logging\n",
    "logger = logging.getLogger()"
   ]
  },
  {
   "cell_type": "markdown",
   "metadata": {},
   "source": [
    "15 Dynamic Programming\n",
    "============\n",
    "\n",
    "for optimization problems:   \n",
    "\n",
    "1. divide-and-conquer    \n",
    "   partition into **disjoint** subproblems, solve recursively, and then combine.   \n",
    " \n",
    "2. dynamic programming    \n",
    "   subploems **overlap**    \n",
    "   developing by four steps:    \n",
    "   1. Characterize the **structure** of an optimal solution.   \n",
    "   2. **Recursively** define the value of an optimal solution.    \n",
    "   3. Compute the value of an optimal solution, typically in a **bottom-up** fashion.    \n",
    "   4. [opt] Construct an optimal solution from computed information.\n",
    "   \n"
   ]
  },
  {
   "cell_type": "markdown",
   "metadata": {},
   "source": [
    "### 15.1 Rod cutting\n",
    "\n",
    "##### rod-cutting problem\n",
    "Given:   \n",
    "1. a rod of length $n$ inches.   \n",
    "2. a table of prices $p_i$ for $i = 1, 2, \\cdots, n$  \n",
    "\n",
    "Problem:   \n",
    "determine the __maximum revenue__ $r_n$ obtainable by cutting up the rod and selling the pieces.\n",
    "\n",
    "Solution:    \n",
    "$$r_n = max_{1 \\leq i \\leq n} (p_i + r_{n-i})$$\n",
    "\n",
    "Implementation:   \n",
    "1. recursive top-down    \n",
    "2. dynamic programming   \n",
    "    + **optimal substructure**: optimal solutions to a problem incorporate optimal solutions to related subproblems.    \n",
    "    + uses additional memory to save computation time     \n",
    "    + two ways:\n",
    "        1. top-down with memorization      \n",
    "            + it “remembers” what results it has computed previously.   \n",
    "        2. bottom-up method.    \n",
    "            + We sort the subproblems by size and solve them in size order, smallest first.   \n",
    "            + The bottom-up approach often has much better constant factors, since it has less overhead for procedure calls.\n",
    "    + **subproblems graphs**, as shown in Fig (15.4).     \n",
    "        - A dynamic-programming approach runs in **polynomial** time when **the number of distinct subproblems** involved is **polynomial** in the input size and we can solve each such subproblem in **polynomial** time.    \n",
    "        - namely, the running time of dynamic programming is **linear** in the number of vertices and edges.\n",
    "    + **Reconstructing a solution**:    \n",
    "      We can extend the dynamic-programming approach to record not only the optimal value computed for each subproblem, but also a choice that led to the optimal value. With this information, we can readily print an optimal solution.\n",
    "￼"
   ]
  },
  {
   "cell_type": "code",
   "execution_count": 2,
   "metadata": {
    "collapsed": false
   },
   "outputs": [
    {
     "name": "stdout",
     "output_type": "stream",
     "text": [
      "length i: [0, 1, 2, 3, 4, 5, 6, 7, 8, 9]\n",
      "price p_i: [ 1  5  8  9 10 17 17 20 24 30]\n",
      "max price: [1.0, 5.0, 8.0, 10.0, 13.0, 17.0, 18.0, 22.0, 25.0, 30.0]\n"
     ]
    }
   ],
   "source": [
    "price = np.array([1, 5, 8, 9, 10, 17, 17, 20, 24, 30])\n",
    "\n",
    "print('length i: {}'.format(range(len(price))))\n",
    "print('price p_i: {}'.format(price))\n",
    "\n",
    "def bottom_up_cut_rod(p_, n):\n",
    "    \"\"\"Solve cut_rod problem by bottom-up dynamic programming.\n",
    "    \n",
    "    \"\"\"\n",
    "    assert (len(p_) >= n), 'n should be less than the max length {}'.format(len(p))\n",
    "    \n",
    "    p = np.insert(p_, 0, 0) #set price_0 = 0 \n",
    "    \n",
    "    r = np.zeros(n+1)\n",
    "    \n",
    "    for k in range(1, n+1):\n",
    "        q = -np.inf\n",
    "        for m in range(1, k+1):\n",
    "            q = max(q, p[m]+r[k-m])\n",
    "        r[k] = q\n",
    "        \n",
    "    return r[-1]\n",
    "\n",
    "\n",
    "print('max price: {}'.format([bottom_up_cut_rod(price, n) for n in range(1, len(price)+1)]))"
   ]
  },
  {
   "cell_type": "code",
   "execution_count": 28,
   "metadata": {
    "collapsed": false
   },
   "outputs": [
    {
     "name": "stderr",
     "output_type": "stream",
     "text": [
      "DEBUG:root:e: [-inf  -2.   8.  12.   7.  -2.   3.   2.   6.  11.   9.  10.  19.  13.]\n",
      "DEBUG:root:a: [-inf  -2.   8.  12.  12.  12.  12.  12.  12.  12.  12.  12.  19.  19.]\n"
     ]
    },
    {
     "data": {
      "text/plain": [
       "(19.0, array([ -2.,   8.,  12.,  12.,  12.,  12.,  12.,  12.,  12.,  12.,  12.,\n",
       "         19.,  19.]))"
      ]
     },
     "execution_count": 28,
     "metadata": {},
     "output_type": "execute_result"
    }
   ],
   "source": [
    "logger.setLevel('DEBUG')\n",
    "\n",
    "arr = np.array([-2, 8, 4, -5, -9, 3, -1, 4, 5, -2, 1, 9, -6])\n",
    "\n",
    "def max_sequence(x, display=False):\n",
    "    a = np.zeros(len(x)+1)\n",
    "    a[0] = -np.inf\n",
    "    e = a.copy()\n",
    "    \n",
    "    x = np.insert(x, 0, 0)\n",
    "    \n",
    "    for k in range(1, len(x)):\n",
    "        e[k] = max(x[k], x[k]+e[k-1])\n",
    "        a[k] = max(x[k], x[k]+e[k-1], a[k-1])\n",
    "        \n",
    "    logging.debug('e: {}'.format(e))\n",
    "    logging.debug('a: {}'.format(a))\n",
    "    \n",
    "    if display:\n",
    "        ms_end = 0\n",
    "        for k \n",
    "        \n",
    "    \n",
    "    return a[-1]\n",
    "\n",
    "max_sequence(arr)"
   ]
  },
  {
   "cell_type": "code",
   "execution_count": 16,
   "metadata": {
    "collapsed": false
   },
   "outputs": [],
   "source": []
  }
 ],
 "metadata": {
  "kernelspec": {
   "display_name": "Python 2",
   "language": "python",
   "name": "python2"
  },
  "language_info": {
   "codemirror_mode": {
    "name": "ipython",
    "version": 2
   },
   "file_extension": ".py",
   "mimetype": "text/x-python",
   "name": "python",
   "nbconvert_exporter": "python",
   "pygments_lexer": "ipython2",
   "version": "2.7.10"
  }
 },
 "nbformat": 4,
 "nbformat_minor": 0
}

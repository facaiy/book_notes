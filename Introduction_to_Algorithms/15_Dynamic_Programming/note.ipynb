{
 "cells": [
  {
   "cell_type": "code",
   "execution_count": 2,
   "metadata": {
    "collapsed": false
   },
   "outputs": [
    {
     "name": "stdout",
     "output_type": "stream",
     "text": [
      "Populating the interactive namespace from numpy and matplotlib\n"
     ]
    }
   ],
   "source": [
    "%pylab inline\n",
    "import pandas as pd\n",
    "\n",
    "import numpy as np\n",
    "from __future__ import division\n",
    "import itertools\n",
    "\n",
    "import matplotlib.pyplot as plt\n",
    "import seaborn as sns\n",
    "\n",
    "import logging\n",
    "logger = logging.getLogger()"
   ]
  },
  {
   "cell_type": "markdown",
   "metadata": {},
   "source": [
    "15 Dynamic Programming\n",
    "============\n",
    "\n",
    "for optimization problems:   \n",
    "\n",
    "1. divide-and-conquer    \n",
    "   partition into **disjoint** subproblems, solve recursively, and then combine.   \n",
    " \n",
    "2. dynamic programming    \n",
    "   subploems **overlap**    \n",
    "   developing by four steps:    \n",
    "   1. Characterize the **structure** of an optimal solution.   \n",
    "   2. **Recursively** define the value of an optimal solution.    \n",
    "   3. Compute the value of an optimal solution, typically in a **bottom-up** fashion.    \n",
    "   4. [opt] Construct an optimal solution from computed information.\n",
    "   \n"
   ]
  },
  {
   "cell_type": "markdown",
   "metadata": {},
   "source": [
    "### 15.1 Rod cutting\n",
    "\n",
    "##### rod-cutting problem\n",
    "Given:   \n",
    "1. a rod of length $n$ inches.   \n",
    "2. a table of prices $p_i$ for $i = 1, 2, \\cdots, n$  \n",
    "\n",
    "Problem:   \n",
    "determine the __maximum revenue__ $r_n$ obtainable by cutting up the rod and selling the pieces.\n",
    "\n",
    "Solution:    \n",
    "$$r_n = max_{1 \\leq i \\leq n} (p_i + r_{n-i})$$\n",
    "\n",
    "Implementation:   \n",
    "1. recursive top-down    \n",
    "2. dynamic programming   \n",
    "    + **optimal substructure**: optimal solutions to a problem incorporate optimal solutions to related subproblems.    \n",
    "    + uses additional memory to save computation time     \n",
    "    + two ways:\n",
    "        1. top-down with memorization      \n",
    "            + it “remembers” what results it has computed previously.   \n",
    "        2. bottom-up method.    \n",
    "            + We sort the subproblems by size and solve them in size order, smallest first.   \n",
    "            + The bottom-up approach often has much better constant factors, since it has less overhead for procedure calls.\n",
    "    + **subproblems graphs**, as shown in Fig (15.4).     \n",
    "        - A dynamic-programming approach runs in **polynomial** time when **the number of distinct subproblems** involved is **polynomial** in the input size and we can solve each such subproblem in **polynomial** time.    \n",
    "        - namely, the running time of dynamic programming is **linear** in the number of vertices and edges.\n",
    "    + **Reconstructing a solution**:    \n",
    "      We can extend the dynamic-programming approach to record not only the optimal value computed for each subproblem, but also a choice that led to the optimal value. With this information, we can readily print an optimal solution.\n",
    "￼"
   ]
  },
  {
   "cell_type": "code",
   "execution_count": 3,
   "metadata": {
    "collapsed": false
   },
   "outputs": [
    {
     "name": "stdout",
     "output_type": "stream",
     "text": [
      "length i: [0, 1, 2, 3, 4, 5, 6, 7, 8, 9]\n",
      "price p_i: [ 1  5  8  9 10 17 17 20 24 30]\n",
      "max price: [1.0, 5.0, 8.0, 10.0, 13.0, 17.0, 18.0, 22.0, 25.0, 30.0]\n"
     ]
    }
   ],
   "source": [
    "price = np.array([1, 5, 8, 9, 10, 17, 17, 20, 24, 30])\n",
    "\n",
    "print('length i: {}'.format(range(len(price))))\n",
    "print('price p_i: {}'.format(price))\n",
    "\n",
    "def bottom_up_cut_rod(p_, n):\n",
    "    \"\"\"Solve cut_rod problem by bottom-up dynamic programming.\n",
    "    \n",
    "    \"\"\"\n",
    "    assert (len(p_) >= n), 'n should be less than the max length {}'.format(len(p))\n",
    "    \n",
    "    p = np.insert(p_, 0, 0) #set price_0 = 0 \n",
    "    \n",
    "    r = np.zeros(n+1)\n",
    "    \n",
    "    for k in range(1, n+1):\n",
    "        q = -np.inf\n",
    "        for m in range(1, k+1):\n",
    "            q = max(q, p[m]+r[k-m])\n",
    "        r[k] = q\n",
    "        \n",
    "    return r[-1]\n",
    "\n",
    "\n",
    "print('max price: {}'.format([bottom_up_cut_rod(price, n) for n in range(1, len(price)+1)]))"
   ]
  },
  {
   "cell_type": "code",
   "execution_count": 21,
   "metadata": {
    "collapsed": false
   },
   "outputs": [
    {
     "name": "stderr",
     "output_type": "stream",
     "text": [
      "DEBUG:root:\n",
      " e: [-inf  -2.   8.  12.   7.  16.  19.  18.  22.  27.  10.  11.   2.   8.] \n",
      " a:[-inf  -2.   8.  12.  12.  16.  19.  19.  22.  27.  27.  27.  27.  27.] \n",
      "\n",
      "DEBUG:root:seq_end: 9\n",
      "\n"
     ]
    },
    {
     "data": {
      "text/plain": [
       "27.0"
      ]
     },
     "execution_count": 21,
     "metadata": {},
     "output_type": "execute_result"
    }
   ],
   "source": [
    "logger.setLevel('DEBUG')\n",
    "\n",
    "arr = np.array([-2, 8, 4, -5, 9, 3, -1, 4, 5, -17, 1, -9, 6])\n",
    "\n",
    "def max_sum_sequence(x, display=False):\n",
    "    a = np.zeros(len(x)+1)\n",
    "    a[0] = -np.inf\n",
    "    e = a.copy()\n",
    "    \n",
    "    x = np.insert(x, 0, 0)\n",
    "    \n",
    "    for k in range(1, len(x)):\n",
    "        e[k] = max(x[k], x[k]+e[k-1])\n",
    "        a[k] = max(x[k], x[k]+e[k-1], a[k-1])\n",
    "        \n",
    "    logging.debug('\\n e: {} \\n a:{} \\n'.format(e, a))\n",
    "    \n",
    "    seq = []\n",
    "    seq_end = np.nonzero(a==a[-1])[0][0]\n",
    "    logging.debug('seq_end ins: {}, value: {}\\n'.format(seq_end, ))\n",
    "\n",
    "\n",
    "        \n",
    "    return a[-1]\n",
    "\n",
    "max_sum_sequence(arr)"
   ]
  },
  {
   "cell_type": "markdown",
   "metadata": {
    "collapsed": false
   },
   "source": [
    "### 15.2 Martrix-chain multiplication\n",
    "\n",
    "##### matrix-chain multiplication problem\n",
    "**given** a chain $<A_1, A_2, \\cdots, A_n>$ of $n$ matrices, where for $i = 1, 2, \\cdots, n$, matrix $A_i$ has dimension $p_{i-1} \\times p_i$,     \n",
    "**problem**: fully parenthesize the product $A_1 A_2 \\cdots A_n$ in a way that minimizes the number of scalar multiplicatons.\n",
    "\n",
    "**solutions**: \n",
    "\n",
    "1. exhaustively checking all possible parenthesizations. $\\Omega(2^n)$      \n",
    "    \\begin{equation}\n",
    "        P(n) = \\begin{cases}\n",
    "            1 & \\quad \\text{if } n = 1 \\\\\n",
    "            \\sum_{k=1}^{n-1} P(k) P(n-k) & \\quad \\text{if } n \\geq 2 \\\\\n",
    "        \\end{cases}\n",
    "    \\end{equation}\n",
    "\n",
    "2. Applying dynamic programming. $\\Omega (n^3)$    \n",
    "    define $A_{i \\dotso j} = A_i A_{i+1} \\dotsm A_j$    \n",
    "    \n",
    "    1. The structure of an optimal parenthesization.    \n",
    "       suppose $A_{i \\dotso k} A_{k \\dotso j}$ is the optimal solution of $<A_i, \\dotsm, A_j>$, where $i \\leq k < j$.   \n",
    "       then $A_{i \\dotso k}$ must be the optimal solution of $<A_i, \\dotsm, A_k>$, as well as $A_{k \\dots j}$.\n",
    "       \n",
    "       Proof:     \n",
    "       if existing $Cost(\\hat{A}_{i \\dotso k}) < Cost(A_{i \\dotso k})$,     \n",
    "       then $\\hat{A}_{i \\dotso k} A_{k \\dotso j}$ should be the optimal solution ==> contradiction.    \n",
    "       \n",
    "    2. A recursive solution.    \n",
    "       Let $m[i,j]$ be the minimum number of scalar multiplications needed to compute the matrix $A_{i \\dotso j}$.  \n",
    "       \n",
    "       \\begin{equation}\n",
    "           m[i,j] = \\begin{cases}\n",
    "               0 & \\quad \\text{if } i = j \\\\\n",
    "               min_{i \\leq k < j} {m[i,k] + m[k+1,j] + p_{i-1} p_k p_j} & \\quad \\text{if } i < j\n",
    "           \\end{cases}\n",
    "       \\end{equation} \n",
    "       \n",
    "    3. Computing the optimal costs.   \n",
    "       $m[i,j]$ depends on all $m[i,k], m[k+1,j]$.    \n",
    "       hence, the algorithm should fill in the talbe $m$ in a manner that corresponds to solving the parenthesizaiton problem on matrix chains of incresing lenghth.    \n",
    "       \n",
    "    4. Constructing an optimal solution.    \n",
    "       construct table $s$ whose rows is $1, \\dotsm, n-1$ and columns is $2, \\dotsm, n$.    \n",
    "       Each entry $s[i,j]$ records the optimal solution $k$ for $A_{i \\dotso j}$."
   ]
  },
  {
   "cell_type": "code",
   "execution_count": null,
   "metadata": {
    "collapsed": true
   },
   "outputs": [],
   "source": []
  }
 ],
 "metadata": {
  "kernelspec": {
   "display_name": "Python 2",
   "language": "python",
   "name": "python2"
  },
  "language_info": {
   "codemirror_mode": {
    "name": "ipython",
    "version": 2
   },
   "file_extension": ".py",
   "mimetype": "text/x-python",
   "name": "python",
   "nbconvert_exporter": "python",
   "pygments_lexer": "ipython2",
   "version": "2.7.10"
  }
 },
 "nbformat": 4,
 "nbformat_minor": 0
}

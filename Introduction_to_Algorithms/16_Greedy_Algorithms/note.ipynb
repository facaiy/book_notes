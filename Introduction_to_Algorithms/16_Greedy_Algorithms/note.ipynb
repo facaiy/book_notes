{
 "cells": [
  {
   "cell_type": "code",
   "execution_count": 1,
   "metadata": {
    "collapsed": true
   },
   "outputs": [],
   "source": [
    "%matplotlib inline\n",
    "import pandas as pd\n",
    "\n",
    "import numpy as np\n",
    "from __future__ import division\n",
    "import itertools\n",
    "\n",
    "import matplotlib.pyplot as plt\n",
    "import seaborn as sns\n",
    "\n",
    "import logging\n",
    "logger = logging.getLogger()"
   ]
  },
  {
   "cell_type": "markdown",
   "metadata": {},
   "source": [
    "16 Greedy Algorithms\n",
    "===========\n",
    "\n",
    "**intent**: it makes a locally optimal choice in the hope that the choice will lead to a globally optimal solution."
   ]
  },
  {
   "cell_type": "markdown",
   "metadata": {},
   "source": [
    "### 16.1 An activity-selection problem\n",
    "\n",
    "**Given**:    \n",
    "an activity $a_i$ has a start and finish time $[s_i, f_i)$.     \n",
    "activities set $S = \\{a_1, a_2, \\dotsc, a_n\\}$, ordered by $f_i$.      \n",
    "\n",
    "$a_i$ and $a_j$ are compatible if their intervals don't overlap.\n",
    "\n",
    "**Problem**:    \n",
    "We wish to select a maximum-size subsets of mutually compatible activities.  "
   ]
  },
  {
   "cell_type": "code",
   "execution_count": 2,
   "metadata": {
    "collapsed": false
   },
   "outputs": [
    {
     "data": {
      "text/html": [
       "<div>\n",
       "<table border=\"1\" class=\"dataframe\">\n",
       "  <thead>\n",
       "    <tr style=\"text-align: right;\">\n",
       "      <th></th>\n",
       "      <th>1</th>\n",
       "      <th>2</th>\n",
       "      <th>3</th>\n",
       "      <th>4</th>\n",
       "      <th>5</th>\n",
       "      <th>6</th>\n",
       "      <th>7</th>\n",
       "      <th>8</th>\n",
       "      <th>9</th>\n",
       "      <th>10</th>\n",
       "      <th>11</th>\n",
       "    </tr>\n",
       "  </thead>\n",
       "  <tbody>\n",
       "    <tr>\n",
       "      <th>s</th>\n",
       "      <td>1</td>\n",
       "      <td>3</td>\n",
       "      <td>0</td>\n",
       "      <td>5</td>\n",
       "      <td>3</td>\n",
       "      <td>5</td>\n",
       "      <td>6</td>\n",
       "      <td>8</td>\n",
       "      <td>8</td>\n",
       "      <td>2</td>\n",
       "      <td>12</td>\n",
       "    </tr>\n",
       "    <tr>\n",
       "      <th>f</th>\n",
       "      <td>4</td>\n",
       "      <td>5</td>\n",
       "      <td>6</td>\n",
       "      <td>7</td>\n",
       "      <td>9</td>\n",
       "      <td>9</td>\n",
       "      <td>10</td>\n",
       "      <td>11</td>\n",
       "      <td>12</td>\n",
       "      <td>14</td>\n",
       "      <td>16</td>\n",
       "    </tr>\n",
       "  </tbody>\n",
       "</table>\n",
       "</div>"
      ],
      "text/plain": [
       "   1   2   3   4   5   6   7   8   9   10  11\n",
       "s   1   3   0   5   3   5   6   8   8   2  12\n",
       "f   4   5   6   7   9   9  10  11  12  14  16"
      ]
     },
     "execution_count": 2,
     "metadata": {},
     "output_type": "execute_result"
    }
   ],
   "source": [
    "# eg\n",
    "raw_data = [\n",
    "    [1, 3, 0, 5, 3, 5, 6, 8, 8, 2, 12],\n",
    "    [4, 5, 6, 7, 9, 9, 10, 11, 12, 14, 16]\n",
    "]\n",
    "\n",
    "df = pd.DataFrame(raw_data, index=['s', 'f'], columns=xrange(1,12,1))\n",
    "df"
   ]
  },
  {
   "cell_type": "markdown",
   "metadata": {},
   "source": [
    "#### Dynamic Programming\n",
    "denote: $S_{ij} = \\{a_{i+1}, \\dotsc, a_{j-1}\\}$.\n",
    "\n",
    "Suppose $a_k$ in an optimal solution, then the left two subproblems: $S_{ik}$ and $S_{kj}$, whose optimal solution should be within the optimal solution of $S_{ij}$.\n",
    "\n",
    "\\begin{equation}\n",
    "    c[i,j] = \\begin{cases}\n",
    "        0 & \\quad \\text{ if } S_{ij} = \\emptyset \\\\\n",
    "        max_{a_k \\in S_{ij}} c[i,k] + c[k,j] + 1 & \\quad \\text{ otherwise}\n",
    "    \\end{cases}\n",
    "\\end{equation}"
   ]
  },
  {
   "cell_type": "code",
   "execution_count": null,
   "metadata": {
    "collapsed": true
   },
   "outputs": [],
   "source": [
    "#todo"
   ]
  },
  {
   "cell_type": "markdown",
   "metadata": {},
   "source": [
    "#### Making the greedy choice\n",
    "Intuition:    \n",
    "we should choose an activity that leaves the resource available for as many other activities as possible.      \n",
    "Hence, the first one should be the activity in $S$ with the earliest finish time.\n",
    "\n",
    "##### Is the greedy choice always part of some optimal solution?\n",
    "\n",
    "**Theorem 16.1**:    \n",
    "Let $S_k = \\{a_i \\in S: s_i \\geq f_k\\}$.     \n",
    "We have $a_m$ s.t. $f_m = min(f_i : a_i \\in S)$    \n",
    "Then $a_m$ must be included in some maximum-size subset of mutually compatible activities of $S_k$.\n",
    "\n",
    "Proof: (构造法） \n",
    "\n",
    "Let $A_k$ be a maximum-size subset, and $a_j$ s.t. $f_j = min(f_i: a_i in A_k)$.      \n",
    "Because $f_m \\leq f_j$,     \n",
    "hence we could replace $a_j$ with $a_m$, namely, $A'_k = (A_k - a_j) \\cup a_m$.     \n",
    "then we get a new maximum-size subset $A'_k$ which includs $a_m$.  \n",
    "\n",
    "##### An recursive greedy algorithm\n",
    "tail recursive\n",
    "\n",
    "##### An iterative greedy algorithm"
   ]
  },
  {
   "cell_type": "code",
   "execution_count": 7,
   "metadata": {
    "collapsed": false
   },
   "outputs": [
    {
     "data": {
      "text/html": [
       "<div>\n",
       "<table border=\"1\" class=\"dataframe\">\n",
       "  <thead>\n",
       "    <tr style=\"text-align: right;\">\n",
       "      <th></th>\n",
       "      <th>1</th>\n",
       "      <th>2</th>\n",
       "      <th>3</th>\n",
       "      <th>4</th>\n",
       "      <th>5</th>\n",
       "      <th>6</th>\n",
       "      <th>7</th>\n",
       "      <th>8</th>\n",
       "      <th>9</th>\n",
       "      <th>10</th>\n",
       "      <th>11</th>\n",
       "    </tr>\n",
       "  </thead>\n",
       "  <tbody>\n",
       "    <tr>\n",
       "      <th>s</th>\n",
       "      <td>1</td>\n",
       "      <td>3</td>\n",
       "      <td>0</td>\n",
       "      <td>5</td>\n",
       "      <td>3</td>\n",
       "      <td>5</td>\n",
       "      <td>6</td>\n",
       "      <td>8</td>\n",
       "      <td>8</td>\n",
       "      <td>2</td>\n",
       "      <td>12</td>\n",
       "    </tr>\n",
       "    <tr>\n",
       "      <th>f</th>\n",
       "      <td>4</td>\n",
       "      <td>5</td>\n",
       "      <td>6</td>\n",
       "      <td>7</td>\n",
       "      <td>9</td>\n",
       "      <td>9</td>\n",
       "      <td>10</td>\n",
       "      <td>11</td>\n",
       "      <td>12</td>\n",
       "      <td>14</td>\n",
       "      <td>16</td>\n",
       "    </tr>\n",
       "  </tbody>\n",
       "</table>\n",
       "</div>"
      ],
      "text/plain": [
       "   1   2   3   4   5   6   7   8   9   10  11\n",
       "s   1   3   0   5   3   5   6   8   8   2  12\n",
       "f   4   5   6   7   9   9  10  11  12  14  16"
      ]
     },
     "execution_count": 7,
     "metadata": {},
     "output_type": "execute_result"
    }
   ],
   "source": [
    "df"
   ]
  },
  {
   "cell_type": "code",
   "execution_count": 8,
   "metadata": {
    "collapsed": false
   },
   "outputs": [
    {
     "data": {
      "text/plain": [
       "[1, 4, 8, 11]"
      ]
     },
     "execution_count": 8,
     "metadata": {},
     "output_type": "execute_result"
    }
   ],
   "source": [
    "def greedy_activity_selector(df):\n",
    "    n = df.shape[1] + 1\n",
    "    k = 1\n",
    "    A = [k] \n",
    "\n",
    "    for m in xrange(2, n):\n",
    "        if df.loc['s', m] >= df.loc['f', k]:\n",
    "            A.append(m)\n",
    "            k = m\n",
    "    return A\n",
    "\n",
    "greedy_activity_selector(df)"
   ]
  }
 ],
 "metadata": {
  "kernelspec": {
   "display_name": "Python 2",
   "language": "python",
   "name": "python2"
  },
  "language_info": {
   "codemirror_mode": {
    "name": "ipython",
    "version": 2
   },
   "file_extension": ".py",
   "mimetype": "text/x-python",
   "name": "python",
   "nbconvert_exporter": "python",
   "pygments_lexer": "ipython2",
   "version": "2.7.10"
  }
 },
 "nbformat": 4,
 "nbformat_minor": 0
}

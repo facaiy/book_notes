{
 "cells": [
  {
   "cell_type": "code",
   "execution_count": 1,
   "metadata": {
    "collapsed": true
   },
   "outputs": [],
   "source": [
    "# %load /Users/facai/Study/book_notes/preconfig.py\n",
    "%matplotlib inline\n",
    "\n",
    "#import matplotlib.pyplot as plt\n",
    "#import seaborn as sns\n",
    "#sns.set(color_codes=True)\n",
    "#sns.set(font='SimHei', font_scale=2.5)\n",
    "#plt.rcParams['axes.grid'] = False\n",
    "\n",
    "#import numpy as np\n",
    "\n",
    "#import pandas as pd\n",
    "#pd.options.display.max_rows = 20\n",
    "\n",
    "#import sklearn\n",
    "\n",
    "#import itertools"
   ]
  },
  {
   "cell_type": "markdown",
   "metadata": {},
   "source": [
    "Chapter 12 Application\n",
    "============="
   ]
  },
  {
   "cell_type": "markdown",
   "metadata": {
    "collapsed": true
   },
   "source": [
    "### 12.1 Large Scale Deep Learning\n",
    "\n",
    "+ Fast CPU Implementations\n",
    "  - specializated numerical computation routines\n",
    "  - optimizing data struture (avoid cache misses)\n",
    "  - using vector instructions\n",
    "+ GPU Implementations\n",
    "+ Model Compression\n",
    "  fit bigger model -> populate samples -> train a smaller model\n",
    "+ Dynamic Structure: \n",
    "  accelerating inference => cascade of classifiers\n",
    "+ lower precision to accelerate train/inference\n",
    "\n",
    "\n",
    "### 12.2 Computer Vision\n",
    "\n",
    "+ Preprocessing:\n",
    "  - Standardization\n",
    "  - Contrast Normalization\n",
    "    1. global contrast normalization\n",
    "    2. local contrast normalization\n",
    "  - Dataset Augmentation\n",
    "  \n",
    "\n",
    "### 12.3 Speech Recognition\n",
    "\n",
    "+ LSTM RNN\n",
    "+ CTC framework\n",
    "  \n",
    "\n",
    "### 12.4 Natural Language Processing\n",
    "\n",
    "+ n-grams\n",
    "+ Neural Language Models\n",
    "  - word embeddings\n",
    "  \n",
    "\n",
    "### 12.5 Other Applications\n",
    "\n",
    "+ Recommender Systems\n",
    "  - reinforcement learning\n",
    "+ Knowledge Representation, Reasoning and Question Answering"
   ]
  },
  {
   "cell_type": "code",
   "execution_count": null,
   "metadata": {
    "collapsed": true
   },
   "outputs": [],
   "source": []
  }
 ],
 "metadata": {
  "kernelspec": {
   "display_name": "Python 3",
   "language": "python",
   "name": "python3"
  },
  "language_info": {
   "codemirror_mode": {
    "name": "ipython",
    "version": 3
   },
   "file_extension": ".py",
   "mimetype": "text/x-python",
   "name": "python",
   "nbconvert_exporter": "python",
   "pygments_lexer": "ipython3",
   "version": "3.6.3"
  }
 },
 "nbformat": 4,
 "nbformat_minor": 2
}

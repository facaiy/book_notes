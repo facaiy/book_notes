{
 "cells": [
  {
   "cell_type": "code",
   "execution_count": 1,
   "metadata": {
    "collapsed": true
   },
   "outputs": [],
   "source": [
    "# %load /Users/facai/Study/book_notes/preconfig.py\n",
    "%matplotlib inline\n",
    "\n",
    "from IPython.display import SVG"
   ]
  },
  {
   "cell_type": "markdown",
   "metadata": {},
   "source": [
    "TensorFlow 梯度函数\n",
    "=========\n",
    "\n",
    "版本信息：remotes/upstream/r1.8\n",
    "```\n",
    "~/W/g/t/t/cc ❯❯❯ git log -n 1                                                      \n",
    "commit 8753e2ebde6c58b56675cc19ab7ff83072824a62 (HEAD, upstream/r1.8)\n",
    "Author: Yifei Feng <1192265+yifeif@users.noreply.github.com>\n",
    "Date:   Fri Apr 27 17:05:02 2018 -0700\n",
    "\n",
    "    Fixing the mock import error for devel docker. (#18940)\n",
    "\n",
    "    * Fixing the mock import error for devel docker.\n",
    "\n",
    "    Same as #18843\n",
    "```"
   ]
  },
  {
   "cell_type": "markdown",
   "metadata": {},
   "source": [
    "### 0 常见位置\n",
    "\n",
    "\n",
    "梯度函数在Python侧和C++侧，均有独立的注册机制。\n",
    "\n",
    "+ 对于Python侧，一般在 `tensorflow/python/ops/*_grad.py`。\n",
    "\n",
    "+ 对于C++侧，有两个独立的注册位置：\n",
    "  - `cc/gradients/*_grad.cc`: 这里是和python对应的移植实现，层级简单。\n",
    "  - `core/ops/*_grad.cc`: 这里似乎是为Function准备的，我对它了解不多，层级很复杂，目前似乎是实验状态，暂不讲，以后清晰了再说。    \n",
    "     注: 这个接口有意思的地方是，它的输入输出是强类型，挺好。\n",
    "\n",
    "\n",
    "下面我画了个简单的类层级关系，用`AbsGrad`梯度为例，有些地方不严谨，作示意导航用。"
   ]
  },
  {
   "cell_type": "code",
   "execution_count": 2,
   "metadata": {},
   "outputs": [
    {
     "data": {
      "image/svg+xml": [
       "<svg height=\"1952\" version=\"1.1\" width=\"2323\" xmlns=\"http://www.w3.org/2000/svg\" xmlns:xlink=\"http://www.w3.org/1999/xlink\"><defs/><g><g transform=\"translate(-454,-326) scale(1,1)\"><rect fill=\"#C0C0C0\" height=\"72\" opacity=\"0.2\" stroke=\"none\" width=\"145\" x=\"1615\" y=\"343\"/></g><g transform=\"translate(-454,-326) scale(1,1)\"><rect fill=\"#ffffff\" height=\"72\" stroke=\"none\" width=\"145\" x=\"1608\" y=\"336\"/></g><g transform=\"translate(-454,-326) scale(1,1)\"><path d=\"M 1608 336 L 1753 336 L 1753 408 L 1608 408 L 1608 336 Z Z\" fill=\"none\" stroke=\"#000000\" stroke-miterlimit=\"10\"/></g><g transform=\"translate(-454,-326) scale(1,1)\"><path d=\"M 1608 361 L 1753 361\" fill=\"none\" stroke=\"#000000\" stroke-miterlimit=\"10\"/></g><g transform=\"translate(-454,-326) scale(1,1)\"><path d=\"M 1608 371 L 1753 371\" fill=\"none\" stroke=\"#000000\" stroke-miterlimit=\"10\"/></g><g transform=\"translate(-454,-326) scale(1,1)\"><g><path fill=\"none\" stroke=\"none\"/><text fill=\"#000000\" font-family=\"Arial\" font-size=\"13px\" font-style=\"normal\" font-weight=\"bold\" stroke=\"none\" text-decoration=\"none\" x=\"1632\" y=\"355.5\">RegisterGradient</text></g></g><g transform=\"translate(-454,-326) scale(1,1)\"><g><path fill=\"none\" stroke=\"none\"/><text fill=\"#000000\" font-family=\"Arial\" font-size=\"13px\" font-style=\"normal\" font-weight=\"normal\" stroke=\"none\" text-decoration=\"none\" x=\"1613\" y=\"388.5\">+__init__(op_type)</text></g></g><g transform=\"translate(-454,-326) scale(1,1)\"><g><path fill=\"none\" stroke=\"none\"/><text fill=\"#000000\" font-family=\"Arial\" font-size=\"13px\" font-style=\"normal\" font-weight=\"normal\" stroke=\"none\" text-decoration=\"none\" x=\"1613\" y=\"403.5\">+__call(f)</text></g></g><g transform=\"translate(-454,-326) scale(1,1)\"><rect fill=\"#C0C0C0\" height=\"56\" opacity=\"0.2\" stroke=\"none\" width=\"132.83056640625\" x=\"1623\" y=\"551\"/></g><g transform=\"translate(-454,-326) scale(1,1)\"><rect fill=\"#ffffff\" height=\"56\" stroke=\"none\" width=\"132.83056640625\" x=\"1616\" y=\"544\"/></g><g transform=\"translate(-454,-326) scale(1,1)\"><path d=\"M 1616 544 L 1748.83056640625 544 L 1748.83056640625 600 L 1616 600 L 1616 544 Z Z\" fill=\"none\" stroke=\"#000000\" stroke-miterlimit=\"10\"/></g><g transform=\"translate(-454,-326) scale(1,1)\"><path d=\"M 1616 582 L 1748.83056640625 582\" fill=\"none\" stroke=\"#000000\" stroke-miterlimit=\"10\"/></g><g transform=\"translate(-454,-326) scale(1,1)\"><g><path fill=\"none\" stroke=\"none\"/><text fill=\"#000000\" font-family=\"Arial\" font-size=\"13px\" font-style=\"normal\" font-weight=\"normal\" stroke=\"none\" text-decoration=\"none\" x=\"1648.415283203125\" y=\"561.5\">«dataType»</text></g></g><g transform=\"translate(-454,-326) scale(1,1)\"><g><path fill=\"none\" stroke=\"none\"/><text fill=\"#000000\" font-family=\"Arial\" font-size=\"13px\" font-style=\"normal\" font-weight=\"bold\" stroke=\"none\" text-decoration=\"none\" x=\"1630.915283203125\" y=\"576.5\">_gradient_registry</text></g></g><g transform=\"translate(-454,-326) scale(1,1)\"><rect fill=\"#C0C0C0\" height=\"115\" opacity=\"0.2\" stroke=\"none\" width=\"175.70849609375\" x=\"1607\" y=\"727\"/></g><g transform=\"translate(-454,-326) scale(1,1)\"><rect fill=\"#ffffff\" height=\"115\" stroke=\"none\" width=\"175.70849609375\" x=\"1600\" y=\"720\"/></g><g transform=\"translate(-454,-326) scale(1,1)\"><path d=\"M 1600 720 L 1775.70849609375 720 L 1775.70849609375 835 L 1600 835 L 1600 720 Z Z\" fill=\"none\" stroke=\"#000000\" stroke-miterlimit=\"10\"/></g><g transform=\"translate(-454,-326) scale(1,1)\"><path d=\"M 1600 745 L 1775.70849609375 745\" fill=\"none\" stroke=\"#000000\" stroke-miterlimit=\"10\"/></g><g transform=\"translate(-454,-326) scale(1,1)\"><path d=\"M 1600 783 L 1775.70849609375 783\" fill=\"none\" stroke=\"#000000\" stroke-miterlimit=\"10\"/></g><g transform=\"translate(-454,-326) scale(1,1)\"><g><path fill=\"none\" stroke=\"none\"/><text fill=\"#000000\" font-family=\"Arial\" font-size=\"13px\" font-style=\"normal\" font-weight=\"bold\" stroke=\"none\" text-decoration=\"none\" x=\"1663.854248046875\" y=\"739.5\">Registry</text></g></g><g transform=\"translate(-454,-326) scale(1,1)\"><g><path fill=\"none\" stroke=\"none\"/><text fill=\"#000000\" font-family=\"Arial\" font-size=\"13px\" font-style=\"normal\" font-weight=\"normal\" stroke=\"none\" text-decoration=\"none\" x=\"1605\" y=\"762.5\">+_name</text></g></g><g transform=\"translate(-454,-326) scale(1,1)\"><g><path fill=\"none\" stroke=\"none\"/><text fill=\"#000000\" font-family=\"Arial\" font-size=\"13px\" font-style=\"normal\" font-weight=\"normal\" stroke=\"none\" text-decoration=\"none\" x=\"1605\" y=\"777.5\">+_registry</text></g></g><g transform=\"translate(-454,-326) scale(1,1)\"><g><path fill=\"none\" stroke=\"none\"/><text fill=\"#000000\" font-family=\"Arial\" font-size=\"13px\" font-style=\"normal\" font-weight=\"normal\" stroke=\"none\" text-decoration=\"none\" x=\"1605\" y=\"800.5\">+register(candidate, name)</text></g></g><g transform=\"translate(-454,-326) scale(1,1)\"><g><path fill=\"none\" stroke=\"none\"/><text fill=\"#000000\" font-family=\"Arial\" font-size=\"13px\" font-style=\"normal\" font-weight=\"normal\" stroke=\"none\" text-decoration=\"none\" x=\"1605\" y=\"815.5\">+list()</text></g></g><g transform=\"translate(-454,-326) scale(1,1)\"><g><path fill=\"none\" stroke=\"none\"/><text fill=\"#000000\" font-family=\"Arial\" font-size=\"13px\" font-style=\"normal\" font-weight=\"normal\" stroke=\"none\" text-decoration=\"none\" x=\"1605\" y=\"830.5\">+lookup(name)</text></g></g><g transform=\"translate(-454,-326) scale(1,1)\"><path d=\"M 1680 409 L 1682 543\" fill=\"none\" stroke=\"#000000\" stroke-miterlimit=\"10\"/></g><g transform=\"translate(-454,-326) scale(1,1)\"><path d=\"M 1677.6392862136918 532.9012785327101 L 1682 543 L 1686.0573841417227 532.7756352800529\" fill=\"none\" stroke=\"#000000\" stroke-miterlimit=\"10\"/></g><g transform=\"translate(-454,-326) scale(1,1)\"><path d=\"M 1683 601 L 1686 719\" fill=\"none\" stroke=\"#000000\" stroke-miterlimit=\"10\"/></g><g transform=\"translate(-454,-326) scale(1,1)\"><path d=\"M 1681.5335524011095 708.9475950217688 L 1686 719 L 1689.9498683423508 708.7336208876695\" fill=\"none\" stroke=\"#000000\" stroke-miterlimit=\"10\"/></g><g transform=\"translate(-454,-326) scale(1,1)\"><rect fill=\"#C0C0C0\" height=\"87\" opacity=\"0.2\" stroke=\"none\" width=\"342.43603515625\" x=\"471\" y=\"1111\"/></g><g transform=\"translate(-454,-326) scale(1,1)\"><rect fill=\"#ffffff\" height=\"87\" stroke=\"none\" width=\"342.43603515625\" x=\"464\" y=\"1104\"/></g><g transform=\"translate(-454,-326) scale(1,1)\"><path d=\"M 464 1104 L 806.43603515625 1104 L 806.43603515625 1191 L 464 1191 L 464 1104 Z Z\" fill=\"none\" stroke=\"#000000\" stroke-miterlimit=\"10\"/></g><g transform=\"translate(-454,-326) scale(1,1)\"><path d=\"M 464 1129 L 806.43603515625 1129\" fill=\"none\" stroke=\"#000000\" stroke-miterlimit=\"10\"/></g><g transform=\"translate(-454,-326) scale(1,1)\"><path d=\"M 464 1139 L 806.43603515625 1139\" fill=\"none\" stroke=\"#000000\" stroke-miterlimit=\"10\"/></g><g transform=\"translate(-454,-326) scale(1,1)\"><g><path fill=\"none\" stroke=\"none\"/><text fill=\"#000000\" font-family=\"Arial\" font-size=\"13px\" font-style=\"normal\" font-weight=\"bold\" stroke=\"none\" text-decoration=\"none\" x=\"607.218017578125\" y=\"1123.5\">Optimizer</text></g></g><g transform=\"translate(-454,-326) scale(1,1)\"><g><path fill=\"none\" stroke=\"none\"/><text fill=\"#000000\" font-family=\"Arial\" font-size=\"13px\" font-style=\"normal\" font-weight=\"normal\" stroke=\"none\" text-decoration=\"none\" x=\"469\" y=\"1156.5\">+minimize(loss, var_list, global_step)</text></g></g><g transform=\"translate(-454,-326) scale(1,1)\"><g><path fill=\"none\" stroke=\"none\"/><text fill=\"#000000\" font-family=\"Arial\" font-size=\"13px\" font-style=\"normal\" font-weight=\"normal\" stroke=\"none\" text-decoration=\"none\" x=\"469\" y=\"1171.5\">+compute_gradients(loss, var_list)</text></g></g><g transform=\"translate(-454,-326) scale(1,1)\"><g><path fill=\"none\" stroke=\"none\"/><text fill=\"#000000\" font-family=\"Arial\" font-size=\"13px\" font-style=\"normal\" font-weight=\"normal\" stroke=\"none\" text-decoration=\"none\" x=\"469\" y=\"1186.5\">+apply_gradients(grads_and_vars, global_step, name)</text></g></g><g transform=\"translate(-454,-326) scale(1,1)\"><rect fill=\"#C0C0C0\" height=\"90\" opacity=\"0.2\" stroke=\"none\" width=\"177.91162109375\" x=\"991\" y=\"1111\"/></g><g transform=\"translate(-454,-326) scale(1,1)\"><rect fill=\"#ffffff\" height=\"90\" stroke=\"none\" width=\"177.91162109375\" x=\"984\" y=\"1104\"/></g><g transform=\"translate(-454,-326) scale(1,1)\"><path d=\"M 984 1104 L 1161.91162109375 1104 L 1161.91162109375 1194 L 984 1194 L 984 1104 Z Z\" fill=\"none\" stroke=\"#000000\" stroke-miterlimit=\"10\"/></g><g transform=\"translate(-454,-326) scale(1,1)\"><path d=\"M 984 1142 L 1161.91162109375 1142\" fill=\"none\" stroke=\"#000000\" stroke-miterlimit=\"10\"/></g><g transform=\"translate(-454,-326) scale(1,1)\"><g><path fill=\"none\" stroke=\"none\"/><text fill=\"#000000\" font-family=\"Arial\" font-size=\"13px\" font-style=\"normal\" font-weight=\"normal\" stroke=\"none\" text-decoration=\"none\" x=\"1038.955810546875\" y=\"1121.5\">«dataType»</text></g></g><g transform=\"translate(-454,-326) scale(1,1)\"><g><path fill=\"none\" stroke=\"none\"/><text fill=\"#000000\" font-family=\"Arial\" font-size=\"13px\" font-style=\"normal\" font-weight=\"bold\" stroke=\"none\" text-decoration=\"none\" x=\"1030.955810546875\" y=\"1136.5\">gradients_impl</text></g></g><g transform=\"translate(-454,-326) scale(1,1)\"><g><path fill=\"none\" stroke=\"none\"/><text fill=\"#000000\" font-family=\"Arial\" font-size=\"13px\" font-style=\"normal\" font-weight=\"normal\" stroke=\"none\" text-decoration=\"none\" x=\"989\" y=\"1159.5\">+gradients()</text></g></g><g transform=\"translate(-454,-326) scale(1,1)\"><g><path fill=\"none\" stroke=\"none\"/><text fill=\"#000000\" font-family=\"Arial\" font-size=\"13px\" font-style=\"normal\" font-weight=\"normal\" stroke=\"none\" text-decoration=\"none\" x=\"989\" y=\"1174.5\">+_GradientsHelper()</text></g></g><g transform=\"translate(-454,-326) scale(1,1)\"><g><path fill=\"none\" stroke=\"none\"/><text fill=\"#000000\" font-family=\"Arial\" font-size=\"13px\" font-style=\"normal\" font-weight=\"normal\" stroke=\"none\" text-decoration=\"none\" x=\"989\" y=\"1189.5\">+_SymGrad()</text></g></g><g transform=\"translate(-454,-326) scale(1,1)\"><rect fill=\"#C0C0C0\" height=\"60\" opacity=\"0.2\" stroke=\"none\" width=\"179.13623046875\" x=\"1319\" y=\"959\"/></g><g transform=\"translate(-454,-326) scale(1,1)\"><rect fill=\"#ffffff\" height=\"60\" stroke=\"none\" width=\"179.13623046875\" x=\"1312\" y=\"952\"/></g><g transform=\"translate(-454,-326) scale(1,1)\"><path d=\"M 1312 952 L 1491.13623046875 952 L 1491.13623046875 1012 L 1312 1012 L 1312 952 Z Z\" fill=\"none\" stroke=\"#000000\" stroke-miterlimit=\"10\"/></g><g transform=\"translate(-454,-326) scale(1,1)\"><path d=\"M 1312 990 L 1491.13623046875 990\" fill=\"none\" stroke=\"#000000\" stroke-miterlimit=\"10\"/></g><g transform=\"translate(-454,-326) scale(1,1)\"><g><path fill=\"none\" stroke=\"none\"/><text fill=\"#000000\" font-family=\"Arial\" font-size=\"13px\" font-style=\"normal\" font-weight=\"normal\" stroke=\"none\" text-decoration=\"none\" x=\"1367.568115234375\" y=\"969.5\">«dataType»</text></g></g><g transform=\"translate(-454,-326) scale(1,1)\"><g><path fill=\"none\" stroke=\"none\"/><text fill=\"#000000\" font-family=\"Arial\" font-size=\"13px\" font-style=\"normal\" font-weight=\"bold\" stroke=\"none\" text-decoration=\"none\" x=\"1391.068115234375\" y=\"984.5\">ops</text></g></g><g transform=\"translate(-454,-326) scale(1,1)\"><g><path fill=\"none\" stroke=\"none\"/><text fill=\"#000000\" font-family=\"Arial\" font-size=\"13px\" font-style=\"normal\" font-weight=\"normal\" stroke=\"none\" text-decoration=\"none\" x=\"1317\" y=\"1007.5\">+get_gradient_function(op)</text></g></g><g transform=\"translate(-454,-326) scale(1,1)\"><rect fill=\"#C0C0C0\" height=\"60\" opacity=\"0.2\" stroke=\"none\" width=\"136.6005859375\" x=\"1079\" y=\"343\"/></g><g transform=\"translate(-454,-326) scale(1,1)\"><rect fill=\"#ffffff\" height=\"60\" stroke=\"none\" width=\"136.6005859375\" x=\"1072\" y=\"336\"/></g><g transform=\"translate(-454,-326) scale(1,1)\"><path d=\"M 1072 336 L 1208.6005859375 336 L 1208.6005859375 396 L 1072 396 L 1072 336 Z Z\" fill=\"none\" stroke=\"#000000\" stroke-miterlimit=\"10\"/></g><g transform=\"translate(-454,-326) scale(1,1)\"><path d=\"M 1072 374 L 1208.6005859375 374\" fill=\"none\" stroke=\"#000000\" stroke-miterlimit=\"10\"/></g><g transform=\"translate(-454,-326) scale(1,1)\"><g><path fill=\"none\" stroke=\"none\"/><text fill=\"#000000\" font-family=\"Arial\" font-size=\"13px\" font-style=\"normal\" font-weight=\"normal\" stroke=\"none\" text-decoration=\"none\" x=\"1106.30029296875\" y=\"353.5\">«dataType»</text></g></g><g transform=\"translate(-454,-326) scale(1,1)\"><g><path fill=\"none\" stroke=\"none\"/><text fill=\"#000000\" font-family=\"Arial\" font-size=\"13px\" font-style=\"normal\" font-weight=\"bold\" stroke=\"none\" text-decoration=\"none\" x=\"1100.80029296875\" y=\"368.5\">math_grad.py</text></g></g><g transform=\"translate(-454,-326) scale(1,1)\"><g><path fill=\"none\" stroke=\"none\"/><text fill=\"#000000\" font-family=\"Arial\" font-size=\"13px\" font-style=\"normal\" font-weight=\"normal\" stroke=\"none\" text-decoration=\"none\" x=\"1077\" y=\"391.5\">+_AbsGrad(op, grad)</text></g></g><g transform=\"translate(-454,-326) scale(1,1)\"><rect fill=\"#C0C0C0\" height=\"60\" opacity=\"0.2\" stroke=\"none\" width=\"309.802734375\" x=\"959\" y=\"2199\"/></g><g transform=\"translate(-454,-326) scale(1,1)\"><rect fill=\"#ffffff\" height=\"60\" stroke=\"none\" width=\"309.802734375\" x=\"952\" y=\"2192\"/></g><g transform=\"translate(-454,-326) scale(1,1)\"><path d=\"M 952 2192 L 1261.802734375 2192 L 1261.802734375 2252 L 952 2252 L 952 2192 Z Z\" fill=\"none\" stroke=\"#000000\" stroke-miterlimit=\"10\"/></g><g transform=\"translate(-454,-326) scale(1,1)\"><path d=\"M 952 2230 L 1261.802734375 2230\" fill=\"none\" stroke=\"#000000\" stroke-miterlimit=\"10\"/></g><g transform=\"translate(-454,-326) scale(1,1)\"><g><path fill=\"none\" stroke=\"none\"/><text fill=\"#000000\" font-family=\"Arial\" font-size=\"13px\" font-style=\"normal\" font-weight=\"normal\" stroke=\"none\" text-decoration=\"none\" x=\"1072.9013671875\" y=\"2209.5\">«dataType»</text></g></g><g transform=\"translate(-454,-326) scale(1,1)\"><g><path fill=\"none\" stroke=\"none\"/><text fill=\"#000000\" font-family=\"Arial\" font-size=\"13px\" font-style=\"normal\" font-weight=\"bold\" stroke=\"none\" text-decoration=\"none\" x=\"1058.4013671875\" y=\"2224.5\">cc math_grad.cc</text></g></g><g transform=\"translate(-454,-326) scale(1,1)\"><g><path fill=\"none\" stroke=\"none\"/><text fill=\"#000000\" font-family=\"Arial\" font-size=\"13px\" font-style=\"normal\" font-weight=\"normal\" stroke=\"none\" text-decoration=\"none\" x=\"957\" y=\"2247.5\">+AbsGrad(scope, op, grad_inputs, grad_outputs)</text></g></g><g transform=\"translate(-454,-326) scale(1,1)\"><rect fill=\"#C0C0C0\" height=\"100\" opacity=\"0.2\" stroke=\"none\" width=\"364\" x=\"1543\" y=\"2175\"/></g><g transform=\"translate(-454,-326) scale(1,1)\"><rect fill=\"#ffffff\" height=\"100\" stroke=\"none\" width=\"364\" x=\"1536\" y=\"2168\"/></g><g transform=\"translate(-454,-326) scale(1,1)\"><path d=\"M 1536 2168 L 1900 2168 L 1900 2268 L 1536 2268 L 1536 2168 Z Z\" fill=\"none\" stroke=\"#000000\" stroke-miterlimit=\"10\"/></g><g transform=\"translate(-454,-326) scale(1,1)\"><path d=\"M 1536 2206 L 1900 2206\" fill=\"none\" stroke=\"#000000\" stroke-miterlimit=\"10\"/></g><g transform=\"translate(-454,-326) scale(1,1)\"><path d=\"M 1536 2216 L 1900 2216\" fill=\"none\" stroke=\"#000000\" stroke-miterlimit=\"10\"/></g><g transform=\"translate(-454,-326) scale(1,1)\"><g><path fill=\"none\" stroke=\"none\"/><text fill=\"#000000\" font-family=\"Arial\" font-size=\"13px\" font-style=\"normal\" font-weight=\"normal\" stroke=\"none\" text-decoration=\"none\" x=\"1684\" y=\"2185.5\">«dataType»</text></g></g><g transform=\"translate(-454,-326) scale(1,1)\"><g><path fill=\"none\" stroke=\"none\"/><text fill=\"#000000\" font-family=\"Arial\" font-size=\"13px\" font-style=\"normal\" font-weight=\"bold\" stroke=\"none\" text-decoration=\"none\" x=\"1664.5\" y=\"2200.5\">grad_op_registry.h</text></g></g><g transform=\"translate(-454,-326) scale(1,1)\"><g><path fill=\"none\" stroke=\"none\"/><text fill=\"#000000\" font-family=\"Arial\" font-size=\"13px\" font-style=\"normal\" font-weight=\"normal\" stroke=\"none\" text-decoration=\"none\" x=\"1541\" y=\"2233.5\">+REGISTER_GRADIENT_OP(name, fn)</text></g></g><g transform=\"translate(-454,-326) scale(1,1)\"><g><path fill=\"none\" stroke=\"none\"/><text fill=\"#000000\" font-family=\"Arial\" font-size=\"13px\" font-style=\"normal\" font-weight=\"normal\" stroke=\"none\" text-decoration=\"none\" x=\"1541\" y=\"2248.5\">+REGISTER_GRADIENT_OP_UNIQ_HELPER(ctr, name, fn)</text></g></g><g transform=\"translate(-454,-326) scale(1,1)\"><g><path fill=\"none\" stroke=\"none\"/><text fill=\"#000000\" font-family=\"Arial\" font-size=\"13px\" font-style=\"normal\" font-weight=\"normal\" stroke=\"none\" text-decoration=\"none\" x=\"1541\" y=\"2263.5\">+REGISTER_GRADIENT_OP_UNIQ(ctr, name, fn)</text></g></g><g transform=\"translate(-454,-326) scale(1,1)\"><rect fill=\"#C0C0C0\" height=\"72\" opacity=\"0.2\" stroke=\"none\" width=\"135.953125\" x=\"1351\" y=\"1119\"/></g><g transform=\"translate(-454,-326) scale(1,1)\"><rect fill=\"#ffffff\" height=\"72\" stroke=\"none\" width=\"135.953125\" x=\"1344\" y=\"1112\"/></g><g transform=\"translate(-454,-326) scale(1,1)\"><path d=\"M 1344 1112 L 1479.953125 1112 L 1479.953125 1184 L 1344 1184 L 1344 1112 Z Z\" fill=\"none\" stroke=\"#000000\" stroke-miterlimit=\"10\"/></g><g transform=\"translate(-454,-326) scale(1,1)\"><path d=\"M 1344 1137 L 1479.953125 1137\" fill=\"none\" stroke=\"#000000\" stroke-miterlimit=\"10\"/></g><g transform=\"translate(-454,-326) scale(1,1)\"><path d=\"M 1344 1175 L 1479.953125 1175\" fill=\"none\" stroke=\"#000000\" stroke-miterlimit=\"10\"/></g><g transform=\"translate(-454,-326) scale(1,1)\"><g><path fill=\"none\" stroke=\"none\"/><text fill=\"#000000\" font-family=\"Arial\" font-size=\"13px\" font-style=\"normal\" font-weight=\"bold\" stroke=\"none\" text-decoration=\"none\" x=\"1394.9765625\" y=\"1131.5\">Defun</text></g></g><g transform=\"translate(-454,-326) scale(1,1)\"><g><path fill=\"none\" stroke=\"none\"/><text fill=\"#000000\" font-family=\"Arial\" font-size=\"13px\" font-style=\"normal\" font-weight=\"normal\" stroke=\"none\" text-decoration=\"none\" x=\"1349\" y=\"1154.5\">+_grad_func</text></g></g><g transform=\"translate(-454,-326) scale(1,1)\"><g><path fill=\"none\" stroke=\"none\"/><text fill=\"#000000\" font-family=\"Arial\" font-size=\"13px\" font-style=\"normal\" font-weight=\"normal\" stroke=\"none\" text-decoration=\"none\" x=\"1349\" y=\"1169.5\">+_python_grad_func</text></g></g><g transform=\"translate(-454,-326) scale(1,1)\"><path d=\"M 1444 951 L 1605 836\" fill=\"none\" stroke=\"#000000\" stroke-miterlimit=\"10\"/></g><g transform=\"translate(-454,-326) scale(1,1)\"><path d=\"M 1599.1770238082952 845.3323602733092 L 1605 836 L 1594.2835588144249 838.4815092818907\" fill=\"none\" stroke=\"#000000\" stroke-miterlimit=\"10\"/></g><g transform=\"translate(-454,-326) scale(1,1)\"><rect fill=\"#C0C0C0\" height=\"60\" opacity=\"0.2\" stroke=\"none\" width=\"140.58740234375\" x=\"1351\" y=\"1295\"/></g><g transform=\"translate(-454,-326) scale(1,1)\"><rect fill=\"#ffffff\" height=\"60\" stroke=\"none\" width=\"140.58740234375\" x=\"1344\" y=\"1288\"/></g><g transform=\"translate(-454,-326) scale(1,1)\"><path d=\"M 1344 1288 L 1484.58740234375 1288 L 1484.58740234375 1348 L 1344 1348 L 1344 1288 Z Z\" fill=\"none\" stroke=\"#000000\" stroke-miterlimit=\"10\"/></g><g transform=\"translate(-454,-326) scale(1,1)\"><path d=\"M 1344 1326 L 1484.58740234375 1326\" fill=\"none\" stroke=\"#000000\" stroke-miterlimit=\"10\"/></g><g transform=\"translate(-454,-326) scale(1,1)\"><g><path fill=\"none\" stroke=\"none\"/><text fill=\"#000000\" font-family=\"Arial\" font-size=\"13px\" font-style=\"normal\" font-weight=\"normal\" stroke=\"none\" text-decoration=\"none\" x=\"1380.293701171875\" y=\"1305.5\">«dataType»</text></g></g><g transform=\"translate(-454,-326) scale(1,1)\"><g><path fill=\"none\" stroke=\"none\"/><text fill=\"#000000\" font-family=\"Arial\" font-size=\"13px\" font-style=\"normal\" font-weight=\"bold\" stroke=\"none\" text-decoration=\"none\" x=\"1358.293701171875\" y=\"1320.5\">gen_functional_ops</text></g></g><g transform=\"translate(-454,-326) scale(1,1)\"><g><path fill=\"none\" stroke=\"none\"/><text fill=\"#000000\" font-family=\"Arial\" font-size=\"13px\" font-style=\"normal\" font-weight=\"normal\" stroke=\"none\" text-decoration=\"none\" x=\"1349\" y=\"1343.5\">+symbolic_gradient()</text></g></g><g transform=\"translate(-454,-326) scale(1,1)\"><rect fill=\"#C0C0C0\" height=\"60\" opacity=\"0.2\" stroke=\"none\" width=\"126.44482421875\" x=\"1671\" y=\"1295\"/></g><g transform=\"translate(-454,-326) scale(1,1)\"><rect fill=\"#ffffff\" height=\"60\" stroke=\"none\" width=\"126.44482421875\" x=\"1664\" y=\"1288\"/></g><g transform=\"translate(-454,-326) scale(1,1)\"><path d=\"M 1664 1288 L 1790.44482421875 1288 L 1790.44482421875 1348 L 1664 1348 L 1664 1288 Z Z\" fill=\"none\" stroke=\"#000000\" stroke-miterlimit=\"10\"/></g><g transform=\"translate(-454,-326) scale(1,1)\"><path d=\"M 1664 1326 L 1790.44482421875 1326\" fill=\"none\" stroke=\"#000000\" stroke-miterlimit=\"10\"/></g><g transform=\"translate(-454,-326) scale(1,1)\"><g><path fill=\"none\" stroke=\"none\"/><text fill=\"#000000\" font-family=\"Arial\" font-size=\"13px\" font-style=\"normal\" font-weight=\"normal\" stroke=\"none\" text-decoration=\"none\" x=\"1693.222412109375\" y=\"1305.5\">«dataType»</text></g></g><g transform=\"translate(-454,-326) scale(1,1)\"><g><path fill=\"none\" stroke=\"none\"/><text fill=\"#000000\" font-family=\"Arial\" font-size=\"13px\" font-style=\"normal\" font-weight=\"bold\" stroke=\"none\" text-decoration=\"none\" x=\"1676.222412109375\" y=\"1320.5\">functional_ops.cc</text></g></g><g transform=\"translate(-454,-326) scale(1,1)\"><g><path fill=\"none\" stroke=\"none\"/><text fill=\"#000000\" font-family=\"Arial\" font-size=\"13px\" font-style=\"normal\" font-weight=\"normal\" stroke=\"none\" text-decoration=\"none\" x=\"1669\" y=\"1343.5\">+SymbolicGradient</text></g></g><g transform=\"translate(-454,-326) scale(1,1)\"><rect fill=\"#C0C0C0\" height=\"72\" opacity=\"0.2\" stroke=\"none\" width=\"320.95556640625\" x=\"1567\" y=\"1911\"/></g><g transform=\"translate(-454,-326) scale(1,1)\"><rect fill=\"#ffffff\" height=\"72\" stroke=\"none\" width=\"320.95556640625\" x=\"1560\" y=\"1904\"/></g><g transform=\"translate(-454,-326) scale(1,1)\"><path d=\"M 1560 1904 L 1880.95556640625 1904 L 1880.95556640625 1976 L 1560 1976 L 1560 1904 Z Z\" fill=\"none\" stroke=\"#000000\" stroke-miterlimit=\"10\"/></g><g transform=\"translate(-454,-326) scale(1,1)\"><path d=\"M 1560 1929 L 1880.95556640625 1929\" fill=\"none\" stroke=\"#000000\" stroke-miterlimit=\"10\"/></g><g transform=\"translate(-454,-326) scale(1,1)\"><path d=\"M 1560 1939 L 1880.95556640625 1939\" fill=\"none\" stroke=\"#000000\" stroke-miterlimit=\"10\"/></g><g transform=\"translate(-454,-326) scale(1,1)\"><g><path fill=\"none\" stroke=\"none\"/><text fill=\"#000000\" font-family=\"Arial\" font-size=\"13px\" font-style=\"normal\" font-weight=\"bold\" stroke=\"none\" text-decoration=\"none\" x=\"1648.977783203125\" y=\"1923.5\">SymbolicGradientBuilder</text></g></g><g transform=\"translate(-454,-326) scale(1,1)\"><g><path fill=\"none\" stroke=\"none\"/><text fill=\"#000000\" font-family=\"Arial\" font-size=\"13px\" font-style=\"normal\" font-weight=\"normal\" stroke=\"none\" text-decoration=\"none\" x=\"1565\" y=\"1956.5\">+AddGradients()</text></g></g><g transform=\"translate(-454,-326) scale(1,1)\"><g><path fill=\"none\" stroke=\"none\"/><text fill=\"#000000\" font-family=\"Arial\" font-size=\"13px\" font-style=\"normal\" font-weight=\"normal\" stroke=\"none\" text-decoration=\"none\" x=\"1565\" y=\"1971.5\">+CallGradFunction(op, grad_inputs, grad_outputs)</text></g></g><g transform=\"translate(-454,-326) scale(1,1)\"><path d=\"M 1263 2221 L 1535 2219\" fill=\"none\" stroke=\"#000000\" stroke-miterlimit=\"10\"/></g><g transform=\"translate(-454,-326) scale(1,1)\"><path d=\"M 1524.8685513572693 2223.284127495735 L 1535 2219 L 1524.80664835778 2214.8653195651837 L 1513.0005946990689 2219.161760333095\" fill=\"#000000\" stroke=\"none\"/></g><g transform=\"translate(-454,-326) scale(1,1)\"><path d=\"M 1524.8685513572693 2223.284127495735 L 1535 2219 L 1524.80664835778 2214.8653195651837 L 1513.0005946990689 2219.161760333095 L 1524.8685513572693 2223.284127495735\" fill=\"none\" stroke=\"#000000\" stroke-miterlimit=\"10\"/></g><g transform=\"translate(-454,-326) scale(1,1)\"><path d=\"M 1720 1977 L 1718 2167\" fill=\"none\" stroke=\"#000000\" stroke-miterlimit=\"10\"/></g><g transform=\"translate(-454,-326) scale(1,1)\"><path d=\"M 1713.897685037573 2156.793579866131 L 1718 2167 L 1722.3162541598024 2156.882196383207\" fill=\"none\" stroke=\"#000000\" stroke-miterlimit=\"10\"/></g><g transform=\"translate(-454,-326) scale(1,1)\"><path d=\"M 1486 1318 L 1663 1318\" fill=\"none\" stroke=\"#000000\" stroke-miterlimit=\"10\"/></g><g transform=\"translate(-454,-326) scale(1,1)\"><path d=\"M 1652.837325142376 1322.2095177560159 L 1663 1318 L 1652.837325142376 1313.7904822439841\" fill=\"none\" stroke=\"#000000\" stroke-miterlimit=\"10\"/></g><g transform=\"translate(-454,-326) scale(1,1)\"><path d=\"M 807 1148 L 983 1149\" fill=\"none\" stroke=\"#000000\" stroke-miterlimit=\"10\"/></g><g transform=\"translate(-454,-326) scale(1,1)\"><path d=\"M 972.8135718510506 1153.1517082708558 L 983 1149 L 972.861406507978 1144.7328086516388\" fill=\"none\" stroke=\"#000000\" stroke-miterlimit=\"10\"/></g><g transform=\"translate(-454,-326) scale(1,1)\"><path d=\"M 1163 1103 L 1340 1013\" fill=\"none\" stroke=\"#000000\" stroke-miterlimit=\"10\"/></g><g transform=\"translate(-454,-326) scale(1,1)\"><path d=\"M 1332.8490926808488 1021.3585001353657 L 1340 1013 L 1329.033192816726 1013.8538970692574\" fill=\"none\" stroke=\"#000000\" stroke-miterlimit=\"10\"/></g><g transform=\"translate(-454,-326) scale(1,1)\"><path d=\"M 1163 1149 L 1343 1148\" fill=\"none\" stroke=\"#000000\" stroke-miterlimit=\"10\"/></g><g transform=\"translate(-454,-326) scale(1,1)\"><path d=\"M 1332.8608678190135 1152.2659112293252 L 1343 1148 L 1332.814096121282 1143.8470056376732\" fill=\"none\" stroke=\"#000000\" stroke-miterlimit=\"10\"/></g><g transform=\"translate(-454,-326) scale(1,1)\"><path d=\"M 1163 1194 L 1351 1287\" fill=\"none\" stroke=\"#000000\" stroke-miterlimit=\"10\"/></g><g transform=\"translate(-454,-326) scale(1,1)\"><path d=\"M 1340.0244482135172 1286.2670177476668 L 1351 1287 L 1343.757409625628 1278.7208161833998\" fill=\"none\" stroke=\"#000000\" stroke-miterlimit=\"10\"/></g><g transform=\"translate(-454,-326) scale(1,1)\"><path d=\"M 1210 367 L 1607 371\" fill=\"none\" stroke=\"#000000\" stroke-miterlimit=\"10\"/></g><g transform=\"translate(-454,-326) scale(1,1)\"><path d=\"M 1596.7954298209988 375.106914591496 L 1607 371 L 1596.8802520699335 366.6883063847351\" fill=\"none\" stroke=\"#000000\" stroke-miterlimit=\"10\"/></g><g transform=\"translate(-454,-326) scale(1,1)\"><rect fill=\"#C0C0C0\" height=\"60\" opacity=\"0.2\" stroke=\"none\" width=\"166\" x=\"2087\" y=\"1919\"/></g><g transform=\"translate(-454,-326) scale(1,1)\"><rect fill=\"#ffffff\" height=\"60\" stroke=\"none\" width=\"166\" x=\"2080\" y=\"1912\"/></g><g transform=\"translate(-454,-326) scale(1,1)\"><path d=\"M 2080 1912 L 2246 1912 L 2246 1972 L 2080 1972 L 2080 1912 Z Z\" fill=\"none\" stroke=\"#000000\" stroke-miterlimit=\"10\"/></g><g transform=\"translate(-454,-326) scale(1,1)\"><path d=\"M 2080 1950 L 2246 1950\" fill=\"none\" stroke=\"#000000\" stroke-miterlimit=\"10\"/></g><g transform=\"translate(-454,-326) scale(1,1)\"><g><path fill=\"none\" stroke=\"none\"/><text fill=\"#000000\" font-family=\"Arial\" font-size=\"13px\" font-style=\"normal\" font-weight=\"normal\" stroke=\"none\" text-decoration=\"none\" x=\"2129\" y=\"1929.5\">«dataType»</text></g></g><g transform=\"translate(-454,-326) scale(1,1)\"><g><path fill=\"none\" stroke=\"none\"/><text fill=\"#000000\" font-family=\"Arial\" font-size=\"13px\" font-style=\"normal\" font-weight=\"bold\" stroke=\"none\" text-decoration=\"none\" x=\"2090\" y=\"1944.5\">cc framework gradients.h</text></g></g><g transform=\"translate(-454,-326) scale(1,1)\"><g><path fill=\"none\" stroke=\"none\"/><text fill=\"#000000\" font-family=\"Arial\" font-size=\"13px\" font-style=\"normal\" font-weight=\"normal\" stroke=\"none\" text-decoration=\"none\" x=\"2085\" y=\"1967.5\">+AddSymbolicGradients()</text></g></g><g transform=\"translate(-454,-326) scale(1,1)\"><rect fill=\"#C0C0C0\" height=\"85\" opacity=\"0.2\" stroke=\"none\" width=\"195\" x=\"2071\" y=\"1519\"/></g><g transform=\"translate(-454,-326) scale(1,1)\"><rect fill=\"#ffffff\" height=\"85\" stroke=\"none\" width=\"195\" x=\"2064\" y=\"1512\"/></g><g transform=\"translate(-454,-326) scale(1,1)\"><path d=\"M 2064 1512 L 2259 1512 L 2259 1597 L 2064 1597 L 2064 1512 Z Z\" fill=\"none\" stroke=\"#000000\" stroke-miterlimit=\"10\"/></g><g transform=\"translate(-454,-326) scale(1,1)\"><path d=\"M 2064 1537 L 2259 1537\" fill=\"none\" stroke=\"#000000\" stroke-miterlimit=\"10\"/></g><g transform=\"translate(-454,-326) scale(1,1)\"><path d=\"M 2064 1560 L 2259 1560\" fill=\"none\" stroke=\"#000000\" stroke-miterlimit=\"10\"/></g><g transform=\"translate(-454,-326) scale(1,1)\"><g><path fill=\"none\" stroke=\"none\"/><text fill=\"#000000\" font-family=\"Arial\" font-size=\"13px\" font-style=\"normal\" font-weight=\"bold\" stroke=\"none\" text-decoration=\"none\" x=\"2079\" y=\"1531.5\">comment_runtime function.h</text></g></g><g transform=\"translate(-454,-326) scale(1,1)\"><g><path fill=\"none\" stroke=\"none\"/><text fill=\"#000000\" font-family=\"Arial\" font-size=\"13px\" font-style=\"normal\" font-weight=\"normal\" stroke=\"none\" text-decoration=\"none\" x=\"2069\" y=\"1554.5\">+FunctionLibraryRuntime</text></g></g><g transform=\"translate(-454,-326) scale(1,1)\"><g><path fill=\"none\" stroke=\"none\"/><text fill=\"#000000\" font-family=\"Arial\" font-size=\"13px\" font-style=\"normal\" font-weight=\"normal\" stroke=\"none\" text-decoration=\"none\" x=\"2069\" y=\"1577.5\">+SymbolicGradient()</text></g></g><g transform=\"translate(-454,-326) scale(1,1)\"><g><path fill=\"none\" stroke=\"none\"/><text fill=\"#000000\" font-family=\"Arial\" font-size=\"13px\" font-style=\"normal\" font-weight=\"normal\" stroke=\"none\" text-decoration=\"none\" x=\"2069\" y=\"1592.5\">+NewFunctionLibraryRuntime()</text></g></g><g transform=\"translate(-454,-326) scale(1,1)\"><rect fill=\"#C0C0C0\" height=\"57\" opacity=\"0.2\" stroke=\"none\" width=\"161\" x=\"2087\" y=\"1735\"/></g><g transform=\"translate(-454,-326) scale(1,1)\"><rect fill=\"#ffffff\" height=\"57\" stroke=\"none\" width=\"161\" x=\"2080\" y=\"1728\"/></g><g transform=\"translate(-454,-326) scale(1,1)\"><path d=\"M 2080 1728 L 2241 1728 L 2241 1785 L 2080 1785 L 2080 1728 Z Z\" fill=\"none\" stroke=\"#000000\" stroke-miterlimit=\"10\"/></g><g transform=\"translate(-454,-326) scale(1,1)\"><path d=\"M 2080 1753 L 2241 1753\" fill=\"none\" stroke=\"#000000\" stroke-miterlimit=\"10\"/></g><g transform=\"translate(-454,-326) scale(1,1)\"><path d=\"M 2080 1763 L 2241 1763\" fill=\"none\" stroke=\"#000000\" stroke-miterlimit=\"10\"/></g><g transform=\"translate(-454,-326) scale(1,1)\"><g><path fill=\"none\" stroke=\"none\"/><text fill=\"#000000\" font-family=\"Arial\" font-size=\"13px\" font-style=\"normal\" font-weight=\"bold\" stroke=\"none\" text-decoration=\"none\" x=\"2090.5\" y=\"1747.5\">SymbolicGradientHelper</text></g></g><g transform=\"translate(-454,-326) scale(1,1)\"><g><path fill=\"none\" stroke=\"none\"/><text fill=\"#000000\" font-family=\"Arial\" font-size=\"13px\" font-style=\"normal\" font-weight=\"normal\" stroke=\"none\" text-decoration=\"none\" x=\"2085\" y=\"1780.5\">+Compute()</text></g></g><g transform=\"translate(-454,-326) scale(1,1)\"><rect fill=\"#C0C0C0\" height=\"128\" opacity=\"0.2\" stroke=\"none\" width=\"192\" x=\"2071\" y=\"1263\"/></g><g transform=\"translate(-454,-326) scale(1,1)\"><rect fill=\"#ffffff\" height=\"128\" stroke=\"none\" width=\"192\" x=\"2064\" y=\"1256\"/></g><g transform=\"translate(-454,-326) scale(1,1)\"><path d=\"M 2064 1256 L 2256 1256 L 2256 1384 L 2064 1384 L 2064 1256 Z Z\" fill=\"none\" stroke=\"#000000\" stroke-miterlimit=\"10\"/></g><g transform=\"translate(-454,-326) scale(1,1)\"><path d=\"M 2064 1294 L 2256 1294\" fill=\"none\" stroke=\"#000000\" stroke-miterlimit=\"10\"/></g><g transform=\"translate(-454,-326) scale(1,1)\"><path d=\"M 2064 1347 L 2256 1347\" fill=\"none\" stroke=\"#000000\" stroke-miterlimit=\"10\"/></g><g transform=\"translate(-454,-326) scale(1,1)\"><g><path fill=\"none\" stroke=\"none\"/><text fill=\"#000000\" font-family=\"Arial\" font-size=\"13px\" font-style=\"normal\" font-weight=\"normal\" stroke=\"none\" text-decoration=\"none\" x=\"2126\" y=\"1273.5\">«dataType»</text></g></g><g transform=\"translate(-454,-326) scale(1,1)\"><g><path fill=\"none\" stroke=\"none\"/><text fill=\"#000000\" font-family=\"Arial\" font-size=\"13px\" font-style=\"normal\" font-weight=\"bold\" stroke=\"none\" text-decoration=\"none\" x=\"2096\" y=\"1288.5\">framework function.cc</text></g></g><g transform=\"translate(-454,-326) scale(1,1)\"><g><path fill=\"none\" stroke=\"none\"/><text fill=\"#000000\" font-family=\"Arial\" font-size=\"13px\" font-style=\"normal\" font-weight=\"normal\" stroke=\"none\" text-decoration=\"none\" x=\"2069\" y=\"1311.5\">+OpGradFactory</text></g></g><g transform=\"translate(-454,-326) scale(1,1)\"><g><path fill=\"none\" stroke=\"none\"/><text fill=\"#000000\" font-family=\"Arial\" font-size=\"13px\" font-style=\"normal\" font-weight=\"normal\" stroke=\"none\" text-decoration=\"none\" x=\"2069\" y=\"1326.5\">+FunctionLibraryRuntime</text></g></g><g transform=\"translate(-454,-326) scale(1,1)\"><g><path fill=\"none\" stroke=\"none\"/><text fill=\"#000000\" font-family=\"Arial\" font-size=\"13px\" font-style=\"normal\" font-weight=\"normal\" stroke=\"none\" text-decoration=\"none\" x=\"2069\" y=\"1341.5\">+FunctionLibraryDefinition</text></g></g><g transform=\"translate(-454,-326) scale(1,1)\"><g><path fill=\"none\" stroke=\"none\"/><text fill=\"#000000\" font-family=\"Arial\" font-size=\"13px\" font-style=\"normal\" font-weight=\"normal\" stroke=\"none\" text-decoration=\"none\" x=\"2069\" y=\"1364.5\">+REGISTER_OP_GRADIENT()</text></g></g><g transform=\"translate(-454,-326) scale(1,1)\"><g><path fill=\"none\" stroke=\"none\"/><text fill=\"#000000\" font-family=\"Arial\" font-size=\"13px\" font-style=\"normal\" font-weight=\"normal\" stroke=\"none\" text-decoration=\"none\" x=\"2069\" y=\"1379.5\">+GetOpGradientCreator()</text></g></g><g transform=\"translate(-454,-326) scale(1,1)\"><rect fill=\"#C0C0C0\" height=\"44\" opacity=\"0.2\" stroke=\"none\" width=\"151\" x=\"2623\" y=\"1559\"/></g><g transform=\"translate(-454,-326) scale(1,1)\"><rect fill=\"#ffffff\" height=\"44\" stroke=\"none\" width=\"151\" x=\"2616\" y=\"1552\"/></g><g transform=\"translate(-454,-326) scale(1,1)\"><path d=\"M 2616 1552 L 2767 1552 L 2767 1596 L 2616 1596 L 2616 1552 Z Z\" fill=\"none\" stroke=\"#000000\" stroke-miterlimit=\"10\"/></g><g transform=\"translate(-454,-326) scale(1,1)\"><path d=\"M 2616 1577 L 2767 1577\" fill=\"none\" stroke=\"#000000\" stroke-miterlimit=\"10\"/></g><g transform=\"translate(-454,-326) scale(1,1)\"><path d=\"M 2616 1587 L 2767 1587\" fill=\"none\" stroke=\"#000000\" stroke-miterlimit=\"10\"/></g><g transform=\"translate(-454,-326) scale(1,1)\"><g><path fill=\"none\" stroke=\"none\"/><text fill=\"#000000\" font-family=\"Arial\" font-size=\"13px\" font-style=\"normal\" font-weight=\"bold\" stroke=\"none\" text-decoration=\"none\" x=\"2625\" y=\"1571.5\">core ops math_grad.cc</text></g></g><g transform=\"translate(-454,-326) scale(1,1)\"><path d=\"M 2079 1942 L 1882 1941\" fill=\"none\" stroke=\"#000000\" stroke-miterlimit=\"10\"/></g><g transform=\"translate(-454,-326) scale(1,1)\"><path d=\"M 1892.183911763364 1936.842122994121 L 1882 1941 L 1892.1411760930769 1945.2610500406834\" fill=\"none\" stroke=\"#000000\" stroke-miterlimit=\"10\"/></g><g transform=\"translate(-454,-326) scale(1,1)\"><path d=\"M 2160 1786 L 2163 1911\" fill=\"none\" stroke=\"#000000\" stroke-miterlimit=\"10\"/></g><g transform=\"translate(-454,-326) scale(1,1)\"><path d=\"M 2158.547860079112 1900.9412500714632 L 2163 1911 L 2166.964471955877 1900.7392513864208\" fill=\"none\" stroke=\"#000000\" stroke-miterlimit=\"10\"/></g><g transform=\"translate(-454,-326) scale(1,1)\"><path d=\"M 2643 1551 L 2257 1366\" fill=\"none\" stroke=\"#000000\" stroke-miterlimit=\"10\"/></g><g transform=\"translate(-454,-326) scale(1,1)\"><path d=\"M 2267.9838283541953 1366.5962505224968 L 2257 1366 L 2264.345126724897 1374.1883523003842\" fill=\"none\" stroke=\"#000000\" stroke-miterlimit=\"10\"/></g><g transform=\"translate(-454,-326) scale(1,1)\"><path d=\"M 2161 1598 L 2160 1727\" fill=\"none\" stroke=\"#000000\" stroke-miterlimit=\"10\"/></g><g transform=\"translate(-454,-326) scale(1,1)\"><path d=\"M 2155.869386776898 1716.8049995389342 L 2160 1727 L 2164.2881693397053 1716.870261419266\" fill=\"none\" stroke=\"#000000\" stroke-miterlimit=\"10\"/></g><g transform=\"translate(-454,-326) scale(1,1)\"><path d=\"M 2160 1385 L 2161 1511\" fill=\"none\" stroke=\"#000000\" stroke-miterlimit=\"10\"/></g><g transform=\"translate(-454,-326) scale(1,1)\"><path d=\"M 2156.7099612030142 1500.87105301029 L 2161 1511 L 2165.128731577801 1500.804237372395\" fill=\"none\" stroke=\"#000000\" stroke-miterlimit=\"10\"/></g><g transform=\"translate(-454,-326) scale(1,1)\"><path d=\"M 1791 1318 L 2063 1320\" fill=\"none\" stroke=\"#000000\" stroke-miterlimit=\"10\"/></g><g transform=\"translate(-454,-326) scale(1,1)\"><path d=\"M 2052.80664835778 1324.1346804348161 L 2063 1320 L 2052.8685513572696 1315.715872504265\" fill=\"none\" stroke=\"#000000\" stroke-miterlimit=\"10\"/></g></g></svg>"
      ],
      "text/plain": [
       "<IPython.core.display.SVG object>"
      ]
     },
     "execution_count": 2,
     "metadata": {},
     "output_type": "execute_result"
    }
   ],
   "source": [
    "SVG('./res/tf_gradients.svg')"
   ]
  },
  {
   "cell_type": "markdown",
   "metadata": {},
   "source": [
    "我们一般是在python端调用`tf.gradients`显式计算梯度。这个方法会从子图的末端算子往前回溯，并同时查询每个算子注册的梯度，串接起来。所以，在TensorFlow中，使用的都是解析梯度，而只有在梯度单元测试中，才会用数值梯度来做校验。详细说明可见[does-tensorflow-use-automatic-or-symbolic-gradients](https://stackoverflow.com/questions/36370129/does-tensorflow-use-automatic-or-symbolic-gradients)"
   ]
  },
  {
   "cell_type": "markdown",
   "metadata": {},
   "source": [
    "### 1 如何写Gradient函数\n",
    "\n",
    "官方有说明文档，见 [Implement the gradient in Python](https://www.tensorflow.org/extend/adding_an_op#implement_the_gradient_in_pythoN) 。这里就不赘述，举几个实际例子方便理解。"
   ]
  },
  {
   "cell_type": "markdown",
   "metadata": {},
   "source": [
    "##### 1.1 SquareGrad\n",
    "\n",
    "第一类是最常见的实现形式，在Python和C++各自独立实现同样逻辑。\n",
    "\n",
    "以平方算子为例，$y = x ^ 2$，它的梯度是$dy / dx = 2x$。反向传播时要带上后级梯度，所以结果是$dL / dx = \\text{grad} * 2 x$。\n",
    "\n",
    "+ Python侧代码如下：\n",
    "\n",
    "    ```python\n",
    "    @ops.RegisterGradient(\"Square\")\n",
    "    def _SquareGrad(op, grad):\n",
    "      x = op.inputs[0]\n",
    "      # Added control dependencies to prevent 2*x from being computed too early.\n",
    "      with ops.control_dependencies([grad]):\n",
    "        x = math_ops.conj(x)\n",
    "        y = constant_op.constant(2.0, dtype=x.dtype)\n",
    "        return math_ops.multiply(grad, math_ops.multiply(x, y))\n",
    "    ```\n",
    "\n",
    "+ C++侧代码如下：\n",
    "\n",
    "    ```cpp\n",
    "    Status SquareGrad(const Scope& scope, const Operation& op,\n",
    "                      const std::vector<Output>& grad_inputs,\n",
    "                      std::vector<Output>* grad_outputs) {\n",
    "      // dy/dx = (2 * x)\n",
    "      auto two = Cast(scope, Const(scope, 2), op.input(0).type());\n",
    "      auto dydx = Mul(scope, two, op.input(0));\n",
    "      // grad(x) = grad(y) * conj(dy/dx)\n",
    "      grad_outputs->push_back(\n",
    "          Mul(scope, grad_inputs[0], ConjugateHelper(scope, dydx)));\n",
    "      return scope.status();\n",
    "    }\n",
    "    REGISTER_GRADIENT_OP(\"Square\", SquareGrad);\n",
    "    ```\n",
    "    \n",
    "    附上些简要说明： \n",
    "    + `op.input`和`op.output`是`Square`输入x和输出y = x^2。\n",
    "    + `grad_inputs[0]`是反向传导的后级导数`dy`，其实是`dL/dy`的简写。\n",
    "    + 这个函数要计算`dx`，是`dy/dx`的简写, 结果是2 x。\n",
    "    + 返回结果写入`grad_outputs`里，`dL/dx = dL/dy * dy/dx`。\n",
    "\n",
    "    如果输入有多个`x = (x0, x1, ..., xn)`，要分别算对应的导数`[dL/dx0, dL/dx1, ... dL/dxn]`。\n",
    "\n",
    "\n",
    "代码比较简单，唯一会让人困惑的点，可能是我们如何知道`op.input`, `op.output`和`grad_inputs`各自对应的具体参数，下面细说下。\n",
    "\n",
    "##### 关于`op.input`和`op.output`\n",
    "\n",
    "其实这里输入输出对应的是算子的c++接口定义，一般我们可以在它的API定义(core/api_def/base_api/*.pbtxt)或者算子注册文件(core/ops/*.cc)里找到定义。更简单的方法，是调用程序，直接输出算子的定义，如下：\n",
    "\n",
    "```python\n",
    "In [28]: b = tf.square(a)     \n",
    "\n",
    "In [29]: b.op.op_def\n",
    "Out[29]:\n",
    "name: \"Square\"\n",
    "input_arg {\n",
    "  name: \"x\"\n",
    "  type_attr: \"T\"\n",
    "}\n",
    "output_arg {\n",
    "  name: \"y\"\n",
    "  type_attr: \"T\"\n",
    "}\n",
    "attr {\n",
    "  name: \"T\"\n",
    "  type: \"type\"\n",
    "  allowed_values {\n",
    "    list {\n",
    "      type: DT_HALF\n",
    "      type: DT_BFLOAT16\n",
    "      type: DT_FLOAT\n",
    "      type: DT_DOUBLE\n",
    "      type: DT_INT32\n",
    "      type: DT_INT64\n",
    "      type: DT_COMPLEX64\n",
    "      type: DT_COMPLEX128\n",
    "    }\n",
    "  }\n",
    "}\n",
    "```\n",
    "\n",
    "我们可以看到，对于Square算子，它只有一个输入$x$，和一个输出$y$，所以它的`op.input(0) = x`, `op.output(0) = y`。\n",
    "\n",
    "\n",
    "##### 关于`grad_inputs`\n",
    "\n",
    "这里其实是对应于后级输出`op.output`，有几个输出，每个输出就有一个梯度返回。对于Square算子，它只有一个输出，所以也只有一个`grad_inputs(0) = dL / dy`。"
   ]
  },
  {
   "cell_type": "markdown",
   "metadata": {},
   "source": [
    "##### 1.2 SqrtGrad\n",
    "\n",
    "第二类梯度是为了运算效率加速，把梯度本身实现成一个单独的算子，然后在C++和Python端调用同样的底层算子。\n",
    "\n",
    "以开方为例，$y = \\sqrt(x)$，它的梯度是$dy / dx = \\frac1{2} x ^{- \\frac1{2}} = 0.5 / y$。所以完整结果是$dL / dx = 0.5 * \\text{grad} / y$。\n",
    "\n",
    "这个算子首先在eigen名字空间下实现了梯度逻辑的kernel：\n",
    "```bash\n",
    "/core/kernels/cwise_ops.h: 含有Eigen扩展：functor和numext\n",
    "/core/kernels/cwise_ops_gradients.h: 导数\n",
    "/core/kernels/cwise_op_sqrt.cc: 注册核函数\n",
    "```\n",
    "\n",
    "```cpp\n",
    "// Gradient for the sqrt function\n",
    "template <typename T>\n",
    "struct scalar_sqrt_gradient_op {\n",
    "  EIGEN_EMPTY_STRUCT_CTOR(scalar_sqrt_gradient_op)\n",
    "  EIGEN_DEVICE_FUNC EIGEN_STRONG_INLINE const T\n",
    "  operator()(const T& output, const T& output_gradient) const {\n",
    "    const T out_conj = numext::conj(output);\n",
    "    return static_cast<T>(0.5) * output_gradient / out_conj;\n",
    "  }\n",
    "  template <typename Packet>\n",
    "  EIGEN_DEVICE_FUNC EIGEN_STRONG_INLINE const Packet\n",
    "  packetOp(const Packet& output, const Packet& output_gradient) const {\n",
    "    const Packet const_half = pset1<Packet>(static_cast<T>(0.5));\n",
    "    const Packet out_conj = pconj(output);\n",
    "    return pdiv(pmul(const_half, output_gradient), out_conj);\n",
    "  }\n",
    "};\n",
    "```\n",
    "\n",
    "然后在`/core/ops/math_ops.cc`下注册接口：\n",
    "\n",
    "```cpp\n",
    "REGISTER_OP(\"SqrtGrad\").UNARY_GRADIENT_COMPLEX();\n",
    "```\n",
    "\n",
    "接下来在梯度注册代码处，调用这个算子就可以：\n",
    "\n",
    "+ Python端调用\n",
    "    ```python\n",
    "    @ops.RegisterGradient(\"Sqrt\")\n",
    "    def _SqrtGrad(op, grad):\n",
    "      y = op.outputs[0]  # y = x^(1/2)\n",
    "      return gen_math_ops.sqrt_grad(y, grad)\n",
    "    ```\n",
    "  \n",
    "+ C++端调用\n",
    "\n",
    "    ```cpp\n",
    "    Status SqrtGrad(const Scope& scope, const Operation& op,\n",
    "                    const std::vector<Output>& grad_inputs,\n",
    "                    std::vector<Output>* grad_outputs) {\n",
    "      // Use the built-in operator.\n",
    "      grad_outputs->push_back(\n",
    "          internal::SqrtGrad(scope, op.output(0), grad_inputs[0]));\n",
    "      return scope.status();\n",
    "    }\n",
    "    REGISTER_GRADIENT_OP(\"Sqrt\", SqrtGrad);\n",
    "    ```\n"
   ]
  },
  {
   "cell_type": "markdown",
   "metadata": {},
   "source": [
    "##### 1.2 SqrtGradGrad\n",
    "\n",
    "第三类是一些名字如`xxxGradGrad`的梯度算子。因为反向传播是利用的一阶导的链式法式，我们应该把它单纯当作是`xxxGrad`公式展开的一阶导，而不要把它视为`xxx`的二阶导，否则会带来很多困惑。\n",
    "\n",
    "以`SqrtGradGrad`算子为例，它旳实际计算式是$dy = 0.5 * \\text{grad} / y$，有两个输入grad和$y$，所以它有两个导数：\n",
    "\n",
    "为了和代码符号一致，我们改写实际计算式为$y = 0.5 * b / a$：\n",
    "\n",
    "\\begin{align}\n",
    "    dL / da &= \\text{grad} * 0.5 * b * -1 * a^{-2} \\\\\n",
    "            &= - \\text{grad} * 0.5 * b * / a / a \\\\\n",
    "            &= - \\text{grad} * y / a \\\\\n",
    "            &= - \\text{grad} / a * y \\\\\n",
    "            &= - \\text{ga} * y \\\\\n",
    "    dL / db &= \\text{grad} * 0.5 / a \\\\\n",
    "            &= 0.5 * \\text{ga} \\\\\n",
    "\\end{align}\n",
    "\n",
    "所以Python侧实现代码是：\n",
    "\n",
    "```python\n",
    "@ops.RegisterGradient(\"SqrtGrad\")\n",
    "def _SqrtGradGrad(op, grad):\n",
    "  a = op.inputs[0]\n",
    "  y = op.outputs[0]  # y = 0.5 * b / conj(a)\n",
    "  with ops.control_dependencies([grad]):\n",
    "    ga = grad / a\n",
    "    return -math_ops.conj(ga) * y, 0.5 * ga\n",
    "```\n",
    "\n",
    "强调，实际计算式一定是和具体实现对应的，要把`xxxGrad`理解成一个算子，它有实际输入和输出，而不要把它认为是`xxx`的附属。"
   ]
  },
  {
   "cell_type": "markdown",
   "metadata": {},
   "source": [
    "### 2 小结\n",
    "\n",
    "本文简要介绍了TensorFlow的梯度相关架构，并给出几个具体梯度实现的分析例子。"
   ]
  },
  {
   "cell_type": "code",
   "execution_count": null,
   "metadata": {
    "collapsed": true
   },
   "outputs": [],
   "source": []
  }
 ],
 "metadata": {
  "kernelspec": {
   "display_name": "Python 3",
   "language": "python",
   "name": "python3"
  },
  "language_info": {
   "codemirror_mode": {
    "name": "ipython",
    "version": 3
   },
   "file_extension": ".py",
   "mimetype": "text/x-python",
   "name": "python",
   "nbconvert_exporter": "python",
   "pygments_lexer": "ipython3",
   "version": "3.6.3"
  }
 },
 "nbformat": 4,
 "nbformat_minor": 2
}

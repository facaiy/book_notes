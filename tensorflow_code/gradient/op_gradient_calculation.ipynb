{
 "cells": [
  {
   "cell_type": "code",
   "execution_count": 2,
   "metadata": {
    "collapsed": true
   },
   "outputs": [],
   "source": [
    "# %load /Users/facai/Study/book_notes/preconfig.py\n",
    "%matplotlib inline\n",
    "\n",
    "from IPython.display import SVG"
   ]
  },
  {
   "cell_type": "markdown",
   "metadata": {},
   "source": [
    "TensorFlow 梯度函数\n",
    "=========\n",
    "\n",
    "版本信息：remotes/upstream/r1.8\n",
    "```\n",
    "~/W/g/t/t/cc ❯❯❯ git log -n 1                                                      \n",
    "commit 8753e2ebde6c58b56675cc19ab7ff83072824a62 (HEAD, upstream/r1.8)\n",
    "Author: Yifei Feng <1192265+yifeif@users.noreply.github.com>\n",
    "Date:   Fri Apr 27 17:05:02 2018 -0700\n",
    "\n",
    "    Fixing the mock import error for devel docker. (#18940)\n",
    "\n",
    "    * Fixing the mock import error for devel docker.\n",
    "\n",
    "    Same as #18843\n",
    "```"
   ]
  },
  {
   "cell_type": "markdown",
   "metadata": {},
   "source": [
    "### 0 常见位置\n",
    "\n",
    "\n",
    "梯度函数在Python侧和C++侧，均有独立的注册机制。\n",
    "\n",
    "对于Python侧的梯度函数实现，一般在 `tensorflow/python/ops` 目录下，以 `_grad` 后缀结尾，如 `array_grad.py`。\n",
    "\n",
    "对于C++侧的梯度函数实在，\n",
    "\n",
    "+ kernel:\n",
    "+ op: cc/gradient: 泛的接口\n",
    "+ core/ops: 静态接口\n",
    "\n"
   ]
  },
  {
   "cell_type": "code",
   "execution_count": 3,
   "metadata": {},
   "outputs": [
    {
     "data": {
      "image/svg+xml": [
       "<svg height=\"1528\" version=\"1.1\" width=\"1464\" xmlns=\"http://www.w3.org/2000/svg\" xmlns:xlink=\"http://www.w3.org/1999/xlink\"><defs/><g><g transform=\"translate(-454,-326) scale(1,1)\"><rect fill=\"#C0C0C0\" height=\"72\" opacity=\"0.2\" stroke=\"none\" width=\"145\" x=\"1615\" y=\"343\"/></g><g transform=\"translate(-454,-326) scale(1,1)\"><rect fill=\"#ffffff\" height=\"72\" stroke=\"none\" width=\"145\" x=\"1608\" y=\"336\"/></g><g transform=\"translate(-454,-326) scale(1,1)\"><path d=\"M 1608 336 L 1753 336 L 1753 408 L 1608 408 L 1608 336 Z Z\" fill=\"none\" stroke=\"#000000\" stroke-miterlimit=\"10\"/></g><g transform=\"translate(-454,-326) scale(1,1)\"><path d=\"M 1608 361 L 1753 361\" fill=\"none\" stroke=\"#000000\" stroke-miterlimit=\"10\"/></g><g transform=\"translate(-454,-326) scale(1,1)\"><path d=\"M 1608 371 L 1753 371\" fill=\"none\" stroke=\"#000000\" stroke-miterlimit=\"10\"/></g><g transform=\"translate(-454,-326) scale(1,1)\"><g><path fill=\"none\" stroke=\"none\"/><text fill=\"#000000\" font-family=\"Arial\" font-size=\"13px\" font-style=\"normal\" font-weight=\"bold\" stroke=\"none\" text-decoration=\"none\" x=\"1632\" y=\"355.5\">RegisterGradient</text></g></g><g transform=\"translate(-454,-326) scale(1,1)\"><g><path fill=\"none\" stroke=\"none\"/><text fill=\"#000000\" font-family=\"Arial\" font-size=\"13px\" font-style=\"normal\" font-weight=\"normal\" stroke=\"none\" text-decoration=\"none\" x=\"1613\" y=\"388.5\">+__init__(op_type)</text></g></g><g transform=\"translate(-454,-326) scale(1,1)\"><g><path fill=\"none\" stroke=\"none\"/><text fill=\"#000000\" font-family=\"Arial\" font-size=\"13px\" font-style=\"normal\" font-weight=\"normal\" stroke=\"none\" text-decoration=\"none\" x=\"1613\" y=\"403.5\">+__call(f)</text></g></g><g transform=\"translate(-454,-326) scale(1,1)\"><rect fill=\"#C0C0C0\" height=\"56\" opacity=\"0.2\" stroke=\"none\" width=\"132.83056640625\" x=\"1623\" y=\"551\"/></g><g transform=\"translate(-454,-326) scale(1,1)\"><rect fill=\"#ffffff\" height=\"56\" stroke=\"none\" width=\"132.83056640625\" x=\"1616\" y=\"544\"/></g><g transform=\"translate(-454,-326) scale(1,1)\"><path d=\"M 1616 544 L 1748.83056640625 544 L 1748.83056640625 600 L 1616 600 L 1616 544 Z Z\" fill=\"none\" stroke=\"#000000\" stroke-miterlimit=\"10\"/></g><g transform=\"translate(-454,-326) scale(1,1)\"><path d=\"M 1616 582 L 1748.83056640625 582\" fill=\"none\" stroke=\"#000000\" stroke-miterlimit=\"10\"/></g><g transform=\"translate(-454,-326) scale(1,1)\"><g><path fill=\"none\" stroke=\"none\"/><text fill=\"#000000\" font-family=\"Arial\" font-size=\"13px\" font-style=\"normal\" font-weight=\"normal\" stroke=\"none\" text-decoration=\"none\" x=\"1648.415283203125\" y=\"561.5\">«dataType»</text></g></g><g transform=\"translate(-454,-326) scale(1,1)\"><g><path fill=\"none\" stroke=\"none\"/><text fill=\"#000000\" font-family=\"Arial\" font-size=\"13px\" font-style=\"normal\" font-weight=\"bold\" stroke=\"none\" text-decoration=\"none\" x=\"1630.915283203125\" y=\"576.5\">_gradient_registry</text></g></g><g transform=\"translate(-454,-326) scale(1,1)\"><rect fill=\"#C0C0C0\" height=\"115\" opacity=\"0.2\" stroke=\"none\" width=\"175.70849609375\" x=\"1607\" y=\"727\"/></g><g transform=\"translate(-454,-326) scale(1,1)\"><rect fill=\"#ffffff\" height=\"115\" stroke=\"none\" width=\"175.70849609375\" x=\"1600\" y=\"720\"/></g><g transform=\"translate(-454,-326) scale(1,1)\"><path d=\"M 1600 720 L 1775.70849609375 720 L 1775.70849609375 835 L 1600 835 L 1600 720 Z Z\" fill=\"none\" stroke=\"#000000\" stroke-miterlimit=\"10\"/></g><g transform=\"translate(-454,-326) scale(1,1)\"><path d=\"M 1600 745 L 1775.70849609375 745\" fill=\"none\" stroke=\"#000000\" stroke-miterlimit=\"10\"/></g><g transform=\"translate(-454,-326) scale(1,1)\"><path d=\"M 1600 783 L 1775.70849609375 783\" fill=\"none\" stroke=\"#000000\" stroke-miterlimit=\"10\"/></g><g transform=\"translate(-454,-326) scale(1,1)\"><g><path fill=\"none\" stroke=\"none\"/><text fill=\"#000000\" font-family=\"Arial\" font-size=\"13px\" font-style=\"normal\" font-weight=\"bold\" stroke=\"none\" text-decoration=\"none\" x=\"1663.854248046875\" y=\"739.5\">Registry</text></g></g><g transform=\"translate(-454,-326) scale(1,1)\"><g><path fill=\"none\" stroke=\"none\"/><text fill=\"#000000\" font-family=\"Arial\" font-size=\"13px\" font-style=\"normal\" font-weight=\"normal\" stroke=\"none\" text-decoration=\"none\" x=\"1605\" y=\"762.5\">+_name</text></g></g><g transform=\"translate(-454,-326) scale(1,1)\"><g><path fill=\"none\" stroke=\"none\"/><text fill=\"#000000\" font-family=\"Arial\" font-size=\"13px\" font-style=\"normal\" font-weight=\"normal\" stroke=\"none\" text-decoration=\"none\" x=\"1605\" y=\"777.5\">+_registry</text></g></g><g transform=\"translate(-454,-326) scale(1,1)\"><g><path fill=\"none\" stroke=\"none\"/><text fill=\"#000000\" font-family=\"Arial\" font-size=\"13px\" font-style=\"normal\" font-weight=\"normal\" stroke=\"none\" text-decoration=\"none\" x=\"1605\" y=\"800.5\">+register(candidate, name)</text></g></g><g transform=\"translate(-454,-326) scale(1,1)\"><g><path fill=\"none\" stroke=\"none\"/><text fill=\"#000000\" font-family=\"Arial\" font-size=\"13px\" font-style=\"normal\" font-weight=\"normal\" stroke=\"none\" text-decoration=\"none\" x=\"1605\" y=\"815.5\">+list()</text></g></g><g transform=\"translate(-454,-326) scale(1,1)\"><g><path fill=\"none\" stroke=\"none\"/><text fill=\"#000000\" font-family=\"Arial\" font-size=\"13px\" font-style=\"normal\" font-weight=\"normal\" stroke=\"none\" text-decoration=\"none\" x=\"1605\" y=\"830.5\">+lookup(name)</text></g></g><g transform=\"translate(-454,-326) scale(1,1)\"><path d=\"M 1680 409 L 1682 543\" fill=\"none\" stroke=\"#000000\" stroke-miterlimit=\"10\"/></g><g transform=\"translate(-454,-326) scale(1,1)\"><path d=\"M 1677.6392862136918 532.9012785327101 L 1682 543 L 1686.0573841417227 532.7756352800529\" fill=\"none\" stroke=\"#000000\" stroke-miterlimit=\"10\"/></g><g transform=\"translate(-454,-326) scale(1,1)\"><path d=\"M 1683 601 L 1686 719\" fill=\"none\" stroke=\"#000000\" stroke-miterlimit=\"10\"/></g><g transform=\"translate(-454,-326) scale(1,1)\"><path d=\"M 1681.5335524011095 708.9475950217688 L 1686 719 L 1689.9498683423508 708.7336208876695\" fill=\"none\" stroke=\"#000000\" stroke-miterlimit=\"10\"/></g><g transform=\"translate(-454,-326) scale(1,1)\"><rect fill=\"#C0C0C0\" height=\"87\" opacity=\"0.2\" stroke=\"none\" width=\"342.43603515625\" x=\"471\" y=\"1111\"/></g><g transform=\"translate(-454,-326) scale(1,1)\"><rect fill=\"#ffffff\" height=\"87\" stroke=\"none\" width=\"342.43603515625\" x=\"464\" y=\"1104\"/></g><g transform=\"translate(-454,-326) scale(1,1)\"><path d=\"M 464 1104 L 806.43603515625 1104 L 806.43603515625 1191 L 464 1191 L 464 1104 Z Z\" fill=\"none\" stroke=\"#000000\" stroke-miterlimit=\"10\"/></g><g transform=\"translate(-454,-326) scale(1,1)\"><path d=\"M 464 1129 L 806.43603515625 1129\" fill=\"none\" stroke=\"#000000\" stroke-miterlimit=\"10\"/></g><g transform=\"translate(-454,-326) scale(1,1)\"><path d=\"M 464 1139 L 806.43603515625 1139\" fill=\"none\" stroke=\"#000000\" stroke-miterlimit=\"10\"/></g><g transform=\"translate(-454,-326) scale(1,1)\"><g><path fill=\"none\" stroke=\"none\"/><text fill=\"#000000\" font-family=\"Arial\" font-size=\"13px\" font-style=\"normal\" font-weight=\"bold\" stroke=\"none\" text-decoration=\"none\" x=\"607.218017578125\" y=\"1123.5\">Optimizer</text></g></g><g transform=\"translate(-454,-326) scale(1,1)\"><g><path fill=\"none\" stroke=\"none\"/><text fill=\"#000000\" font-family=\"Arial\" font-size=\"13px\" font-style=\"normal\" font-weight=\"normal\" stroke=\"none\" text-decoration=\"none\" x=\"469\" y=\"1156.5\">+minimize(loss, var_list, global_step)</text></g></g><g transform=\"translate(-454,-326) scale(1,1)\"><g><path fill=\"none\" stroke=\"none\"/><text fill=\"#000000\" font-family=\"Arial\" font-size=\"13px\" font-style=\"normal\" font-weight=\"normal\" stroke=\"none\" text-decoration=\"none\" x=\"469\" y=\"1171.5\">+compute_gradients(loss, var_list)</text></g></g><g transform=\"translate(-454,-326) scale(1,1)\"><g><path fill=\"none\" stroke=\"none\"/><text fill=\"#000000\" font-family=\"Arial\" font-size=\"13px\" font-style=\"normal\" font-weight=\"normal\" stroke=\"none\" text-decoration=\"none\" x=\"469\" y=\"1186.5\">+apply_gradients(grads_and_vars, global_step, name)</text></g></g><g transform=\"translate(-454,-326) scale(1,1)\"><rect fill=\"#C0C0C0\" height=\"90\" opacity=\"0.2\" stroke=\"none\" width=\"177.91162109375\" x=\"991\" y=\"1111\"/></g><g transform=\"translate(-454,-326) scale(1,1)\"><rect fill=\"#ffffff\" height=\"90\" stroke=\"none\" width=\"177.91162109375\" x=\"984\" y=\"1104\"/></g><g transform=\"translate(-454,-326) scale(1,1)\"><path d=\"M 984 1104 L 1161.91162109375 1104 L 1161.91162109375 1194 L 984 1194 L 984 1104 Z Z\" fill=\"none\" stroke=\"#000000\" stroke-miterlimit=\"10\"/></g><g transform=\"translate(-454,-326) scale(1,1)\"><path d=\"M 984 1142 L 1161.91162109375 1142\" fill=\"none\" stroke=\"#000000\" stroke-miterlimit=\"10\"/></g><g transform=\"translate(-454,-326) scale(1,1)\"><g><path fill=\"none\" stroke=\"none\"/><text fill=\"#000000\" font-family=\"Arial\" font-size=\"13px\" font-style=\"normal\" font-weight=\"normal\" stroke=\"none\" text-decoration=\"none\" x=\"1038.955810546875\" y=\"1121.5\">«dataType»</text></g></g><g transform=\"translate(-454,-326) scale(1,1)\"><g><path fill=\"none\" stroke=\"none\"/><text fill=\"#000000\" font-family=\"Arial\" font-size=\"13px\" font-style=\"normal\" font-weight=\"bold\" stroke=\"none\" text-decoration=\"none\" x=\"1030.955810546875\" y=\"1136.5\">gradients_impl</text></g></g><g transform=\"translate(-454,-326) scale(1,1)\"><g><path fill=\"none\" stroke=\"none\"/><text fill=\"#000000\" font-family=\"Arial\" font-size=\"13px\" font-style=\"normal\" font-weight=\"normal\" stroke=\"none\" text-decoration=\"none\" x=\"989\" y=\"1159.5\">+gradients()</text></g></g><g transform=\"translate(-454,-326) scale(1,1)\"><g><path fill=\"none\" stroke=\"none\"/><text fill=\"#000000\" font-family=\"Arial\" font-size=\"13px\" font-style=\"normal\" font-weight=\"normal\" stroke=\"none\" text-decoration=\"none\" x=\"989\" y=\"1174.5\">+_GradientsHelper()</text></g></g><g transform=\"translate(-454,-326) scale(1,1)\"><g><path fill=\"none\" stroke=\"none\"/><text fill=\"#000000\" font-family=\"Arial\" font-size=\"13px\" font-style=\"normal\" font-weight=\"normal\" stroke=\"none\" text-decoration=\"none\" x=\"989\" y=\"1189.5\">+_SymGrad()</text></g></g><g transform=\"translate(-454,-326) scale(1,1)\"><rect fill=\"#C0C0C0\" height=\"60\" opacity=\"0.2\" stroke=\"none\" width=\"179.13623046875\" x=\"1319\" y=\"959\"/></g><g transform=\"translate(-454,-326) scale(1,1)\"><rect fill=\"#ffffff\" height=\"60\" stroke=\"none\" width=\"179.13623046875\" x=\"1312\" y=\"952\"/></g><g transform=\"translate(-454,-326) scale(1,1)\"><path d=\"M 1312 952 L 1491.13623046875 952 L 1491.13623046875 1012 L 1312 1012 L 1312 952 Z Z\" fill=\"none\" stroke=\"#000000\" stroke-miterlimit=\"10\"/></g><g transform=\"translate(-454,-326) scale(1,1)\"><path d=\"M 1312 990 L 1491.13623046875 990\" fill=\"none\" stroke=\"#000000\" stroke-miterlimit=\"10\"/></g><g transform=\"translate(-454,-326) scale(1,1)\"><g><path fill=\"none\" stroke=\"none\"/><text fill=\"#000000\" font-family=\"Arial\" font-size=\"13px\" font-style=\"normal\" font-weight=\"normal\" stroke=\"none\" text-decoration=\"none\" x=\"1367.568115234375\" y=\"969.5\">«dataType»</text></g></g><g transform=\"translate(-454,-326) scale(1,1)\"><g><path fill=\"none\" stroke=\"none\"/><text fill=\"#000000\" font-family=\"Arial\" font-size=\"13px\" font-style=\"normal\" font-weight=\"bold\" stroke=\"none\" text-decoration=\"none\" x=\"1391.068115234375\" y=\"984.5\">ops</text></g></g><g transform=\"translate(-454,-326) scale(1,1)\"><g><path fill=\"none\" stroke=\"none\"/><text fill=\"#000000\" font-family=\"Arial\" font-size=\"13px\" font-style=\"normal\" font-weight=\"normal\" stroke=\"none\" text-decoration=\"none\" x=\"1317\" y=\"1007.5\">+get_gradient_function(op)</text></g></g><g transform=\"translate(-454,-326) scale(1,1)\"><rect fill=\"#C0C0C0\" height=\"60\" opacity=\"0.2\" stroke=\"none\" width=\"136.6005859375\" x=\"1079\" y=\"343\"/></g><g transform=\"translate(-454,-326) scale(1,1)\"><rect fill=\"#ffffff\" height=\"60\" stroke=\"none\" width=\"136.6005859375\" x=\"1072\" y=\"336\"/></g><g transform=\"translate(-454,-326) scale(1,1)\"><path d=\"M 1072 336 L 1208.6005859375 336 L 1208.6005859375 396 L 1072 396 L 1072 336 Z Z\" fill=\"none\" stroke=\"#000000\" stroke-miterlimit=\"10\"/></g><g transform=\"translate(-454,-326) scale(1,1)\"><path d=\"M 1072 374 L 1208.6005859375 374\" fill=\"none\" stroke=\"#000000\" stroke-miterlimit=\"10\"/></g><g transform=\"translate(-454,-326) scale(1,1)\"><g><path fill=\"none\" stroke=\"none\"/><text fill=\"#000000\" font-family=\"Arial\" font-size=\"13px\" font-style=\"normal\" font-weight=\"normal\" stroke=\"none\" text-decoration=\"none\" x=\"1106.30029296875\" y=\"353.5\">«dataType»</text></g></g><g transform=\"translate(-454,-326) scale(1,1)\"><g><path fill=\"none\" stroke=\"none\"/><text fill=\"#000000\" font-family=\"Arial\" font-size=\"13px\" font-style=\"normal\" font-weight=\"bold\" stroke=\"none\" text-decoration=\"none\" x=\"1100.80029296875\" y=\"368.5\">math_grad.py</text></g></g><g transform=\"translate(-454,-326) scale(1,1)\"><g><path fill=\"none\" stroke=\"none\"/><text fill=\"#000000\" font-family=\"Arial\" font-size=\"13px\" font-style=\"normal\" font-weight=\"normal\" stroke=\"none\" text-decoration=\"none\" x=\"1077\" y=\"391.5\">+_AbsGrad(op, grad)</text></g></g><g transform=\"translate(-454,-326) scale(1,1)\"><rect fill=\"#C0C0C0\" height=\"60\" opacity=\"0.2\" stroke=\"none\" width=\"309.802734375\" x=\"1007\" y=\"1775\"/></g><g transform=\"translate(-454,-326) scale(1,1)\"><rect fill=\"#ffffff\" height=\"60\" stroke=\"none\" width=\"309.802734375\" x=\"1000\" y=\"1768\"/></g><g transform=\"translate(-454,-326) scale(1,1)\"><path d=\"M 1000 1768 L 1309.802734375 1768 L 1309.802734375 1828 L 1000 1828 L 1000 1768 Z Z\" fill=\"none\" stroke=\"#000000\" stroke-miterlimit=\"10\"/></g><g transform=\"translate(-454,-326) scale(1,1)\"><path d=\"M 1000 1806 L 1309.802734375 1806\" fill=\"none\" stroke=\"#000000\" stroke-miterlimit=\"10\"/></g><g transform=\"translate(-454,-326) scale(1,1)\"><g><path fill=\"none\" stroke=\"none\"/><text fill=\"#000000\" font-family=\"Arial\" font-size=\"13px\" font-style=\"normal\" font-weight=\"normal\" stroke=\"none\" text-decoration=\"none\" x=\"1120.9013671875\" y=\"1785.5\">«dataType»</text></g></g><g transform=\"translate(-454,-326) scale(1,1)\"><g><path fill=\"none\" stroke=\"none\"/><text fill=\"#000000\" font-family=\"Arial\" font-size=\"13px\" font-style=\"normal\" font-weight=\"bold\" stroke=\"none\" text-decoration=\"none\" x=\"1115.4013671875\" y=\"1800.5\">math_grad.cc</text></g></g><g transform=\"translate(-454,-326) scale(1,1)\"><g><path fill=\"none\" stroke=\"none\"/><text fill=\"#000000\" font-family=\"Arial\" font-size=\"13px\" font-style=\"normal\" font-weight=\"normal\" stroke=\"none\" text-decoration=\"none\" x=\"1005\" y=\"1823.5\">+AbsGrad(scope, op, grad_inputs, grad_outputs)</text></g></g><g transform=\"translate(-454,-326) scale(1,1)\"><rect fill=\"#C0C0C0\" height=\"100\" opacity=\"0.2\" stroke=\"none\" width=\"364\" x=\"1551\" y=\"1751\"/></g><g transform=\"translate(-454,-326) scale(1,1)\"><rect fill=\"#ffffff\" height=\"100\" stroke=\"none\" width=\"364\" x=\"1544\" y=\"1744\"/></g><g transform=\"translate(-454,-326) scale(1,1)\"><path d=\"M 1544 1744 L 1908 1744 L 1908 1844 L 1544 1844 L 1544 1744 Z Z\" fill=\"none\" stroke=\"#000000\" stroke-miterlimit=\"10\"/></g><g transform=\"translate(-454,-326) scale(1,1)\"><path d=\"M 1544 1782 L 1908 1782\" fill=\"none\" stroke=\"#000000\" stroke-miterlimit=\"10\"/></g><g transform=\"translate(-454,-326) scale(1,1)\"><path d=\"M 1544 1792 L 1908 1792\" fill=\"none\" stroke=\"#000000\" stroke-miterlimit=\"10\"/></g><g transform=\"translate(-454,-326) scale(1,1)\"><g><path fill=\"none\" stroke=\"none\"/><text fill=\"#000000\" font-family=\"Arial\" font-size=\"13px\" font-style=\"normal\" font-weight=\"normal\" stroke=\"none\" text-decoration=\"none\" x=\"1692\" y=\"1761.5\">«dataType»</text></g></g><g transform=\"translate(-454,-326) scale(1,1)\"><g><path fill=\"none\" stroke=\"none\"/><text fill=\"#000000\" font-family=\"Arial\" font-size=\"13px\" font-style=\"normal\" font-weight=\"bold\" stroke=\"none\" text-decoration=\"none\" x=\"1672.5\" y=\"1776.5\">grad_op_registry.h</text></g></g><g transform=\"translate(-454,-326) scale(1,1)\"><g><path fill=\"none\" stroke=\"none\"/><text fill=\"#000000\" font-family=\"Arial\" font-size=\"13px\" font-style=\"normal\" font-weight=\"normal\" stroke=\"none\" text-decoration=\"none\" x=\"1549\" y=\"1809.5\">+REGISTER_GRADIENT_OP(name, fn)</text></g></g><g transform=\"translate(-454,-326) scale(1,1)\"><g><path fill=\"none\" stroke=\"none\"/><text fill=\"#000000\" font-family=\"Arial\" font-size=\"13px\" font-style=\"normal\" font-weight=\"normal\" stroke=\"none\" text-decoration=\"none\" x=\"1549\" y=\"1824.5\">+REGISTER_GRADIENT_OP_UNIQ_HELPER(ctr, name, fn)</text></g></g><g transform=\"translate(-454,-326) scale(1,1)\"><g><path fill=\"none\" stroke=\"none\"/><text fill=\"#000000\" font-family=\"Arial\" font-size=\"13px\" font-style=\"normal\" font-weight=\"normal\" stroke=\"none\" text-decoration=\"none\" x=\"1549\" y=\"1839.5\">+REGISTER_GRADIENT_OP_UNIQ(ctr, name, fn)</text></g></g><g transform=\"translate(-454,-326) scale(1,1)\"><rect fill=\"#C0C0C0\" height=\"72\" opacity=\"0.2\" stroke=\"none\" width=\"135.953125\" x=\"1351\" y=\"1119\"/></g><g transform=\"translate(-454,-326) scale(1,1)\"><rect fill=\"#ffffff\" height=\"72\" stroke=\"none\" width=\"135.953125\" x=\"1344\" y=\"1112\"/></g><g transform=\"translate(-454,-326) scale(1,1)\"><path d=\"M 1344 1112 L 1479.953125 1112 L 1479.953125 1184 L 1344 1184 L 1344 1112 Z Z\" fill=\"none\" stroke=\"#000000\" stroke-miterlimit=\"10\"/></g><g transform=\"translate(-454,-326) scale(1,1)\"><path d=\"M 1344 1137 L 1479.953125 1137\" fill=\"none\" stroke=\"#000000\" stroke-miterlimit=\"10\"/></g><g transform=\"translate(-454,-326) scale(1,1)\"><path d=\"M 1344 1175 L 1479.953125 1175\" fill=\"none\" stroke=\"#000000\" stroke-miterlimit=\"10\"/></g><g transform=\"translate(-454,-326) scale(1,1)\"><g><path fill=\"none\" stroke=\"none\"/><text fill=\"#000000\" font-family=\"Arial\" font-size=\"13px\" font-style=\"normal\" font-weight=\"bold\" stroke=\"none\" text-decoration=\"none\" x=\"1394.9765625\" y=\"1131.5\">Defun</text></g></g><g transform=\"translate(-454,-326) scale(1,1)\"><g><path fill=\"none\" stroke=\"none\"/><text fill=\"#000000\" font-family=\"Arial\" font-size=\"13px\" font-style=\"normal\" font-weight=\"normal\" stroke=\"none\" text-decoration=\"none\" x=\"1349\" y=\"1154.5\">+_grad_func</text></g></g><g transform=\"translate(-454,-326) scale(1,1)\"><g><path fill=\"none\" stroke=\"none\"/><text fill=\"#000000\" font-family=\"Arial\" font-size=\"13px\" font-style=\"normal\" font-weight=\"normal\" stroke=\"none\" text-decoration=\"none\" x=\"1349\" y=\"1169.5\">+_python_grad_func</text></g></g><g transform=\"translate(-454,-326) scale(1,1)\"><path d=\"M 1444 951 L 1605 836\" fill=\"none\" stroke=\"#000000\" stroke-miterlimit=\"10\"/></g><g transform=\"translate(-454,-326) scale(1,1)\"><path d=\"M 1599.1770238082952 845.3323602733092 L 1605 836 L 1594.2835588144249 838.4815092818907\" fill=\"none\" stroke=\"#000000\" stroke-miterlimit=\"10\"/></g><g transform=\"translate(-454,-326) scale(1,1)\"><rect fill=\"#C0C0C0\" height=\"60\" opacity=\"0.2\" stroke=\"none\" width=\"140.58740234375\" x=\"1351\" y=\"1295\"/></g><g transform=\"translate(-454,-326) scale(1,1)\"><rect fill=\"#ffffff\" height=\"60\" stroke=\"none\" width=\"140.58740234375\" x=\"1344\" y=\"1288\"/></g><g transform=\"translate(-454,-326) scale(1,1)\"><path d=\"M 1344 1288 L 1484.58740234375 1288 L 1484.58740234375 1348 L 1344 1348 L 1344 1288 Z Z\" fill=\"none\" stroke=\"#000000\" stroke-miterlimit=\"10\"/></g><g transform=\"translate(-454,-326) scale(1,1)\"><path d=\"M 1344 1326 L 1484.58740234375 1326\" fill=\"none\" stroke=\"#000000\" stroke-miterlimit=\"10\"/></g><g transform=\"translate(-454,-326) scale(1,1)\"><g><path fill=\"none\" stroke=\"none\"/><text fill=\"#000000\" font-family=\"Arial\" font-size=\"13px\" font-style=\"normal\" font-weight=\"normal\" stroke=\"none\" text-decoration=\"none\" x=\"1380.293701171875\" y=\"1305.5\">«dataType»</text></g></g><g transform=\"translate(-454,-326) scale(1,1)\"><g><path fill=\"none\" stroke=\"none\"/><text fill=\"#000000\" font-family=\"Arial\" font-size=\"13px\" font-style=\"normal\" font-weight=\"bold\" stroke=\"none\" text-decoration=\"none\" x=\"1358.293701171875\" y=\"1320.5\">gen_functional_ops</text></g></g><g transform=\"translate(-454,-326) scale(1,1)\"><g><path fill=\"none\" stroke=\"none\"/><text fill=\"#000000\" font-family=\"Arial\" font-size=\"13px\" font-style=\"normal\" font-weight=\"normal\" stroke=\"none\" text-decoration=\"none\" x=\"1349\" y=\"1343.5\">+symbolic_gradient()</text></g></g><g transform=\"translate(-454,-326) scale(1,1)\"><rect fill=\"#C0C0C0\" height=\"60\" opacity=\"0.2\" stroke=\"none\" width=\"126.44482421875\" x=\"1671\" y=\"1295\"/></g><g transform=\"translate(-454,-326) scale(1,1)\"><rect fill=\"#ffffff\" height=\"60\" stroke=\"none\" width=\"126.44482421875\" x=\"1664\" y=\"1288\"/></g><g transform=\"translate(-454,-326) scale(1,1)\"><path d=\"M 1664 1288 L 1790.44482421875 1288 L 1790.44482421875 1348 L 1664 1348 L 1664 1288 Z Z\" fill=\"none\" stroke=\"#000000\" stroke-miterlimit=\"10\"/></g><g transform=\"translate(-454,-326) scale(1,1)\"><path d=\"M 1664 1326 L 1790.44482421875 1326\" fill=\"none\" stroke=\"#000000\" stroke-miterlimit=\"10\"/></g><g transform=\"translate(-454,-326) scale(1,1)\"><g><path fill=\"none\" stroke=\"none\"/><text fill=\"#000000\" font-family=\"Arial\" font-size=\"13px\" font-style=\"normal\" font-weight=\"normal\" stroke=\"none\" text-decoration=\"none\" x=\"1693.222412109375\" y=\"1305.5\">«dataType»</text></g></g><g transform=\"translate(-454,-326) scale(1,1)\"><g><path fill=\"none\" stroke=\"none\"/><text fill=\"#000000\" font-family=\"Arial\" font-size=\"13px\" font-style=\"normal\" font-weight=\"bold\" stroke=\"none\" text-decoration=\"none\" x=\"1676.222412109375\" y=\"1320.5\">functional_ops.cc</text></g></g><g transform=\"translate(-454,-326) scale(1,1)\"><g><path fill=\"none\" stroke=\"none\"/><text fill=\"#000000\" font-family=\"Arial\" font-size=\"13px\" font-style=\"normal\" font-weight=\"normal\" stroke=\"none\" text-decoration=\"none\" x=\"1669\" y=\"1343.5\">+SymbolicGradient</text></g></g><g transform=\"translate(-454,-326) scale(1,1)\"><rect fill=\"#C0C0C0\" height=\"72\" opacity=\"0.2\" stroke=\"none\" width=\"297\" x=\"1583\" y=\"1511\"/></g><g transform=\"translate(-454,-326) scale(1,1)\"><rect fill=\"#ffffff\" height=\"72\" stroke=\"none\" width=\"297\" x=\"1576\" y=\"1504\"/></g><g transform=\"translate(-454,-326) scale(1,1)\"><path d=\"M 1576 1504 L 1873 1504 L 1873 1576 L 1576 1576 L 1576 1504 Z Z\" fill=\"none\" stroke=\"#000000\" stroke-miterlimit=\"10\"/></g><g transform=\"translate(-454,-326) scale(1,1)\"><path d=\"M 1576 1529 L 1873 1529\" fill=\"none\" stroke=\"#000000\" stroke-miterlimit=\"10\"/></g><g transform=\"translate(-454,-326) scale(1,1)\"><path d=\"M 1576 1539 L 1873 1539\" fill=\"none\" stroke=\"#000000\" stroke-miterlimit=\"10\"/></g><g transform=\"translate(-454,-326) scale(1,1)\"><g><path fill=\"none\" stroke=\"none\"/><text fill=\"#000000\" font-family=\"Arial\" font-size=\"13px\" font-style=\"normal\" font-weight=\"bold\" stroke=\"none\" text-decoration=\"none\" x=\"1653\" y=\"1523.5\">SymbolicGradientBuilder</text></g></g><g transform=\"translate(-454,-326) scale(1,1)\"><g><path fill=\"none\" stroke=\"none\"/><text fill=\"#000000\" font-family=\"Arial\" font-size=\"13px\" font-style=\"normal\" font-weight=\"normal\" stroke=\"none\" text-decoration=\"none\" x=\"1581\" y=\"1556.5\">+AddGradients()</text></g></g><g transform=\"translate(-454,-326) scale(1,1)\"><g><path fill=\"none\" stroke=\"none\"/><text fill=\"#000000\" font-family=\"Arial\" font-size=\"13px\" font-style=\"normal\" font-weight=\"normal\" stroke=\"none\" text-decoration=\"none\" x=\"1581\" y=\"1571.5\">+CallGradFunction(op, grad_inputs, grad_outputs)</text></g></g><g transform=\"translate(-454,-326) scale(1,1)\"><path d=\"M 1311 1797 L 1543 1795\" fill=\"none\" stroke=\"#000000\" stroke-miterlimit=\"10\"/></g><g transform=\"translate(-454,-326) scale(1,1)\"><path d=\"M 1532.8739903452938 1799.29696735766 L 1543 1795 L 1532.8014151496582 1790.8782446639352 L 1521.0008174336303 1795.1896481255721\" fill=\"#000000\" stroke=\"none\"/></g><g transform=\"translate(-454,-326) scale(1,1)\"><path d=\"M 1532.8739903452938 1799.29696735766 L 1543 1795 L 1532.8014151496582 1790.8782446639352 L 1521.0008174336303 1795.1896481255721 L 1532.8739903452938 1799.29696735766\" fill=\"none\" stroke=\"#000000\" stroke-miterlimit=\"10\"/></g><g transform=\"translate(-454,-326) scale(1,1)\"><path d=\"M 1724 1577 L 1726 1743\" fill=\"none\" stroke=\"#000000\" stroke-miterlimit=\"10\"/></g><g transform=\"translate(-454,-326) scale(1,1)\"><path d=\"M 1721.6683547553569 1732.8887760644639 L 1726 1743 L 1730.0867792847318 1732.787349262905\" fill=\"none\" stroke=\"#000000\" stroke-miterlimit=\"10\"/></g><g transform=\"translate(-454,-326) scale(1,1)\"><path d=\"M 1727 1349 L 1725 1503\" fill=\"none\" stroke=\"#000000\" stroke-miterlimit=\"10\"/></g><g transform=\"translate(-454,-326) scale(1,1)\"><path d=\"M 1720.9228088544846 1492.7835176130466 L 1725 1503 L 1729.3411344685 1492.8928465171246\" fill=\"none\" stroke=\"#000000\" stroke-miterlimit=\"10\"/></g><g transform=\"translate(-454,-326) scale(1,1)\"><path d=\"M 1486 1318 L 1663 1318\" fill=\"none\" stroke=\"#000000\" stroke-miterlimit=\"10\"/></g><g transform=\"translate(-454,-326) scale(1,1)\"><path d=\"M 1652.837325142376 1322.2095177560159 L 1663 1318 L 1652.837325142376 1313.7904822439841\" fill=\"none\" stroke=\"#000000\" stroke-miterlimit=\"10\"/></g><g transform=\"translate(-454,-326) scale(1,1)\"><path d=\"M 807 1148 L 983 1149\" fill=\"none\" stroke=\"#000000\" stroke-miterlimit=\"10\"/></g><g transform=\"translate(-454,-326) scale(1,1)\"><path d=\"M 972.8135718510506 1153.1517082708558 L 983 1149 L 972.861406507978 1144.7328086516388\" fill=\"none\" stroke=\"#000000\" stroke-miterlimit=\"10\"/></g><g transform=\"translate(-454,-326) scale(1,1)\"><path d=\"M 1163 1103 L 1340 1013\" fill=\"none\" stroke=\"#000000\" stroke-miterlimit=\"10\"/></g><g transform=\"translate(-454,-326) scale(1,1)\"><path d=\"M 1332.8490926808488 1021.3585001353657 L 1340 1013 L 1329.033192816726 1013.8538970692574\" fill=\"none\" stroke=\"#000000\" stroke-miterlimit=\"10\"/></g><g transform=\"translate(-454,-326) scale(1,1)\"><path d=\"M 1163 1149 L 1343 1148\" fill=\"none\" stroke=\"#000000\" stroke-miterlimit=\"10\"/></g><g transform=\"translate(-454,-326) scale(1,1)\"><path d=\"M 1332.8608678190135 1152.2659112293252 L 1343 1148 L 1332.814096121282 1143.8470056376732\" fill=\"none\" stroke=\"#000000\" stroke-miterlimit=\"10\"/></g><g transform=\"translate(-454,-326) scale(1,1)\"><path d=\"M 1163 1194 L 1351 1287\" fill=\"none\" stroke=\"#000000\" stroke-miterlimit=\"10\"/></g><g transform=\"translate(-454,-326) scale(1,1)\"><path d=\"M 1340.0244482135172 1286.2670177476668 L 1351 1287 L 1343.757409625628 1278.7208161833998\" fill=\"none\" stroke=\"#000000\" stroke-miterlimit=\"10\"/></g><g transform=\"translate(-454,-326) scale(1,1)\"><path d=\"M 1210 367 L 1607 371\" fill=\"none\" stroke=\"#000000\" stroke-miterlimit=\"10\"/></g><g transform=\"translate(-454,-326) scale(1,1)\"><path d=\"M 1596.7954298209988 375.106914591496 L 1607 371 L 1596.8802520699335 366.6883063847351\" fill=\"none\" stroke=\"#000000\" stroke-miterlimit=\"10\"/></g></g></svg>"
      ],
      "text/plain": [
       "<IPython.core.display.SVG object>"
      ]
     },
     "execution_count": 3,
     "metadata": {},
     "output_type": "execute_result"
    }
   ],
   "source": [
    "SVG('./res/tf_gradients.svg')"
   ]
  },
  {
   "cell_type": "markdown",
   "metadata": {},
   "source": [
    "### 1 如何写Gradient函数\n",
    "\n",
    "+ python侧\n",
    "+ c++侧\n",
    "\n",
    "拿Square作例子，细讲Grad和GradGrad的具体推导"
   ]
  },
  {
   "cell_type": "markdown",
   "metadata": {},
   "source": [
    "\n",
    "```bash\n",
    "kernels/cwise_ops.h: 含有Eigen扩展：functor和numext\n",
    "kernels/cwise_ops_gradients.h: 导数\n",
    "```\n",
    "\n",
    "\n",
    "### Gradient\n",
    "\n",
    "```cpp\n",
    "Status SquareGrad(const Scope& scope, const Operation& op,\n",
    "                  const std::vector<Output>& grad_inputs,\n",
    "                  std::vector<Output>* grad_outputs) {\n",
    "  // dy/dx = (2 * x)\n",
    "  auto two = Cast(scope, Const(scope, 2), op.input(0).type());\n",
    "  auto dydx = Mul(scope, two, op.input(0));\n",
    "  // grad(x) = grad(y) * conj(dy/dx)\n",
    "  grad_outputs->push_back(\n",
    "      Mul(scope, grad_inputs[0], ConjugateHelper(scope, dydx)));\n",
    "  return scope.status();\n",
    "}\n",
    "REGISTER_GRADIENT_OP(\"Square\", SquareGrad);\n",
    "```\n",
    "\n",
    "+ `op.input`和`op.output`是`Square`输入x和输出y = x^2。\n",
    "+ `grad_inputs[0]`是反向传导的后级导数`dy`，其实是`dL/dy`的简写。\n",
    "+ 这个函数要计算`dx`，是`dy/dx`的简写, 结果是2 x。\n",
    "+ 返回结果写入`grad_outputs`里，`dL/dx = dL/dy * dy/dx`。\n",
    "\n",
    "如果输入有多个`x = (x0, x1, ..., xn)`，要分别算对应的导数`[dL/dx0, dL/dx1, ... dL/dxn]`。\n",
    "\n",
    "\n",
    "注意：对于XXXGradGrad后缀的导数算子，将它当作XXXGrad的一阶导处理，并非是从损失过来的二阶导数。不要以为这是二阶导的反向传导。\n",
    "\n",
    "具体见手写笔记。\n",
    "\n",
    "\n"
   ]
  },
  {
   "cell_type": "markdown",
   "metadata": {},
   "source": [
    "### 2 梯度注册与查找"
   ]
  },
  {
   "cell_type": "markdown",
   "metadata": {},
   "source": [
    "\n",
    "反向推导使用的是gradient function，先用python注册，没有再去c++那查。\n",
    "只在TestCase中用数值方法来检查实现。\n",
    "\n",
    "https://stackoverflow.com/questions/36370129/does-tensorflow-use-automatic-or-symbolic-gradients"
   ]
  },
  {
   "cell_type": "code",
   "execution_count": null,
   "metadata": {
    "collapsed": true
   },
   "outputs": [],
   "source": []
  }
 ],
 "metadata": {
  "kernelspec": {
   "display_name": "Python 3",
   "language": "python",
   "name": "python3"
  },
  "language_info": {
   "codemirror_mode": {
    "name": "ipython",
    "version": 3
   },
   "file_extension": ".py",
   "mimetype": "text/x-python",
   "name": "python",
   "nbconvert_exporter": "python",
   "pygments_lexer": "ipython3",
   "version": "3.6.3"
  }
 },
 "nbformat": 4,
 "nbformat_minor": 2
}

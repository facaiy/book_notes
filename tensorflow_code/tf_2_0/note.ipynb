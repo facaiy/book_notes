{
 "cells": [
  {
   "cell_type": "code",
   "execution_count": 1,
   "metadata": {
    "collapsed": true
   },
   "outputs": [],
   "source": [
    "# %load /Users/facai/Study/book_notes/preconfig.py\n",
    "%matplotlib inline\n",
    "\n",
    "import matplotlib.pyplot as plt\n",
    "import seaborn as sns\n",
    "sns.set(color_codes=True)\n",
    "sns.set(font='SimHei', font_scale=2.5)\n",
    "\n",
    "from IPython.display import Image"
   ]
  },
  {
   "cell_type": "markdown",
   "metadata": {},
   "source": [
    "TensorFlow 2.0资料汇总\n",
    "============"
   ]
  },
  {
   "cell_type": "markdown",
   "metadata": {},
   "source": [
    "### [Variables in TensorFlow 2.0](https://github.com/tensorflow/community/pull/11)\n",
    "\n",
    "+ drawbacks:\n",
    "  1. impossible-to-reason-about semantics => RefVariable -> ResourceVariable\n",
    "  2. reliance on global scopes, and reliance on global collections. => keras, object oriented\n",
    "\n",
    "+ main changes:\n",
    "  1. `get_variable` => `tf.Variable` + scoped factory function\n",
    "  2. remove `variable_scope` => `name_scope`\n",
    "     - graph.variable_scope_stack => module-global weak dict[graph] = variable_scope_stack\n",
    "  3. custom_getters: `variable_creator_scope`\n",
    "  4. tf.assign* will be removed.\n",
    "  \n",
    "+ feedback:\n",
    "  1. scope, too magic?\n",
    "  2. slice: `a[1].assign(5)`\n",
    "  3. restore from proto (graph def) or other python object: say, tf.Variable.from_proto.\n",
    "  4. scope和Variable搭配，粒度太粗: 比如ResourceVariableScope下面，能创建PartitionVariable么? 参数不一致下，必须感知，如Resource和Partition。\n",
    "  5. tf.make_template: 依赖于variable_scope来共享variable，机制要重写？\n",
    "\n",
    "+ TODO:\n",
    "  0. check scoped constructor functions: like `variable_scope.variable`\n",
    "     ```python\n",
    "     # 封装到variable_scope.variable_createor_scope:\n",
    "     with ops.get_default_graph()._variable_creator_scope(custom_creator):\n",
    "       # 封装进tf.Variable:\n",
    "       previous_getter = lambda **kwargs: default_variable_creator(None, **kwargs)\n",
    "       for getter in ops.get_default_graph()._variable_creator_stack:  # pylint: disable=protected-access\n",
    "         previous_getter = _make_getter(getter, previous_getter)\n",
    "     ```\n",
    "  1. check implementation: PartitionedVariable, MirroredVariable, _UnreadVariable, CastVariable, etc\n",
    "     猜测：\n",
    "     + subclass要override __init__方法\n",
    "     + sublcass要搭配对应的creator function\n",
    "     + 使用时要显示配置variable creator scope\n",
    "     ```python\n",
    "     with variable_creator_scope(custom_creator_function):\n",
    "       tf.Variable(args)\n",
    "     ```\n",
    "     参考RefVariable, ResourceVariable查看\n",
    "  2. check `tf.Variable(*args, **kwargs)`, use `__init__` or `__call__`.\n",
    "     => metaclass behavior\n",
    "  3. check low-level implement of RefVariable, ResourceVariable\n",
    "     - 确保读写顺序\n",
    "     - Optimizer don't support Tensor: RefVariable\n",
    "  4. Checkpointable class and API"
   ]
  },
  {
   "cell_type": "markdown",
   "metadata": {},
   "source": [
    "### [ RFC: New tf.print #14 ](https://github.com/tensorflow/community/pull/14)\n",
    "\n",
    "1. `tf.Print` => `tf.print`, or `tf.strings.format`\n",
    "2. identity op => depensencies\n",
    "   ```python\n",
    "   t = xxx\n",
    "   with tf.control_dependencies([tf.print(xxxx)]):\n",
    "     t_2 = 2 * t\n",
    "   ```\n",
    "3. support log level.\n",
    "4. stateful => ensure order, and not being pruned.\n",
    "5. support nested structure.\n",
    "\n",
    "problem:\n",
    "+ c++ standard out / error => notebook kernel's console output\n",
    "+ device: cpu:0 by default (avoid GPU crash)"
   ]
  },
  {
   "cell_type": "markdown",
   "metadata": {},
   "source": [
    "### RNN"
   ]
  },
  {
   "cell_type": "markdown",
   "metadata": {},
   "source": [
    "### [ RFC: TensorFlow API symbols and namespaces #16 ](https://github.com/tensorflow/community/pull/16)\n",
    "\n",
    "+ @tf_export\n",
    "+ additional namespaces\n",
    "+ deprecated namespaces"
   ]
  },
  {
   "cell_type": "markdown",
   "metadata": {},
   "source": []
  },
  {
   "cell_type": "markdown",
   "metadata": {},
   "source": [
    "   - collections\n",
    "   - tf.contrib\n",
    "   - Function, session\n"
   ]
  }
 ],
 "metadata": {
  "kernelspec": {
   "display_name": "Python 3",
   "language": "python",
   "name": "python3"
  },
  "language_info": {
   "codemirror_mode": {
    "name": "ipython",
    "version": 3
   },
   "file_extension": ".py",
   "mimetype": "text/x-python",
   "name": "python",
   "nbconvert_exporter": "python",
   "pygments_lexer": "ipython3",
   "version": "3.6.3"
  }
 },
 "nbformat": 4,
 "nbformat_minor": 2
}

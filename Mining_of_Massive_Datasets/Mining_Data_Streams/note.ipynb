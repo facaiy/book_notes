{
 "cells": [
  {
   "cell_type": "code",
   "execution_count": 1,
   "metadata": {
    "collapsed": false
   },
   "outputs": [
    {
     "name": "stdout",
     "output_type": "stream",
     "text": [
      "Populating the interactive namespace from numpy and matplotlib\n"
     ]
    }
   ],
   "source": [
    "%pylab inline\n",
    "import pandas as pd\n",
    "\n",
    "import numpy as np\n",
    "from __future__ import division\n",
    "import itertools\n",
    "\n",
    "import matplotlib.pyplot as plt\n",
    "import seaborn as sns\n",
    "\n",
    "import logging\n",
    "logger = logging.getLogger()"
   ]
  },
  {
   "cell_type": "markdown",
   "metadata": {},
   "source": [
    "4 Mining Data Streams\n",
    "============\n",
    "\n",
    "Data:    \n",
    "1. database   \n",
    "2. stream:     \n",
    "    + lost forever if the data arrived is not processed immediately or stored.    \n",
    "    + the data arrives so rapidly that it isn't feasible to store all.   \n",
    "    \n",
    "    solution: summarization     \n",
    "        + sample/filter, then estimate     \n",
    "        + fixed-length \"window\""
   ]
  },
  {
   "cell_type": "markdown",
   "metadata": {},
   "source": [
    "### 4.1 The Stream Data Model\n",
    "\n",
    "Examples of Steam Sources:   \n",
    "\n",
    "+ Sensor Data:      \n",
    "  Deploy a million sensors    \n",
    "  \n",
    "+ Image Data:     \n",
    "  satellites, surveilance camera\n",
    "\n",
    "+ Internet and Web Traffic\n",
    "\n",
    "![Fig 4.1: A data-stream_management system](files/res/figure_4_1.png)\n",
    "\n",
    "##### 4.1.3 Stream Queries\n",
    "two ways:\n",
    "\n",
    "1. standing queries     \n",
    "   preset, permanetly execting, and produce outputs at appropriate times.    \n",
    "\n",
    "2. ad-hoc queries    \n",
    "   a question asked once about the current state of a steam or streams.    \n",
    "   + a common sample approach is to store a **sliding windows** of each stream in the working store.\n",
    "  \n",
    "  \n",
    "**generalizations** about stream algorithms:\n",
    "\n",
    "1. Often, an **approximate answer** is much more **efficient** than an **exact solution**.\n",
    "\n",
    "2. **hash function** introduces useful **randomness** intho the algorithm's behavior $\\to$ approximate answer"
   ]
  },
  {
   "cell_type": "markdown",
   "metadata": {},
   "source": [
    "### 4.2 Sampling Data in a Stream\n",
    "\n",
    "extract reliable samples from a stream:    \n",
    "select $S \\subset B$, $\\, s.t. \\, E[f(S)] = E[f(B)]$.\n",
    "\n",
    "Example   \n",
    "Prob: What fraction of the typical user's queries were repeated over the past month?     \n",
    "\n",
    "given: a user has issued $s$ search queries one time, $d$ queries two times, and no queires more than twice.\n",
    "\n",
    "solutions:\n",
    "\n",
    "- _REAL_: $$tf = \\frac{d}{s+d}$$\n",
    "\n",
    "- _BAD_: store 1/10 th of the stream **elements**.    \n",
    "  + for s: $1/10 s$ one time    \n",
    "  + for d:      \n",
    "    $(1/10)*(1/10)*d = 1/100 d$ two times,      \n",
    "    $1/10*9/10 + 9/10*1/10 d = 18/100d$ one time.\n",
    "  + calc: \n",
    "  $$\\hat{tf} = \\frac{1/100d}{1/10s + 1/100d + 18/100d} = \\frac{d}{10s + 19d}$$\n",
    "\n",
    "- _GOOD_: pick 1/10th of the **users** and take all their searches for the sample.    \n",
    "  $$\\hat{tf} = \\frac{d}{s+d}$$     \n",
    "  \n",
    "  sample: **hash**    \n",
    "  obtain a sample consisting of any rational fraction $a/b$ of the users by hashing user names to $b$ buckets. Add the search query to the sample if the hash value is less than $a$.\n",
    "  \n",
    "  **The General Sampling Problem**   \n",
    "  Our steam $x$ consists of tuples with $n$ components $\\{x_n\\}$(eg: user, query, time), and a subset of the components are the _key_ components $x_k$(eg: user).     \n",
    "  To take a sample of size $a/b$, we hash the _key_ value $h(x_k)$ for each tuple to $b$ buckets, and accept the tuple if $h(x_k) < a$.\n",
    "  \n",
    "  **varying the sample size**    \n",
    "  storage is limited, while users/queries grows as time goes on  ==> decrease the select fraction $a/b$.    \n",
    "  \n",
    "  solution:   \n",
    "  1. $h(x) = \\{0, 1, \\dots, B-1\\}$, $B$ is sufficient large.    \n",
    "  2. maintain a threshold $t$, we accept when $h(x) < t$.       \n",
    "  3. $t = t - 1$ if the allotted space is exceeded. remove all samples $h(x) = t$.    \n",
    "     [opt] efficient:   \n",
    "     + lower $t$ by more than 1.    \n",
    "     + maintaining an index on the hash value to find all those tuples quickly."
   ]
  },
  {
   "cell_type": "markdown",
   "metadata": {
    "collapsed": true
   },
   "source": [
    "### 4.3 Filtering Streams\n",
    "\n",
    "#### 4.3.2 The Bloom Filter\n",
    "\n",
    "##### component\n",
    "0. key values: $ S = \\{s_1, s_2, \\dotsm, s_m\\}$. \n",
    "\n",
    "1. array $B$ of $n$ bits, initially all 0's.\n",
    "\n",
    "2. $h_i(s_j) \\in [1, n], \\quad i = 1, 2, \\dotsm, k$.\n",
    "\n",
    "##### intialization\n",
    "1. $B$ are all 0's.\n",
    "\n",
    "2. $B[h_i(s_j)] = 1$ for every hash function and every key value.\n",
    "\n",
    "##### test\n",
    "to test a key $K$:    \n",
    "if $ALL_{i=1}^{k} (h_i(K)) = 1$, then allow it, $K \\in S$;  else reject it.\n",
    "\n",
    "##### Analysis\n",
    "we have $n$ targets, $k \\times m$ darts.\n",
    "\n",
    "1. a given dart will NOT hit a given target: $$ P = (n - 1) / n $$\n",
    "\n",
    "2. all darts will NOT hit a given target: \n",
    "   \\begin{align}\n",
    "        P &= (\\frac{n-1}{n})^{k m} \\\\\n",
    "          &= (1 - \\frac{1}{n})^{n \\frac{1}{n} k m} \\\\\n",
    "          &\\approx e^{-\\frac{k m}{n}}\n",
    "   \\end{align}\n",
    "   namely, the possibility of a bit remained 0 is $e^{-\\frac{k m}{n}}$. \n",
    "\n",
    "3. the possibility of a bit remained 1 is $1 - e^{-\\frac{k m}{n}}$.\n",
    "\n",
    "4. for a key $K$, the possibility of all of bits of $h_i(K)$ remained 1 is: $$ (1 - e^{-\\frac{k m}{n}})^{k} $$\n",
    "\n",
    "conclusion:    \n",
    "P[false negtive] = 0, P[false positive] = $ (1 - e^{-\\frac{k m}{n}})^{k} $."
   ]
  },
  {
   "cell_type": "markdown",
   "metadata": {},
   "source": [
    "### 4.4 Counting Distinct Elements in a Stream\n",
    "Solution:\n",
    "\n",
    "1. keep a list of all the elements seens so far in main memeory. $\\gets$ the number of distinct elements is not too great.\n",
    "\n",
    "2. use more machines.\n",
    "\n",
    "3. the Flajolet-Martin algorithm.\n",
    "\n",
    "\n",
    "#### 4.4.2 the Flajolet-Martin Algorithm\n",
    "**tail length** for $a$ and $h$:     \n",
    "the number of 0's at the end of the bit string $h(a)$,      \n",
    "where $a$ is a stream element, and $h$ is a hash function which maps the elements of an universal set to a bit-string that is sufficiently long. \n",
    "\n",
    "**estimate**:     \n",
    "We use estimate $2^R$ for the number of distinct elements seen in the stream,   \n",
    "where $R$ is the maximum tail length of any $a$ seen so far in the stream.\n",
    "\n",
    "**original idea**:    \n",
    "$\\text{different elements }\\uparrow \\implies \\text{ different bit-string } h(a) \\uparrow \\implies \\text{ \"unusual\" value occurs } \\implies $ use unusual properity to estimate.  \n",
    "\n",
    "##### Analysis\n",
    "1. for a given $a$, the probility of $h(a)$ ending in at least $r$ 0's is: $(\\frac{1}{2})^r$.\n",
    "\n",
    "2. for $m$ distinct elements, the probility of none of them ending in at least $r$ 0's is: \n",
    "   \\begin{align}\n",
    "       \\neg P &= (1 - (\\frac{1}{2})^r)^m \\\\\n",
    "         &= (1 - 2^{-r})^{2^r 2^{-r} m} \\\\\n",
    "         &\\approx e^{-\\frac{m}{2^r}}\n",
    "   \\end{align}\n",
    "\n",
    "3. the probility of at least one of them ending in at least $r$ 0's is: $P = 1 - e^{-\\frac{m}{2^r}}$"
   ]
  },
  {
   "cell_type": "code",
   "execution_count": 2,
   "metadata": {
    "collapsed": false
   },
   "outputs": [
    {
     "data": {
      "text/plain": [
       "<matplotlib.text.Text at 0x109993750>"
      ]
     },
     "execution_count": 2,
     "metadata": {},
     "output_type": "execute_result"
    },
    {
     "data": {
      "image/png": "[encoded data removed]",
      "text/plain": [
       "<matplotlib.figure.Figure at 0x10990f650>"
      ]
     },
     "metadata": {},
     "output_type": "display_data"
    }
   ],
   "source": [
    "x = np.linspace(0, 8, 100)\n",
    "\n",
    "p = 1 - np.exp(-x)\n",
    "\n",
    "plt.plot(x, p)\n",
    "plt.xlabel(r'$\\frac{m}{2^r}$')\n",
    "plt.ylabel(r'probility of $h(a)$ ending in at least $r$ 0s')"
   ]
  },
  {
   "cell_type": "markdown",
   "metadata": {},
   "source": [
    "namely,    \n",
    "\\begin{equation}\n",
    "    P \\to \\begin{cases}\n",
    "        1 \\quad \\text{if } m \\gg 2^r \\\\\n",
    "        0 \\quad \\text{if } m \\ll 2^r\n",
    "    \\end{cases}\n",
    "\\end{equation}\n",
    "hence, $2^R$ is unlikely to be either much too high or much too low.\n",
    "\n",
    "\n",
    "##### Combining Estimates\n",
    "Suppose we have $k$ hash functions, then $k$ estimates $E_i$ of $m$ are obtained, but how to combine those estimates?\n",
    "\n",
    "Solutions:\n",
    "\n",
    "1. Average(E_i)   \n",
    "   cons: overestimate $\\Leftarrow$ if $E_p \\gg m \\gg E_q$, $Ave(E_p, E_q) \\to E_p$.\n",
    "   \n",
    "2. Median(E_i)    \n",
    "   cons: estimate is always a power of 2.\n",
    "   \n",
    "3. hybrid      \n",
    "   1. group $h_i$ to $b$ buckets containing $x$ hash functions.    \n",
    "      $x \\geq C log_2 m$ in order to guarantee that any possible average can be obtained.\n",
    "   2. average $E(h_i)$ in every buckets, obtain $E_b$.   \n",
    "   3. $\\text{median}(E_b) \\approx m$ when $b$ is sufficiently large,     \n",
    "\n",
    "space requirements:     \n",
    "keep one integer $R$ per hash function.    \n",
    "\n",
    "in practice, the **time** it takes to compute hash values would be the more significant limitation on the **number** of hash functions we use."
   ]
  },
  {
   "cell_type": "code",
   "execution_count": 3,
   "metadata": {
    "collapsed": false
   },
   "outputs": [
    {
     "name": "stdout",
     "output_type": "stream",
     "text": [
      "count unique elements, real: 7\n",
      "h(x) = x % 32, counts: 4\n",
      "h(x) = (2x + 1) % 32, counts: 1\n",
      "h(x) = (3x + 7) % 32, counts: 16\n",
      "h(x) = 4x % 32, counts: 16\n"
     ]
    }
   ],
   "source": [
    "logger.setLevel('WARN')\n",
    "\n",
    "# exercise 4.4.1\n",
    "\n",
    "def Flajolet_Martin_algorithm(stream, hash_func, bits):\n",
    "    R = 0\n",
    "    \n",
    "    for e in stream:\n",
    "        h = hash_func(e)\n",
    "        logger.info('e: {}, h:{}'.format(e, h))\n",
    "        \n",
    "        mask = 1\n",
    "        \n",
    "        for r in range(bits):\n",
    "            logger.info('mask: {}'.format(mask))\n",
    "            if not (h & mask):\n",
    "                mask <<= 1\n",
    "            else:\n",
    "                break\n",
    "        \n",
    "        logger.info('r: {}, R: {}'.format(r, R))\n",
    "        \n",
    "        if(r > R):\n",
    "            R = r\n",
    "            \n",
    "    return 2**R\n",
    "\n",
    "\n",
    "stream = np.array([3, 1, 4, 1, 5, 9, 2, 6, 5], dtype=np.int)\n",
    "print('count unique elements, real: {}'.format(len(np.unique(stream))))\n",
    "\n",
    "print('h(x) = x % 32, counts: {}'.format(Flajolet_Martin_algorithm(stream, lambda x: (x) % 32, 5)))\n",
    "print('h(x) = (2x + 1) % 32, counts: {}'.format(Flajolet_Martin_algorithm(stream, lambda x: (2*x + 1) % 32, 5)))\n",
    "print('h(x) = (3x + 7) % 32, counts: {}'.format(Flajolet_Martin_algorithm(stream, lambda x: (3*x + 7) % 32, 5)))\n",
    "print('h(x) = 4x % 32, counts: {}'.format(Flajolet_Martin_algorithm(stream, lambda x: (4*x + 0) % 32, 5)))        "
   ]
  },
  {
   "cell_type": "code",
   "execution_count": 4,
   "metadata": {
    "collapsed": false
   },
   "outputs": [
    {
     "data": {
      "text/plain": [
       "<matplotlib.axes._subplots.AxesSubplot at 0x109aa5490>"
      ]
     },
     "execution_count": 4,
     "metadata": {},
     "output_type": "execute_result"
    },
    {
     "data": {
      "image/png": "[encoded data removed]",
      "text/plain": [
       "<matplotlib.figure.Figure at 0x10767e590>"
      ]
     },
     "metadata": {},
     "output_type": "display_data"
    }
   ],
   "source": [
    "# exercise 4.4.2 \n",
    "x = range(1, 33)\n",
    "\n",
    "y = map(lambda x: (2*x + 1) % 32, x)\n",
    "df = pd.DataFrame({'y':y})\n",
    "df.plot(kind='hist', xlim=(0,32), legend=False)"
   ]
  },
  {
   "cell_type": "code",
   "execution_count": 5,
   "metadata": {
    "collapsed": false
   },
   "outputs": [
    {
     "data": {
      "text/plain": [
       "<matplotlib.axes._subplots.AxesSubplot at 0x109c46450>"
      ]
     },
     "execution_count": 5,
     "metadata": {},
     "output_type": "execute_result"
    },
    {
     "data": {
      "image/png": "[encoded data removed]",
      "text/plain": [
       "<matplotlib.figure.Figure at 0x109a35f10>"
      ]
     },
     "metadata": {},
     "output_type": "display_data"
    }
   ],
   "source": [
    "y = map(lambda x: (3*x + 7) % 32, x)\n",
    "df = pd.DataFrame({'y' : y})\n",
    "df.plot(kind='hist', xlim=(0,32), legend=False)"
   ]
  },
  {
   "cell_type": "code",
   "execution_count": 6,
   "metadata": {
    "collapsed": false
   },
   "outputs": [
    {
     "data": {
      "text/plain": [
       "<matplotlib.axes._subplots.AxesSubplot at 0x10a107d90>"
      ]
     },
     "execution_count": 6,
     "metadata": {},
     "output_type": "execute_result"
    },
    {
     "data": {
      "image/png": "[encoded data removed]",
      "text/plain": [
       "<matplotlib.figure.Figure at 0x109a9e3d0>"
      ]
     },
     "metadata": {},
     "output_type": "display_data"
    }
   ],
   "source": [
    "y = map(lambda x: (4*x + 0) % 32, x)\n",
    "df = pd.DataFrame({'y':y})\n",
    "df.plot(kind='hist', xlim=(0,32), legend=False)"
   ]
  },
  {
   "cell_type": "markdown",
   "metadata": {},
   "source": [
    "### 4.5 Estimating Moments\n",
    "\n",
    "suppose we have a stream $s = e_1 e_2 \\dotsm e_n \\in {S}^n$.\n",
    "\n",
    "**kth-order moment** = $\\sum_{i \\in S} m_i^k$,     \n",
    "where $m_i$ is the number of occurrences of the $i$-th element in $S$.\n",
    "\n",
    "\n",
    "Example: \n",
    "\n",
    "1. 0th moment: the number of distinct elements, define $0^0 = 0$.\n",
    "\n",
    "2. 1th moment: the length of the stream.\n",
    "\n",
    "3. 2nd moment: named the *surprise number*, since it measure how uneven the distribution of elements in the stream is.\n",
    "\n",
    "\n",
    "#### 4.5.2 The Alon-Matias-Szegedy Algorithm for Second Moments\n",
    "\n",
    "We compute some number of variables,    \n",
    "for each variable $X$, we store:  \n",
    "\n",
    "1. $X.element \\in S$.\n",
    "\n",
    "2. $X.value = 1 + \\sum_{i=k+1}^{n} I(e_i = X.element)$    \n",
    "   where $k = random(1,n)$ and $X.element = e_k$.   \n",
    "   \n",
    "   namely, $X.value$ is the times $e_i$ picked randomly occurs in the position among $i, i+1, \\dotsc, n$.\n",
    "   \n",
    "an **estimate** of the 2nd moment from any variable $X$ is: $$ E_x = n(2 X.value - 1)$$    \n",
    "2nd moment $\\gets Ave_{x \\in S} (E_x)$\n",
    "\n",
    "\n",
    "##### Analysis: Why it works\n",
    "Let $s = e_1 e_2 \\dotsm e_n$, and $e \\in S = {S_1, S_2, \\dotsc, S_u}$.     \n",
    "    $c_i$ is the number of times $e_i$ appears among positions $i, i+1, \\dotsc, n$.\n",
    "    \n",
    "for any picked position $i$,  \n",
    "\\begin{align}\n",
    "    E[n(2X.value - 1)] &= n(2 E[X.value] - 1) \\\\\n",
    "                       &= n(2 \\frac{1}{n} \\sum_{i=1}^{n} (c_i) - 1) \\\\\n",
    "                       &= \\sum_{i=1}^{n} (2 c_i - 1) \\\\\n",
    "                       &\\text{for every $S_j$, existing an arithmetic progression } \\sum_a 1+3+ \\dotsb + (2m_a -1) \\\\\n",
    "                       &= \\color{red}{ \\sum_{j=1}^{u} \\sum_{k=1}^{m_{S_j}} (2k - 1) } \\\\\n",
    "                       &= \\sum_{j=1}^{u} \\frac{m_{S_j}}{2} (1 + (2 m_{S_j} - 1)) \\\\\n",
    "                       &= \\sum_{j=1}^{u} m^2_{S_j} \\quad = \\text{ 2nd moment}\n",
    "\\end{align}\n",
    "\n",
    "\n",
    "##### Higher-Order Moments\n",
    "for any $k \\geq 2$ and $v = X.value$,     \n",
    "estimate $k$th moments is $$n (v^k - (v-1)^k)$$.\n",
    "\n",
    "because for given a, $\\sum_{v=1}^{m_a} (v^k - (v-1)^k) = m_a^k$.\n",
    "\n",
    "\n",
    "#### 4.5.5 Dealing With Infinite \n",
    "In practice, $n$ is not fixed, but it grows with time.       \n",
    "\n",
    "+ store variable: $> log_2 n$ bits.    \n",
    "\n",
    "+ break the condition: every position is picked in **equal probility**.  \n",
    "\n",
    "\n",
    "**Solution**:   \n",
    "idea: maintain as many variable $X$ as possible at all times, and to throw some out as the stream grows.\n",
    "\n",
    "Suppose we have space to store $s$ variables, and we have seen $n$ stream elements.     \n",
    "hence, the probility of any particular position is picked is $\\frac{s}{n}$.\n",
    "\n",
    "When the $(n+1)$th element arrivs, pick that position with probility $\\frac{s}{n+1}$.    \n",
    "+ if not picked, $s$ remained.    \n",
    "+ if picked, one of $s$ is ruled out in equal probility, and replaced by the $(n+1)$ position of element $e(n+1)$ with initial value $1$.  \n",
    "\n",
    "\n",
    "**Analysis**: how the solution correct the probility of any position picked?    \n",
    "\n",
    "1. for the $(n+1)$th position, the probility of being picked is: $$\\frac{s}{n+1}$$\n",
    "\n",
    "2. for the original $s$ position, the probility of being picked(remained) is: \n",
    "$$ \\frac{s}{n} (1 - \\frac{s}{n+1} \\frac{1}{s}) = \\frac{s}{n+1} $$\n",
    "\n"
   ]
  },
  {
   "cell_type": "code",
   "execution_count": null,
   "metadata": {
    "collapsed": true
   },
   "outputs": [],
   "source": [
    "#todo code"
   ]
  },
  {
   "cell_type": "markdown",
   "metadata": {},
   "source": [
    "### 4.6 Counting Ones in a Window\n",
    "\n",
    "**Question**: how many 1's are there in the last $k$ bits of a window with length $N$, for any $k \\leq N$.\n",
    "\n",
    "**solutions**:\n",
    "\n",
    "1. exact counts: store all $N$ bits at cost.\n",
    "\n",
    "2. approxicate counts: use $O(lg^2 N)$ bits to represent the window, in the Datar-Gionis-Indyk-Motwani Algorithm."
   ]
  },
  {
   "cell_type": "markdown",
   "metadata": {},
   "source": [
    "#### 4.6.2  The Datar-Gionis-Indyk-Motwani Algorithm\n",
    "\n",
    "##### buckets\n",
    "we divide the window into buckets.\n",
    "\n",
    "**construction**\n",
    "    \n",
    "1. The timestamp of its right end.\n",
    "    \n",
    "2. The number of 1's in the bucket.\n",
    "\n",
    "\n",
    "**rules**\n",
    "\n",
    "1. The right end of a bucket is always a position with a 1.\n",
    "\n",
    "2. Every position with a 1 is in some bucket.\n",
    "\n",
    "3. No position is in more than one bucket.\n",
    "\n",
    "4. There are **one or two** buckets of **any given size, up to some maximum size**.     \n",
    "   namely, suppose the size of the maximum bucket is $2^j$,     \n",
    "   then, the buckets of the windows should contain all size $2^j, 2^{j-1}, \\dotsc, 2^0$, and any size of those should appear either one or two times.\n",
    "\n",
    "5. All sizes must be a power of 2.\n",
    "\n",
    "6. Buckets cannot **decrease** in size as we move to the left.\n",
    "\n",
    "![Fig 4.2](./res/fig_4_2.png)"
   ]
  },
  {
   "cell_type": "markdown",
   "metadata": {},
   "source": [
    "##### Storage Requirements\n",
    "\n",
    "1. the maximum size of a bucket is $N$, hence it can be represented by $O(lg N)$ bits.\n",
    "\n",
    "2. there are at most two buckets for every size from 1 to the maximu size, $2 * j = 2 lg N$，     \n",
    "   namely, $O(lg N)$ buckets.\n",
    "   \n",
    "above all, the total space required for all the buckets representing a window of size $N$ is $O(lg^2 N)$."
   ]
  },
  {
   "cell_type": "markdown",
   "metadata": {},
   "source": [
    "##### Query Answering\n",
    "\n",
    "suppose a window of length $N$ is represented by all buckets $\\{b_0, b_1, \\dotsc, b_j, \\dotsc, b_n\\}$, where $b_j$ owns two attributes: timestamp, and size.\n",
    "\n",
    "for a given $k$, the answer is $$\\frac{1}{2} b_j.size + \\sum_{i=0}^{j-1} b_i.size \\quad \\text{for } b_{j+1}\\text{.timestamp} > k \\geq b_j\\text{.timestamp}$$\n",
    "\n",
    "**error analysis**:      \n",
    "supposet $c$ is the correct counts. \n",
    "\n",
    "there are two cases for estimate:\n",
    "\n",
    "1. underestimate.    \n",
    "   + in the worst case, all the 1's of $b_j$ are actually within the query range $k$.     \n",
    "     $\\implies$ the estimate misses half bucket $b_j$, namely, $\\frac{1}{2} b_j.size = 2^{j-1}$ 1's.    \n",
    "   + $c$ is at least $\\frac{1 (1 - 2^{j+1})}{1 - 2} = 2^{j+1} - 1$, since there is at least one bucket of each of the size $2^{j-1}, 2^{j-2}, \\dotsc, 1$.\n",
    "   + in all,     \n",
    "     \\begin{align}\n",
    "         error &= \\frac{miss}{c} \\\\\n",
    "               &= \\frac{2^{j-1}}{2^{j+1} - 1} \\\\\n",
    "               &\\leq \\frac{1}{2}\n",
    "     \\end{align}\n",
    "\n",
    "2. overestimate.   \n",
    "   + in the worse case, only the rightmost bit of bucket $b_j$ is within range $k$.   \n",
    "     $implies$ we overestimate $\\frac{b_j.size}{2} - 1 = 2^{j-1} -1$ 1's.    \n",
    "   + $c$ is at least $1 + 2^j -1 = 2^j$ 1's.    \n",
    "   + in all,    \n",
    "     \\begin{align}\n",
    "         error &= \\frac{overestimate}{c} \\\\\n",
    "               &= \\frac{2^{j-1} - 1}{2^j} \\\\\n",
    "               &\\leq \\frac{1}{2}\n",
    "     \\end{align}\n",
    "   \n",
    " \n",
    "**conclusion**: error is no more than 50% greater than $c$."
   ]
  },
  {
   "cell_type": "markdown",
   "metadata": {},
   "source": [
    "##### Maintaining\n",
    "At $t$ time, a new bit enters:\n",
    "\n",
    "1. Check the leftmost bucket.      \n",
    "   if $b_n.timestamp = t - N$, drop it.\n",
    "   \n",
    "2. Check the value of the new bit.    \n",
    "   if it is 0, do nothing;    \n",
    "   if it is 1, create a new bucket with $t$ and size $1$.      \n",
    "   + Check if three same size buckets existed,    \n",
    "     1. if yes, combine the left two adjacent buckets of those, and check the new size bucket again (repeat).      \n",
    "     2. if no, the round end.      \n",
    "     \n",
    "     at most $O(lg N)$ times to check.\n",
    "     \n",
    "![fig 4.3](./res/fig_4_3.png)"
   ]
  },
  {
   "cell_type": "code",
   "execution_count": null,
   "metadata": {
    "collapsed": true
   },
   "outputs": [],
   "source": [
    "#todo code"
   ]
  },
  {
   "cell_type": "markdown",
   "metadata": {},
   "source": [
    "##### Reducing the Error\n",
    "\n",
    "idea:    \n",
    "reduce the error $\\gets$ more buckets of **small** sizes $\\gets$ relax condition: we allow either $r-1$ or $r$ of each of the exponentially growing sizes for $r > 2$.\n",
    "\n",
    "combine rules:     \n",
    "If we get $r+1$ buckets of size $2^j$, combine the leftmost two into a bucket of size $2^{j+1}$.\n",
    "\n",
    "error analysis:    \n",
    "\n",
    "1. overestimate.    \n",
    "   overestimate is $2^{j-1} - 1$.     \n",
    "   $c$ is at least $1 + (r-1)(2^{j-1} + 2^{j-2} + \\dotsb + 1) = 1 + (r-1)(2^j-1)$.     \n",
    "   the fractional error is $$\\frac{2^{j-1} - 1}{1 + (r-1)(2^j - 1)} \\leq \\frac{1}{r-1}$$\n",
    "  \n",
    "2. underestimate.\n",
    "\n",
    "conclusion: by picking $r$ sufficiently large, we can limit the error to any desired $\\epsilon > 0$."
   ]
  },
  {
   "cell_type": "markdown",
   "metadata": {},
   "source": [
    "##### Extensions\n",
    "question: the sum of the last $k$ **integers** for any $1 \\leq k \\leq N$.\n",
    "\n",
    "there are two cases:\n",
    "\n",
    "1. unlikely work out.     \n",
    "   when the stream contains both positive and negative integers.\n",
    "   \n",
    "2. work.    \n",
    "   when the steam contains only positive integers in the range 1 to $2^m$.     \n",
    "   solution:     \n",
    "   + we can treat each of the m bits of each integers as if it were a separate stream.      \n",
    "   + use the DGIM method to count $c_i$ in $i$th bit stream.     \n",
    "   + the sum of the integers is: $$\\sum_{i=0}^{m-1} c_i 2^i$$"
   ]
  },
  {
   "cell_type": "code",
   "execution_count": 8,
   "metadata": {
    "collapsed": true
   },
   "outputs": [],
   "source": [
    "#todo exercise"
   ]
  },
  {
   "cell_type": "markdown",
   "metadata": {},
   "source": [
    "### 4.7 Decaying Windows\n",
    "\n",
    "#### exponentially decaying window\n",
    "Let a steam $= \\{a_1, a_2, \\dotsc, a_t\\}$,      \n",
    "we define the exponentially decaying window for this stream to be the sum: $$\\sum_{i=0}^{t-1} a_{t-i} (1-c)^i$$\n",
    "\n",
    "![fig 4.4](./res/fig_4_4.png)\n",
    "\n",
    "maintain:    \n",
    "when a new element $a_{t+1}$ arrives, all we need to do is:\n",
    "\n",
    "1. Multiply the current sum by $1-c$.\n",
    "\n",
    "2. Add $a_{t+}$."
   ]
  },
  {
   "cell_type": "markdown",
   "metadata": {},
   "source": [
    "#### Finding the Most Popular Elements\n",
    "\n",
    "When a new ticket arrives on the stream, do the following:\n",
    "\n",
    "1. For each movie, multiply its score by $(1-c)$.\n",
    "\n",
    "2. Suppose the new ticket is for movie $M$.     \n",
    "   1. if a score for $M$ existed, add 1.    \n",
    "   2. if not, create one and initialize it to 1.\n",
    "   \n",
    "3. If any score is below the threshold $1/2$, drop that score.\n",
    "\n",
    "\n",
    "analysis:\n",
    "\n",
    "Note that the sum of all scores is $1/c$,     \n",
    "there cannot be more than $2/c$ moview with score of $1/2$ or more. $\\gets$ $1/c = 1/2 \\times 2/c$.\n",
    "\n",
    "hence, $2/c$ is a limit on the number of movies being counted at any time."
   ]
  }
 ],
 "metadata": {
  "kernelspec": {
   "display_name": "Python 2",
   "language": "python",
   "name": "python2"
  },
  "language_info": {
   "codemirror_mode": {
    "name": "ipython",
    "version": 2
   },
   "file_extension": ".py",
   "mimetype": "text/x-python",
   "name": "python",
   "nbconvert_exporter": "python",
   "pygments_lexer": "ipython2",
   "version": "2.7.10"
  }
 },
 "nbformat": 4,
 "nbformat_minor": 0
}

{
 "cells": [
  {
   "cell_type": "code",
   "execution_count": 1,
   "metadata": {
    "collapsed": false
   },
   "outputs": [
    {
     "name": "stdout",
     "output_type": "stream",
     "text": [
      "Populating the interactive namespace from numpy and matplotlib\n"
     ]
    }
   ],
   "source": [
    "%pylab inline\n",
    "import pandas as pd\n",
    "\n",
    "import numpy as np\n",
    "from __future__ import division\n",
    "import itertools\n",
    "\n",
    "import matplotlib.pyplot as plt\n",
    "import seaborn as sns\n",
    "\n",
    "import logging\n",
    "logger = logging.getLogger()"
   ]
  },
  {
   "cell_type": "markdown",
   "metadata": {},
   "source": [
    "4 Mining Data Streams\n",
    "============\n",
    "\n",
    "Data:    \n",
    "1. database   \n",
    "2. stream:     \n",
    "    + lost forever if the data arrived is not processed immediately or stored.    \n",
    "    + the data arrives so rapidly that it isn't feasible to store all.   \n",
    "    \n",
    "    solution: summarization     \n",
    "        + sample/filter, then estimate     \n",
    "        + fixed-length \"window\""
   ]
  },
  {
   "cell_type": "markdown",
   "metadata": {},
   "source": [
    "### 4.1 The Stream Data Model\n",
    "\n",
    "Examples of Steam Sources:   \n",
    "\n",
    "+ Sensor Data:      \n",
    "  Deploy a million sensors    \n",
    "  \n",
    "+ Image Data:     \n",
    "  satellites, surveilance camera\n",
    "\n",
    "+ Internet and Web Traffic\n",
    "\n",
    "![Fig 4.1: A data-stream_management system](files/res/figure_4_1.png)\n",
    "\n",
    "##### 4.1.3 Stream Queries\n",
    "two ways:\n",
    "\n",
    "1. standing queries     \n",
    "   preset, permanetly execting, and produce outputs at appropriate times.    \n",
    "\n",
    "2. ad-hoc queries    \n",
    "   a question asked once about the current state of a steam or streams.    \n",
    "   + a common sample approach is to store a **sliding windows** of each stream in the working store.\n",
    "  \n",
    "  \n",
    "**generalizations** about stream algorithms:\n",
    "\n",
    "1. Often, an **approximate answer** is much more **efficient** than an **exact solution**.\n",
    "\n",
    "2. **hash function** introduces useful **randomness** intho the algorithm's behavior $\\to$ approximate answer"
   ]
  },
  {
   "cell_type": "markdown",
   "metadata": {},
   "source": [
    "### 4.2 Sampling Data in a Stream\n",
    "\n",
    "extract reliable samples from a stream:    \n",
    "select $S \\subset B$, $\\, s.t. \\, E[f(S)] = E[f(B)]$.\n",
    "\n",
    "Example   \n",
    "Prob: What fraction of the typical user's queries were repeated over the past month?\n",
    "\n",
    "- [ ] store "
   ]
  },
  {
   "cell_type": "code",
   "execution_count": null,
   "metadata": {
    "collapsed": true
   },
   "outputs": [],
   "source": []
  }
 ],
 "metadata": {
  "kernelspec": {
   "display_name": "Python 2",
   "language": "python",
   "name": "python2"
  },
  "language_info": {
   "codemirror_mode": {
    "name": "ipython",
    "version": 2
   },
   "file_extension": ".py",
   "mimetype": "text/x-python",
   "name": "python",
   "nbconvert_exporter": "python",
   "pygments_lexer": "ipython2",
   "version": "2.7.10"
  }
 },
 "nbformat": 4,
 "nbformat_minor": 0
}

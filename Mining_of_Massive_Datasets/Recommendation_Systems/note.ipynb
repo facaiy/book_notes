{
 "cells": [
  {
   "cell_type": "code",
   "execution_count": 2,
   "metadata": {
    "collapsed": false
   },
   "outputs": [
    {
     "name": "stdout",
     "output_type": "stream",
     "text": [
      "Populating the interactive namespace from numpy and matplotlib\n"
     ]
    }
   ],
   "source": [
    "%pylab inline\n",
    "import pandas as pd\n",
    "\n",
    "import numpy as np\n",
    "from __future__ import division\n",
    "import itertools\n",
    "\n",
    "import matplotlib.pyplot as plt\n",
    "import seaborn as sns\n",
    "\n",
    "import logging\n",
    "logger = logging.getLogger()"
   ]
  },
  {
   "cell_type": "markdown",
   "metadata": {},
   "source": [
    "9 Recommendation Systems\n",
    "=============\n",
    "\n",
    "two broad groups:\n",
    "\n",
    "1. Content-based systems    \n",
    "   focus on the properities of items.\n",
    "   \n",
    "2. Collaborative filtering systems    \n",
    "   focus on the relationship between users and items."
   ]
  },
  {
   "cell_type": "markdown",
   "metadata": {},
   "source": [
    "### 9.1 A Model for Recommendation Systems\n",
    "\n",
    "\n",
    "#### The Utility Matrix\n",
    "record the preference given by users for certain items."
   ]
  },
  {
   "cell_type": "code",
   "execution_count": 11,
   "metadata": {
    "collapsed": false
   },
   "outputs": [
    {
     "data": {
      "text/html": [
       "<div>\n",
       "<table border=\"1\" class=\"dataframe\">\n",
       "  <thead>\n",
       "    <tr style=\"text-align: right;\">\n",
       "      <th></th>\n",
       "      <th>HP1</th>\n",
       "      <th>HP2</th>\n",
       "      <th>HP3</th>\n",
       "      <th>TW</th>\n",
       "      <th>SW1</th>\n",
       "      <th>SW2</th>\n",
       "      <th>SW3</th>\n",
       "    </tr>\n",
       "  </thead>\n",
       "  <tbody>\n",
       "    <tr>\n",
       "      <th>A</th>\n",
       "      <td>4</td>\n",
       "      <td>NaN</td>\n",
       "      <td>NaN</td>\n",
       "      <td>5</td>\n",
       "      <td>1</td>\n",
       "      <td>NaN</td>\n",
       "      <td>NaN</td>\n",
       "    </tr>\n",
       "    <tr>\n",
       "      <th>B</th>\n",
       "      <td>5</td>\n",
       "      <td>5</td>\n",
       "      <td>4</td>\n",
       "      <td>NaN</td>\n",
       "      <td>NaN</td>\n",
       "      <td>NaN</td>\n",
       "      <td>NaN</td>\n",
       "    </tr>\n",
       "    <tr>\n",
       "      <th>C</th>\n",
       "      <td>NaN</td>\n",
       "      <td>NaN</td>\n",
       "      <td>NaN</td>\n",
       "      <td>2</td>\n",
       "      <td>4</td>\n",
       "      <td>5</td>\n",
       "      <td>NaN</td>\n",
       "    </tr>\n",
       "    <tr>\n",
       "      <th>D</th>\n",
       "      <td>NaN</td>\n",
       "      <td>3</td>\n",
       "      <td>NaN</td>\n",
       "      <td>NaN</td>\n",
       "      <td>NaN</td>\n",
       "      <td>NaN</td>\n",
       "      <td>3</td>\n",
       "    </tr>\n",
       "  </tbody>\n",
       "</table>\n",
       "</div>"
      ],
      "text/plain": [
       "   HP1  HP2  HP3   TW  SW1  SW2  SW3\n",
       "A    4  NaN  NaN    5    1  NaN  NaN\n",
       "B    5    5    4  NaN  NaN  NaN  NaN\n",
       "C  NaN  NaN  NaN    2    4    5  NaN\n",
       "D  NaN    3  NaN  NaN  NaN  NaN    3"
      ]
     },
     "execution_count": 11,
     "metadata": {},
     "output_type": "execute_result"
    }
   ],
   "source": [
    "# Example 9.1\n",
    "M = pd.DataFrame(index=['A', 'B', 'C', 'D'], columns=['HP1', 'HP2', 'HP3', 'TW', 'SW1', 'SW2', 'SW3'])\n",
    "\n",
    "M.loc['A', ['HP1', 'TW', 'SW1']] = [4, 5, 1]\n",
    "M.iloc[1, 0:3] = [5, 5, 4]\n",
    "M.iloc[2, 3:-1] = [2, 4, 5]\n",
    "M.iloc[3, [1, -1]] = [3, 3]\n",
    "\n",
    "M"
   ]
  },
  {
   "cell_type": "markdown",
   "metadata": {},
   "source": [
    "In practice, the matrix would be even **sparser**, with the typical user rating only a tiny fraction of all avalibale items.\n",
    "\n",
    "the **goal** of a recommendation system is: to **predict the blanks** in the utility matrix.     \n",
    "+ slightly difference in many application:      \n",
    "  - predict every blank entry $<$ discover some potential entries in each row.     \n",
    "  - find all items with the highest expected ratings $<$ find a large subset of those.\n",
    "  \n",
    "\n",
    "#### The Long Tail\n",
    "physical institutions | online institutions\n",
    "---- | -----\n",
    "provide only the most popular items | provide the entire range of items\n",
    "\n",
    "\n",
    "the long tail force online institutions to recommend items to individual users:\n",
    "\n",
    "1. It's no possible to present all avaliable items to the user.\n",
    "\n",
    "2. Neither can we expect users to have heared of each of the items they might like.\n",
    "\n",
    "\n",
    "#### Applications of Recommendation Systems\n",
    "1. Product Recommendations\n",
    "\n",
    "2. Movie Recommendations\n",
    "\n",
    "3. News Articles\n",
    "\n",
    "\n",
    "#### Populating the Utility Matrix\n",
    "how to discovery the value users place on items:\n",
    "\n",
    "1. We can ask users to rate items.    \n",
    "   cons: users are unwilling to do, and so samples are biased by very little fraction of peoples.\n",
    " \n",
    "2. We can make inferences from users' behavior.    \n",
    "   eg: items purchased/viewed/rated."
   ]
  },
  {
   "cell_type": "markdown",
   "metadata": {},
   "source": [
    "### 9.2 Content-Based Recommendations\n",
    "\n",
    "\n",
    "#### 9.2.1 Item Profiles\n",
    "a record representing important characteristics of items.\n",
    "\n",
    "\n",
    "##### Discovering Features\n",
    "1. for Documents    \n",
    "   idea: find the identification of words that characterize the topic of a document.     \n",
    "   namely, we expect a sets of words to express the subjects or main ideas of the document.       \n",
    "   1. eliminate stop words.    \n",
    "   2. compute the TF.DIF score for each reamining word in the document.     \n",
    "   3. take as the features of a document the $n$ words with the highest TF.DIF scores.     \n",
    "   \n",
    "   to measure the similarity of two documents, the distance measures we could use are:    \n",
    "   1. Jaccard distance     \n",
    "   2. cosine distance    \n",
    "      cosine distance of vectors is not affected by components in which both vectors have 0.\n",
    "   \n",
    "2. for Images    \n",
    "   invite users to tag the items.     \n",
    "   cons: users are unwilling to do $\\implies$ there are not enough tags (bias).\n",
    "   \n",
    "\n",
    "##### generalize feature vector\n",
    "1. feature is discrete. $\\to$ boolean value.\n",
    "\n",
    "2. feature is numerical. $\\to$ normalization.\n",
    "\n",
    "\n",
    "#### 9.2.5 User Profiles\n",
    "create vectors with the same components of item profiles to describe the user's preferences.  \n",
    "\n",
    "It could be derived from utility matrix and item profiles.\n",
    "\n",
    "1. normalizate untility matrix. ($[-1,1]$ for cosine distance).\n",
    "\n",
    "2. value in user profiles = utility value * corresponding item vectors."
   ]
  },
  {
   "cell_type": "code",
   "execution_count": 38,
   "metadata": {
    "collapsed": false
   },
   "outputs": [
    {
     "data": {
      "text/html": [
       "<div>\n",
       "<table border=\"1\" class=\"dataframe\">\n",
       "  <thead>\n",
       "    <tr style=\"text-align: right;\">\n",
       "      <th></th>\n",
       "      <th>F0</th>\n",
       "      <th>F1</th>\n",
       "      <th>F2</th>\n",
       "      <th>F3</th>\n",
       "    </tr>\n",
       "  </thead>\n",
       "  <tbody>\n",
       "    <tr>\n",
       "      <th>U</th>\n",
       "      <td>3</td>\n",
       "      <td>4</td>\n",
       "      <td>5</td>\n",
       "      <td>0</td>\n",
       "    </tr>\n",
       "    <tr>\n",
       "      <th>V</th>\n",
       "      <td>6</td>\n",
       "      <td>2</td>\n",
       "      <td>3</td>\n",
       "      <td>5</td>\n",
       "    </tr>\n",
       "  </tbody>\n",
       "</table>\n",
       "</div>"
      ],
      "text/plain": [
       "   F0  F1  F2  F3\n",
       "U   3   4   5   0\n",
       "V   6   2   3   5"
      ]
     },
     "execution_count": 38,
     "metadata": {},
     "output_type": "execute_result"
    }
   ],
   "source": [
    "# example 9.4\n",
    "\n",
    "users_name = ['U', 'V']\n",
    "items_name = ['F{}'.format(x) for x in range(4)]\n",
    "features_name = ['Julia Roberts', 'others']\n",
    "\n",
    "# utility matrix\n",
    "M_uti = pd.DataFrame([\n",
    "                        [3, 4, 5, 0],\n",
    "                        [6, 2, 3, 5]  \n",
    "                     ],\n",
    "                     index=users_name,\n",
    "                     columns=items_name\n",
    "                    )\n",
    "\n",
    "M_uti"
   ]
  },
  {
   "cell_type": "code",
   "execution_count": 39,
   "metadata": {
    "collapsed": false
   },
   "outputs": [
    {
     "data": {
      "text/html": [
       "<div>\n",
       "<table border=\"1\" class=\"dataframe\">\n",
       "  <thead>\n",
       "    <tr style=\"text-align: right;\">\n",
       "      <th></th>\n",
       "      <th>Julia Roberts</th>\n",
       "      <th>others</th>\n",
       "    </tr>\n",
       "  </thead>\n",
       "  <tbody>\n",
       "    <tr>\n",
       "      <th>F0</th>\n",
       "      <td>1</td>\n",
       "      <td>0</td>\n",
       "    </tr>\n",
       "    <tr>\n",
       "      <th>F1</th>\n",
       "      <td>1</td>\n",
       "      <td>0</td>\n",
       "    </tr>\n",
       "    <tr>\n",
       "      <th>F2</th>\n",
       "      <td>1</td>\n",
       "      <td>0</td>\n",
       "    </tr>\n",
       "    <tr>\n",
       "      <th>F3</th>\n",
       "      <td>1</td>\n",
       "      <td>0</td>\n",
       "    </tr>\n",
       "  </tbody>\n",
       "</table>\n",
       "</div>"
      ],
      "text/plain": [
       "    Julia Roberts  others\n",
       "F0              1       0\n",
       "F1              1       0\n",
       "F2              1       0\n",
       "F3              1       0"
      ]
     },
     "execution_count": 39,
     "metadata": {},
     "output_type": "execute_result"
    }
   ],
   "source": [
    "# item profile\n",
    "M_item = pd.DataFrame(index=items_name, columns=features_name)\n",
    "\n",
    "M_item.loc[:, features_name[0]] = 1\n",
    "M_item = M_item.fillna(value=0)\n",
    "\n",
    "M_item"
   ]
  },
  {
   "cell_type": "code",
   "execution_count": 41,
   "metadata": {
    "collapsed": false
   },
   "outputs": [
    {
     "data": {
      "text/html": [
       "<div>\n",
       "<table border=\"1\" class=\"dataframe\">\n",
       "  <thead>\n",
       "    <tr style=\"text-align: right;\">\n",
       "      <th></th>\n",
       "      <th>F0</th>\n",
       "      <th>F1</th>\n",
       "      <th>F2</th>\n",
       "      <th>F3</th>\n",
       "    </tr>\n",
       "  </thead>\n",
       "  <tbody>\n",
       "    <tr>\n",
       "      <th>U</th>\n",
       "      <td>0</td>\n",
       "      <td>1</td>\n",
       "      <td>2</td>\n",
       "      <td>-3</td>\n",
       "    </tr>\n",
       "    <tr>\n",
       "      <th>V</th>\n",
       "      <td>2</td>\n",
       "      <td>-2</td>\n",
       "      <td>-1</td>\n",
       "      <td>1</td>\n",
       "    </tr>\n",
       "  </tbody>\n",
       "</table>\n",
       "</div>"
      ],
      "text/plain": [
       "   F0  F1  F2  F3\n",
       "U   0   1   2  -3\n",
       "V   2  -2  -1   1"
      ]
     },
     "execution_count": 41,
     "metadata": {},
     "output_type": "execute_result"
    }
   ],
   "source": [
    "M_uti.apply(lambda x: x - np.mean(x), axis=1)"
   ]
  },
  {
   "cell_type": "code",
   "execution_count": 45,
   "metadata": {
    "collapsed": false
   },
   "outputs": [
    {
     "data": {
      "text/html": [
       "<div>\n",
       "<table border=\"1\" class=\"dataframe\">\n",
       "  <thead>\n",
       "    <tr style=\"text-align: right;\">\n",
       "      <th></th>\n",
       "      <th>Julia Roberts</th>\n",
       "      <th>others</th>\n",
       "    </tr>\n",
       "  </thead>\n",
       "  <tbody>\n",
       "    <tr>\n",
       "      <th>U</th>\n",
       "      <td>3</td>\n",
       "      <td>0</td>\n",
       "    </tr>\n",
       "    <tr>\n",
       "      <th>V</th>\n",
       "      <td>4</td>\n",
       "      <td>0</td>\n",
       "    </tr>\n",
       "  </tbody>\n",
       "</table>\n",
       "</div>"
      ],
      "text/plain": [
       "   Julia Roberts  others\n",
       "U              3       0\n",
       "V              4       0"
      ]
     },
     "execution_count": 45,
     "metadata": {},
     "output_type": "execute_result"
    }
   ],
   "source": [
    "M_user = M_uti.fillna(value=0).dot(M_item) / 4 #average = sum/len\n",
    "M_user"
   ]
  },
  {
   "cell_type": "markdown",
   "metadata": {},
   "source": [
    "#### 9.2.6 Recommending Items to Users Based on Content\n",
    "\n",
    "1. to estimate:    \n",
    "   $$M_{utility}[user, item] = cosineDistant(M_{user}, M_{item})$$    \n",
    "   \n",
    "   the more similar, the higher probility to recommend.\n",
    "\n",
    "2. classification algorithms:     \n",
    "   Recommend or Not (machine learning):    \n",
    "   one decision per user $\\to$ take too long time to construct.     \n",
    "   be used only for relatively small problem size."
   ]
  },
  {
   "cell_type": "code",
   "execution_count": 49,
   "metadata": {
    "collapsed": false
   },
   "outputs": [
    {
     "data": {
      "text/html": [
       "<div>\n",
       "<table border=\"1\" class=\"dataframe\">\n",
       "  <thead>\n",
       "    <tr style=\"text-align: right;\">\n",
       "      <th></th>\n",
       "      <th>A</th>\n",
       "      <th>B</th>\n",
       "      <th>C</th>\n",
       "    </tr>\n",
       "  </thead>\n",
       "  <tbody>\n",
       "    <tr>\n",
       "      <th>Processor Speed</th>\n",
       "      <td>3.06</td>\n",
       "      <td>2.68</td>\n",
       "      <td>2.92</td>\n",
       "    </tr>\n",
       "    <tr>\n",
       "      <th>Disk Size</th>\n",
       "      <td>500.00</td>\n",
       "      <td>320.00</td>\n",
       "      <td>640.00</td>\n",
       "    </tr>\n",
       "    <tr>\n",
       "      <th>Main-Memory Size</th>\n",
       "      <td>6.00</td>\n",
       "      <td>4.00</td>\n",
       "      <td>6.00</td>\n",
       "    </tr>\n",
       "  </tbody>\n",
       "</table>\n",
       "</div>"
      ],
      "text/plain": [
       "                       A       B       C\n",
       "Processor Speed     3.06    2.68    2.92\n",
       "Disk Size         500.00  320.00  640.00\n",
       "Main-Memory Size    6.00    4.00    6.00"
      ]
     },
     "execution_count": 49,
     "metadata": {},
     "output_type": "execute_result"
    }
   ],
   "source": [
    "# exercises 9.2.1\n",
    "\n",
    "raw_data = [\n",
    "        [3.06, 2.68, 2.92],\n",
    "        [500, 320, 640],\n",
    "        [6, 4, 6]\n",
    "    ]\n",
    "\n",
    "M_item = pd.DataFrame(raw_data, index=['Processor Speed', 'Disk Size', 'Main-Memory Size'], columns=['A', 'B', 'C'])\n",
    "\n",
    "# items: A, B, C; features: Processor Speed, Disk Size, ...\n",
    "M_item"
   ]
  },
  {
   "cell_type": "code",
   "execution_count": null,
   "metadata": {
    "collapsed": true
   },
   "outputs": [],
   "source": []
  }
 ],
 "metadata": {
  "kernelspec": {
   "display_name": "Python 2",
   "language": "python",
   "name": "python2"
  },
  "language_info": {
   "codemirror_mode": {
    "name": "ipython",
    "version": 2
   },
   "file_extension": ".py",
   "mimetype": "text/x-python",
   "name": "python",
   "nbconvert_exporter": "python",
   "pygments_lexer": "ipython2",
   "version": "2.7.10"
  }
 },
 "nbformat": 4,
 "nbformat_minor": 0
}
